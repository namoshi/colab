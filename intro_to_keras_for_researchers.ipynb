{
  "nbformat": 4,
  "nbformat_minor": 0,
  "metadata": {
    "colab": {
      "name": "intro_to_keras_for_researchers",
      "provenance": [],
      "collapsed_sections": [],
      "toc_visible": true,
      "include_colab_link": true
    },
    "kernelspec": {
      "display_name": "Python 3",
      "language": "python",
      "name": "python3"
    },
    "language_info": {
      "codemirror_mode": {
        "name": "ipython",
        "version": 3
      },
      "file_extension": ".py",
      "mimetype": "text/x-python",
      "name": "python",
      "nbconvert_exporter": "python",
      "pygments_lexer": "ipython3",
      "version": "3.7.0"
    },
    "accelerator": "GPU"
  },
  "cells": [
    {
      "cell_type": "markdown",
      "metadata": {
        "id": "view-in-github",
        "colab_type": "text"
      },
      "source": [
        "<a href=\"https://colab.research.google.com/github/namoshi/colab/blob/master/intro_to_keras_for_researchers.ipynb\" target=\"_parent\"><img src=\"https://colab.research.google.com/assets/colab-badge.svg\" alt=\"Open In Colab\"/></a>"
      ]
    },
    {
      "cell_type": "markdown",
      "metadata": {
        "id": "WvI2WueCOkEW"
      },
      "source": [
        "# Introduction to Keras for Researchers\n",
        "\n",
        "**Author:** [fchollet](https://twitter.com/fchollet)<br>\n",
        "**Date created:** 2020/04/01<br>\n",
        "**Last modified:** 2020/10/02<br>\n",
        "**Description:** Everything you need to know to use Keras & TensorFlow for deep learning research."
      ]
    },
    {
      "cell_type": "markdown",
      "metadata": {
        "id": "QoE01QnPOkEb"
      },
      "source": [
        "## Setup"
      ]
    },
    {
      "cell_type": "code",
      "metadata": {
        "id": "by9kkQS1OkEb"
      },
      "source": [
        "import tensorflow as tf\n",
        "from tensorflow import keras"
      ],
      "execution_count": 6,
      "outputs": []
    },
    {
      "cell_type": "markdown",
      "metadata": {
        "id": "IpHU5KEgOkEc"
      },
      "source": [
        "## Introduction\n",
        "\n",
        "Are you a machine learning researcher? Do you publish at NeurIPS and push the\n",
        "state-of-the-art in CV and NLP? This guide will serve as your first introduction to core\n",
        "Keras & TensorFlow API concepts.\n",
        "\n",
        "In this guide, you will learn about:\n",
        "\n",
        "- Tensors, variables, and gradients in TensorFlow\n",
        "- Creating layers by subclassing the `Layer` class\n",
        "- Writing low-level training loops\n",
        "- Tracking losses created by layers via the `add_loss()` method\n",
        "- Tracking metrics in a low-level training loop\n",
        "- Speeding up execution with a compiled `tf.function`\n",
        "- Executing layers in training or inference mode\n",
        "- The Keras Functional API\n",
        "\n",
        "You will also see the Keras API in action in two end-to-end research examples:\n",
        "a Variational Autoencoder, and a Hypernetwork."
      ]
    },
    {
      "cell_type": "markdown",
      "metadata": {
        "id": "6PJy05usOkEc"
      },
      "source": [
        "## Tensors\n",
        "\n",
        "TensorFlow is an infrastructure layer for differentiable programming.\n",
        "At its heart, it's a framework for manipulating N-dimensional arrays (tensors),\n",
        "much like NumPy.\n",
        "\n",
        "However, there are three key differences between NumPy and TensorFlow:\n",
        "\n",
        "- TensorFlow can leverage hardware accelerators such as GPUs and TPUs.\n",
        "- TensorFlow can automatically compute the gradient of arbitrary differentiable tensor expressions.\n",
        "- TensorFlow computation can be distributed to large numbers of devices on a single machine, and large number of\n",
        "machines (potentially with multiple devices each).\n",
        "\n",
        "Let's take a look at the object that is at the core of TensorFlow: the Tensor.\n",
        "\n",
        "Here's a constant tensor:"
      ]
    },
    {
      "cell_type": "code",
      "metadata": {
        "id": "c2t5g6wtOkEd",
        "colab": {
          "base_uri": "https://localhost:8080/"
        },
        "outputId": "c926ece2-d697-4462-f08b-4ed68cc0c53b"
      },
      "source": [
        "x = tf.constant([[5, 2], [1, 3]])\n",
        "print(x)"
      ],
      "execution_count": 7,
      "outputs": [
        {
          "output_type": "stream",
          "text": [
            "tf.Tensor(\n",
            "[[5 2]\n",
            " [1 3]], shape=(2, 2), dtype=int32)\n"
          ],
          "name": "stdout"
        }
      ]
    },
    {
      "cell_type": "markdown",
      "metadata": {
        "id": "h95JvxmxOkEd"
      },
      "source": [
        "You can get its value as a NumPy array by calling `.numpy()`:"
      ]
    },
    {
      "cell_type": "code",
      "metadata": {
        "id": "dAPDM2nvOkEd",
        "colab": {
          "base_uri": "https://localhost:8080/"
        },
        "outputId": "447e298e-bd32-4fc3-e74c-6cdf4c91cd59"
      },
      "source": [
        "x.numpy()"
      ],
      "execution_count": 8,
      "outputs": [
        {
          "output_type": "execute_result",
          "data": {
            "text/plain": [
              "array([[5, 2],\n",
              "       [1, 3]], dtype=int32)"
            ]
          },
          "metadata": {
            "tags": []
          },
          "execution_count": 8
        }
      ]
    },
    {
      "cell_type": "markdown",
      "metadata": {
        "id": "2QUtyMDpOkEd"
      },
      "source": [
        "Much like a NumPy array, it features the attributes `dtype` and `shape`:"
      ]
    },
    {
      "cell_type": "code",
      "metadata": {
        "id": "gpnGtcPwOkEe",
        "colab": {
          "base_uri": "https://localhost:8080/"
        },
        "outputId": "a7a7d35b-06d9-4666-fe5c-71894074313e"
      },
      "source": [
        "print(\"dtype:\", x.dtype)\n",
        "print(\"shape:\", x.shape)"
      ],
      "execution_count": 9,
      "outputs": [
        {
          "output_type": "stream",
          "text": [
            "dtype: <dtype: 'int32'>\n",
            "shape: (2, 2)\n"
          ],
          "name": "stdout"
        }
      ]
    },
    {
      "cell_type": "markdown",
      "metadata": {
        "id": "dYVc16T0OkEe"
      },
      "source": [
        "A common way to create constant tensors is via `tf.ones` and `tf.zeros` (just like `np.ones` and `np.zeros`):"
      ]
    },
    {
      "cell_type": "code",
      "metadata": {
        "id": "XabZArESOkEe",
        "colab": {
          "base_uri": "https://localhost:8080/"
        },
        "outputId": "eebec767-e0c1-49ef-b907-bd8664c066a5"
      },
      "source": [
        "print(tf.ones(shape=(2, 1)))\n",
        "print(tf.zeros(shape=(2, 1)))"
      ],
      "execution_count": 10,
      "outputs": [
        {
          "output_type": "stream",
          "text": [
            "tf.Tensor(\n",
            "[[1.]\n",
            " [1.]], shape=(2, 1), dtype=float32)\n",
            "tf.Tensor(\n",
            "[[0.]\n",
            " [0.]], shape=(2, 1), dtype=float32)\n"
          ],
          "name": "stdout"
        }
      ]
    },
    {
      "cell_type": "markdown",
      "metadata": {
        "id": "KlxHF7aWOkEe"
      },
      "source": [
        "You can also create random constant tensors:"
      ]
    },
    {
      "cell_type": "code",
      "metadata": {
        "id": "4lwqOznPOkEf",
        "colab": {
          "base_uri": "https://localhost:8080/"
        },
        "outputId": "c3ba9764-780c-4079-dc40-633c7922696a"
      },
      "source": [
        "x = tf.random.normal(shape=(2, 2), mean=0.0, stddev=1.0)\n",
        "print(x)\n",
        "x = tf.random.uniform(shape=(2, 2), minval=0, maxval=10, dtype=\"int32\")\n",
        "print(x)"
      ],
      "execution_count": 11,
      "outputs": [
        {
          "output_type": "stream",
          "text": [
            "tf.Tensor(\n",
            "[[-0.22632656  0.7328688 ]\n",
            " [-0.35126334  2.3020833 ]], shape=(2, 2), dtype=float32)\n",
            "tf.Tensor(\n",
            "[[9 4]\n",
            " [4 1]], shape=(2, 2), dtype=int32)\n"
          ],
          "name": "stdout"
        }
      ]
    },
    {
      "cell_type": "markdown",
      "metadata": {
        "id": "n3RvS5ppOkEf"
      },
      "source": [
        "## Variables\n",
        "\n",
        "Variables are special tensors used to store mutable state (such as the weights of a neural network).\n",
        "You create a `Variable` using some initial value:"
      ]
    },
    {
      "cell_type": "code",
      "metadata": {
        "id": "kNi61XQPOkEf",
        "colab": {
          "base_uri": "https://localhost:8080/"
        },
        "outputId": "1ea239f2-0aa8-455d-c359-beb1a629de57"
      },
      "source": [
        "initial_value = tf.random.normal(shape=(2, 2))\n",
        "a = tf.Variable(initial_value)\n",
        "print(a)\n"
      ],
      "execution_count": 12,
      "outputs": [
        {
          "output_type": "stream",
          "text": [
            "<tf.Variable 'Variable:0' shape=(2, 2) dtype=float32, numpy=\n",
            "array([[ 0.2083094 ,  0.27064723],\n",
            "       [-0.23131578, -0.8666659 ]], dtype=float32)>\n"
          ],
          "name": "stdout"
        }
      ]
    },
    {
      "cell_type": "markdown",
      "metadata": {
        "id": "TrjR16cDOkEf"
      },
      "source": [
        "You update the value of a `Variable` by using the methods `.assign(value)`, `.assign_add(increment)`, or `.assign_sub(decrement)`:"
      ]
    },
    {
      "cell_type": "code",
      "metadata": {
        "id": "aszo1z_eOkEf",
        "colab": {
          "base_uri": "https://localhost:8080/"
        },
        "outputId": "fb9852cd-1360-499b-e4a8-e8b5f3ee3dbc"
      },
      "source": [
        "new_value = tf.random.normal(shape=(2, 2))\n",
        "print(new_value)\n",
        "a.assign(new_value)\n",
        "for i in range(2):\n",
        "    for j in range(2):\n",
        "        assert a[i, j] == new_value[i, j]\n",
        "print(a)\n",
        "\n",
        "added_value = tf.random.normal(shape=(2, 2))\n",
        "print(added_value)\n",
        "a.assign_add(added_value)\n",
        "for i in range(2):\n",
        "    for j in range(2):\n",
        "        assert a[i, j] == new_value[i, j] + added_value[i, j]\n",
        "print(a)"
      ],
      "execution_count": 13,
      "outputs": [
        {
          "output_type": "stream",
          "text": [
            "tf.Tensor(\n",
            "[[ 1.8778367   1.653255  ]\n",
            " [-1.0830935  -0.18071789]], shape=(2, 2), dtype=float32)\n",
            "<tf.Variable 'Variable:0' shape=(2, 2) dtype=float32, numpy=\n",
            "array([[ 1.8778367 ,  1.653255  ],\n",
            "       [-1.0830935 , -0.18071789]], dtype=float32)>\n",
            "tf.Tensor(\n",
            "[[1.4134529  0.14367841]\n",
            " [0.91553605 1.5735934 ]], shape=(2, 2), dtype=float32)\n",
            "<tf.Variable 'Variable:0' shape=(2, 2) dtype=float32, numpy=\n",
            "array([[ 3.2912896 ,  1.7969334 ],\n",
            "       [-0.16755748,  1.3928754 ]], dtype=float32)>\n"
          ],
          "name": "stdout"
        }
      ]
    },
    {
      "cell_type": "markdown",
      "metadata": {
        "id": "GPF-crzmOkEg"
      },
      "source": [
        "## Doing math in TensorFlow\n",
        "\n",
        "If you've used NumPy, doing math in TensorFlow will look very familiar.\n",
        "The main difference is that your TensorFlow code can run on GPU and TPU."
      ]
    },
    {
      "cell_type": "code",
      "metadata": {
        "id": "ZuoFTF4nOkEg",
        "colab": {
          "base_uri": "https://localhost:8080/"
        },
        "outputId": "8d43add6-29dd-4e6b-b732-f8debfe06d74"
      },
      "source": [
        "a = tf.random.normal(shape=(2, 2))\n",
        "b = tf.random.normal(shape=(2, 2))\n",
        "print(a)\n",
        "print(b)\n",
        "\n",
        "c = a + b\n",
        "d = tf.square(c)\n",
        "e = tf.exp(d)\n",
        "print(c)\n",
        "print(d)\n",
        "print(e)"
      ],
      "execution_count": 14,
      "outputs": [
        {
          "output_type": "stream",
          "text": [
            "tf.Tensor(\n",
            "[[ 0.92636716 -2.2495768 ]\n",
            " [-0.36475903  0.97023153]], shape=(2, 2), dtype=float32)\n",
            "tf.Tensor(\n",
            "[[-0.32102033  0.72363544]\n",
            " [-0.9997819   0.92219514]], shape=(2, 2), dtype=float32)\n",
            "tf.Tensor(\n",
            "[[ 0.6053468 -1.5259414]\n",
            " [-1.3645409  1.8924267]], shape=(2, 2), dtype=float32)\n",
            "tf.Tensor(\n",
            "[[0.36644474 2.3284972 ]\n",
            " [1.861972   3.581279  ]], shape=(2, 2), dtype=float32)\n",
            "tf.Tensor(\n",
            "[[ 1.4425967 10.262507 ]\n",
            " [ 6.4364166 35.919453 ]], shape=(2, 2), dtype=float32)\n"
          ],
          "name": "stdout"
        }
      ]
    },
    {
      "cell_type": "markdown",
      "metadata": {
        "id": "nBD3CkzgOkEg"
      },
      "source": [
        "## Gradients\n",
        "\n",
        "Here's another big difference with NumPy: you can automatically retrieve the gradient of any differentiable expression.\n",
        "\n",
        "Just open a `GradientTape`, start \"watching\" a tensor via `tape.watch()`,\n",
        "and compose a differentiable expression using this tensor as input:"
      ]
    },
    {
      "cell_type": "code",
      "metadata": {
        "id": "zIkug6ZwOkEg",
        "colab": {
          "base_uri": "https://localhost:8080/"
        },
        "outputId": "42b8cd8d-8647-46ac-b601-4b13d10b939a"
      },
      "source": [
        "a = tf.random.normal(shape=(2, 2))\n",
        "b = tf.random.normal(shape=(2, 2))\n",
        "\n",
        "with tf.GradientTape() as tape:\n",
        "    tape.watch(a)  # Start recording the history of operations applied to `a`\n",
        "    c = tf.sqrt(tf.square(a) + tf.square(b))  # Do some math using `a`\n",
        "    # What's the gradient of `c` with respect to `a`?\n",
        "    dc_da = tape.gradient(c, a)\n",
        "    print(dc_da)\n"
      ],
      "execution_count": 15,
      "outputs": [
        {
          "output_type": "stream",
          "text": [
            "tf.Tensor(\n",
            "[[-0.81860226  0.9997924 ]\n",
            " [ 0.9048598   0.42528945]], shape=(2, 2), dtype=float32)\n"
          ],
          "name": "stdout"
        }
      ]
    },
    {
      "cell_type": "markdown",
      "metadata": {
        "id": "bjdbHSZfOkEh"
      },
      "source": [
        "By default, variables are watched automatically, so you don't need to manually `watch` them:"
      ]
    },
    {
      "cell_type": "code",
      "metadata": {
        "id": "zUFYa3UcOkEh",
        "colab": {
          "base_uri": "https://localhost:8080/"
        },
        "outputId": "017762c5-b9c7-462c-f003-5d5180176e07"
      },
      "source": [
        "a = tf.Variable(a)\n",
        "\n",
        "with tf.GradientTape() as tape:\n",
        "    c = tf.sqrt(tf.square(a) + tf.square(b))\n",
        "    dc_da = tape.gradient(c, a)\n",
        "    print(dc_da)"
      ],
      "execution_count": 16,
      "outputs": [
        {
          "output_type": "stream",
          "text": [
            "tf.Tensor(\n",
            "[[-0.81860226  0.9997924 ]\n",
            " [ 0.9048598   0.42528945]], shape=(2, 2), dtype=float32)\n"
          ],
          "name": "stdout"
        }
      ]
    },
    {
      "cell_type": "markdown",
      "metadata": {
        "id": "l6nhF3uUOkEh"
      },
      "source": [
        "Note that you can compute higher-order derivatives by nesting tapes:"
      ]
    },
    {
      "cell_type": "code",
      "metadata": {
        "id": "Ie195vhrOkEh",
        "colab": {
          "base_uri": "https://localhost:8080/"
        },
        "outputId": "488bff22-04e1-461d-b8d8-ea5994504c34"
      },
      "source": [
        "with tf.GradientTape() as outer_tape:\n",
        "    with tf.GradientTape() as tape:\n",
        "        c = tf.sqrt(tf.square(a) + tf.square(b))\n",
        "        dc_da = tape.gradient(c, a)\n",
        "    d2c_da2 = outer_tape.gradient(dc_da, a)\n",
        "    print(d2c_da2)\n"
      ],
      "execution_count": 17,
      "outputs": [
        {
          "output_type": "stream",
          "text": [
            "tf.Tensor(\n",
            "[[2.4939907e-01 2.5856495e-04]\n",
            " [1.1545414e-01 1.2769022e+00]], shape=(2, 2), dtype=float32)\n"
          ],
          "name": "stdout"
        }
      ]
    },
    {
      "cell_type": "markdown",
      "metadata": {
        "id": "126_lzEsOkEh"
      },
      "source": [
        "## Keras layers\n",
        "\n",
        "While TensorFlow is an **infrastructure layer for differentiable programming**,\n",
        "dealing with tensors, variables, and gradients,\n",
        "Keras is a **user interface for deep learning**, dealing with\n",
        "layers, models, optimizers, loss functions, metrics, and more.\n",
        "\n",
        "Keras serves as the high-level API for TensorFlow:\n",
        "Keras is what makes TensorFlow simple and productive.\n",
        "\n",
        "The `Layer` class is the fundamental abstraction in Keras.\n",
        "A `Layer` encapsulates a state (weights) and some computation\n",
        "(defined in the call method).\n",
        "\n",
        "A simple layer looks like this:"
      ]
    },
    {
      "cell_type": "code",
      "metadata": {
        "id": "Mmxloi6mOkEi"
      },
      "source": [
        "\n",
        "class Linear(keras.layers.Layer):\n",
        "    \"\"\"y = w.x + b\"\"\"\n",
        "\n",
        "    def __init__(self, units=32, input_dim=32):\n",
        "        super(Linear, self).__init__()\n",
        "        w_init = tf.random_normal_initializer()\n",
        "        self.w = tf.Variable(\n",
        "            initial_value=w_init(shape=(input_dim, units), dtype=\"float32\"),\n",
        "            trainable=True,\n",
        "        )\n",
        "        b_init = tf.zeros_initializer()\n",
        "        self.b = tf.Variable(\n",
        "            initial_value=b_init(shape=(units,), dtype=\"float32\"), trainable=True\n",
        "        )\n",
        "\n",
        "    def call(self, inputs):\n",
        "        return tf.matmul(inputs, self.w) + self.b\n"
      ],
      "execution_count": 18,
      "outputs": []
    },
    {
      "cell_type": "markdown",
      "metadata": {
        "id": "Qh_E68icOkEi"
      },
      "source": [
        "You would use a `Layer` instance much like a Python function:"
      ]
    },
    {
      "cell_type": "code",
      "metadata": {
        "id": "YK95RCskOkEj"
      },
      "source": [
        "# Instantiate our layer.\n",
        "linear_layer = Linear(units=4, input_dim=2)\n",
        "\n",
        "# The layer can be treated as a function.\n",
        "# Here we call it on some data.\n",
        "y = linear_layer(tf.ones((2, 2)))\n",
        "assert y.shape == (2, 4)"
      ],
      "execution_count": 19,
      "outputs": []
    },
    {
      "cell_type": "markdown",
      "metadata": {
        "id": "sbUZizljOkEj"
      },
      "source": [
        "The weight variables (created in `__init__`) are automatically\n",
        "tracked under the `weights` property:"
      ]
    },
    {
      "cell_type": "code",
      "metadata": {
        "id": "duxsUkPtOkEj"
      },
      "source": [
        "assert linear_layer.weights == [linear_layer.w, linear_layer.b]"
      ],
      "execution_count": 20,
      "outputs": []
    },
    {
      "cell_type": "markdown",
      "metadata": {
        "id": "0jLhRE2kOkEj"
      },
      "source": [
        "You have many built-in layers available, from `Dense` to `Conv2D` to `LSTM` to\n",
        "fancier ones like `Conv3DTranspose` or `ConvLSTM2D`. Be smart about reusing\n",
        "built-in functionality."
      ]
    },
    {
      "cell_type": "markdown",
      "metadata": {
        "id": "-xKOJBH1OkEk"
      },
      "source": [
        "## Layer weight creation\n",
        "\n",
        "The `self.add_weight()` method gives you a shortcut for creating weights:"
      ]
    },
    {
      "cell_type": "code",
      "metadata": {
        "id": "Ti5PZ8l1OkEk"
      },
      "source": [
        "\n",
        "class Linear(keras.layers.Layer):\n",
        "    \"\"\"y = w.x + b\"\"\"\n",
        "\n",
        "    def __init__(self, units=32):\n",
        "        super(Linear, self).__init__()\n",
        "        self.units = units\n",
        "\n",
        "    def build(self, input_shape):\n",
        "        self.w = self.add_weight(\n",
        "            shape=(input_shape[-1], self.units),\n",
        "            initializer=\"random_normal\",\n",
        "            trainable=True,\n",
        "        )\n",
        "        self.b = self.add_weight(\n",
        "            shape=(self.units,), initializer=\"random_normal\", trainable=True\n",
        "        )\n",
        "\n",
        "    def call(self, inputs):\n",
        "        return tf.matmul(inputs, self.w) + self.b\n",
        "\n",
        "\n",
        "# Instantiate our lazy layer.\n",
        "linear_layer = Linear(4)\n",
        "\n",
        "# This will also call `build(input_shape)` and create the weights.\n",
        "y = linear_layer(tf.ones((2, 2)))"
      ],
      "execution_count": 21,
      "outputs": []
    },
    {
      "cell_type": "markdown",
      "metadata": {
        "id": "ArmzeKTXOkEk"
      },
      "source": [
        "## Layer gradients\n",
        "\n",
        "You can automatically retrieve the gradients of the weights of a layer by\n",
        "calling it inside a `GradientTape`. Using these gradients, you can update the\n",
        "weights of the layer, either manually, or using an optimizer object. Of course,\n",
        "you can modify the gradients before using them, if you need to."
      ]
    },
    {
      "cell_type": "code",
      "metadata": {
        "id": "wv9LRU2qOkEk",
        "colab": {
          "base_uri": "https://localhost:8080/"
        },
        "outputId": "39429928-a020-4a8d-c304-fa70d422b4fc"
      },
      "source": [
        "# Prepare a dataset.\n",
        "(x_train, y_train), _ = tf.keras.datasets.mnist.load_data()\n",
        "dataset = tf.data.Dataset.from_tensor_slices(\n",
        "    (x_train.reshape(60000, 784).astype(\"float32\") / 255, y_train)\n",
        ")\n",
        "dataset = dataset.shuffle(buffer_size=1024).batch(64)\n",
        "\n",
        "# Instantiate our linear layer (defined above) with 10 units.\n",
        "linear_layer = Linear(10)\n",
        "\n",
        "# Instantiate a logistic loss function that expects integer targets.\n",
        "loss_fn = tf.keras.losses.SparseCategoricalCrossentropy(from_logits=True)\n",
        "\n",
        "# Instantiate an optimizer.\n",
        "optimizer = tf.keras.optimizers.SGD(learning_rate=1e-3)\n",
        "\n",
        "# Iterate over the batches of the dataset.\n",
        "for step, (x, y) in enumerate(dataset):\n",
        "\n",
        "    # Open a GradientTape.\n",
        "    with tf.GradientTape() as tape:\n",
        "\n",
        "        # Forward pass.\n",
        "        logits = linear_layer(x)\n",
        "\n",
        "        # Loss value for this batch.\n",
        "        loss = loss_fn(y, logits)\n",
        "\n",
        "    # Get gradients of weights wrt the loss.\n",
        "    gradients = tape.gradient(loss, linear_layer.trainable_weights)\n",
        "\n",
        "    # Update the weights of our linear layer.\n",
        "    optimizer.apply_gradients(zip(gradients, linear_layer.trainable_weights))\n",
        "\n",
        "    # Logging.\n",
        "    if step % 100 == 0:\n",
        "        print(\"Step:\", step, \"Loss:\", float(loss))"
      ],
      "execution_count": 22,
      "outputs": [
        {
          "output_type": "stream",
          "text": [
            "Step: 0 Loss: 2.3304686546325684\n",
            "Step: 100 Loss: 2.3938305377960205\n",
            "Step: 200 Loss: 2.1857242584228516\n",
            "Step: 300 Loss: 2.161865472793579\n",
            "Step: 400 Loss: 2.007769823074341\n",
            "Step: 500 Loss: 2.002321243286133\n",
            "Step: 600 Loss: 1.9212555885314941\n",
            "Step: 700 Loss: 1.855553150177002\n",
            "Step: 800 Loss: 1.7673048973083496\n",
            "Step: 900 Loss: 1.7130072116851807\n"
          ],
          "name": "stdout"
        }
      ]
    },
    {
      "cell_type": "markdown",
      "metadata": {
        "id": "7Og1WK5POkEl"
      },
      "source": [
        "## Trainable and non-trainable weights\n",
        "\n",
        "Weights created by layers can be either trainable or non-trainable. They're\n",
        "exposed in `trainable_weights` and `non_trainable_weights` respectively.\n",
        "Here's a layer with a non-trainable weight:"
      ]
    },
    {
      "cell_type": "code",
      "metadata": {
        "id": "mqwnG3YAOkEl",
        "colab": {
          "base_uri": "https://localhost:8080/"
        },
        "outputId": "a31f9cae-8cb7-4aec-8ebd-56f8fd934fc8"
      },
      "source": [
        "\n",
        "class ComputeSum(keras.layers.Layer):\n",
        "    \"\"\"Returns the sum of the inputs.\"\"\"\n",
        "\n",
        "    def __init__(self, input_dim):\n",
        "        super(ComputeSum, self).__init__()\n",
        "        # Create a non-trainable weight.\n",
        "        self.total = tf.Variable(initial_value=tf.zeros((input_dim,)), trainable=False)\n",
        "\n",
        "    def call(self, inputs):\n",
        "        self.total.assign_add(tf.reduce_sum(inputs, axis=0))\n",
        "        return self.total\n",
        "\n",
        "\n",
        "my_sum = ComputeSum(2)\n",
        "x = tf.ones((2, 2))\n",
        "\n",
        "y = my_sum(x)\n",
        "print(y.numpy())  # [2. 2.]\n",
        "\n",
        "y = my_sum(x)\n",
        "print(y.numpy())  # [4. 4.]\n",
        "\n",
        "assert my_sum.weights == [my_sum.total]\n",
        "assert my_sum.non_trainable_weights == [my_sum.total]\n",
        "assert my_sum.trainable_weights == []"
      ],
      "execution_count": 23,
      "outputs": [
        {
          "output_type": "stream",
          "text": [
            "[2. 2.]\n",
            "[4. 4.]\n"
          ],
          "name": "stdout"
        }
      ]
    },
    {
      "cell_type": "markdown",
      "metadata": {
        "id": "_hvyIUZbOkEm"
      },
      "source": [
        "## Layers that own layers\n",
        "\n",
        "Layers can be recursively nested to create bigger computation blocks.\n",
        "Each layer will track the weights of its sublayers\n",
        "(both trainable and non-trainable)."
      ]
    },
    {
      "cell_type": "code",
      "metadata": {
        "id": "-UqiN3SKOkEm"
      },
      "source": [
        "# Let's reuse the Linear class\n",
        "# with a `build` method that we defined above.\n",
        "\n",
        "\n",
        "class MLP(keras.layers.Layer):\n",
        "    \"\"\"Simple stack of Linear layers.\"\"\"\n",
        "\n",
        "    def __init__(self):\n",
        "        super(MLP, self).__init__()\n",
        "        self.linear_1 = Linear(32)\n",
        "        self.linear_2 = Linear(32)\n",
        "        self.linear_3 = Linear(10)\n",
        "\n",
        "    def call(self, inputs):\n",
        "        x = self.linear_1(inputs)\n",
        "        x = tf.nn.relu(x)\n",
        "        x = self.linear_2(x)\n",
        "        x = tf.nn.relu(x)\n",
        "        return self.linear_3(x)\n",
        "\n",
        "\n",
        "mlp = MLP()\n",
        "\n",
        "# The first call to the `mlp` object will create the weights.\n",
        "y = mlp(tf.ones(shape=(3, 64)))\n",
        "\n",
        "# Weights are recursively tracked.\n",
        "assert len(mlp.weights) == 6"
      ],
      "execution_count": 24,
      "outputs": []
    },
    {
      "cell_type": "markdown",
      "metadata": {
        "id": "a9aMV3WuOkEm"
      },
      "source": [
        "Note that our manually-created MLP above is equivalent to the following\n",
        "built-in option:"
      ]
    },
    {
      "cell_type": "code",
      "metadata": {
        "id": "-f_SJD_xOkEm"
      },
      "source": [
        "mlp = keras.Sequential(\n",
        "    [\n",
        "        keras.layers.Dense(32, activation=tf.nn.relu),\n",
        "        keras.layers.Dense(32, activation=tf.nn.relu),\n",
        "        keras.layers.Dense(10),\n",
        "    ]\n",
        ")"
      ],
      "execution_count": 25,
      "outputs": []
    },
    {
      "cell_type": "markdown",
      "metadata": {
        "id": "6FanbD7nOkEm"
      },
      "source": [
        "## Tracking losses created by layers\n",
        "\n",
        "Layers can create losses during the forward pass via the `add_loss()` method.\n",
        "This is especially useful for regularization losses.\n",
        "The losses created by sublayers are recursively tracked by the parent layers.\n",
        "\n",
        "Here's a layer that creates an activity regularization loss:"
      ]
    },
    {
      "cell_type": "code",
      "metadata": {
        "id": "s0DLtEHxOkEn"
      },
      "source": [
        "\n",
        "class ActivityRegularization(keras.layers.Layer):\n",
        "    \"\"\"Layer that creates an activity sparsity regularization loss.\"\"\"\n",
        "\n",
        "    def __init__(self, rate=1e-2):\n",
        "        super(ActivityRegularization, self).__init__()\n",
        "        self.rate = rate\n",
        "\n",
        "    def call(self, inputs):\n",
        "        # We use `add_loss` to create a regularization loss\n",
        "        # that depends on the inputs.\n",
        "        self.add_loss(self.rate * tf.reduce_sum(inputs))\n",
        "        return inputs\n"
      ],
      "execution_count": 26,
      "outputs": []
    },
    {
      "cell_type": "markdown",
      "metadata": {
        "id": "yQOu3BzAOkEn"
      },
      "source": [
        "Any model incorporating this layer will track this regularization loss:"
      ]
    },
    {
      "cell_type": "code",
      "metadata": {
        "id": "g_69y-owOkEn",
        "colab": {
          "base_uri": "https://localhost:8080/"
        },
        "outputId": "584397ea-9f76-41ff-b54a-264fcb6f8abd"
      },
      "source": [
        "# Let's use the loss layer in a MLP block.\n",
        "\n",
        "\n",
        "class SparseMLP(keras.layers.Layer):\n",
        "    \"\"\"Stack of Linear layers with a sparsity regularization loss.\"\"\"\n",
        "\n",
        "    def __init__(self):\n",
        "        super(SparseMLP, self).__init__()\n",
        "        self.linear_1 = Linear(32)\n",
        "        self.regularization = ActivityRegularization(1e-2)\n",
        "        self.linear_3 = Linear(10)\n",
        "\n",
        "    def call(self, inputs):\n",
        "        x = self.linear_1(inputs)\n",
        "        x = tf.nn.relu(x)\n",
        "        x = self.regularization(x)\n",
        "        return self.linear_3(x)\n",
        "\n",
        "\n",
        "mlp = SparseMLP()\n",
        "y = mlp(tf.ones((10, 10)))\n",
        "\n",
        "print(mlp.losses)  # List containing one float32 scalar"
      ],
      "execution_count": 27,
      "outputs": [
        {
          "output_type": "stream",
          "text": [
            "[<tf.Tensor: shape=(), dtype=float32, numpy=0.18433182>]\n"
          ],
          "name": "stdout"
        }
      ]
    },
    {
      "cell_type": "markdown",
      "metadata": {
        "id": "JRJ7NcBxOkEn"
      },
      "source": [
        "These losses are cleared by the top-level layer at the start of each forward\n",
        "pass -- they don't accumulate. `layer.losses` always contains only the losses\n",
        "created during the last forward pass. You would typically use these losses by\n",
        "summing them before computing your gradients when writing a training loop."
      ]
    },
    {
      "cell_type": "code",
      "metadata": {
        "id": "Iv_t7PIVOkEn",
        "colab": {
          "base_uri": "https://localhost:8080/"
        },
        "outputId": "5f6c26a4-31de-44f7-e431-f82e673d4c91"
      },
      "source": [
        "# Losses correspond to the *last* forward pass.\n",
        "mlp = SparseMLP()\n",
        "mlp(tf.ones((10, 10)))\n",
        "assert len(mlp.losses) == 1\n",
        "mlp(tf.ones((10, 10)))\n",
        "assert len(mlp.losses) == 1  # No accumulation.\n",
        "\n",
        "# Let's demonstrate how to use these losses in a training loop.\n",
        "\n",
        "# Prepare a dataset.\n",
        "(x_train, y_train), _ = tf.keras.datasets.mnist.load_data()\n",
        "dataset = tf.data.Dataset.from_tensor_slices(\n",
        "    (x_train.reshape(60000, 784).astype(\"float32\") / 255, y_train)\n",
        ")\n",
        "dataset = dataset.shuffle(buffer_size=1024).batch(64)\n",
        "\n",
        "# A new MLP.\n",
        "mlp = SparseMLP()\n",
        "\n",
        "# Loss and optimizer.\n",
        "loss_fn = tf.keras.losses.SparseCategoricalCrossentropy(from_logits=True)\n",
        "optimizer = tf.keras.optimizers.SGD(learning_rate=1e-3)\n",
        "\n",
        "for step, (x, y) in enumerate(dataset):\n",
        "    with tf.GradientTape() as tape:\n",
        "\n",
        "        # Forward pass.\n",
        "        logits = mlp(x)\n",
        "\n",
        "        # External loss value for this batch.\n",
        "        loss = loss_fn(y, logits)\n",
        "\n",
        "        # Add the losses created during the forward pass.\n",
        "        loss += sum(mlp.losses)\n",
        "\n",
        "        # Get gradients of weights wrt the loss.\n",
        "        gradients = tape.gradient(loss, mlp.trainable_weights)\n",
        "\n",
        "    # Update the weights of our linear layer.\n",
        "    optimizer.apply_gradients(zip(gradients, mlp.trainable_weights))\n",
        "\n",
        "    # Logging.\n",
        "    if step % 100 == 0:\n",
        "        print(\"Step:\", step, \"Loss:\", float(loss))"
      ],
      "execution_count": 28,
      "outputs": [
        {
          "output_type": "stream",
          "text": [
            "Step: 0 Loss: 5.958654403686523\n",
            "Step: 100 Loss: 2.557541608810425\n",
            "Step: 200 Loss: 2.4329488277435303\n",
            "Step: 300 Loss: 2.3595495223999023\n",
            "Step: 400 Loss: 2.3473381996154785\n",
            "Step: 500 Loss: 2.3361799716949463\n",
            "Step: 600 Loss: 2.3306539058685303\n",
            "Step: 700 Loss: 2.3402082920074463\n",
            "Step: 800 Loss: 2.333895206451416\n",
            "Step: 900 Loss: 2.3171873092651367\n"
          ],
          "name": "stdout"
        }
      ]
    },
    {
      "cell_type": "markdown",
      "metadata": {
        "id": "A8RQQMDoOkEn"
      },
      "source": [
        "## Keeping track of training metrics\n",
        "\n",
        "Keras offers a broad range of built-in metrics, like `tf.keras.metrics.AUC`\n",
        "or `tf.keras.metrics.PrecisionAtRecall`. It's also easy to create your\n",
        "own metrics in a few lines of code.\n",
        "\n",
        "To use a metric in a custom training loop, you would:\n",
        "\n",
        "- Instantiate the metric object, e.g. `metric = tf.keras.metrics.AUC()`\n",
        "- Call its `metric.udpate_state(targets, predictions)` method for each batch of data\n",
        "- Query its result via `metric.result()`\n",
        "- Reset the metric's state at the end of an epoch or at the start of an evaluation via\n",
        "`metric.reset_states()`\n",
        "\n",
        "Here's a simple example:"
      ]
    },
    {
      "cell_type": "code",
      "metadata": {
        "id": "IgmRzgjqOkEn",
        "colab": {
          "base_uri": "https://localhost:8080/"
        },
        "outputId": "44490bd8-8b59-47b7-ae65-9cca43f492e3"
      },
      "source": [
        "# Instantiate a metric object\n",
        "accuracy = tf.keras.metrics.SparseCategoricalAccuracy()\n",
        "\n",
        "# Prepare our layer, loss, and optimizer.\n",
        "model = keras.Sequential(\n",
        "    [\n",
        "        keras.layers.Dense(32, activation=\"relu\"),\n",
        "        keras.layers.Dense(32, activation=\"relu\"),\n",
        "        keras.layers.Dense(10),\n",
        "    ]\n",
        ")\n",
        "loss_fn = tf.keras.losses.SparseCategoricalCrossentropy(from_logits=True)\n",
        "optimizer = tf.keras.optimizers.Adam(learning_rate=1e-3)\n",
        "\n",
        "for epoch in range(2):\n",
        "    # Iterate over the batches of a dataset.\n",
        "    for step, (x, y) in enumerate(dataset):\n",
        "        with tf.GradientTape() as tape:\n",
        "            logits = model(x)\n",
        "            # Compute the loss value for this batch.\n",
        "            loss_value = loss_fn(y, logits)\n",
        "\n",
        "        # Update the state of the `accuracy` metric.\n",
        "        accuracy.update_state(y, logits)\n",
        "\n",
        "        # Update the weights of the model to minimize the loss value.\n",
        "        gradients = tape.gradient(loss_value, model.trainable_weights)\n",
        "        optimizer.apply_gradients(zip(gradients, model.trainable_weights))\n",
        "\n",
        "        # Logging the current accuracy value so far.\n",
        "        if step % 200 == 0:\n",
        "            print(\"Epoch:\", epoch, \"Step:\", step)\n",
        "            print(\"Total running accuracy so far: %.3f\" % accuracy.result())\n",
        "\n",
        "    # Reset the metric's state at the end of an epoch\n",
        "    accuracy.reset_states()"
      ],
      "execution_count": 29,
      "outputs": [
        {
          "output_type": "stream",
          "text": [
            "Epoch: 0 Step: 0\n",
            "Total running accuracy so far: 0.016\n",
            "Epoch: 0 Step: 200\n",
            "Total running accuracy so far: 0.758\n",
            "Epoch: 0 Step: 400\n",
            "Total running accuracy so far: 0.828\n",
            "Epoch: 0 Step: 600\n",
            "Total running accuracy so far: 0.857\n",
            "Epoch: 0 Step: 800\n",
            "Total running accuracy so far: 0.873\n",
            "Epoch: 1 Step: 0\n",
            "Total running accuracy so far: 0.922\n",
            "Epoch: 1 Step: 200\n",
            "Total running accuracy so far: 0.941\n",
            "Epoch: 1 Step: 400\n",
            "Total running accuracy so far: 0.941\n",
            "Epoch: 1 Step: 600\n",
            "Total running accuracy so far: 0.942\n",
            "Epoch: 1 Step: 800\n",
            "Total running accuracy so far: 0.942\n"
          ],
          "name": "stdout"
        }
      ]
    },
    {
      "cell_type": "markdown",
      "metadata": {
        "id": "QyTHaNBoOkEo"
      },
      "source": [
        "In addition to this, similarly to the `self.add_loss()` method, you have access\n",
        "to an `self.add_metric()` method on layers. It tracks the average of\n",
        "whatever quantity you pass to it. You can reset the value of these metrics\n",
        "by calling `layer.reset_metrics()` on any layer or model."
      ]
    },
    {
      "cell_type": "markdown",
      "metadata": {
        "id": "ykF1iRpdOkEo"
      },
      "source": [
        "## Compiled functions\n",
        "\n",
        "Running eagerly is great for debugging, but you will get better performance by\n",
        "compiling your computation into static graphs. Static graphs are a researcher's\n",
        "best friends. You can compile any function by wrapping it in a `tf.function`\n",
        "decorator."
      ]
    },
    {
      "cell_type": "code",
      "metadata": {
        "id": "K1_BhGq9OkEo",
        "colab": {
          "base_uri": "https://localhost:8080/"
        },
        "outputId": "a8e969ba-5952-412e-a2f6-1dda85046f8a"
      },
      "source": [
        "# Prepare our layer, loss, and optimizer.\n",
        "model = keras.Sequential(\n",
        "    [\n",
        "        keras.layers.Dense(32, activation=\"relu\"),\n",
        "        keras.layers.Dense(32, activation=\"relu\"),\n",
        "        keras.layers.Dense(10),\n",
        "    ]\n",
        ")\n",
        "loss_fn = tf.keras.losses.SparseCategoricalCrossentropy(from_logits=True)\n",
        "optimizer = tf.keras.optimizers.Adam(learning_rate=1e-3)\n",
        "\n",
        "# Create a training step function.\n",
        "\n",
        "\n",
        "@tf.function  # Make it fast.\n",
        "def train_on_batch(x, y):\n",
        "    with tf.GradientTape() as tape:\n",
        "        logits = model(x)\n",
        "        loss = loss_fn(y, logits)\n",
        "        gradients = tape.gradient(loss, model.trainable_weights)\n",
        "    optimizer.apply_gradients(zip(gradients, model.trainable_weights))\n",
        "    return loss\n",
        "\n",
        "\n",
        "# Prepare a dataset.\n",
        "(x_train, y_train), _ = tf.keras.datasets.mnist.load_data()\n",
        "dataset = tf.data.Dataset.from_tensor_slices(\n",
        "    (x_train.reshape(60000, 784).astype(\"float32\") / 255, y_train)\n",
        ")\n",
        "dataset = dataset.shuffle(buffer_size=1024).batch(64)\n",
        "\n",
        "for step, (x, y) in enumerate(dataset):\n",
        "    loss = train_on_batch(x, y)\n",
        "    if step % 100 == 0:\n",
        "        print(\"Step:\", step, \"Loss:\", float(loss))"
      ],
      "execution_count": 30,
      "outputs": [
        {
          "output_type": "stream",
          "text": [
            "Step: 0 Loss: 2.3362841606140137\n",
            "Step: 100 Loss: 0.5538498163223267\n",
            "Step: 200 Loss: 0.3629971742630005\n",
            "Step: 300 Loss: 0.25484031438827515\n",
            "Step: 400 Loss: 0.3307284414768219\n",
            "Step: 500 Loss: 0.39656415581703186\n",
            "Step: 600 Loss: 0.33121544122695923\n",
            "Step: 700 Loss: 0.30714741349220276\n",
            "Step: 800 Loss: 0.12755225598812103\n",
            "Step: 900 Loss: 0.14691880345344543\n"
          ],
          "name": "stdout"
        }
      ]
    },
    {
      "cell_type": "markdown",
      "metadata": {
        "id": "KHytJlHLOkEo"
      },
      "source": [
        "## Training mode & inference mode\n",
        "\n",
        "Some layers, in particular the `BatchNormalization` layer and the `Dropout`\n",
        "layer, have different behaviors during training and inference. For such layers,\n",
        "it is standard practice to expose a `training` (boolean) argument in the `call`\n",
        "method.\n",
        "\n",
        "By exposing this argument in `call`, you enable the built-in training and\n",
        "evaluation loops (e.g. fit) to correctly use the layer in training and\n",
        "inference modes."
      ]
    },
    {
      "cell_type": "code",
      "metadata": {
        "id": "4tmxcZ8qOkEo"
      },
      "source": [
        "\n",
        "class Dropout(keras.layers.Layer):\n",
        "    def __init__(self, rate):\n",
        "        super(Dropout, self).__init__()\n",
        "        self.rate = rate\n",
        "\n",
        "    def call(self, inputs, training=None):\n",
        "        if training:\n",
        "            return tf.nn.dropout(inputs, rate=self.rate)\n",
        "        return inputs\n",
        "\n",
        "\n",
        "class MLPWithDropout(keras.layers.Layer):\n",
        "    def __init__(self):\n",
        "        super(MLPWithDropout, self).__init__()\n",
        "        self.linear_1 = Linear(32)\n",
        "        self.dropout = Dropout(0.5)\n",
        "        self.linear_3 = Linear(10)\n",
        "\n",
        "    def call(self, inputs, training=None):\n",
        "        x = self.linear_1(inputs)\n",
        "        x = tf.nn.relu(x)\n",
        "        x = self.dropout(x, training=training)\n",
        "        return self.linear_3(x)\n",
        "\n",
        "\n",
        "mlp = MLPWithDropout()\n",
        "y_train = mlp(tf.ones((2, 2)), training=True)\n",
        "y_test = mlp(tf.ones((2, 2)), training=False)"
      ],
      "execution_count": 31,
      "outputs": []
    },
    {
      "cell_type": "markdown",
      "metadata": {
        "id": "WJUC9tNOOkEo"
      },
      "source": [
        "## The Functional API for model-building\n",
        "\n",
        "To build deep learning models, you don't have to use object-oriented programming all the\n",
        "time. All layers we've seen so far can also be composed functionally, like this (we call\n",
        "it the \"Functional API\"):"
      ]
    },
    {
      "cell_type": "code",
      "metadata": {
        "id": "h2k73m1oOkEo"
      },
      "source": [
        "# We use an `Input` object to describe the shape and dtype of the inputs.\n",
        "# This is the deep learning equivalent of *declaring a type*.\n",
        "# The shape argument is per-sample; it does not include the batch size.\n",
        "# The functional API focused on defining per-sample transformations.\n",
        "# The model we create will automatically batch the per-sample transformations,\n",
        "# so that it can be called on batches of data.\n",
        "inputs = tf.keras.Input(shape=(16,), dtype=\"float32\")\n",
        "\n",
        "# We call layers on these \"type\" objects\n",
        "# and they return updated types (new shapes/dtypes).\n",
        "x = Linear(32)(inputs)  # We are reusing the Linear layer we defined earlier.\n",
        "x = Dropout(0.5)(x)  # We are reusing the Dropout layer we defined earlier.\n",
        "outputs = Linear(10)(x)\n",
        "\n",
        "# A functional `Model` can be defined by specifying inputs and outputs.\n",
        "# A model is itself a layer like any other.\n",
        "model = tf.keras.Model(inputs, outputs)\n",
        "\n",
        "# A functional model already has weights, before being called on any data.\n",
        "# That's because we defined its input shape in advance (in `Input`).\n",
        "assert len(model.weights) == 4\n",
        "\n",
        "# Let's call our model on some data, for fun.\n",
        "y = model(tf.ones((2, 16)))\n",
        "assert y.shape == (2, 10)\n",
        "\n",
        "# You can pass a `training` argument in `__call__`\n",
        "# (it will get passed down to the Dropout layer).\n",
        "y = model(tf.ones((2, 16)), training=True)"
      ],
      "execution_count": 32,
      "outputs": []
    },
    {
      "cell_type": "markdown",
      "metadata": {
        "id": "wSL3idFMOkEp"
      },
      "source": [
        "The Functional API tends to be more concise than subclassing, and provides a few other\n",
        "advantages (generally the same advantages that functional, typed languages provide over\n",
        "untyped OO development). However, it can only be used to define DAGs of layers --\n",
        "recursive networks should be defined as Layer subclasses instead.\n",
        "\n",
        "Learn more about the Functional API [here](/guides/functional_api/).\n",
        "\n",
        "In your research workflows, you may often find yourself mix-and-matching OO models and\n",
        "Functional models.\n",
        "\n",
        "Note that the `Model` class also features built-in training & evaluation loops\n",
        "(`fit()` and `evaluate()`). You can always subclass the `Model` class\n",
        "(it works exactly like subclassing `Layer`) if you want to leverage these loops\n",
        "for your OO models."
      ]
    },
    {
      "cell_type": "markdown",
      "metadata": {
        "id": "iQ41Q9aSOkEp"
      },
      "source": [
        "## End-to-end experiment example 1: variational autoencoders.\n",
        "\n",
        "Here are some of the things you've learned so far:\n",
        "\n",
        "- A `Layer` encapsulates a state (created in `__init__` or `build`) and some computation\n",
        "(defined in `call`).\n",
        "- Layers can be recursively nested to create new, bigger computation blocks.\n",
        "- You can easily write highly hackable training loops by opening a\n",
        "`GradientTape`, calling your model inside the tape's scope, then retrieving\n",
        "gradients and applying them via an optimizer.\n",
        "- You can speed up your training loops using the `@tf.function` decorator.\n",
        "- Layers can create and track losses (typically regularization losses) via\n",
        "`self.add_loss()`.\n",
        "\n",
        "Let's put all of these things together into an end-to-end example: we're going to\n",
        "implement a Variational AutoEncoder (VAE). We'll train it on MNIST digits.\n",
        "\n",
        "Our VAE will be a subclass of `Layer`, built as a nested composition of layers that\n",
        "subclass `Layer`. It will feature a regularization loss (KL divergence)."
      ]
    },
    {
      "cell_type": "markdown",
      "metadata": {
        "id": "MSpe9qNeOkEp"
      },
      "source": [
        "Below is our model definition.\n",
        "\n",
        "First, we have an `Encoder` class, which uses a `Sampling` layer to map a MNIST digit to\n",
        "a latent-space triplet `(z_mean, z_log_var, z)`."
      ]
    },
    {
      "cell_type": "code",
      "metadata": {
        "id": "kpwvdK_BOkEp"
      },
      "source": [
        "from tensorflow.keras import layers\n",
        "\n",
        "\n",
        "class Sampling(layers.Layer):\n",
        "    \"\"\"Uses (z_mean, z_log_var) to sample z, the vector encoding a digit.\"\"\"\n",
        "\n",
        "    def call(self, inputs):\n",
        "        z_mean, z_log_var = inputs\n",
        "        batch = tf.shape(z_mean)[0]\n",
        "        dim = tf.shape(z_mean)[1]\n",
        "        epsilon = tf.keras.backend.random_normal(shape=(batch, dim))\n",
        "        return z_mean + tf.exp(0.5 * z_log_var) * epsilon\n",
        "\n",
        "\n",
        "class Encoder(layers.Layer):\n",
        "    \"\"\"Maps MNIST digits to a triplet (z_mean, z_log_var, z).\"\"\"\n",
        "\n",
        "    def __init__(self, latent_dim=32, intermediate_dim=64, **kwargs):\n",
        "        super(Encoder, self).__init__(**kwargs)\n",
        "        self.dense_proj = layers.Dense(intermediate_dim, activation=tf.nn.relu)\n",
        "        self.dense_mean = layers.Dense(latent_dim)\n",
        "        self.dense_log_var = layers.Dense(latent_dim)\n",
        "        self.sampling = Sampling()\n",
        "\n",
        "    def call(self, inputs):\n",
        "        x = self.dense_proj(inputs)\n",
        "        z_mean = self.dense_mean(x)\n",
        "        z_log_var = self.dense_log_var(x)\n",
        "        z = self.sampling((z_mean, z_log_var))\n",
        "        return z_mean, z_log_var, z\n"
      ],
      "execution_count": 33,
      "outputs": []
    },
    {
      "cell_type": "markdown",
      "metadata": {
        "id": "uIavkjMQOkEp"
      },
      "source": [
        "Next, we have a `Decoder` class, which maps the probabilistic latent space coordinates\n",
        "back to a MNIST digit."
      ]
    },
    {
      "cell_type": "code",
      "metadata": {
        "id": "Jn7-frnROkEp"
      },
      "source": [
        "\n",
        "class Decoder(layers.Layer):\n",
        "    \"\"\"Converts z, the encoded digit vector, back into a readable digit.\"\"\"\n",
        "\n",
        "    def __init__(self, original_dim, intermediate_dim=64, **kwargs):\n",
        "        super(Decoder, self).__init__(**kwargs)\n",
        "        self.dense_proj = layers.Dense(intermediate_dim, activation=tf.nn.relu)\n",
        "        self.dense_output = layers.Dense(original_dim, activation=tf.nn.sigmoid)\n",
        "\n",
        "    def call(self, inputs):\n",
        "        x = self.dense_proj(inputs)\n",
        "        return self.dense_output(x)\n"
      ],
      "execution_count": 34,
      "outputs": []
    },
    {
      "cell_type": "markdown",
      "metadata": {
        "id": "fJ1eeyaGOkEp"
      },
      "source": [
        "Finally, our `VariationalAutoEncoder` composes together an encoder and a decoder, and\n",
        "creates a KL divergence regularization loss via `add_loss()`."
      ]
    },
    {
      "cell_type": "code",
      "metadata": {
        "id": "B4jYHJ56OkEq"
      },
      "source": [
        "\n",
        "class VariationalAutoEncoder(layers.Layer):\n",
        "    \"\"\"Combines the encoder and decoder into an end-to-end model for training.\"\"\"\n",
        "\n",
        "    def __init__(self, original_dim, intermediate_dim=64, latent_dim=32, **kwargs):\n",
        "        super(VariationalAutoEncoder, self).__init__(**kwargs)\n",
        "        self.original_dim = original_dim\n",
        "        self.encoder = Encoder(latent_dim=latent_dim, intermediate_dim=intermediate_dim)\n",
        "        self.decoder = Decoder(original_dim, intermediate_dim=intermediate_dim)\n",
        "\n",
        "    def call(self, inputs):\n",
        "        z_mean, z_log_var, z = self.encoder(inputs)\n",
        "        reconstructed = self.decoder(z)\n",
        "        # Add KL divergence regularization loss.\n",
        "        kl_loss = -0.5 * tf.reduce_mean(\n",
        "            z_log_var - tf.square(z_mean) - tf.exp(z_log_var) + 1\n",
        "        )\n",
        "        self.add_loss(kl_loss)\n",
        "        return reconstructed\n"
      ],
      "execution_count": 35,
      "outputs": []
    },
    {
      "cell_type": "markdown",
      "metadata": {
        "id": "3kPTgwE2OkEq"
      },
      "source": [
        "Now, let's write a training loop. Our training step is decorated with a `@tf.function` to\n",
        "compile into a super fast graph function."
      ]
    },
    {
      "cell_type": "code",
      "metadata": {
        "id": "faKz71XiOkEq",
        "colab": {
          "base_uri": "https://localhost:8080/"
        },
        "outputId": "f33e221d-efe5-46d3-8f4c-db33414eadfe"
      },
      "source": [
        "# Our model.\n",
        "vae = VariationalAutoEncoder(original_dim=784, intermediate_dim=64, latent_dim=32)\n",
        "\n",
        "# Loss and optimizer.\n",
        "loss_fn = tf.keras.losses.MeanSquaredError()\n",
        "optimizer = tf.keras.optimizers.Adam(learning_rate=1e-3)\n",
        "\n",
        "# Prepare a dataset.\n",
        "(x_train, _), _ = tf.keras.datasets.mnist.load_data()\n",
        "dataset = tf.data.Dataset.from_tensor_slices(\n",
        "    x_train.reshape(60000, 784).astype(\"float32\") / 255\n",
        ")\n",
        "dataset = dataset.shuffle(buffer_size=1024).batch(32)\n",
        "\n",
        "\n",
        "@tf.function\n",
        "def training_step(x):\n",
        "    with tf.GradientTape() as tape:\n",
        "        reconstructed = vae(x)  # Compute input reconstruction.\n",
        "        # Compute loss.\n",
        "        loss = loss_fn(x, reconstructed)\n",
        "        loss += sum(vae.losses)  # Add KLD term.\n",
        "    # Update the weights of the VAE.\n",
        "    grads = tape.gradient(loss, vae.trainable_weights)\n",
        "    optimizer.apply_gradients(zip(grads, vae.trainable_weights))\n",
        "    return loss\n",
        "\n",
        "\n",
        "losses = []  # Keep track of the losses over time.\n",
        "for step, x in enumerate(dataset):\n",
        "    loss = training_step(x)\n",
        "    # Logging.\n",
        "    losses.append(float(loss))\n",
        "    if step % 100 == 0:\n",
        "        print(\"Step:\", step, \"Loss:\", sum(losses) / len(losses))\n",
        "\n",
        "    # Stop after 1000 steps.\n",
        "    # Training the model to convergence is left\n",
        "    # as an exercise to the reader.\n",
        "    if step >= 1000:\n",
        "        break"
      ],
      "execution_count": 36,
      "outputs": [
        {
          "output_type": "stream",
          "text": [
            "Step: 0 Loss: 0.3585759997367859\n",
            "Step: 100 Loss: 0.12764054345022333\n",
            "Step: 200 Loss: 0.10092799721369103\n",
            "Step: 300 Loss: 0.09033946227591695\n",
            "Step: 400 Loss: 0.08524297698031637\n",
            "Step: 500 Loss: 0.08202772280442977\n",
            "Step: 600 Loss: 0.07952795868829364\n",
            "Step: 700 Loss: 0.07809410194803917\n",
            "Step: 800 Loss: 0.07683407710620974\n",
            "Step: 900 Loss: 0.07584985048323042\n",
            "Step: 1000 Loss: 0.07490613643493091\n"
          ],
          "name": "stdout"
        }
      ]
    },
    {
      "cell_type": "markdown",
      "metadata": {
        "id": "2M7Cn8LgOkEq"
      },
      "source": [
        "As you can see, building and training this type of model in Keras\n",
        "is quick and painless.\n",
        "\n",
        "Now, you may find that the code above is somewhat verbose: we handle every little detail\n",
        "on our own, by hand. This gives the most flexibility, but it's also a bit of work.\n",
        "\n",
        "Let's take a look at what the Functional API version of\n",
        "our VAE looks like:"
      ]
    },
    {
      "cell_type": "code",
      "metadata": {
        "id": "aZeIvy_GOkEq"
      },
      "source": [
        "original_dim = 784\n",
        "intermediate_dim = 64\n",
        "latent_dim = 32\n",
        "\n",
        "# Define encoder model.\n",
        "original_inputs = tf.keras.Input(shape=(original_dim,), name=\"encoder_input\")\n",
        "x = layers.Dense(intermediate_dim, activation=\"relu\")(original_inputs)\n",
        "z_mean = layers.Dense(latent_dim, name=\"z_mean\")(x)\n",
        "z_log_var = layers.Dense(latent_dim, name=\"z_log_var\")(x)\n",
        "z = Sampling()((z_mean, z_log_var))\n",
        "encoder = tf.keras.Model(inputs=original_inputs, outputs=z, name=\"encoder\")\n",
        "\n",
        "# Define decoder model.\n",
        "latent_inputs = tf.keras.Input(shape=(latent_dim,), name=\"z_sampling\")\n",
        "x = layers.Dense(intermediate_dim, activation=\"relu\")(latent_inputs)\n",
        "outputs = layers.Dense(original_dim, activation=\"sigmoid\")(x)\n",
        "decoder = tf.keras.Model(inputs=latent_inputs, outputs=outputs, name=\"decoder\")\n",
        "\n",
        "# Define VAE model.\n",
        "outputs = decoder(z)\n",
        "vae = tf.keras.Model(inputs=original_inputs, outputs=outputs, name=\"vae\")\n",
        "\n",
        "# Add KL divergence regularization loss.\n",
        "kl_loss = -0.5 * tf.reduce_mean(z_log_var - tf.square(z_mean) - tf.exp(z_log_var) + 1)\n",
        "vae.add_loss(kl_loss)"
      ],
      "execution_count": 37,
      "outputs": []
    },
    {
      "cell_type": "markdown",
      "metadata": {
        "id": "8YKDjEASOkEq"
      },
      "source": [
        "Much more concise, right?\n",
        "\n",
        "By the way, Keras also features built-in training & evaluation loops on its `Model` class\n",
        "(`fit()` and `evaluate()`). Check it out:"
      ]
    },
    {
      "cell_type": "code",
      "metadata": {
        "id": "NPuf7hGjOkEq",
        "colab": {
          "base_uri": "https://localhost:8080/"
        },
        "outputId": "af7f8284-6ed8-44c4-9c8c-df0d18f91313"
      },
      "source": [
        "# Loss and optimizer.\n",
        "loss_fn = tf.keras.losses.MeanSquaredError()\n",
        "optimizer = tf.keras.optimizers.Adam(learning_rate=1e-3)\n",
        "\n",
        "# Prepare a dataset.\n",
        "(x_train, _), _ = tf.keras.datasets.mnist.load_data()\n",
        "dataset = tf.data.Dataset.from_tensor_slices(\n",
        "    x_train.reshape(60000, 784).astype(\"float32\") / 255\n",
        ")\n",
        "dataset = dataset.map(lambda x: (x, x))  # Use x_train as both inputs & targets\n",
        "dataset = dataset.shuffle(buffer_size=1024).batch(32)\n",
        "\n",
        "# Configure the model for training.\n",
        "vae.compile(optimizer, loss=loss_fn)\n",
        "\n",
        "# Actually training the model.\n",
        "vae.fit(dataset, epochs=1)"
      ],
      "execution_count": 38,
      "outputs": [
        {
          "output_type": "stream",
          "text": [
            "1875/1875 [==============================] - 5s 2ms/step - loss: 0.0843\n"
          ],
          "name": "stdout"
        },
        {
          "output_type": "execute_result",
          "data": {
            "text/plain": [
              "<tensorflow.python.keras.callbacks.History at 0x7fb2bbd4d310>"
            ]
          },
          "metadata": {
            "tags": []
          },
          "execution_count": 38
        }
      ]
    },
    {
      "cell_type": "markdown",
      "metadata": {
        "id": "MZKag31wOkEr"
      },
      "source": [
        "The use of the Functional API and `fit` reduces our example from 65 lines to 25 lines\n",
        "(including model definition & training). The Keras philosophy is to offer you\n",
        "productivity-boosting features like\n",
        "these, while simultaneously empowering you to write everything yourself to gain absolute\n",
        "control over every little detail. Like we did in the low-level training loop two\n",
        "paragraphs earlier."
      ]
    },
    {
      "cell_type": "markdown",
      "metadata": {
        "id": "h_devOlyOkEr"
      },
      "source": [
        "## End-to-end experiment example 2: hypernetworks.\n",
        "\n",
        "Let's take a look at another kind of research experiment: hypernetworks.\n",
        "\n",
        "A hypernetwork is a deep neural network whose weights are generated by another network\n",
        "(usually smaller).\n",
        "\n",
        "Let's implement a really trivial hypernetwork: we'll use a small 2-layer network  to\n",
        "generate the weights of a larger 3-layer network.\n"
      ]
    },
    {
      "cell_type": "code",
      "metadata": {
        "id": "deAxFy6xOkEr"
      },
      "source": [
        "import numpy as np\n",
        "\n",
        "input_dim = 784\n",
        "classes = 10\n",
        "\n",
        "# This is the model we'll actually use to predict labels (the hypernetwork).\n",
        "outer_model = keras.Sequential(\n",
        "    [keras.layers.Dense(64, activation=tf.nn.relu), keras.layers.Dense(classes),]\n",
        ")\n",
        "\n",
        "# It doesn't need to create its own weights, so let's mark its layers\n",
        "# as already built. That way, calling `outer_model` won't create new variables.\n",
        "for layer in outer_model.layers:\n",
        "    layer.built = True\n",
        "\n",
        "# This is the number of weight coefficients to generate. Each layer in the\n",
        "# hypernetwork requires output_dim * input_dim + output_dim coefficients.\n",
        "num_weights_to_generate = (classes * 64 + classes) + (64 * input_dim + 64)\n",
        "\n",
        "# This is the model that generates the weights of the `outer_model` above.\n",
        "inner_model = keras.Sequential(\n",
        "    [\n",
        "        keras.layers.Dense(16, activation=tf.nn.relu),\n",
        "        keras.layers.Dense(num_weights_to_generate, activation=tf.nn.sigmoid),\n",
        "    ]\n",
        ")"
      ],
      "execution_count": 39,
      "outputs": []
    },
    {
      "cell_type": "markdown",
      "metadata": {
        "id": "CmrJXV1POkEr"
      },
      "source": [
        "This is our training loop. For each batch of data:\n",
        "\n",
        "- We use `inner_model` to generate an array of weight coefficients, `weights_pred`\n",
        "- We reshape these coefficients into kernel & bias tensors for the `outer_model`\n",
        "- We run the forward pass of the `outer_model` to compute the actual MNIST predictions\n",
        "- We run backprop through the weights of the `inner_model` to minimize the\n",
        "final classification loss"
      ]
    },
    {
      "cell_type": "code",
      "metadata": {
        "id": "oAnHLUN9OkEr",
        "colab": {
          "base_uri": "https://localhost:8080/"
        },
        "outputId": "17319dbe-cbc7-4fae-ec2e-1a391b294674"
      },
      "source": [
        "# Loss and optimizer.\n",
        "loss_fn = tf.keras.losses.SparseCategoricalCrossentropy(from_logits=True)\n",
        "optimizer = tf.keras.optimizers.Adam(learning_rate=1e-4)\n",
        "\n",
        "# Prepare a dataset.\n",
        "(x_train, y_train), _ = tf.keras.datasets.mnist.load_data()\n",
        "dataset = tf.data.Dataset.from_tensor_slices(\n",
        "    (x_train.reshape(60000, 784).astype(\"float32\") / 255, y_train)\n",
        ")\n",
        "\n",
        "# We'll use a batch size of 1 for this experiment.\n",
        "dataset = dataset.shuffle(buffer_size=1024).batch(1)\n",
        "\n",
        "\n",
        "@tf.function\n",
        "def train_step(x, y):\n",
        "    with tf.GradientTape() as tape:\n",
        "        # Predict weights for the outer model.\n",
        "        weights_pred = inner_model(x)\n",
        "\n",
        "        # Reshape them to the expected shapes for w and b for the outer model.\n",
        "        # Layer 0 kernel.\n",
        "        start_index = 0\n",
        "        w0_shape = (input_dim, 64)\n",
        "        w0_coeffs = weights_pred[:, start_index : start_index + np.prod(w0_shape)]\n",
        "        w0 = tf.reshape(w0_coeffs, w0_shape)\n",
        "        start_index += np.prod(w0_shape)\n",
        "        # Layer 0 bias.\n",
        "        b0_shape = (64,)\n",
        "        b0_coeffs = weights_pred[:, start_index : start_index + np.prod(b0_shape)]\n",
        "        b0 = tf.reshape(b0_coeffs, b0_shape)\n",
        "        start_index += np.prod(b0_shape)\n",
        "        # Layer 1 kernel.\n",
        "        w1_shape = (64, classes)\n",
        "        w1_coeffs = weights_pred[:, start_index : start_index + np.prod(w1_shape)]\n",
        "        w1 = tf.reshape(w1_coeffs, w1_shape)\n",
        "        start_index += np.prod(w1_shape)\n",
        "        # Layer 1 bias.\n",
        "        b1_shape = (classes,)\n",
        "        b1_coeffs = weights_pred[:, start_index : start_index + np.prod(b1_shape)]\n",
        "        b1 = tf.reshape(b1_coeffs, b1_shape)\n",
        "        start_index += np.prod(b1_shape)\n",
        "\n",
        "        # Set the weight predictions as the weight variables on the outer model.\n",
        "        outer_model.layers[0].kernel = w0\n",
        "        outer_model.layers[0].bias = b0\n",
        "        outer_model.layers[1].kernel = w1\n",
        "        outer_model.layers[1].bias = b1\n",
        "\n",
        "        # Inference on the outer model.\n",
        "        preds = outer_model(x)\n",
        "        loss = loss_fn(y, preds)\n",
        "\n",
        "    # Train only inner model.\n",
        "    grads = tape.gradient(loss, inner_model.trainable_weights)\n",
        "    optimizer.apply_gradients(zip(grads, inner_model.trainable_weights))\n",
        "    return loss\n",
        "\n",
        "\n",
        "losses = []  # Keep track of the losses over time.\n",
        "for step, (x, y) in enumerate(dataset):\n",
        "    loss = train_step(x, y)\n",
        "\n",
        "    # Logging.\n",
        "    losses.append(float(loss))\n",
        "    if step % 100 == 0:\n",
        "        print(\"Step:\", step, \"Loss:\", sum(losses) / len(losses))\n",
        "\n",
        "    # Stop after 1000 steps.\n",
        "    # Training the model to convergence is left\n",
        "    # as an exercise to the reader.\n",
        "    if step >= 1000:\n",
        "        break"
      ],
      "execution_count": 40,
      "outputs": [
        {
          "output_type": "stream",
          "text": [
            "Step: 0 Loss: 2.2264089584350586\n",
            "Step: 100 Loss: 2.4501291625570545\n",
            "Step: 200 Loss: 2.1068912371251716\n",
            "Step: 300 Loss: 1.9259894828302817\n",
            "Step: 400 Loss: 1.8654126129914401\n",
            "Step: 500 Loss: 1.7838684529661204\n",
            "Step: 600 Loss: 1.711996021552106\n",
            "Step: 700 Loss: 1.7086137041389569\n",
            "Step: 800 Loss: 1.65681469727556\n",
            "Step: 900 Loss: 1.6279835623489298\n",
            "Step: 1000 Loss: 1.5679092555637104\n"
          ],
          "name": "stdout"
        }
      ]
    },
    {
      "cell_type": "markdown",
      "metadata": {
        "id": "TbDI2QBLOkEr"
      },
      "source": [
        "Implementing arbitrary research ideas with Keras is straightforward and highly\n",
        "productive. Imagine trying out 25 ideas per day (20 minutes per experiment on average)!\n",
        "\n",
        "Keras has been designed to go from idea to results as fast as possible, because we\n",
        "believe this is\n",
        "the key to doing great research."
      ]
    },
    {
      "cell_type": "markdown",
      "metadata": {
        "id": "r5E8Las4OkEr"
      },
      "source": [
        "We hope you enjoyed this quick introduction. Let us know what you build with Keras!"
      ]
    }
  ]
}