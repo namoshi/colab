{
  "nbformat": 4,
  "nbformat_minor": 0,
  "metadata": {
    "colab": {
      "name": "linreg.ipynb",
      "provenance": [],
      "authorship_tag": "ABX9TyPkVsK2yvq7yR9bTdznRu4n",
      "include_colab_link": true
    },
    "kernelspec": {
      "name": "python3",
      "display_name": "Python 3"
    }
  },
  "cells": [
    {
      "cell_type": "markdown",
      "metadata": {
        "id": "view-in-github",
        "colab_type": "text"
      },
      "source": [
        "<a href=\"https://colab.research.google.com/github/namoshi/colab/blob/master/linreg.ipynb\" target=\"_parent\"><img src=\"https://colab.research.google.com/assets/colab-badge.svg\" alt=\"Open In Colab\"/></a>"
      ]
    },
    {
      "cell_type": "code",
      "metadata": {
        "id": "hGfCTwrhsvtn",
        "colab_type": "code",
        "colab": {
          "base_uri": "https://localhost:8080/",
          "height": 269
        },
        "outputId": "b4c967a8-bf4f-4e14-bb57-4e1826cab718"
      },
      "source": [
        "import pandas as pd\n",
        "import numpy as np\n",
        " \n",
        "wine = pd.read_csv(\"https://raw.githubusercontent.com/namoshi/colab/master/winequality-red.csv\", sep=\";\")\n",
        "wine.head"
      ],
      "execution_count": 16,
      "outputs": [
        {
          "output_type": "execute_result",
          "data": {
            "text/plain": [
              "<bound method NDFrame.head of       fixed acidity  volatile acidity  citric acid  ...  sulphates  alcohol  quality\n",
              "0               7.4             0.700         0.00  ...       0.56      9.4        5\n",
              "1               7.8             0.880         0.00  ...       0.68      9.8        5\n",
              "2               7.8             0.760         0.04  ...       0.65      9.8        5\n",
              "3              11.2             0.280         0.56  ...       0.58      9.8        6\n",
              "4               7.4             0.700         0.00  ...       0.56      9.4        5\n",
              "...             ...               ...          ...  ...        ...      ...      ...\n",
              "1594            6.2             0.600         0.08  ...       0.58     10.5        5\n",
              "1595            5.9             0.550         0.10  ...       0.76     11.2        6\n",
              "1596            6.3             0.510         0.13  ...       0.75     11.0        6\n",
              "1597            5.9             0.645         0.12  ...       0.71     10.2        5\n",
              "1598            6.0             0.310         0.47  ...       0.66     11.0        6\n",
              "\n",
              "[1599 rows x 12 columns]>"
            ]
          },
          "metadata": {
            "tags": []
          },
          "execution_count": 16
        }
      ]
    },
    {
      "cell_type": "code",
      "metadata": {
        "id": "qP4CzOpttV4z",
        "colab_type": "code",
        "colab": {
          "base_uri": "https://localhost:8080/",
          "height": 593
        },
        "outputId": "2d5bb772-80e2-4914-a717-0fe422724805"
      },
      "source": [
        "# sklearn.linear_model.LinearRegression クラスを読み込み\n",
        "from sklearn import linear_model\n",
        "clf = linear_model.LinearRegression()\n",
        " \n",
        "# 説明変数に \"density (濃度)\" を利用\n",
        "#X = wine.loc[:, ['density']].as_matrix()\n",
        "X = wine.loc[:, ['density']]\n",
        "\n",
        "# 目的変数に \"alcohol (アルコール度数)\" を利用\n",
        "#Y = wine['alcohol'].as_matrix()\n",
        "Y = wine['alcohol']\n",
        "\n",
        "print('X\\n', X)\n",
        "print('Y\\n', Y)\n",
        " \n",
        "# 予測モデルを作成\n",
        "clf.fit(X, Y)\n",
        " \n",
        "# 回帰係数\n",
        "print('Coef\\n', clf.coef_)\n",
        " \n",
        "# 切片 (誤差)\n",
        "print('intercept=', clf.intercept_)\n",
        " \n",
        "# 決定係数\n",
        "print('R^2=', clf.score(X, Y))"
      ],
      "execution_count": 17,
      "outputs": [
        {
          "output_type": "stream",
          "text": [
            "X\n",
            "       density\n",
            "0     0.99780\n",
            "1     0.99680\n",
            "2     0.99700\n",
            "3     0.99800\n",
            "4     0.99780\n",
            "...       ...\n",
            "1594  0.99490\n",
            "1595  0.99512\n",
            "1596  0.99574\n",
            "1597  0.99547\n",
            "1598  0.99549\n",
            "\n",
            "[1599 rows x 1 columns]\n",
            "Y\n",
            " 0        9.4\n",
            "1        9.8\n",
            "2        9.8\n",
            "3        9.8\n",
            "4        9.4\n",
            "        ... \n",
            "1594    10.5\n",
            "1595    11.2\n",
            "1596    11.0\n",
            "1597    10.2\n",
            "1598    11.0\n",
            "Name: alcohol, Length: 1599, dtype: float64\n",
            "Coef\n",
            " [-280.16382307]\n",
            "intercept= 289.67534338256456\n",
            "R^2= 0.2461943643971065\n"
          ],
          "name": "stdout"
        }
      ]
    },
    {
      "cell_type": "code",
      "metadata": {
        "id": "fJy-_2f7utZE",
        "colab_type": "code",
        "colab": {
          "base_uri": "https://localhost:8080/",
          "height": 283
        },
        "outputId": "5728135b-90c3-47dd-adc7-ea21ecd4811a"
      },
      "source": [
        "# matplotlib パッケージを読み込み\n",
        "import matplotlib.pyplot as plt\n",
        " \n",
        "# 散布図\n",
        "plt.scatter(X, Y)\n",
        " \n",
        "# 回帰直線\n",
        "plt.plot(X, clf.predict(X), color='r')"
      ],
      "execution_count": 9,
      "outputs": [
        {
          "output_type": "execute_result",
          "data": {
            "text/plain": [
              "[<matplotlib.lines.Line2D at 0x7faaa29172e8>]"
            ]
          },
          "metadata": {
            "tags": []
          },
          "execution_count": 9
        },
        {
          "output_type": "display_data",
          "data": {
            "image/png": "[encoded data removed]",
            "text/plain": [
              "<Figure size 432x288 with 1 Axes>"
            ]
          },
          "metadata": {
            "tags": [],
            "needs_background": "light"
          }
        }
      ]
    },
    {
      "cell_type": "code",
      "metadata": {
        "id": "UuIDuG-wvW-9",
        "colab_type": "code",
        "colab": {
          "base_uri": "https://localhost:8080/",
          "height": 251
        },
        "outputId": "958e68ae-50e0-4d1f-8489-513d8c560280"
      },
      "source": [
        "from sklearn import linear_model\n",
        "clf = linear_model.LinearRegression()\n",
        " \n",
        "# 説明変数に \"quality (品質スコア以外すべて)\" を利用\n",
        "wine_except_quality = wine.drop(\"quality\", axis=1)\n",
        "X = wine_except_quality\n",
        " \n",
        "# 目的変数に \"quality (品質スコア)\" を利用\n",
        "Y = wine['quality']\n",
        "\n",
        "# 予測モデルを作成\n",
        "clf.fit(X, Y)\n",
        " \n",
        "# 偏回帰係数\n",
        "print(pd.DataFrame({\"Name\":wine_except_quality.columns,\n",
        "                    \"Coefficients\":clf.coef_}).sort_values(by='Coefficients') )\n",
        " \n",
        "# 切片 (誤差)\n",
        "print(clf.intercept_)"
      ],
      "execution_count": 14,
      "outputs": [
        {
          "output_type": "stream",
          "text": [
            "                    Name  Coefficients\n",
            "7                density    -17.881164\n",
            "4              chlorides     -1.874225\n",
            "1       volatile acidity     -1.083590\n",
            "8                     pH     -0.413653\n",
            "2            citric acid     -0.182564\n",
            "6   total sulfur dioxide     -0.003265\n",
            "5    free sulfur dioxide      0.004361\n",
            "3         residual sugar      0.016331\n",
            "0          fixed acidity      0.024991\n",
            "10               alcohol      0.276198\n",
            "9              sulphates      0.916334\n",
            "21.965208449451815\n"
          ],
          "name": "stdout"
        }
      ]
    }
  ]
}