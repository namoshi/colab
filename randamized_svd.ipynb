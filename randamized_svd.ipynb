{
  "nbformat": 4,
  "nbformat_minor": 0,
  "metadata": {
    "colab": {
      "provenance": [],
      "authorship_tag": "ABX9TyOgiT+1TdWRAhjkT/4OG0Vk",
      "include_colab_link": true
    },
    "kernelspec": {
      "name": "python3",
      "display_name": "Python 3"
    },
    "language_info": {
      "name": "python"
    }
  },
  "cells": [
    {
      "cell_type": "markdown",
      "metadata": {
        "id": "view-in-github",
        "colab_type": "text"
      },
      "source": [
        "<a href=\"https://colab.research.google.com/github/namoshi/colab/blob/master/randamized_svd.ipynb\" target=\"_parent\"><img src=\"https://colab.research.google.com/assets/colab-badge.svg\" alt=\"Open In Colab\"/></a>"
      ]
    },
    {
      "cell_type": "code",
      "execution_count": 1,
      "metadata": {
        "colab": {
          "base_uri": "https://localhost:8080/"
        },
        "id": "EjXgIvQCarYO",
        "outputId": "b7778717-8538-44df-9a48-ec5bb05dce6b"
      },
      "outputs": [
        {
          "output_type": "execute_result",
          "data": {
            "text/plain": [
              "((3, 2), (2,), (2, 4))"
            ]
          },
          "metadata": {},
          "execution_count": 1
        }
      ],
      "source": [
        "import numpy as np\n",
        "from sklearn.utils.extmath import randomized_svd\n",
        "\n",
        "a = np.array([[1, 2, 3, 5],\n",
        "              [3, 4, 5, 6],\n",
        "              [7, 8, 9, 10]])\n",
        "\n",
        "U, s, Vh = randomized_svd(a, n_components=2, random_state=0)\n",
        "\n",
        "U.shape, s.shape, Vh.shape"
      ]
    }
  ]
}