{
  "nbformat": 4,
  "nbformat_minor": 0,
  "metadata": {
    "colab": {
      "provenance": [],
      "authorship_tag": "ABX9TyMejbnw20d4uIgzn+8zGl0D",
      "include_colab_link": true
    },
    "kernelspec": {
      "name": "python3",
      "display_name": "Python 3"
    },
    "language_info": {
      "name": "python"
    }
  },
  "cells": [
    {
      "cell_type": "markdown",
      "metadata": {
        "id": "view-in-github",
        "colab_type": "text"
      },
      "source": [
        "<a href=\"https://colab.research.google.com/github/namoshi/colab/blob/master/randamized_svd.ipynb\" target=\"_parent\"><img src=\"https://colab.research.google.com/assets/colab-badge.svg\" alt=\"Open In Colab\"/></a>"
      ]
    },
    {
      "cell_type": "code",
      "execution_count": 10,
      "metadata": {
        "colab": {
          "base_uri": "https://localhost:8080/"
        },
        "id": "EjXgIvQCarYO",
        "outputId": "6184683c-f45c-44c6-d56f-35cb73702a44"
      },
      "outputs": [
        {
          "output_type": "execute_result",
          "data": {
            "text/plain": [
              "((3, 2), (2,), (2, 4))"
            ]
          },
          "metadata": {},
          "execution_count": 10
        }
      ],
      "source": [
        "import numpy as np\n",
        "from sklearn.utils.extmath import randomized_svd\n",
        "\n",
        "a = np.array([[1, 2, 3, 5],\n",
        "              [3, 4, 5, 6],\n",
        "              [7, 8, 9, 10]])\n",
        "\n",
        "U, s, Vh = randomized_svd(a, n_components=2, random_state=0)\n",
        "\n",
        "U.shape, s.shape, Vh.shape"
      ]
    },
    {
      "cell_type": "code",
      "source": [
        "import time\n",
        "\n",
        "m = 10000\n",
        "n = 5000\n",
        "a = np.random.rand(m, n)\n",
        "\n",
        "#print(a)\n",
        "\n",
        "print('Randomized SVD ...')\n",
        "start_time = time.time()\n",
        "\n",
        "# Randomized SVD\n",
        "U, s, Vh = randomized_svd(a, n_components=10, random_state=0)\n",
        "\n",
        "print(\"--- %s seconds ---\" % (time.time() - start_time))"
      ],
      "metadata": {
        "colab": {
          "base_uri": "https://localhost:8080/"
        },
        "id": "WfXt0x0NcWKZ",
        "outputId": "7a2a9bb2-a8de-4c78-cac2-22d4046a539b"
      },
      "execution_count": 11,
      "outputs": [
        {
          "output_type": "stream",
          "name": "stdout",
          "text": [
            "Randomized SVD ...\n",
            "--- 4.888271808624268 seconds ---\n"
          ]
        }
      ]
    }
  ]
}