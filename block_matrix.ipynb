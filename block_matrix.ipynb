{
  "nbformat": 4,
  "nbformat_minor": 0,
  "metadata": {
    "colab": {
      "provenance": [],
      "authorship_tag": "ABX9TyPkvcq8nxT29BHjcRsJmHLS",
      "include_colab_link": true
    },
    "kernelspec": {
      "name": "python3",
      "display_name": "Python 3"
    },
    "language_info": {
      "name": "python"
    }
  },
  "cells": [
    {
      "cell_type": "markdown",
      "metadata": {
        "id": "view-in-github",
        "colab_type": "text"
      },
      "source": [
        "<a href=\"https://colab.research.google.com/github/namoshi/colab/blob/master/block_matrix.ipynb\" target=\"_parent\"><img src=\"https://colab.research.google.com/assets/colab-badge.svg\" alt=\"Open In Colab\"/></a>"
      ]
    },
    {
      "cell_type": "code",
      "execution_count": 1,
      "metadata": {
        "id": "L07CDUkjN0kJ"
      },
      "outputs": [],
      "source": [
        "import numpy as np\n",
        "\n",
        "from numpy.linalg import inv\n"
      ]
    },
    {
      "cell_type": "code",
      "source": [
        "a = np.array([[1., 2.,3], [0., 1., 0.], [0, 0, 2]])\n",
        "print(a)"
      ],
      "metadata": {
        "colab": {
          "base_uri": "https://localhost:8080/"
        },
        "id": "Vz6ureYEOIte",
        "outputId": "b903c3ca-e8b8-4455-9967-2114ab8686ed"
      },
      "execution_count": 2,
      "outputs": [
        {
          "output_type": "stream",
          "name": "stdout",
          "text": [
            "[[1. 2. 3.]\n",
            " [0. 1. 0.]\n",
            " [0. 0. 2.]]\n"
          ]
        }
      ]
    },
    {
      "cell_type": "code",
      "source": [
        "ainv = inv(a)\n",
        "print(ainv)"
      ],
      "metadata": {
        "colab": {
          "base_uri": "https://localhost:8080/"
        },
        "id": "jNFCxwpiOazO",
        "outputId": "7b134b12-9b17-42b2-8558-61b71a0c1011"
      },
      "execution_count": 3,
      "outputs": [
        {
          "output_type": "stream",
          "name": "stdout",
          "text": [
            "[[ 1.  -2.  -1.5]\n",
            " [ 0.   1.   0. ]\n",
            " [ 0.   0.   0.5]]\n"
          ]
        }
      ]
    }
  ]
}