{
  "cells": [
    {
      "cell_type": "markdown",
      "metadata": {
        "id": "view-in-github",
        "colab_type": "text"
      },
      "source": [
        "<a href=\"https://colab.research.google.com/github/namoshi/colab/blob/master/Basel.ipynb\" target=\"_parent\"><img src=\"https://colab.research.google.com/assets/colab-badge.svg\" alt=\"Open In Colab\"/></a>"
      ]
    },
    {
      "cell_type": "markdown",
      "metadata": {
        "id": "NTCGcF5aDmcI"
      },
      "source": [
        "#  Basel Problem\n",
        "\n",
        "$$\n",
        "\\begin{align*}\n",
        "    1 + \\frac{1}{2^2} + \\frac{1}{3^2} + \\frac{1}{4^2} + \\cdots = \\frac{\\pi^2}{6}\n",
        "\\end{align*}\n",
        "$$"
      ]
    },
    {
      "cell_type": "code",
      "execution_count": 1,
      "metadata": {
        "id": "Uys8XP7qDmcK",
        "outputId": "c37cff5c-c60b-4dfb-a539-5495c44836d5",
        "colab": {
          "base_uri": "https://localhost:8080/"
        }
      },
      "outputs": [
        {
          "output_type": "stream",
          "name": "stdout",
          "text": [
            "b = 1.6449240667982423\n",
            "sqrt(6 b)= 3.141583104230963\n",
            "pi = 3.141592653589793\n"
          ]
        }
      ],
      "source": [
        "import numpy as np\n",
        "\n",
        "b = 0.0\n",
        "for x in range(1, 100000):\n",
        "    b = b + 1.0 / (x*x)\n",
        "\n",
        "print('b =', b)\n",
        "print('sqrt(6 b)=', np.sqrt(6*b))\n",
        "print('pi =', np.pi)\n"
      ]
    },
    {
      "cell_type": "markdown",
      "metadata": {
        "id": "s9YacILvDmcM"
      },
      "source": [
        "以下のようにコードを修正して、きれいにプリントすることができます。\n",
        "\n"
      ]
    },
    {
      "cell_type": "code",
      "execution_count": 2,
      "metadata": {
        "id": "krDfoNmiDmcM",
        "outputId": "c5bff462-a5ec-45ef-849d-721ef2d18df9",
        "colab": {
          "base_uri": "https://localhost:8080/"
        }
      },
      "outputs": [
        {
          "output_type": "stream",
          "name": "stdout",
          "text": [
            "b = 1.6449240667982423\n",
            "sqrt(6 * b) = 3.141583104230963\n",
            "pi = 3.141592653589793\n"
          ]
        }
      ],
      "source": [
        "print(f'b = {b}')\n",
        "print(f'sqrt(6 * b) = {np.sqrt(6 * b)}')\n",
        "print(f'pi = {np.pi}')"
      ]
    },
    {
      "cell_type": "markdown",
      "metadata": {
        "id": "lr0zjA7IDmcN"
      },
      "source": [
        "出力をもう少しきれいにするために、フォーマットを整えてみましょう。例えば、小数点以下の桁数を指定することができます。\n",
        "\n"
      ]
    },
    {
      "cell_type": "code",
      "execution_count": 3,
      "metadata": {
        "id": "XrnjUBfUDmcO",
        "outputId": "c9d6ae93-e3b6-4bd4-d53e-e341f4cf4ddb",
        "colab": {
          "base_uri": "https://localhost:8080/"
        }
      },
      "outputs": [
        {
          "output_type": "stream",
          "name": "stdout",
          "text": [
            "b = 1.64\n",
            "sqrt(6 * b) = 3.14\n",
            "pi = 3.14\n"
          ]
        }
      ],
      "source": [
        "print(f'b = {b:.2f}')\n",
        "print(f'sqrt(6 * b) = {np.sqrt(6 * b):.2f}')\n",
        "print(f'pi = {np.pi:.2f}')"
      ]
    },
    {
      "cell_type": "markdown",
      "metadata": {
        "id": "R1Cosqw5DmcO"
      },
      "source": [
        "\n",
        "\n",
        "このように、`:.2f`を使用することで、小数点以下2桁まで表示することができます。必要に応じて桁数を調整してください。"
      ]
    },
    {
      "cell_type": "markdown",
      "metadata": {
        "id": "vDfKkq4gDmcO"
      },
      "source": [
        "\n",
        "\n",
        "このように、`f`文字列を使用することで、変数の値を簡潔に埋め込むことができます。"
      ]
    }
  ],
  "metadata": {
    "kernelspec": {
      "display_name": "base",
      "language": "python",
      "name": "python3"
    },
    "language_info": {
      "codemirror_mode": {
        "name": "ipython",
        "version": 3
      },
      "file_extension": ".py",
      "mimetype": "text/x-python",
      "name": "python",
      "nbconvert_exporter": "python",
      "pygments_lexer": "ipython3",
      "version": "3.12.2"
    },
    "colab": {
      "provenance": [],
      "include_colab_link": true
    }
  },
  "nbformat": 4,
  "nbformat_minor": 0
}