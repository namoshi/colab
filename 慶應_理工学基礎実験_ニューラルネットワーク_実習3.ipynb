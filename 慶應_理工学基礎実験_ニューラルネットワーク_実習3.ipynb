{
  "cells": [
    {
      "cell_type": "markdown",
      "metadata": {
        "id": "view-in-github",
        "colab_type": "text"
      },
      "source": [
        "<a href=\"https://colab.research.google.com/github/namoshi/colab/blob/master/%E6%85%B6%E6%87%89_%E7%90%86%E5%B7%A5%E5%AD%A6%E5%9F%BA%E7%A4%8E%E5%AE%9F%E9%A8%93_%E3%83%8B%E3%83%A5%E3%83%BC%E3%83%A9%E3%83%AB%E3%83%8D%E3%83%83%E3%83%88%E3%83%AF%E3%83%BC%E3%82%AF_%E5%AE%9F%E7%BF%923.ipynb\" target=\"_parent\"><img src=\"https://colab.research.google.com/assets/colab-badge.svg\" alt=\"Open In Colab\"/></a>"
      ]
    },
    {
      "cell_type": "markdown",
      "metadata": {
        "id": "FvtjGgTRlyHb"
      },
      "source": [
        "慶應義塾大学　理工学部\n",
        "# 理工学基礎実験　ニューラルネットワーク　実習3\n",
        "\n",
        "情報工学科　教授　杉浦孔明"
      ]
    },
    {
      "cell_type": "markdown",
      "metadata": {
        "id": "astFGtiHSGRI"
      },
      "source": [
        "# ライブラリの準備\n",
        "\n",
        "以下では、まず実習に必要なPythonライブラリ（特定の機能を提供するプログラムの集まり）を読み込みます。"
      ]
    },
    {
      "cell_type": "code",
      "execution_count": 1,
      "metadata": {
        "id": "Px5HZTMmZqu4"
      },
      "outputs": [],
      "source": [
        "from base64 import b64decode\n",
        "from io import BytesIO\n",
        "\n",
        "import matplotlib.pyplot as plt\n",
        "import numpy as np\n",
        "import pandas as pd\n",
        "import torch\n",
        "import torch.nn.functional as F\n",
        "from google.colab.output import eval_js\n",
        "from IPython.display import HTML, display\n",
        "from matplotlib import cm\n",
        "from PIL import Image\n",
        "from torch import nn\n",
        "from torchvision import datasets, transforms\n",
        "from tqdm.notebook import tqdm"
      ]
    },
    {
      "cell_type": "markdown",
      "metadata": {
        "id": "g_4AfzIbSORL"
      },
      "source": [
        "# MNISTデータセットのダウンロード\n",
        "MNISTデータセットをダウンロードします。"
      ]
    },
    {
      "cell_type": "code",
      "execution_count": 2,
      "metadata": {
        "colab": {
          "base_uri": "https://localhost:8080/"
        },
        "id": "88BBL70dSVBV",
        "outputId": "656fcb27-7e3a-4032-d7e2-d4d9b45bc7d6"
      },
      "outputs": [
        {
          "output_type": "stream",
          "name": "stdout",
          "text": [
            "Downloading http://yann.lecun.com/exdb/mnist/train-images-idx3-ubyte.gz\n",
            "Failed to download (trying next):\n",
            "HTTP Error 403: Forbidden\n",
            "\n",
            "Downloading https://ossci-datasets.s3.amazonaws.com/mnist/train-images-idx3-ubyte.gz\n",
            "Downloading https://ossci-datasets.s3.amazonaws.com/mnist/train-images-idx3-ubyte.gz to ./data/MNIST/raw/train-images-idx3-ubyte.gz\n"
          ]
        },
        {
          "output_type": "stream",
          "name": "stderr",
          "text": [
            "100%|██████████| 9912422/9912422 [00:00<00:00, 11759356.69it/s]\n"
          ]
        },
        {
          "output_type": "stream",
          "name": "stdout",
          "text": [
            "Extracting ./data/MNIST/raw/train-images-idx3-ubyte.gz to ./data/MNIST/raw\n",
            "\n",
            "Downloading http://yann.lecun.com/exdb/mnist/train-labels-idx1-ubyte.gz\n",
            "Failed to download (trying next):\n",
            "HTTP Error 403: Forbidden\n",
            "\n",
            "Downloading https://ossci-datasets.s3.amazonaws.com/mnist/train-labels-idx1-ubyte.gz\n",
            "Downloading https://ossci-datasets.s3.amazonaws.com/mnist/train-labels-idx1-ubyte.gz to ./data/MNIST/raw/train-labels-idx1-ubyte.gz\n"
          ]
        },
        {
          "output_type": "stream",
          "name": "stderr",
          "text": [
            "100%|██████████| 28881/28881 [00:00<00:00, 350782.42it/s]\n"
          ]
        },
        {
          "output_type": "stream",
          "name": "stdout",
          "text": [
            "Extracting ./data/MNIST/raw/train-labels-idx1-ubyte.gz to ./data/MNIST/raw\n",
            "\n",
            "Downloading http://yann.lecun.com/exdb/mnist/t10k-images-idx3-ubyte.gz\n",
            "Failed to download (trying next):\n",
            "HTTP Error 403: Forbidden\n",
            "\n",
            "Downloading https://ossci-datasets.s3.amazonaws.com/mnist/t10k-images-idx3-ubyte.gz\n",
            "Downloading https://ossci-datasets.s3.amazonaws.com/mnist/t10k-images-idx3-ubyte.gz to ./data/MNIST/raw/t10k-images-idx3-ubyte.gz\n"
          ]
        },
        {
          "output_type": "stream",
          "name": "stderr",
          "text": [
            "100%|██████████| 1648877/1648877 [00:00<00:00, 3230327.16it/s]\n"
          ]
        },
        {
          "output_type": "stream",
          "name": "stdout",
          "text": [
            "Extracting ./data/MNIST/raw/t10k-images-idx3-ubyte.gz to ./data/MNIST/raw\n",
            "\n",
            "Downloading http://yann.lecun.com/exdb/mnist/t10k-labels-idx1-ubyte.gz\n",
            "Failed to download (trying next):\n",
            "HTTP Error 403: Forbidden\n",
            "\n",
            "Downloading https://ossci-datasets.s3.amazonaws.com/mnist/t10k-labels-idx1-ubyte.gz\n",
            "Downloading https://ossci-datasets.s3.amazonaws.com/mnist/t10k-labels-idx1-ubyte.gz to ./data/MNIST/raw/t10k-labels-idx1-ubyte.gz\n"
          ]
        },
        {
          "output_type": "stream",
          "name": "stderr",
          "text": [
            "100%|██████████| 4542/4542 [00:00<00:00, 11658830.34it/s]"
          ]
        },
        {
          "output_type": "stream",
          "name": "stdout",
          "text": [
            "Extracting ./data/MNIST/raw/t10k-labels-idx1-ubyte.gz to ./data/MNIST/raw\n",
            "\n"
          ]
        },
        {
          "output_type": "stream",
          "name": "stderr",
          "text": [
            "\n"
          ]
        }
      ],
      "source": [
        "transform = transforms.Compose(\n",
        "    [transforms.ToTensor(), transforms.Normalize((0.1307,), (0.3081,))]\n",
        ")\n",
        "\n",
        "training_set = datasets.MNIST(\n",
        "    \"./data\", train=True, download=True, transform=transform\n",
        ")\n",
        "test_set = datasets.MNIST(\n",
        "    \"./data\", train=False, transform=transform\n",
        ")\n",
        "train_loader = torch.utils.data.DataLoader(\n",
        "    training_set, batch_size=64, shuffle=True\n",
        ")\n",
        "test_loader = torch.utils.data.DataLoader(\n",
        "    test_set, batch_size=10000\n",
        ")"
      ]
    },
    {
      "cell_type": "markdown",
      "metadata": {
        "id": "qoJ4YWpiSIRN"
      },
      "source": [
        "# ニューラルネットの作成"
      ]
    },
    {
      "cell_type": "code",
      "execution_count": 3,
      "metadata": {
        "colab": {
          "base_uri": "https://localhost:8080/"
        },
        "id": "zscXeunHSkBV",
        "outputId": "199556f2-7e7e-42cf-ab58-b0682a657b41"
      },
      "outputs": [
        {
          "output_type": "stream",
          "name": "stderr",
          "text": [
            "/usr/local/lib/python3.10/dist-packages/torch/nn/modules/lazy.py:181: UserWarning: Lazy modules are a new feature under heavy development so changes to the API or functionality can happen at any moment.\n",
            "  warnings.warn('Lazy modules are a new feature under heavy development '\n"
          ]
        },
        {
          "output_type": "execute_result",
          "data": {
            "text/plain": [
              "Sequential(\n",
              "  (0): Flatten(start_dim=1, end_dim=-1)\n",
              "  (1): LazyLinear(in_features=0, out_features=128, bias=True)\n",
              "  (2): ReLU()\n",
              "  (3): LazyLinear(in_features=0, out_features=10, bias=True)\n",
              ")"
            ]
          },
          "metadata": {},
          "execution_count": 3
        }
      ],
      "source": [
        "# 空のニューラルネットを作成\n",
        "my_model = nn.Sequential()\n",
        "\n",
        "# 入力層を追加。28x28の画像を784次元のベクトルに変換。\n",
        "my_model.append(nn.Flatten(1, -1))\n",
        "\n",
        "# この下から自分でプログラムを書いてみましょう\n",
        "my_model.append(nn.LazyLinear(128))\n",
        "my_model.append(nn.ReLU())\n",
        "my_model.append(nn.LazyLinear(10))\n"
      ]
    },
    {
      "cell_type": "code",
      "execution_count": 4,
      "metadata": {
        "colab": {
          "base_uri": "https://localhost:8080/"
        },
        "id": "moB3YDS8pP0W",
        "outputId": "e0cb20bf-bfed-411a-f0ea-247755a0d043"
      },
      "outputs": [
        {
          "output_type": "execute_result",
          "data": {
            "text/plain": [
              "Sequential(\n",
              "  (0): Flatten(start_dim=1, end_dim=-1)\n",
              "  (1): LazyLinear(in_features=0, out_features=128, bias=True)\n",
              "  (2): ReLU()\n",
              "  (3): LazyLinear(in_features=0, out_features=10, bias=True)\n",
              "  (4): BatchNorm1d(10, eps=1e-05, momentum=0.1, affine=True, track_running_stats=True)\n",
              ")"
            ]
          },
          "metadata": {},
          "execution_count": 4
        }
      ],
      "source": [
        "my_model.append(nn.BatchNorm1d(10))"
      ]
    },
    {
      "cell_type": "markdown",
      "metadata": {
        "id": "yJvvEuapS8Ud"
      },
      "source": [
        "# 学習・テストの処理の詳細"
      ]
    },
    {
      "cell_type": "markdown",
      "metadata": {
        "id": "lw9nQtGQNoRc"
      },
      "source": [
        "モデルの訓練・テスト・描画処理"
      ]
    },
    {
      "cell_type": "code",
      "execution_count": 5,
      "metadata": {
        "id": "PPvjHMIIoPyP"
      },
      "outputs": [],
      "source": [
        "def train(model, device, train_loader, optimizer):\n",
        "    \"\"\"モデルの訓練を行う関数\n",
        "\n",
        "    引数:\n",
        "        model: 訓練するモデル\n",
        "        device: モデルを訓練するデバイス（cpuまたはgpu）\n",
        "        train_loader: 訓練データのDataLoader\n",
        "        optimizer: 最適化アルゴリズム\n",
        "\n",
        "    戻り値:\n",
        "        accuracy (float): エポック後のモデルの精度\n",
        "        total_loss (list): エポック後のモデルの損失\n",
        "    \"\"\"\n",
        "    model.train().to(device)\n",
        "    total_loss = []\n",
        "    correct = 0\n",
        "    total_samples = len(train_loader.dataset)\n",
        "\n",
        "    for x, y in train_loader:\n",
        "        x, y = x.to(device), y.to(device)\n",
        "        optimizer.zero_grad()\n",
        "        # 予測結果を取得する\n",
        "        p_y_hat = model(x)\n",
        "        # 損失を計算する\n",
        "        loss = F.cross_entropy(p_y_hat, y)\n",
        "        # 誤差逆伝播を行い、パラメータを更新する\n",
        "        loss.backward()\n",
        "        optimizer.step()\n",
        "        total_loss.append(loss.item())\n",
        "\n",
        "        y_hat = p_y_hat.argmax(dim=1, keepdim=True)\n",
        "        correct += y_hat.eq(y.view_as(y_hat)).sum().item()\n",
        "\n",
        "    accuracy = correct / total_samples\n",
        "\n",
        "    return accuracy, total_loss\n",
        "\n",
        "\n",
        "def test(model, device, test_loader):\n",
        "    \"\"\"テストのための関数\n",
        "\n",
        "    引数:\n",
        "        model: 訓練するモデル\n",
        "        device: モデルを訓練するデバイス（cpuまたはgpu）\n",
        "        test_loader: テストデータのDataLoader\n",
        "\n",
        "    戻り値:\n",
        "        accuracy (float): エポック後のモデルの精度\n",
        "        total_loss (list): エポック後のモデルの損失\n",
        "        predictions (list): 各サンプルの予測クラスとその予測が正しいかのブール値のペア\n",
        "        predicted_labels (list): 各サンプルの予測クラスのリスト\n",
        "        probabilities (list): 各サンプルのクラス予測確率のリスト\n",
        "    \"\"\"\n",
        "    model.eval().to(device)\n",
        "    total_loss = []\n",
        "    correct = 0\n",
        "    predictions = []\n",
        "    predicted_labels = []\n",
        "    probabilities = []\n",
        "\n",
        "    with torch.no_grad():\n",
        "        for x, y in test_loader:\n",
        "            x, y = x.to(device), y.to(device)\n",
        "            # 予測結果を取得する\n",
        "            p_y_hat = model(x)\n",
        "            # 損失を計算する。テストの際にはパラメータ更新は行わない\n",
        "            loss = F.cross_entropy(p_y_hat, y)\n",
        "            total_loss.append(loss.item())\n",
        "\n",
        "            # 最も高い予測確率を持つクラスを取得する\n",
        "            y_hat = p_y_hat.argmax(dim=1, keepdim=True)\n",
        "            correct += y_hat.eq(y.view_as(y_hat)).sum().item()\n",
        "\n",
        "            predictions.extend(\n",
        "                zip(y_hat.cpu().numpy(), y_hat.eq(y.view_as(y_hat)))\n",
        "            )\n",
        "            predicted_labels.extend(y_hat.cpu().numpy())\n",
        "\n",
        "            softmax_layer = nn.Softmax(dim=0)\n",
        "            probabilities.extend(softmax_layer(p_y_hat).cpu().numpy())\n",
        "\n",
        "        accuracy = correct / len(test_loader.dataset)\n",
        "\n",
        "    return accuracy, total_loss, predictions, predicted_labels, probabilities\n",
        "\n",
        "\n",
        "def plot_data(train_data, test_data, y_label, title):\n",
        "    \"\"\"2つのデータセットを比較するための折れ線グラフを生成。\n",
        "\n",
        "    引数:\n",
        "        train_data (list): 訓練データセットのy軸の値。\n",
        "        test_data (list): テストデータセットのy軸の値。\n",
        "        y_label (str): y軸のラベル。\n",
        "        title (str): グラフのタイトル。\n",
        "    \"\"\"\n",
        "    y1_label = f\"Training {y_label.lower()}\"\n",
        "    y2_label = f\"Test {y_label.lower()}\"\n",
        "    x_values = range(0,len(train_data))\n",
        "    plt.plot(x_values, train_data, label=y1_label)\n",
        "    x_values = range(0,len(test_data))\n",
        "    plt.plot(x_values, test_data, label=y2_label)\n",
        "    plt.figure()\n",
        "    plt.xlabel(\"Epochs\")\n",
        "    plt.ylabel(y_label)\n",
        "    plt.title(title)\n",
        "    plt.xticks(range(1, len(x_values) + 1, 2))\n",
        "    plt.legend()\n",
        "    plt.show()"
      ]
    },
    {
      "cell_type": "markdown",
      "metadata": {
        "id": "zAz3HIWwyTEz"
      },
      "source": [
        "# 学習"
      ]
    },
    {
      "cell_type": "code",
      "execution_count": 6,
      "metadata": {
        "cellView": "form",
        "id": "aaenfF_aoXru"
      },
      "outputs": [],
      "source": [
        "# @title 学習の設定 {run: \"auto\"}\n",
        "# @markdown 学習率\n",
        "LEARNING_RATE = 0.02  # @param {type: \"number\"}"
      ]
    },
    {
      "cell_type": "code",
      "execution_count": 7,
      "metadata": {
        "colab": {
          "base_uri": "https://localhost:8080/",
          "height": 1000,
          "referenced_widgets": [
            "5b6cd51246044bb1b62d16f89c443119",
            "9d3c711a879346bcbb6c0ebd611e4cc6",
            "3c5e7194789e43c1b2ac8794c7613de4",
            "caa2e87efbfc4948826957655af5a099",
            "8c9104db43e34045bfeb8bb56fb94b9c",
            "bb6be7f6a145421082f8303862a8fde8",
            "a766de118dec433f9c8bb0d885b125b3",
            "b89038360483448aad637d573dd2242b",
            "f446cd4568924b30bfe358d131b7539f",
            "6dc0cf2684154b7d859a259873c0642e",
            "cae8fe6238bb44ea98bce0d029b2d491"
          ]
        },
        "id": "90gqFsQgmEig",
        "outputId": "b16b289a-8c90-4b8e-dbc6-f71c33f28f88"
      },
      "outputs": [
        {
          "output_type": "display_data",
          "data": {
            "text/plain": [
              "[Training]:   0%|          | 0/10 [00:00<?, ?it/s]"
            ],
            "application/vnd.jupyter.widget-view+json": {
              "version_major": 2,
              "version_minor": 0,
              "model_id": "5b6cd51246044bb1b62d16f89c443119"
            }
          },
          "metadata": {}
        },
        {
          "output_type": "stream",
          "name": "stdout",
          "text": [
            "Serial id: 1, Label: 2\n"
          ]
        },
        {
          "output_type": "display_data",
          "data": {
            "text/plain": [
              "<Figure size 640x480 with 1 Axes>"
            ],
            "image/png": "[encoded data removed]"
          },
          "metadata": {}
        },
        {
          "output_type": "stream",
          "name": "stdout",
          "text": [
            "エポック 1\n",
            "\n",
            "訓練集合   :  (精度) 0.9231666666666667, (損失) 0.4143556300034401\n",
            "\n",
            "テスト集合 :  (精度) 0.961, (損失) 0.20022396743297577\n",
            "\n"
          ]
        },
        {
          "output_type": "display_data",
          "data": {
            "text/plain": [
              "<Figure size 640x480 with 1 Axes>"
            ],
            "image/png": "[encoded data removed]"
          },
          "metadata": {}
        },
        {
          "output_type": "stream",
          "name": "stdout",
          "text": [
            "エポック 2\n",
            "\n",
            "訓練集合   :  (精度) 0.96145, (損失) 0.1923531241206599\n",
            "\n",
            "テスト集合 :  (精度) 0.97, (損失) 0.1334465593099594\n",
            "\n"
          ]
        },
        {
          "output_type": "display_data",
          "data": {
            "text/plain": [
              "<Figure size 640x480 with 1 Axes>"
            ],
            "image/png": "[encoded data removed]"
          },
          "metadata": {}
        },
        {
          "output_type": "stream",
          "name": "stdout",
          "text": [
            "エポック 3\n",
            "\n",
            "訓練集合   :  (精度) 0.9715333333333334, (損失) 0.13876264152734646\n",
            "\n",
            "テスト集合 :  (精度) 0.9741, (損失) 0.11482686549425125\n",
            "\n"
          ]
        },
        {
          "output_type": "display_data",
          "data": {
            "text/plain": [
              "<Figure size 640x480 with 1 Axes>"
            ],
            "image/png": "[encoded data removed]"
          },
          "metadata": {}
        },
        {
          "output_type": "stream",
          "name": "stdout",
          "text": [
            "エポック 4\n",
            "\n",
            "訓練集合   :  (精度) 0.97595, (損失) 0.11276639979690123\n",
            "\n",
            "テスト集合 :  (精度) 0.9774, (損失) 0.09923940896987915\n",
            "\n"
          ]
        },
        {
          "output_type": "display_data",
          "data": {
            "text/plain": [
              "<Figure size 640x480 with 1 Axes>"
            ],
            "image/png": "[encoded data removed]"
          },
          "metadata": {}
        },
        {
          "output_type": "stream",
          "name": "stdout",
          "text": [
            "エポック 5\n",
            "\n",
            "訓練集合   :  (精度) 0.9795833333333334, (損失) 0.09353884999979852\n",
            "\n",
            "テスト集合 :  (精度) 0.9779, (損失) 0.09323683381080627\n",
            "\n"
          ]
        },
        {
          "output_type": "display_data",
          "data": {
            "text/plain": [
              "<Figure size 640x480 with 1 Axes>"
            ],
            "image/png": "[encoded data removed]"
          },
          "metadata": {}
        },
        {
          "output_type": "stream",
          "name": "stdout",
          "text": [
            "エポック 6\n",
            "\n",
            "訓練集合   :  (精度) 0.9825333333333334, (損失) 0.08141297344634654\n",
            "\n",
            "テスト集合 :  (精度) 0.9776, (損失) 0.0895163044333458\n",
            "\n"
          ]
        },
        {
          "output_type": "display_data",
          "data": {
            "text/plain": [
              "<Figure size 640x480 with 1 Axes>"
            ],
            "image/png": "[encoded data removed]"
          },
          "metadata": {}
        },
        {
          "output_type": "stream",
          "name": "stdout",
          "text": [
            "エポック 7\n",
            "\n",
            "訓練集合   :  (精度) 0.9844666666666667, (損失) 0.07279681583751303\n",
            "\n",
            "テスト集合 :  (精度) 0.979, (損失) 0.07853622734546661\n",
            "\n"
          ]
        },
        {
          "output_type": "display_data",
          "data": {
            "text/plain": [
              "<Figure size 640x480 with 1 Axes>"
            ],
            "image/png": "[encoded data removed]"
          },
          "metadata": {}
        },
        {
          "output_type": "stream",
          "name": "stdout",
          "text": [
            "エポック 8\n",
            "\n",
            "訓練集合   :  (精度) 0.9870333333333333, (損失) 0.06286587084490639\n",
            "\n",
            "テスト集合 :  (精度) 0.9773, (損失) 0.08289603143930435\n",
            "\n"
          ]
        },
        {
          "output_type": "display_data",
          "data": {
            "text/plain": [
              "<Figure size 640x480 with 1 Axes>"
            ],
            "image/png": "[encoded data removed]"
          },
          "metadata": {}
        },
        {
          "output_type": "stream",
          "name": "stdout",
          "text": [
            "エポック 9\n",
            "\n",
            "訓練集合   :  (精度) 0.9883833333333333, (損失) 0.05698251753036719\n",
            "\n",
            "テスト集合 :  (精度) 0.9795, (損失) 0.07391246408224106\n",
            "\n"
          ]
        },
        {
          "output_type": "display_data",
          "data": {
            "text/plain": [
              "<Figure size 640x480 with 1 Axes>"
            ],
            "image/png": "[encoded data removed]"
          },
          "metadata": {}
        },
        {
          "output_type": "stream",
          "name": "stdout",
          "text": [
            "エポック 10\n",
            "\n",
            "訓練集合   :  (精度) 0.9895, (損失) 0.051705891871129846\n",
            "\n",
            "テスト集合 :  (精度) 0.9799, (損失) 0.07361570745706558\n",
            "\n"
          ]
        },
        {
          "output_type": "display_data",
          "data": {
            "text/plain": [
              "<Figure size 640x480 with 1 Axes>"
            ],
            "image/png": "[encoded data removed]"
          },
          "metadata": {}
        },
        {
          "output_type": "stream",
          "name": "stderr",
          "text": [
            "WARNING:matplotlib.legend:No artists with labels found to put in legend.  Note that artists whose label start with an underscore are ignored when legend() is called with no argument.\n"
          ]
        },
        {
          "output_type": "display_data",
          "data": {
            "text/plain": [
              "<Figure size 640x480 with 1 Axes>"
            ],
            "image/png": "[encoded data removed]"
          },
          "metadata": {}
        },
        {
          "output_type": "display_data",
          "data": {
            "text/plain": [
              "<Figure size 640x480 with 1 Axes>"
            ],
            "image/png": "[encoded data removed]"
          },
          "metadata": {}
        },
        {
          "output_type": "stream",
          "name": "stderr",
          "text": [
            "WARNING:matplotlib.legend:No artists with labels found to put in legend.  Note that artists whose label start with an underscore are ignored when legend() is called with no argument.\n"
          ]
        },
        {
          "output_type": "display_data",
          "data": {
            "text/plain": [
              "<Figure size 640x480 with 1 Axes>"
            ],
            "image/png": "[encoded data removed]"
          },
          "metadata": {}
        },
        {
          "output_type": "display_data",
          "data": {
            "text/plain": [
              "<Figure size 640x480 with 1 Axes>"
            ],
            "image/png": "[encoded data removed]"
          },
          "metadata": {}
        }
      ],
      "source": [
        "train_losses, test_losses = [], []\n",
        "train_accuracies, test_accuracies = [], []\n",
        "\n",
        "# GPUで実行\n",
        "device = torch.device(\"cuda\" if torch.cuda.is_available() else \"cpu\")\n",
        "# 最適化関数にはSGDを使用\n",
        "optimizer = torch.optim.SGD(my_model.parameters(), lr=LEARNING_RATE)\n",
        "# エポック数の設定\n",
        "NUM_EPOCHS = 10\n",
        "\n",
        "# 反復処理\n",
        "for epoch in tqdm(range(NUM_EPOCHS), total=NUM_EPOCHS, desc=\"[Training]\"):\n",
        "    # モデルを訓練し、訓練集合に対する精度(train_acc)と損失(train_loss)を取得する\n",
        "    train_acc, train_loss \\\n",
        "        = train(my_model, device, train_loader, optimizer)\n",
        "    # テスト集合に対する精度(test_acc)及び損失(test_loss)を取得する\n",
        "    (test_acc, test_loss, test_predictions,\n",
        "     test_predict_labels, test_probabilities) \\\n",
        "        = test(my_model, device, test_loader)\n",
        "\n",
        "    RANDOM_NUMBER = 1\n",
        "    if epoch == 0:\n",
        "        img, label = test_loader.dataset[RANDOM_NUMBER]\n",
        "        print(f\"Serial id: {RANDOM_NUMBER}, Label: {label}\")\n",
        "        plt.imshow(img.reshape(28, 28), cmap=cm.gray_r)\n",
        "        plt.show()\n",
        "\n",
        "    print(f\"エポック {epoch + 1}\\n\")\n",
        "    print(f\"訓練集合   :  (精度) {train_acc}, (損失) {np.mean(train_loss)}\\n\")\n",
        "    print(f\"テスト集合 :  (精度) {test_acc}, (損失) {np.mean(test_loss)}\\n\")\n",
        "\n",
        "    # 予測確率値の分布を円グラフで表示\n",
        "    plt.pie(\n",
        "        test_probabilities[RANDOM_NUMBER],\n",
        "        labels=[str(i) for i in range(10)],\n",
        "        counterclock=False,\n",
        "        startangle=90,\n",
        "        autopct=\"%1.1f%%\",\n",
        "    )\n",
        "    plt.show()\n",
        "\n",
        "    train_losses.append(np.mean(train_loss))\n",
        "    test_losses.append(np.mean(test_loss))\n",
        "    train_accuracies.append(train_acc)\n",
        "    test_accuracies.append(test_acc)\n",
        "\n",
        "# 訓練集合およびテスト集合に対する損失をプロットする\n",
        "plot_data(train_losses, test_losses, \"Loss\", \"Loss\")\n",
        "\n",
        "# 訓練集合およびテスト集合に対する精度をプロットする\n",
        "plot_data(train_accuracies, test_accuracies, \"Accuracy\", \"Accuracy\")"
      ]
    },
    {
      "cell_type": "markdown",
      "metadata": {
        "id": "Z4p9hA3l4_-H"
      },
      "source": [
        "# 分類に成功した画像と失敗した画像の表示\n",
        "以下のコードセルを順に実行してください"
      ]
    },
    {
      "cell_type": "markdown",
      "metadata": {
        "id": "g6Pz-YXd5JGJ"
      },
      "source": [
        "Ⅰ. テスト集合を学習済みモデルを使って評価します"
      ]
    },
    {
      "cell_type": "code",
      "execution_count": 8,
      "metadata": {
        "colab": {
          "base_uri": "https://localhost:8080/",
          "height": 359
        },
        "id": "JyT6oy7Fb8vp",
        "outputId": "c70b9895-a8bf-42d5-f5cd-c251a22c9444"
      },
      "outputs": [
        {
          "output_type": "execute_result",
          "data": {
            "text/plain": [
              "   分類成功  分類失敗\n",
              "0   971     9\n",
              "1  1124    11\n",
              "2  1012    20\n",
              "3   990    20\n",
              "4   961    21\n",
              "5   872    20\n",
              "6   938    20\n",
              "7   999    29\n",
              "8   959    15\n",
              "9   973    36"
            ],
            "text/html": [
              "\n",
              "  <div id=\"df-46bd7e17-b453-4181-b0b1-6994a024016d\" class=\"colab-df-container\">\n",
              "    <div>\n",
              "<style scoped>\n",
              "    .dataframe tbody tr th:only-of-type {\n",
              "        vertical-align: middle;\n",
              "    }\n",
              "\n",
              "    .dataframe tbody tr th {\n",
              "        vertical-align: top;\n",
              "    }\n",
              "\n",
              "    .dataframe thead th {\n",
              "        text-align: right;\n",
              "    }\n",
              "</style>\n",
              "<table border=\"1\" class=\"dataframe\">\n",
              "  <thead>\n",
              "    <tr style=\"text-align: right;\">\n",
              "      <th></th>\n",
              "      <th>分類成功</th>\n",
              "      <th>分類失敗</th>\n",
              "    </tr>\n",
              "  </thead>\n",
              "  <tbody>\n",
              "    <tr>\n",
              "      <th>0</th>\n",
              "      <td>971</td>\n",
              "      <td>9</td>\n",
              "    </tr>\n",
              "    <tr>\n",
              "      <th>1</th>\n",
              "      <td>1124</td>\n",
              "      <td>11</td>\n",
              "    </tr>\n",
              "    <tr>\n",
              "      <th>2</th>\n",
              "      <td>1012</td>\n",
              "      <td>20</td>\n",
              "    </tr>\n",
              "    <tr>\n",
              "      <th>3</th>\n",
              "      <td>990</td>\n",
              "      <td>20</td>\n",
              "    </tr>\n",
              "    <tr>\n",
              "      <th>4</th>\n",
              "      <td>961</td>\n",
              "      <td>21</td>\n",
              "    </tr>\n",
              "    <tr>\n",
              "      <th>5</th>\n",
              "      <td>872</td>\n",
              "      <td>20</td>\n",
              "    </tr>\n",
              "    <tr>\n",
              "      <th>6</th>\n",
              "      <td>938</td>\n",
              "      <td>20</td>\n",
              "    </tr>\n",
              "    <tr>\n",
              "      <th>7</th>\n",
              "      <td>999</td>\n",
              "      <td>29</td>\n",
              "    </tr>\n",
              "    <tr>\n",
              "      <th>8</th>\n",
              "      <td>959</td>\n",
              "      <td>15</td>\n",
              "    </tr>\n",
              "    <tr>\n",
              "      <th>9</th>\n",
              "      <td>973</td>\n",
              "      <td>36</td>\n",
              "    </tr>\n",
              "  </tbody>\n",
              "</table>\n",
              "</div>\n",
              "    <div class=\"colab-df-buttons\">\n",
              "\n",
              "  <div class=\"colab-df-container\">\n",
              "    <button class=\"colab-df-convert\" onclick=\"convertToInteractive('df-46bd7e17-b453-4181-b0b1-6994a024016d')\"\n",
              "            title=\"Convert this dataframe to an interactive table.\"\n",
              "            style=\"display:none;\">\n",
              "\n",
              "  <svg xmlns=\"http://www.w3.org/2000/svg\" height=\"24px\" viewBox=\"0 -960 960 960\">\n",
              "    <path d=\"M120-120v-720h720v720H120Zm60-500h600v-160H180v160Zm220 220h160v-160H400v160Zm0 220h160v-160H400v160ZM180-400h160v-160H180v160Zm440 0h160v-160H620v160ZM180-180h160v-160H180v160Zm440 0h160v-160H620v160Z\"/>\n",
              "  </svg>\n",
              "    </button>\n",
              "\n",
              "  <style>\n",
              "    .colab-df-container {\n",
              "      display:flex;\n",
              "      gap: 12px;\n",
              "    }\n",
              "\n",
              "    .colab-df-convert {\n",
              "      background-color: #E8F0FE;\n",
              "      border: none;\n",
              "      border-radius: 50%;\n",
              "      cursor: pointer;\n",
              "      display: none;\n",
              "      fill: #1967D2;\n",
              "      height: 32px;\n",
              "      padding: 0 0 0 0;\n",
              "      width: 32px;\n",
              "    }\n",
              "\n",
              "    .colab-df-convert:hover {\n",
              "      background-color: #E2EBFA;\n",
              "      box-shadow: 0px 1px 2px rgba(60, 64, 67, 0.3), 0px 1px 3px 1px rgba(60, 64, 67, 0.15);\n",
              "      fill: #174EA6;\n",
              "    }\n",
              "\n",
              "    .colab-df-buttons div {\n",
              "      margin-bottom: 4px;\n",
              "    }\n",
              "\n",
              "    [theme=dark] .colab-df-convert {\n",
              "      background-color: #3B4455;\n",
              "      fill: #D2E3FC;\n",
              "    }\n",
              "\n",
              "    [theme=dark] .colab-df-convert:hover {\n",
              "      background-color: #434B5C;\n",
              "      box-shadow: 0px 1px 3px 1px rgba(0, 0, 0, 0.15);\n",
              "      filter: drop-shadow(0px 1px 2px rgba(0, 0, 0, 0.3));\n",
              "      fill: #FFFFFF;\n",
              "    }\n",
              "  </style>\n",
              "\n",
              "    <script>\n",
              "      const buttonEl =\n",
              "        document.querySelector('#df-46bd7e17-b453-4181-b0b1-6994a024016d button.colab-df-convert');\n",
              "      buttonEl.style.display =\n",
              "        google.colab.kernel.accessAllowed ? 'block' : 'none';\n",
              "\n",
              "      async function convertToInteractive(key) {\n",
              "        const element = document.querySelector('#df-46bd7e17-b453-4181-b0b1-6994a024016d');\n",
              "        const dataTable =\n",
              "          await google.colab.kernel.invokeFunction('convertToInteractive',\n",
              "                                                    [key], {});\n",
              "        if (!dataTable) return;\n",
              "\n",
              "        const docLinkHtml = 'Like what you see? Visit the ' +\n",
              "          '<a target=\"_blank\" href=https://colab.research.google.com/notebooks/data_table.ipynb>data table notebook</a>'\n",
              "          + ' to learn more about interactive tables.';\n",
              "        element.innerHTML = '';\n",
              "        dataTable['output_type'] = 'display_data';\n",
              "        await google.colab.output.renderOutput(dataTable, element);\n",
              "        const docLink = document.createElement('div');\n",
              "        docLink.innerHTML = docLinkHtml;\n",
              "        element.appendChild(docLink);\n",
              "      }\n",
              "    </script>\n",
              "  </div>\n",
              "\n",
              "\n",
              "<div id=\"df-14683841-a2d4-4707-92b5-477153dbb820\">\n",
              "  <button class=\"colab-df-quickchart\" onclick=\"quickchart('df-14683841-a2d4-4707-92b5-477153dbb820')\"\n",
              "            title=\"Suggest charts\"\n",
              "            style=\"display:none;\">\n",
              "\n",
              "<svg xmlns=\"http://www.w3.org/2000/svg\" height=\"24px\"viewBox=\"0 0 24 24\"\n",
              "     width=\"24px\">\n",
              "    <g>\n",
              "        <path d=\"M19 3H5c-1.1 0-2 .9-2 2v14c0 1.1.9 2 2 2h14c1.1 0 2-.9 2-2V5c0-1.1-.9-2-2-2zM9 17H7v-7h2v7zm4 0h-2V7h2v10zm4 0h-2v-4h2v4z\"/>\n",
              "    </g>\n",
              "</svg>\n",
              "  </button>\n",
              "\n",
              "<style>\n",
              "  .colab-df-quickchart {\n",
              "      --bg-color: #E8F0FE;\n",
              "      --fill-color: #1967D2;\n",
              "      --hover-bg-color: #E2EBFA;\n",
              "      --hover-fill-color: #174EA6;\n",
              "      --disabled-fill-color: #AAA;\n",
              "      --disabled-bg-color: #DDD;\n",
              "  }\n",
              "\n",
              "  [theme=dark] .colab-df-quickchart {\n",
              "      --bg-color: #3B4455;\n",
              "      --fill-color: #D2E3FC;\n",
              "      --hover-bg-color: #434B5C;\n",
              "      --hover-fill-color: #FFFFFF;\n",
              "      --disabled-bg-color: #3B4455;\n",
              "      --disabled-fill-color: #666;\n",
              "  }\n",
              "\n",
              "  .colab-df-quickchart {\n",
              "    background-color: var(--bg-color);\n",
              "    border: none;\n",
              "    border-radius: 50%;\n",
              "    cursor: pointer;\n",
              "    display: none;\n",
              "    fill: var(--fill-color);\n",
              "    height: 32px;\n",
              "    padding: 0;\n",
              "    width: 32px;\n",
              "  }\n",
              "\n",
              "  .colab-df-quickchart:hover {\n",
              "    background-color: var(--hover-bg-color);\n",
              "    box-shadow: 0 1px 2px rgba(60, 64, 67, 0.3), 0 1px 3px 1px rgba(60, 64, 67, 0.15);\n",
              "    fill: var(--button-hover-fill-color);\n",
              "  }\n",
              "\n",
              "  .colab-df-quickchart-complete:disabled,\n",
              "  .colab-df-quickchart-complete:disabled:hover {\n",
              "    background-color: var(--disabled-bg-color);\n",
              "    fill: var(--disabled-fill-color);\n",
              "    box-shadow: none;\n",
              "  }\n",
              "\n",
              "  .colab-df-spinner {\n",
              "    border: 2px solid var(--fill-color);\n",
              "    border-color: transparent;\n",
              "    border-bottom-color: var(--fill-color);\n",
              "    animation:\n",
              "      spin 1s steps(1) infinite;\n",
              "  }\n",
              "\n",
              "  @keyframes spin {\n",
              "    0% {\n",
              "      border-color: transparent;\n",
              "      border-bottom-color: var(--fill-color);\n",
              "      border-left-color: var(--fill-color);\n",
              "    }\n",
              "    20% {\n",
              "      border-color: transparent;\n",
              "      border-left-color: var(--fill-color);\n",
              "      border-top-color: var(--fill-color);\n",
              "    }\n",
              "    30% {\n",
              "      border-color: transparent;\n",
              "      border-left-color: var(--fill-color);\n",
              "      border-top-color: var(--fill-color);\n",
              "      border-right-color: var(--fill-color);\n",
              "    }\n",
              "    40% {\n",
              "      border-color: transparent;\n",
              "      border-right-color: var(--fill-color);\n",
              "      border-top-color: var(--fill-color);\n",
              "    }\n",
              "    60% {\n",
              "      border-color: transparent;\n",
              "      border-right-color: var(--fill-color);\n",
              "    }\n",
              "    80% {\n",
              "      border-color: transparent;\n",
              "      border-right-color: var(--fill-color);\n",
              "      border-bottom-color: var(--fill-color);\n",
              "    }\n",
              "    90% {\n",
              "      border-color: transparent;\n",
              "      border-bottom-color: var(--fill-color);\n",
              "    }\n",
              "  }\n",
              "</style>\n",
              "\n",
              "  <script>\n",
              "    async function quickchart(key) {\n",
              "      const quickchartButtonEl =\n",
              "        document.querySelector('#' + key + ' button');\n",
              "      quickchartButtonEl.disabled = true;  // To prevent multiple clicks.\n",
              "      quickchartButtonEl.classList.add('colab-df-spinner');\n",
              "      try {\n",
              "        const charts = await google.colab.kernel.invokeFunction(\n",
              "            'suggestCharts', [key], {});\n",
              "      } catch (error) {\n",
              "        console.error('Error during call to suggestCharts:', error);\n",
              "      }\n",
              "      quickchartButtonEl.classList.remove('colab-df-spinner');\n",
              "      quickchartButtonEl.classList.add('colab-df-quickchart-complete');\n",
              "    }\n",
              "    (() => {\n",
              "      let quickchartButtonEl =\n",
              "        document.querySelector('#df-14683841-a2d4-4707-92b5-477153dbb820 button');\n",
              "      quickchartButtonEl.style.display =\n",
              "        google.colab.kernel.accessAllowed ? 'block' : 'none';\n",
              "    })();\n",
              "  </script>\n",
              "</div>\n",
              "\n",
              "    </div>\n",
              "  </div>\n"
            ],
            "application/vnd.google.colaboratory.intrinsic+json": {
              "type": "dataframe",
              "summary": "{\n  \"name\": \"pd\",\n  \"rows\": 10,\n  \"fields\": [\n    {\n      \"column\": \"\\u5206\\u985e\\u6210\\u529f\",\n      \"properties\": {\n        \"dtype\": \"number\",\n        \"std\": 63,\n        \"min\": 872,\n        \"max\": 1124,\n        \"num_unique_values\": 10,\n        \"samples\": [\n          959,\n          1124,\n          872\n        ],\n        \"semantic_type\": \"\",\n        \"description\": \"\"\n      }\n    },\n    {\n      \"column\": \"\\u5206\\u985e\\u5931\\u6557\",\n      \"properties\": {\n        \"dtype\": \"number\",\n        \"std\": 7,\n        \"min\": 9,\n        \"max\": 36,\n        \"num_unique_values\": 7,\n        \"samples\": [\n          9,\n          11,\n          15\n        ],\n        \"semantic_type\": \"\",\n        \"description\": \"\"\n      }\n    }\n  ]\n}"
            }
          },
          "metadata": {},
          "execution_count": 8
        }
      ],
      "source": [
        "# 0から9までのキーと、SuccessとFailureの空の配列を値として持つ辞書(results_index)を初期化する\n",
        "results_index = {\n",
        "    number: {\n",
        "        \"Success\": np.array([]), \"Failure\": np.array([])\n",
        "    } for number in range(10)\n",
        "}\n",
        "\n",
        "# 各サンプルの正解ラベルと予測結果(True/False)をペアとしたリスト(ground_truth_and_prediction)を作成する\n",
        "ground_truth = [y.numpy() for (x, y) in test_loader]\n",
        "ground_truth_and_prediction = []\n",
        "for index, prediction in enumerate(test_predictions):\n",
        "    ground_truth_and_prediction.append(\n",
        "        [ground_truth[0][index], prediction[1][0].cpu().numpy()]\n",
        "    )\n",
        "ground_truth_and_prediction = np.array(ground_truth_and_prediction)\n",
        "\n",
        "# 0から9までの各数字を反復処理する\n",
        "for number in range(10):\n",
        "    # 現在の数字の成功条件と失敗条件を定義する\n",
        "    success_condition = (ground_truth_and_prediction[:, 0] == number) & (\n",
        "        ground_truth_and_prediction[:, 1] == 1\n",
        "    )\n",
        "    failure_condition = (ground_truth_and_prediction[:, 0] == number) & (\n",
        "        ground_truth_and_prediction[:, 1] == 0\n",
        "    )\n",
        "\n",
        "    # 辞書(results_index)に、成功条件と失敗条件のインデックスの情報を追加\n",
        "    results_index[number][\"Success\"] = np.where(success_condition)[0]\n",
        "    results_index[number][\"Failure\"] = np.where(failure_condition)[0]\n",
        "\n",
        "# 各数字の成功した予測と失敗した予測の数をカウントして、配列(results_count)を作成する\n",
        "results_count = np.array(\n",
        "    [\n",
        "        [\n",
        "            len(results_index[number][\"Success\"]),\n",
        "            len(results_index[number][\"Failure\"])\n",
        "        ]\n",
        "        for number in range(10)\n",
        "    ],\n",
        "    dtype=np.int64,\n",
        ")\n",
        "\n",
        "# 表を作成して表示する\n",
        "pd.DataFrame(results_count, dtype=\"int64\", columns=[\"分類成功\", \"分類失敗\"])"
      ]
    },
    {
      "cell_type": "markdown",
      "metadata": {
        "id": "qjOB-Oy55OJl"
      },
      "source": [
        "Ⅱ. 画像データを選んで表示します   \n",
        "  1. まず、表示したいラベルを選びます。例えば「２」を選ぶとデータの中から正解が「２」のデータを選びます。\n",
        "  2. 次に、分類に成功したデータを見るか失敗したデータを見るかを決めます。例えばチェックをつけると、「２」のデータの中から分類に成功したデータを選びます。\n",
        "  3. 最後に、選んだデータ群の中から表示する１枚を、データ番号を指定して選びます。データ番号はⅠで表示したデータ数を基に決められます。 例えば正解が「２」のデータの内、分類に成功したデータが１００枚、失敗したデータが２０枚であったとき、正解「２」で分類に成功したデータはデータ番号：０〜９９の範囲で指定でき、失敗したデータはデータ番号：0~19の範囲で指定できます。"
      ]
    },
    {
      "cell_type": "code",
      "execution_count": 9,
      "metadata": {
        "colab": {
          "base_uri": "https://localhost:8080/",
          "height": 448
        },
        "id": "DaJMT_JC5u9t",
        "outputId": "387728a0-3a97-4495-b4fb-40b80bbe786b"
      },
      "outputs": [
        {
          "output_type": "stream",
          "name": "stdout",
          "text": [
            "Label: 7, Predicted: 9\n"
          ]
        },
        {
          "output_type": "display_data",
          "data": {
            "text/plain": [
              "<Figure size 640x480 with 1 Axes>"
            ],
            "image/png": "[encoded data removed]"
          },
          "metadata": {}
        }
      ],
      "source": [
        "# @title 画像の表示\n",
        "# @markdown 表示したいラベル（数字）\n",
        "TARGET_LABEL = 7  # @param {type: \"integer\"}\n",
        "\n",
        "# @markdown 分類に成功したか失敗したか （チェックで成功したデータを選ぶ）\n",
        "PREDICT = False  # @param {type:\"boolean\"}\n",
        "\n",
        "# @markdown 表示したいデータ番号　（番号は0から始まります)\n",
        "DATA_NUM = 8  # @param {type: \"integer\"}\n",
        "\n",
        "try:\n",
        "    if PREDICT:\n",
        "        idx = results_index[TARGET_LABEL][\"Success\"][DATA_NUM]\n",
        "    else:\n",
        "        idx = results_index[TARGET_LABEL][\"Failure\"][DATA_NUM]\n",
        "\n",
        "    serial_number = int(idx)\n",
        "    img, label = test_loader.dataset[serial_number]\n",
        "    print(\n",
        "        f\"Label: {label}, Predicted: {test_predictions[serial_number][0][0]}\"\n",
        "    )\n",
        "    plt.imshow(img.reshape(28, 28), cmap=cm.gray_r)\n",
        "except IndexError:\n",
        "    print(\"対応するデータがありません\")"
      ]
    },
    {
      "cell_type": "markdown",
      "metadata": {
        "id": "QRGLzaWDoVfU"
      },
      "source": [
        "## 自身の手書き数字で試す\n"
      ]
    },
    {
      "cell_type": "markdown",
      "metadata": {
        "id": "A6NaC15Qd5X3"
      },
      "source": [
        "### I. キャンバスを用意\n",
        "\n",
        "実行ボタンを押してください。"
      ]
    },
    {
      "cell_type": "code",
      "execution_count": 10,
      "metadata": {
        "id": "8BFY-AjfdjIM"
      },
      "outputs": [],
      "source": [
        "CANVAS_HTML = \"\"\"\n",
        "<div style=\"display: flex; flex-direction: column; align-items: flex-start;\">\n",
        "<canvas width=%d height=%d style=\"border:1px solid red;\"></canvas>\n",
        "<div style=\"margin-top: 10px;\">\n",
        "<button id=\"done\">Done</button>\n",
        "</div>\n",
        "</div>\n",
        "<script>\n",
        "var canvas = document.querySelector('canvas')\n",
        "var ctx = canvas.getContext('2d')\n",
        "ctx.lineWidth = 20;\n",
        "var doneButton = document.querySelector('#done')\n",
        "var mouse = {x: 0, y: 0}\n",
        "\n",
        "ctx.fillStyle = \"white\";\n",
        "ctx.fillRect(0, 0, canvas.width, canvas.height);\n",
        "\n",
        "canvas.addEventListener('mousemove', function(e) {\n",
        "  mouse.x = e.pageX - this.offsetLeft\n",
        "  mouse.y = e.pageY - this.offsetTop\n",
        "})\n",
        "\n",
        "canvas.onmousedown = ()=>{\n",
        "  ctx.beginPath()\n",
        "  ctx.moveTo(mouse.x, mouse.y)\n",
        "  canvas.addEventListener('mousemove', onPaint)\n",
        "}\n",
        "\n",
        "canvas.onmouseup = ()=>{\n",
        "  canvas.removeEventListener('mousemove', onPaint)\n",
        "}\n",
        "\n",
        "var onPaint = ()=>{\n",
        "  ctx.lineTo(mouse.x, mouse.y)\n",
        "  ctx.stroke()\n",
        "}\n",
        "\n",
        "var data = new Promise(resolve=>{\n",
        "  doneButton.onclick = ()=>{\n",
        "    resolve(canvas.toDataURL('image/png'))\n",
        "  }\n",
        "})\n",
        "</script>\n",
        "\"\"\""
      ]
    },
    {
      "cell_type": "code",
      "execution_count": 11,
      "metadata": {
        "id": "QimnbdgYby-8"
      },
      "outputs": [],
      "source": [
        "def draw_image(width, height):\n",
        "    \"\"\"\n",
        "    指定された幅と高さで画像を描画し、その画像を前処理してテンソルとして返す関数。\n",
        "\n",
        "    引数:\n",
        "        width (int): 描画する画像の幅。\n",
        "        height (int): 描画する画像の高さ。\n",
        "\n",
        "    戻り値:\n",
        "        torch.Tensor: 前処理された画像のテンソル。\n",
        "    \"\"\"\n",
        "    display(HTML(CANVAS_HTML % (width, height)))\n",
        "    data_url = eval_js(\"data\")\n",
        "\n",
        "    binary_data = b64decode(data_url.split(\",\")[1])\n",
        "\n",
        "    image = Image.open(BytesIO(binary_data)).convert(\"L\")  # グレースケールで読み込み\n",
        "\n",
        "    transform = transforms.Compose(\n",
        "        [\n",
        "            transforms.Resize((28, 28)),  # リサイズ\n",
        "            transforms.ToTensor(),  # テンソルに変換\n",
        "            transforms.Lambda(lambda x: 1 - x),  # ピクセル値の反転\n",
        "            transforms.Normalize((0.1307,), (0.3081,)),  # 正規化\n",
        "        ]\n",
        "    )\n",
        "    image_tensor = transform(image).to(device)\n",
        "\n",
        "    return image_tensor"
      ]
    },
    {
      "cell_type": "markdown",
      "metadata": {
        "id": "RywYDutMcAuD"
      },
      "source": [
        "### Ⅱ. 自身で書いた数字を認識させる\n",
        "\n",
        "書き直す場合は、もう一度再生ボタンを押してください。"
      ]
    },
    {
      "cell_type": "code",
      "execution_count": 12,
      "metadata": {
        "colab": {
          "base_uri": "https://localhost:8080/",
          "height": 721
        },
        "id": "B-V_14r8q6a-",
        "outputId": "edba5182-ded5-4ff4-928e-292d84f151f6"
      },
      "outputs": [
        {
          "output_type": "display_data",
          "data": {
            "text/plain": [
              "<IPython.core.display.HTML object>"
            ],
            "text/html": [
              "\n",
              "<div style=\"display: flex; flex-direction: column; align-items: flex-start;\">\n",
              "<canvas width=300 height=300 style=\"border:1px solid red;\"></canvas>\n",
              "<div style=\"margin-top: 10px;\">\n",
              "<button id=\"done\">Done</button>\n",
              "</div>\n",
              "</div>\n",
              "<script>\n",
              "var canvas = document.querySelector('canvas')\n",
              "var ctx = canvas.getContext('2d')\n",
              "ctx.lineWidth = 20;\n",
              "var doneButton = document.querySelector('#done')\n",
              "var mouse = {x: 0, y: 0}\n",
              "\n",
              "ctx.fillStyle = \"white\";\n",
              "ctx.fillRect(0, 0, canvas.width, canvas.height);\n",
              "\n",
              "canvas.addEventListener('mousemove', function(e) {\n",
              "  mouse.x = e.pageX - this.offsetLeft\n",
              "  mouse.y = e.pageY - this.offsetTop\n",
              "})\n",
              "\n",
              "canvas.onmousedown = ()=>{\n",
              "  ctx.beginPath()\n",
              "  ctx.moveTo(mouse.x, mouse.y)\n",
              "  canvas.addEventListener('mousemove', onPaint)\n",
              "}\n",
              "\n",
              "canvas.onmouseup = ()=>{\n",
              "  canvas.removeEventListener('mousemove', onPaint)\n",
              "}\n",
              "\n",
              "var onPaint = ()=>{\n",
              "  ctx.lineTo(mouse.x, mouse.y)\n",
              "  ctx.stroke()\n",
              "}\n",
              "\n",
              "var data = new Promise(resolve=>{\n",
              "  doneButton.onclick = ()=>{\n",
              "    resolve(canvas.toDataURL('image/png'))\n",
              "  }\n",
              "})\n",
              "</script>\n"
            ]
          },
          "metadata": {}
        },
        {
          "output_type": "error",
          "ename": "KeyboardInterrupt",
          "evalue": "",
          "traceback": [
            "\u001b[0;31m---------------------------------------------------------------------------\u001b[0m",
            "\u001b[0;31mKeyboardInterrupt\u001b[0m                         Traceback (most recent call last)",
            "\u001b[0;32m<ipython-input-12-7a26d0083667>\u001b[0m in \u001b[0;36m<cell line: 1>\u001b[0;34m()\u001b[0m\n\u001b[0;32m----> 1\u001b[0;31m \u001b[0mimage_tensor\u001b[0m \u001b[0;34m=\u001b[0m \u001b[0mdraw_image\u001b[0m\u001b[0;34m(\u001b[0m\u001b[0mwidth\u001b[0m\u001b[0;34m=\u001b[0m\u001b[0;36m300\u001b[0m\u001b[0;34m,\u001b[0m \u001b[0mheight\u001b[0m\u001b[0;34m=\u001b[0m\u001b[0;36m300\u001b[0m\u001b[0;34m)\u001b[0m\u001b[0;34m\u001b[0m\u001b[0;34m\u001b[0m\u001b[0m\n\u001b[0m\u001b[1;32m      2\u001b[0m \u001b[0;34m\u001b[0m\u001b[0m\n\u001b[1;32m      3\u001b[0m \u001b[0;31m# 推論\u001b[0m\u001b[0;34m\u001b[0m\u001b[0;34m\u001b[0m\u001b[0m\n\u001b[1;32m      4\u001b[0m \u001b[0mmy_model\u001b[0m\u001b[0;34m.\u001b[0m\u001b[0meval\u001b[0m\u001b[0;34m(\u001b[0m\u001b[0;34m)\u001b[0m\u001b[0;34m\u001b[0m\u001b[0;34m\u001b[0m\u001b[0m\n\u001b[1;32m      5\u001b[0m \u001b[0;32mwith\u001b[0m \u001b[0mtorch\u001b[0m\u001b[0;34m.\u001b[0m\u001b[0mno_grad\u001b[0m\u001b[0;34m(\u001b[0m\u001b[0;34m)\u001b[0m\u001b[0;34m:\u001b[0m\u001b[0;34m\u001b[0m\u001b[0;34m\u001b[0m\u001b[0m\n",
            "\u001b[0;32m<ipython-input-11-a00225ac79b4>\u001b[0m in \u001b[0;36mdraw_image\u001b[0;34m(width, height)\u001b[0m\n\u001b[1;32m     11\u001b[0m     \"\"\"\n\u001b[1;32m     12\u001b[0m     \u001b[0mdisplay\u001b[0m\u001b[0;34m(\u001b[0m\u001b[0mHTML\u001b[0m\u001b[0;34m(\u001b[0m\u001b[0mCANVAS_HTML\u001b[0m \u001b[0;34m%\u001b[0m \u001b[0;34m(\u001b[0m\u001b[0mwidth\u001b[0m\u001b[0;34m,\u001b[0m \u001b[0mheight\u001b[0m\u001b[0;34m)\u001b[0m\u001b[0;34m)\u001b[0m\u001b[0;34m)\u001b[0m\u001b[0;34m\u001b[0m\u001b[0;34m\u001b[0m\u001b[0m\n\u001b[0;32m---> 13\u001b[0;31m     \u001b[0mdata_url\u001b[0m \u001b[0;34m=\u001b[0m \u001b[0meval_js\u001b[0m\u001b[0;34m(\u001b[0m\u001b[0;34m\"data\"\u001b[0m\u001b[0;34m)\u001b[0m\u001b[0;34m\u001b[0m\u001b[0;34m\u001b[0m\u001b[0m\n\u001b[0m\u001b[1;32m     14\u001b[0m \u001b[0;34m\u001b[0m\u001b[0m\n\u001b[1;32m     15\u001b[0m     \u001b[0mbinary_data\u001b[0m \u001b[0;34m=\u001b[0m \u001b[0mb64decode\u001b[0m\u001b[0;34m(\u001b[0m\u001b[0mdata_url\u001b[0m\u001b[0;34m.\u001b[0m\u001b[0msplit\u001b[0m\u001b[0;34m(\u001b[0m\u001b[0;34m\",\"\u001b[0m\u001b[0;34m)\u001b[0m\u001b[0;34m[\u001b[0m\u001b[0;36m1\u001b[0m\u001b[0;34m]\u001b[0m\u001b[0;34m)\u001b[0m\u001b[0;34m\u001b[0m\u001b[0;34m\u001b[0m\u001b[0m\n",
            "\u001b[0;32m/usr/local/lib/python3.10/dist-packages/google/colab/output/_js.py\u001b[0m in \u001b[0;36meval_js\u001b[0;34m(script, ignore_result, timeout_sec)\u001b[0m\n\u001b[1;32m     38\u001b[0m   \u001b[0;32mif\u001b[0m \u001b[0mignore_result\u001b[0m\u001b[0;34m:\u001b[0m\u001b[0;34m\u001b[0m\u001b[0;34m\u001b[0m\u001b[0m\n\u001b[1;32m     39\u001b[0m     \u001b[0;32mreturn\u001b[0m\u001b[0;34m\u001b[0m\u001b[0;34m\u001b[0m\u001b[0m\n\u001b[0;32m---> 40\u001b[0;31m   \u001b[0;32mreturn\u001b[0m \u001b[0m_message\u001b[0m\u001b[0;34m.\u001b[0m\u001b[0mread_reply_from_input\u001b[0m\u001b[0;34m(\u001b[0m\u001b[0mrequest_id\u001b[0m\u001b[0;34m,\u001b[0m \u001b[0mtimeout_sec\u001b[0m\u001b[0;34m)\u001b[0m\u001b[0;34m\u001b[0m\u001b[0;34m\u001b[0m\u001b[0m\n\u001b[0m\u001b[1;32m     41\u001b[0m \u001b[0;34m\u001b[0m\u001b[0m\n\u001b[1;32m     42\u001b[0m \u001b[0;34m\u001b[0m\u001b[0m\n",
            "\u001b[0;32m/usr/local/lib/python3.10/dist-packages/google/colab/_message.py\u001b[0m in \u001b[0;36mread_reply_from_input\u001b[0;34m(message_id, timeout_sec)\u001b[0m\n\u001b[1;32m     94\u001b[0m     \u001b[0mreply\u001b[0m \u001b[0;34m=\u001b[0m \u001b[0m_read_next_input_message\u001b[0m\u001b[0;34m(\u001b[0m\u001b[0;34m)\u001b[0m\u001b[0;34m\u001b[0m\u001b[0;34m\u001b[0m\u001b[0m\n\u001b[1;32m     95\u001b[0m     \u001b[0;32mif\u001b[0m \u001b[0mreply\u001b[0m \u001b[0;34m==\u001b[0m \u001b[0m_NOT_READY\u001b[0m \u001b[0;32mor\u001b[0m \u001b[0;32mnot\u001b[0m \u001b[0misinstance\u001b[0m\u001b[0;34m(\u001b[0m\u001b[0mreply\u001b[0m\u001b[0;34m,\u001b[0m \u001b[0mdict\u001b[0m\u001b[0;34m)\u001b[0m\u001b[0;34m:\u001b[0m\u001b[0;34m\u001b[0m\u001b[0;34m\u001b[0m\u001b[0m\n\u001b[0;32m---> 96\u001b[0;31m       \u001b[0mtime\u001b[0m\u001b[0;34m.\u001b[0m\u001b[0msleep\u001b[0m\u001b[0;34m(\u001b[0m\u001b[0;36m0.025\u001b[0m\u001b[0;34m)\u001b[0m\u001b[0;34m\u001b[0m\u001b[0;34m\u001b[0m\u001b[0m\n\u001b[0m\u001b[1;32m     97\u001b[0m       \u001b[0;32mcontinue\u001b[0m\u001b[0;34m\u001b[0m\u001b[0;34m\u001b[0m\u001b[0m\n\u001b[1;32m     98\u001b[0m     if (\n",
            "\u001b[0;31mKeyboardInterrupt\u001b[0m: "
          ]
        }
      ],
      "source": [
        "image_tensor = draw_image(width=300, height=300)\n",
        "\n",
        "# 推論\n",
        "my_model.eval()\n",
        "with torch.no_grad():\n",
        "    p_y_hat = my_model(image_tensor)\n",
        "    y_hat = p_y_hat.argmax(dim=1, keepdim=True)  # 最も高い予測確率を持つクラスを取得\n",
        "\n",
        "# 予測確率値の分布を円グラフで表示\n",
        "softmax_layer = nn.Softmax(dim=1)\n",
        "plt.pie(\n",
        "    softmax_layer(p_y_hat).cpu().numpy()[0],\n",
        "    labels=[str(i) for i in range(10)],\n",
        "    counterclock=False,\n",
        "    startangle=90,\n",
        "    autopct=\"%1.1f%%\",\n",
        ")\n",
        "plt.show()\n",
        "\n",
        "print(f\"Predicted: {y_hat.item()}\")"
      ]
    },
    {
      "cell_type": "markdown",
      "metadata": {
        "id": "7HG-GX_BfEty"
      },
      "source": [
        "以上で実習は終了です。"
      ]
    }
  ],
  "metadata": {
    "accelerator": "GPU",
    "colab": {
      "collapsed_sections": [
        "astFGtiHSGRI",
        "g_4AfzIbSORL",
        "Z4p9hA3l4_-H",
        "A6NaC15Qd5X3"
      ],
      "provenance": [],
      "include_colab_link": true
    },
    "kernelspec": {
      "display_name": "Python 3",
      "name": "python3"
    },
    "language_info": {
      "codemirror_mode": {
        "name": "ipython",
        "version": 3
      },
      "file_extension": ".py",
      "mimetype": "text/x-python",
      "name": "python",
      "nbconvert_exporter": "python",
      "pygments_lexer": "ipython3",
      "version": "3.8.10"
    },
    "widgets": {
      "application/vnd.jupyter.widget-state+json": {
        "5b6cd51246044bb1b62d16f89c443119": {
          "model_module": "@jupyter-widgets/controls",
          "model_name": "HBoxModel",
          "model_module_version": "1.5.0",
          "state": {
            "_dom_classes": [],
            "_model_module": "@jupyter-widgets/controls",
            "_model_module_version": "1.5.0",
            "_model_name": "HBoxModel",
            "_view_count": null,
            "_view_module": "@jupyter-widgets/controls",
            "_view_module_version": "1.5.0",
            "_view_name": "HBoxView",
            "box_style": "",
            "children": [
              "IPY_MODEL_9d3c711a879346bcbb6c0ebd611e4cc6",
              "IPY_MODEL_3c5e7194789e43c1b2ac8794c7613de4",
              "IPY_MODEL_caa2e87efbfc4948826957655af5a099"
            ],
            "layout": "IPY_MODEL_8c9104db43e34045bfeb8bb56fb94b9c"
          }
        },
        "9d3c711a879346bcbb6c0ebd611e4cc6": {
          "model_module": "@jupyter-widgets/controls",
          "model_name": "HTMLModel",
          "model_module_version": "1.5.0",
          "state": {
            "_dom_classes": [],
            "_model_module": "@jupyter-widgets/controls",
            "_model_module_version": "1.5.0",
            "_model_name": "HTMLModel",
            "_view_count": null,
            "_view_module": "@jupyter-widgets/controls",
            "_view_module_version": "1.5.0",
            "_view_name": "HTMLView",
            "description": "",
            "description_tooltip": null,
            "layout": "IPY_MODEL_bb6be7f6a145421082f8303862a8fde8",
            "placeholder": "​",
            "style": "IPY_MODEL_a766de118dec433f9c8bb0d885b125b3",
            "value": "[Training]: 100%"
          }
        },
        "3c5e7194789e43c1b2ac8794c7613de4": {
          "model_module": "@jupyter-widgets/controls",
          "model_name": "FloatProgressModel",
          "model_module_version": "1.5.0",
          "state": {
            "_dom_classes": [],
            "_model_module": "@jupyter-widgets/controls",
            "_model_module_version": "1.5.0",
            "_model_name": "FloatProgressModel",
            "_view_count": null,
            "_view_module": "@jupyter-widgets/controls",
            "_view_module_version": "1.5.0",
            "_view_name": "ProgressView",
            "bar_style": "success",
            "description": "",
            "description_tooltip": null,
            "layout": "IPY_MODEL_b89038360483448aad637d573dd2242b",
            "max": 10,
            "min": 0,
            "orientation": "horizontal",
            "style": "IPY_MODEL_f446cd4568924b30bfe358d131b7539f",
            "value": 10
          }
        },
        "caa2e87efbfc4948826957655af5a099": {
          "model_module": "@jupyter-widgets/controls",
          "model_name": "HTMLModel",
          "model_module_version": "1.5.0",
          "state": {
            "_dom_classes": [],
            "_model_module": "@jupyter-widgets/controls",
            "_model_module_version": "1.5.0",
            "_model_name": "HTMLModel",
            "_view_count": null,
            "_view_module": "@jupyter-widgets/controls",
            "_view_module_version": "1.5.0",
            "_view_name": "HTMLView",
            "description": "",
            "description_tooltip": null,
            "layout": "IPY_MODEL_6dc0cf2684154b7d859a259873c0642e",
            "placeholder": "​",
            "style": "IPY_MODEL_cae8fe6238bb44ea98bce0d029b2d491",
            "value": " 10/10 [02:49&lt;00:00, 16.29s/it]"
          }
        },
        "8c9104db43e34045bfeb8bb56fb94b9c": {
          "model_module": "@jupyter-widgets/base",
          "model_name": "LayoutModel",
          "model_module_version": "1.2.0",
          "state": {
            "_model_module": "@jupyter-widgets/base",
            "_model_module_version": "1.2.0",
            "_model_name": "LayoutModel",
            "_view_count": null,
            "_view_module": "@jupyter-widgets/base",
            "_view_module_version": "1.2.0",
            "_view_name": "LayoutView",
            "align_content": null,
            "align_items": null,
            "align_self": null,
            "border": null,
            "bottom": null,
            "display": null,
            "flex": null,
            "flex_flow": null,
            "grid_area": null,
            "grid_auto_columns": null,
            "grid_auto_flow": null,
            "grid_auto_rows": null,
            "grid_column": null,
            "grid_gap": null,
            "grid_row": null,
            "grid_template_areas": null,
            "grid_template_columns": null,
            "grid_template_rows": null,
            "height": null,
            "justify_content": null,
            "justify_items": null,
            "left": null,
            "margin": null,
            "max_height": null,
            "max_width": null,
            "min_height": null,
            "min_width": null,
            "object_fit": null,
            "object_position": null,
            "order": null,
            "overflow": null,
            "overflow_x": null,
            "overflow_y": null,
            "padding": null,
            "right": null,
            "top": null,
            "visibility": null,
            "width": null
          }
        },
        "bb6be7f6a145421082f8303862a8fde8": {
          "model_module": "@jupyter-widgets/base",
          "model_name": "LayoutModel",
          "model_module_version": "1.2.0",
          "state": {
            "_model_module": "@jupyter-widgets/base",
            "_model_module_version": "1.2.0",
            "_model_name": "LayoutModel",
            "_view_count": null,
            "_view_module": "@jupyter-widgets/base",
            "_view_module_version": "1.2.0",
            "_view_name": "LayoutView",
            "align_content": null,
            "align_items": null,
            "align_self": null,
            "border": null,
            "bottom": null,
            "display": null,
            "flex": null,
            "flex_flow": null,
            "grid_area": null,
            "grid_auto_columns": null,
            "grid_auto_flow": null,
            "grid_auto_rows": null,
            "grid_column": null,
            "grid_gap": null,
            "grid_row": null,
            "grid_template_areas": null,
            "grid_template_columns": null,
            "grid_template_rows": null,
            "height": null,
            "justify_content": null,
            "justify_items": null,
            "left": null,
            "margin": null,
            "max_height": null,
            "max_width": null,
            "min_height": null,
            "min_width": null,
            "object_fit": null,
            "object_position": null,
            "order": null,
            "overflow": null,
            "overflow_x": null,
            "overflow_y": null,
            "padding": null,
            "right": null,
            "top": null,
            "visibility": null,
            "width": null
          }
        },
        "a766de118dec433f9c8bb0d885b125b3": {
          "model_module": "@jupyter-widgets/controls",
          "model_name": "DescriptionStyleModel",
          "model_module_version": "1.5.0",
          "state": {
            "_model_module": "@jupyter-widgets/controls",
            "_model_module_version": "1.5.0",
            "_model_name": "DescriptionStyleModel",
            "_view_count": null,
            "_view_module": "@jupyter-widgets/base",
            "_view_module_version": "1.2.0",
            "_view_name": "StyleView",
            "description_width": ""
          }
        },
        "b89038360483448aad637d573dd2242b": {
          "model_module": "@jupyter-widgets/base",
          "model_name": "LayoutModel",
          "model_module_version": "1.2.0",
          "state": {
            "_model_module": "@jupyter-widgets/base",
            "_model_module_version": "1.2.0",
            "_model_name": "LayoutModel",
            "_view_count": null,
            "_view_module": "@jupyter-widgets/base",
            "_view_module_version": "1.2.0",
            "_view_name": "LayoutView",
            "align_content": null,
            "align_items": null,
            "align_self": null,
            "border": null,
            "bottom": null,
            "display": null,
            "flex": null,
            "flex_flow": null,
            "grid_area": null,
            "grid_auto_columns": null,
            "grid_auto_flow": null,
            "grid_auto_rows": null,
            "grid_column": null,
            "grid_gap": null,
            "grid_row": null,
            "grid_template_areas": null,
            "grid_template_columns": null,
            "grid_template_rows": null,
            "height": null,
            "justify_content": null,
            "justify_items": null,
            "left": null,
            "margin": null,
            "max_height": null,
            "max_width": null,
            "min_height": null,
            "min_width": null,
            "object_fit": null,
            "object_position": null,
            "order": null,
            "overflow": null,
            "overflow_x": null,
            "overflow_y": null,
            "padding": null,
            "right": null,
            "top": null,
            "visibility": null,
            "width": null
          }
        },
        "f446cd4568924b30bfe358d131b7539f": {
          "model_module": "@jupyter-widgets/controls",
          "model_name": "ProgressStyleModel",
          "model_module_version": "1.5.0",
          "state": {
            "_model_module": "@jupyter-widgets/controls",
            "_model_module_version": "1.5.0",
            "_model_name": "ProgressStyleModel",
            "_view_count": null,
            "_view_module": "@jupyter-widgets/base",
            "_view_module_version": "1.2.0",
            "_view_name": "StyleView",
            "bar_color": null,
            "description_width": ""
          }
        },
        "6dc0cf2684154b7d859a259873c0642e": {
          "model_module": "@jupyter-widgets/base",
          "model_name": "LayoutModel",
          "model_module_version": "1.2.0",
          "state": {
            "_model_module": "@jupyter-widgets/base",
            "_model_module_version": "1.2.0",
            "_model_name": "LayoutModel",
            "_view_count": null,
            "_view_module": "@jupyter-widgets/base",
            "_view_module_version": "1.2.0",
            "_view_name": "LayoutView",
            "align_content": null,
            "align_items": null,
            "align_self": null,
            "border": null,
            "bottom": null,
            "display": null,
            "flex": null,
            "flex_flow": null,
            "grid_area": null,
            "grid_auto_columns": null,
            "grid_auto_flow": null,
            "grid_auto_rows": null,
            "grid_column": null,
            "grid_gap": null,
            "grid_row": null,
            "grid_template_areas": null,
            "grid_template_columns": null,
            "grid_template_rows": null,
            "height": null,
            "justify_content": null,
            "justify_items": null,
            "left": null,
            "margin": null,
            "max_height": null,
            "max_width": null,
            "min_height": null,
            "min_width": null,
            "object_fit": null,
            "object_position": null,
            "order": null,
            "overflow": null,
            "overflow_x": null,
            "overflow_y": null,
            "padding": null,
            "right": null,
            "top": null,
            "visibility": null,
            "width": null
          }
        },
        "cae8fe6238bb44ea98bce0d029b2d491": {
          "model_module": "@jupyter-widgets/controls",
          "model_name": "DescriptionStyleModel",
          "model_module_version": "1.5.0",
          "state": {
            "_model_module": "@jupyter-widgets/controls",
            "_model_module_version": "1.5.0",
            "_model_name": "DescriptionStyleModel",
            "_view_count": null,
            "_view_module": "@jupyter-widgets/base",
            "_view_module_version": "1.2.0",
            "_view_name": "StyleView",
            "description_width": ""
          }
        }
      }
    }
  },
  "nbformat": 4,
  "nbformat_minor": 0
}