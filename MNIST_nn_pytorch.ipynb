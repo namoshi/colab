{
  "nbformat": 4,
  "nbformat_minor": 0,
  "metadata": {
    "colab": {
      "name": "MNIST_nn_pytorch.ipynb",
      "provenance": [],
      "collapsed_sections": [],
      "authorship_tag": "ABX9TyPyXTKk7fY3Ep/6CzZTXYAS",
      "include_colab_link": true
    },
    "kernelspec": {
      "name": "python3",
      "display_name": "Python 3"
    },
    "language_info": {
      "name": "python"
    }
  },
  "cells": [
    {
      "cell_type": "markdown",
      "metadata": {
        "id": "view-in-github",
        "colab_type": "text"
      },
      "source": [
        "<a href=\"https://colab.research.google.com/github/namoshi/colab/blob/master/MNIST_nn_pytorch.ipynb\" target=\"_parent\"><img src=\"https://colab.research.google.com/assets/colab-badge.svg\" alt=\"Open In Colab\"/></a>"
      ]
    },
    {
      "cell_type": "code",
      "metadata": {
        "id": "2WVrbr-ryPmn"
      },
      "source": [
        "import torch\n",
        "from torch import nn\n",
        "from torch import optim\n",
        "from torchvision import datasets, transforms\n",
        "from torch.utils.data import random_split, DataLoader"
      ],
      "execution_count": 20,
      "outputs": []
    },
    {
      "cell_type": "code",
      "metadata": {
        "id": "0TYpjufEycFt"
      },
      "source": [
        "model = nn.Sequential(\n",
        "    nn.Linear(28 * 28, 64),\n",
        "    nn.ReLU(),\n",
        "    nn.Linear(64, 64),\n",
        "    nn.ReLU(),\n",
        "    nn.Linear(64, 10)\n",
        ")"
      ],
      "execution_count": 21,
      "outputs": []
    },
    {
      "cell_type": "code",
      "metadata": {
        "id": "CrJSNTRwy5Ke"
      },
      "source": [
        "# optimizer\n",
        "optimizer = optim.SGD(model.parameters(), lr=1e-2)"
      ],
      "execution_count": 22,
      "outputs": []
    },
    {
      "cell_type": "code",
      "metadata": {
        "id": "KxF6tzUkzTSK"
      },
      "source": [
        "# loss\n",
        "loss = nn.CrossEntropyLoss()"
      ],
      "execution_count": 23,
      "outputs": []
    },
    {
      "cell_type": "code",
      "metadata": {
        "id": "MgIVTnVi140k"
      },
      "source": [
        "# Train, Val split the data\n",
        "train_data = datasets.MNIST('data', train=True, download=False, transform=transforms.ToTensor())\n",
        "train, val = random_split(train_data, [55000, 5000])\n",
        "train_loader = DataLoader(train, batch_size=32)\n",
        "val_loader = DataLoader(val, batch_size=32)"
      ],
      "execution_count": 24,
      "outputs": []
    },
    {
      "cell_type": "code",
      "metadata": {
        "colab": {
          "base_uri": "https://localhost:8080/"
        },
        "id": "y3szd7wlzZ5V",
        "outputId": "ce915dd3-548f-42dc-c4f2-975ec00bf1fa"
      },
      "source": [
        "nb_epochs = 5\n",
        "for epoch in range(nb_epochs):\n",
        "  losses = list()\n",
        "  for batch in train_loader:\n",
        "    x, y = batch\n",
        "\n",
        "    # convert the imaage to the vector\n",
        "    x = x.view(x.size(0), -1)\n",
        "\n",
        "    # forward computation\n",
        "    l = model(x)  # l : logits\n",
        "\n",
        "    # loss\n",
        "    J = loss(l, y)\n",
        "\n",
        "    # compute gradients\n",
        "    model.zero_grad()\n",
        "\n",
        "    J.backward()\n",
        "\n",
        "    # update the model parametors\n",
        "    optimizer.step()\n",
        "\n",
        "    losses.append(J.item())\n",
        "\n",
        "  print(f'Epoch {epoch + 1}, train loss: {torch.tensor(losses).mean():.2f}')\n",
        "\n"
      ],
      "execution_count": 25,
      "outputs": [
        {
          "output_type": "stream",
          "name": "stdout",
          "text": [
            "Epoch 1, train loss: 1.27\n",
            "Epoch 2, train loss: 0.40\n",
            "Epoch 3, train loss: 0.33\n",
            "Epoch 4, train loss: 0.29\n",
            "Epoch 5, train loss: 0.26\n"
          ]
        }
      ]
    }
  ]
}