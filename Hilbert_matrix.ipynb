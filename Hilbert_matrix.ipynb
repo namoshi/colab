{
  "nbformat": 4,
  "nbformat_minor": 0,
  "metadata": {
    "colab": {
      "provenance": [],
      "authorship_tag": "ABX9TyMeTc09rvas+BY0KyWwBIv/",
      "include_colab_link": true
    },
    "kernelspec": {
      "name": "python3",
      "display_name": "Python 3"
    },
    "language_info": {
      "name": "python"
    }
  },
  "cells": [
    {
      "cell_type": "markdown",
      "metadata": {
        "id": "view-in-github",
        "colab_type": "text"
      },
      "source": [
        "<a href=\"https://colab.research.google.com/github/namoshi/colab/blob/master/Hilbert_matrix.ipynb\" target=\"_parent\"><img src=\"https://colab.research.google.com/assets/colab-badge.svg\" alt=\"Open In Colab\"/></a>"
      ]
    },
    {
      "cell_type": "markdown",
      "source": [
        "Hirbelt 行列の固有値，固有ベクトル"
      ],
      "metadata": {
        "id": "lCIyKB2hTEfl"
      }
    },
    {
      "cell_type": "code",
      "execution_count": 9,
      "metadata": {
        "colab": {
          "base_uri": "https://localhost:8080/"
        },
        "id": "jC4T7wgoTDna",
        "outputId": "4f03be48-e6b5-48ea-cdb9-5ddd65e14368"
      },
      "outputs": [
        {
          "output_type": "stream",
          "name": "stdout",
          "text": [
            "[[1.         0.5        0.33333333]\n",
            " [0.5        0.33333333 0.25      ]\n",
            " [0.33333333 0.25       0.2       ]]\n",
            "Eigen Values\n",
            " [1.40831893 0.12232707 0.00268734]\n",
            "Eigen Vectors\n",
            " [[ 0.82704493  0.54744843  0.12765933]\n",
            " [ 0.4598639  -0.52829024 -0.71374689]\n",
            " [ 0.32329844 -0.64900666  0.68867153]]\n"
          ]
        }
      ],
      "source": [
        "import numpy as np\n",
        "from numpy.linalg import eig\n",
        "\n",
        "H = np.zeros((3,3))\n",
        "\n",
        "for i in range(3):\n",
        "  for j in range(3):\n",
        "    H[i, j] = 1.0 / ((i+1) + (j+1) - 1.0)\n",
        "\n",
        "print(H)\n",
        "\n",
        "[L, E] = eig(H)\n",
        "\n",
        "print('Eigen Values\\n', L)\n",
        "print('Eigen Vectors\\n', E)\n"
      ]
    }
  ]
}