{
  "nbformat": 4,
  "nbformat_minor": 0,
  "metadata": {
    "colab": {
      "provenance": [],
      "authorship_tag": "ABX9TyMvgFnubnJfnZZhsa51FtWA",
      "include_colab_link": true
    },
    "kernelspec": {
      "name": "python3",
      "display_name": "Python 3"
    },
    "language_info": {
      "name": "python"
    }
  },
  "cells": [
    {
      "cell_type": "markdown",
      "metadata": {
        "id": "view-in-github",
        "colab_type": "text"
      },
      "source": [
        "<a href=\"https://colab.research.google.com/github/namoshi/colab/blob/master/2ml_ttest.ipynb\" target=\"_parent\"><img src=\"https://colab.research.google.com/assets/colab-badge.svg\" alt=\"Open In Colab\"/></a>"
      ]
    },
    {
      "cell_type": "code",
      "execution_count": 1,
      "metadata": {
        "id": "PEXbrL3aCclr"
      },
      "outputs": [],
      "source": [
        "from numpy import mean\n",
        "from numpy import std\n",
        "from sklearn.datasets import make_classification\n",
        "from sklearn.model_selection import cross_val_score\n",
        "from sklearn.model_selection import RepeatedStratifiedKFold\n",
        "from sklearn.linear_model import LogisticRegression\n",
        "from sklearn.discriminant_analysis import LinearDiscriminantAnalysis\n",
        "from mlxtend.evaluate import paired_ttest_5x2cv\n"
      ]
    },
    {
      "cell_type": "code",
      "source": [
        "# define dataset\n",
        "X, y = make_classification(n_samples=1000, n_features=10, n_informative=10, n_redundant=0, random_state=1)\n"
      ],
      "metadata": {
        "id": "ghyswQYdCih_"
      },
      "execution_count": 2,
      "outputs": []
    },
    {
      "cell_type": "code",
      "source": [
        "# evaluate model 1\n",
        "model1 = LogisticRegression()\n",
        "cv1 = RepeatedStratifiedKFold(n_splits=2, n_repeats=5, random_state=1)\n",
        "scores1 = cross_val_score(model1, X, y, scoring='accuracy', cv=cv1, n_jobs=-1)\n",
        "print('LogisticRegression Mean Accuracy: %.3f (%.3f)' % (mean(scores1), std(scores1)))\n"
      ],
      "metadata": {
        "colab": {
          "base_uri": "https://localhost:8080/"
        },
        "id": "X4qiHY0KCoTP",
        "outputId": "b8c24e0e-0e85-40da-8f61-0e186c99d2a4"
      },
      "execution_count": 3,
      "outputs": [
        {
          "output_type": "stream",
          "name": "stdout",
          "text": [
            "LogisticRegression Mean Accuracy: 0.894 (0.012)\n"
          ]
        }
      ]
    },
    {
      "cell_type": "code",
      "source": [
        "# evaluate model 2\n",
        "model2 = LinearDiscriminantAnalysis()\n",
        "cv2 = RepeatedStratifiedKFold(n_splits=2, n_repeats=5, random_state=1)\n",
        "scores2 = cross_val_score(model2, X, y, scoring='accuracy', cv=cv2, n_jobs=-1)\n",
        "print('LinearDiscriminantAnalysis Mean Accuracy: %.3f (%.3f)' % (mean(scores2), std(scores2)))"
      ],
      "metadata": {
        "colab": {
          "base_uri": "https://localhost:8080/"
        },
        "id": "E1b77JbLCrGr",
        "outputId": "a3364a70-3d35-4586-e1d0-e7c495d9876a"
      },
      "execution_count": 4,
      "outputs": [
        {
          "output_type": "stream",
          "name": "stdout",
          "text": [
            "LinearDiscriminantAnalysis Mean Accuracy: 0.890 (0.013)\n"
          ]
        }
      ]
    },
    {
      "cell_type": "code",
      "source": [
        "#Apply the 2 fold 5 repeats paired ttest\n",
        "t, p = paired_ttest_5x2cv(estimator1=model1, estimator2=model2, X=X, y=y, scoring='accuracy', random_seed=1)\n",
        "#summarize\n",
        "print('P-value: %.3f, t-Statistic: %.3f' % (p, t))\n",
        "#interpreting the result\n",
        "if p <= 0.05:\n",
        " print('Difference between mean performance is probably real')\n",
        "else:\n",
        " print('Algorithms probably have the same performance')"
      ],
      "metadata": {
        "colab": {
          "base_uri": "https://localhost:8080/"
        },
        "id": "JbPQZMuaCvts",
        "outputId": "9839e3cf-0eb1-4ea7-d243-01ef9894000c"
      },
      "execution_count": 5,
      "outputs": [
        {
          "output_type": "stream",
          "name": "stdout",
          "text": [
            "P-value: 0.328, t-Statistic: 1.085\n",
            "Algorithms probably have the same performance\n"
          ]
        }
      ]
    },
    {
      "cell_type": "code",
      "source": [],
      "metadata": {
        "id": "1OMcmCbqC5Nn"
      },
      "execution_count": null,
      "outputs": []
    }
  ]
}