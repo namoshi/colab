{
  "nbformat": 4,
  "nbformat_minor": 0,
  "metadata": {
    "colab": {
      "name": "CLIP & gradient ascent for text-to-image (Deep Daze?).ipynb",
      "provenance": [],
      "collapsed_sections": [],
      "include_colab_link": true
    },
    "kernelspec": {
      "name": "python3",
      "display_name": "Python 3"
    },
    "accelerator": "GPU"
  },
  "cells": [
    {
      "cell_type": "markdown",
      "metadata": {
        "id": "view-in-github",
        "colab_type": "text"
      },
      "source": [
        "<a href=\"https://colab.research.google.com/github/namoshi/colab/blob/master/CLIP_%26_gradient_ascent_for_text_to_image_(Deep_Daze%3F).ipynb\" target=\"_parent\"><img src=\"https://colab.research.google.com/assets/colab-badge.svg\" alt=\"Open In Colab\"/></a>"
      ]
    },
    {
      "cell_type": "markdown",
      "metadata": {
        "id": "6Zfn2m8QCTUO"
      },
      "source": [
        "# Description"
      ]
    },
    {
      "cell_type": "markdown",
      "metadata": {
        "id": "1rQVANPk-2n-"
      },
      "source": [
        "A Colab notebook for generating images using OpenAI's CLIP model.\n",
        "\n",
        "Heavily influenced by Alexander Mordvintsev's Deep Dream, this work uses CLIP to match an image learned by a SIREN network with a given textual description.\n",
        "\n",
        "\n",
        "As a good launching point for future directions and to find more related work, see https://distill.pub/2017/feature-visualization/\n",
        "\n",
        "\n",
        "If you have questions, please see my twitter at https://twitter.com/advadnoun\n",
        "\n",
        "This is all free! But if you're feeling generous, you can donate to my venmo @rynnn while your \"a beautiful Waluigi\" loads ;)\n"
      ]
    },
    {
      "cell_type": "markdown",
      "metadata": {
        "id": "KAcixx9Z3XYH"
      },
      "source": [
        "# Top\n",
        "\n"
      ]
    },
    {
      "cell_type": "markdown",
      "metadata": {
        "id": "VAbC90KCAUVR"
      },
      "source": [
        "Import the usual libraries"
      ]
    },
    {
      "cell_type": "code",
      "metadata": {
        "id": "piJOg9MY7khd",
        "trusted": true
      },
      "source": [
        "import torch\n",
        "import numpy as np\n",
        "import torchvision\n",
        "import torchvision.transforms.functional as TF\n",
        "\n",
        "import PIL\n",
        "import matplotlib.pyplot as plt\n",
        "\n",
        "import os\n",
        "import random\n",
        "import imageio\n",
        "from IPython import display\n",
        "from IPython.core.interactiveshell import InteractiveShell\n",
        "InteractiveShell.ast_node_interactivity = \"all\"\n",
        "\n",
        "import glob\n",
        "\n",
        "from google.colab import output\n",
        "\n"
      ],
      "execution_count": 1,
      "outputs": []
    },
    {
      "cell_type": "markdown",
      "metadata": {
        "id": "4pWYOXvI_AtL"
      },
      "source": [
        "Check which GPU Colab has assigned to you"
      ]
    },
    {
      "cell_type": "code",
      "metadata": {
        "colab": {
          "base_uri": "https://localhost:8080/"
        },
        "id": "EUOAL4UcytFb",
        "outputId": "1aab32bb-245a-4c1b-cf2b-d1badc4e7afd"
      },
      "source": [
        "!nvidia-smi -L\n"
      ],
      "execution_count": 2,
      "outputs": [
        {
          "output_type": "stream",
          "name": "stdout",
          "text": [
            "GPU 0: Tesla K80 (UUID: GPU-a6e637b4-8083-9237-f683-4a327b5c4353)\n"
          ]
        }
      ]
    },
    {
      "cell_type": "markdown",
      "metadata": {
        "id": "7b4_ZrdU_FdV"
      },
      "source": [
        "# Restart after running this cell!"
      ]
    },
    {
      "cell_type": "markdown",
      "metadata": {
        "id": "ftkN5c3f_MuZ"
      },
      "source": [
        "You must run this cell and then restart and rerun everything for the PyTorch version to be correct. Otherwise the model will run but not produce any meaningful output."
      ]
    },
    {
      "cell_type": "code",
      "metadata": {
        "colab": {
          "base_uri": "https://localhost:8080/",
          "height": 762
        },
        "id": "etzxXVZ_r-Nf",
        "outputId": "46d1d941-600a-475e-eb38-04ae60bf699c"
      },
      "source": [
        "import subprocess\n",
        "\n",
        "CUDA_version = [s for s in subprocess.check_output([\"nvcc\", \"--version\"]).decode(\"UTF-8\").split(\", \") if s.startswith(\"release\")][0].split(\" \")[-1]\n",
        "print(\"CUDA version:\", CUDA_version)\n",
        "\n",
        "if CUDA_version == \"10.0\":\n",
        "    torch_version_suffix = \"+cu100\"\n",
        "elif CUDA_version == \"10.1\":\n",
        "    torch_version_suffix = \"+cu101\"\n",
        "elif CUDA_version == \"10.2\":\n",
        "    torch_version_suffix = \"\"\n",
        "else:\n",
        "    torch_version_suffix = \"+cu110\"\n",
        "\n",
        "! pip install torch==1.7.1{torch_version_suffix} torchvision==0.8.2{torch_version_suffix} -f https://download.pytorch.org/whl/torch_stable.html ftfy regex"
      ],
      "execution_count": 3,
      "outputs": [
        {
          "output_type": "stream",
          "name": "stdout",
          "text": [
            "CUDA version: 11.1\n",
            "Looking in links: https://download.pytorch.org/whl/torch_stable.html\n",
            "Collecting torch==1.7.1+cu110\n",
            "  Downloading https://download.pytorch.org/whl/cu110/torch-1.7.1%2Bcu110-cp37-cp37m-linux_x86_64.whl (1156.8 MB)\n",
            "\u001b[K     |███████████████████████         | 834.1 MB 3.4 MB/s eta 0:01:35tcmalloc: large alloc 1147494400 bytes == 0x56387bd42000 @  0x7f50e8589615 0x5638424a34cc 0x56384258347a 0x5638424a62ed 0x563842597e1d 0x563842519e99 0x5638425149ee 0x5638424a7bda 0x563842519d00 0x5638425149ee 0x5638424a7bda 0x563842516737 0x563842598c66 0x563842515daf 0x563842598c66 0x563842515daf 0x563842598c66 0x563842515daf 0x5638424a8039 0x5638424eb409 0x5638424a6c52 0x563842519c25 0x5638425149ee 0x5638424a7bda 0x563842516737 0x5638425149ee 0x5638424a7bda 0x563842515915 0x5638424a7afa 0x563842515c0d 0x5638425149ee\n",
            "\u001b[K     |█████████████████████████████▏  | 1055.7 MB 1.3 MB/s eta 0:01:17tcmalloc: large alloc 1434370048 bytes == 0x5638c0398000 @  0x7f50e8589615 0x5638424a34cc 0x56384258347a 0x5638424a62ed 0x563842597e1d 0x563842519e99 0x5638425149ee 0x5638424a7bda 0x563842519d00 0x5638425149ee 0x5638424a7bda 0x563842516737 0x563842598c66 0x563842515daf 0x563842598c66 0x563842515daf 0x563842598c66 0x563842515daf 0x5638424a8039 0x5638424eb409 0x5638424a6c52 0x563842519c25 0x5638425149ee 0x5638424a7bda 0x563842516737 0x5638425149ee 0x5638424a7bda 0x563842515915 0x5638424a7afa 0x563842515c0d 0x5638425149ee\n",
            "\u001b[K     |████████████████████████████████| 1156.7 MB 1.5 MB/s eta 0:00:01tcmalloc: large alloc 1445945344 bytes == 0x563915b84000 @  0x7f50e8589615 0x5638424a34cc 0x56384258347a 0x5638424a62ed 0x563842597e1d 0x563842519e99 0x5638425149ee 0x5638424a7bda 0x563842515c0d 0x5638425149ee 0x5638424a7bda 0x563842515c0d 0x5638425149ee 0x5638424a7bda 0x563842515c0d 0x5638425149ee 0x5638424a7bda 0x563842515c0d 0x5638425149ee 0x5638424a7bda 0x563842515c0d 0x5638424a7afa 0x563842515c0d 0x5638425149ee 0x5638424a7bda 0x563842516737 0x5638425149ee 0x5638424a7bda 0x563842516737 0x5638425149ee 0x5638424a8271\n",
            "\u001b[K     |████████████████████████████████| 1156.8 MB 15 kB/s \n",
            "\u001b[?25hCollecting torchvision==0.8.2+cu110\n",
            "  Downloading https://download.pytorch.org/whl/cu110/torchvision-0.8.2%2Bcu110-cp37-cp37m-linux_x86_64.whl (12.9 MB)\n",
            "\u001b[K     |████████████████████████████████| 12.9 MB 181 kB/s \n",
            "\u001b[?25hCollecting ftfy\n",
            "  Downloading ftfy-6.0.3.tar.gz (64 kB)\n",
            "\u001b[K     |████████████████████████████████| 64 kB 1.8 MB/s \n",
            "\u001b[?25hRequirement already satisfied: regex in /usr/local/lib/python3.7/dist-packages (2019.12.20)\n",
            "Requirement already satisfied: numpy in /usr/local/lib/python3.7/dist-packages (from torch==1.7.1+cu110) (1.19.5)\n",
            "Requirement already satisfied: typing-extensions in /usr/local/lib/python3.7/dist-packages (from torch==1.7.1+cu110) (3.7.4.3)\n",
            "Requirement already satisfied: pillow>=4.1.1 in /usr/local/lib/python3.7/dist-packages (from torchvision==0.8.2+cu110) (7.1.2)\n",
            "Requirement already satisfied: wcwidth in /usr/local/lib/python3.7/dist-packages (from ftfy) (0.2.5)\n",
            "Building wheels for collected packages: ftfy\n",
            "  Building wheel for ftfy (setup.py) ... \u001b[?25l\u001b[?25hdone\n",
            "  Created wheel for ftfy: filename=ftfy-6.0.3-py3-none-any.whl size=41933 sha256=b9d2e4558ff864d56865b648e4671a4d887012d8a646528ae2a547ee80c20dc2\n",
            "  Stored in directory: /root/.cache/pip/wheels/19/f5/38/273eb3b5e76dfd850619312f693716ac4518b498f5ffb6f56d\n",
            "Successfully built ftfy\n",
            "Installing collected packages: torch, torchvision, ftfy\n",
            "  Attempting uninstall: torch\n",
            "    Found existing installation: torch 1.9.0+cu111\n",
            "    Uninstalling torch-1.9.0+cu111:\n",
            "      Successfully uninstalled torch-1.9.0+cu111\n",
            "  Attempting uninstall: torchvision\n",
            "    Found existing installation: torchvision 0.10.0+cu111\n",
            "    Uninstalling torchvision-0.10.0+cu111:\n",
            "      Successfully uninstalled torchvision-0.10.0+cu111\n",
            "\u001b[31mERROR: pip's dependency resolver does not currently take into account all the packages that are installed. This behaviour is the source of the following dependency conflicts.\n",
            "torchtext 0.10.0 requires torch==1.9.0, but you have torch 1.7.1+cu110 which is incompatible.\u001b[0m\n",
            "Successfully installed ftfy-6.0.3 torch-1.7.1+cu110 torchvision-0.8.2+cu110\n"
          ]
        },
        {
          "output_type": "display_data",
          "data": {
            "application/vnd.colab-display-data+json": {
              "pip_warning": {
                "packages": [
                  "torch",
                  "torchvision"
                ]
              }
            }
          },
          "metadata": {}
        }
      ]
    },
    {
      "cell_type": "markdown",
      "metadata": {
        "id": "JeMCHwDdHIcu"
      },
      "source": [
        "# CLIP"
      ]
    },
    {
      "cell_type": "markdown",
      "metadata": {
        "id": "-irecVJr_Zc9"
      },
      "source": [
        "Setup CLIP and set it to be the \"perceptor\" used to determine the loss for the SIREN network.\n",
        "\n",
        "Thanks to the authors below & OpenAI for sharing! https://github.com/openai/CLIP\n",
        "\n",
        "Alec Radford \\* Jong Wook Kim \\* Chris Hallacy Aditya Ramesh Gabriel Goh Sandhini Agarwal\n",
        "Girish Sastry Amanda Askell Pamela Mishkin Jack Clark Gretchen Krueger\n",
        "Ilya Sutskever\n",
        "\n"
      ]
    },
    {
      "cell_type": "code",
      "metadata": {
        "id": "Tm3_VmxpAiB1",
        "colab": {
          "base_uri": "https://localhost:8080/"
        },
        "outputId": "ac967e44-83a8-41b0-9f65-0ae6a4a76fd8"
      },
      "source": [
        "\n",
        "\n",
        "%cd /content/\n",
        "\n",
        "!git clone https://github.com/openai/CLIP.git\n",
        "\n",
        "\n",
        "%cd /content/CLIP/\n",
        "\n",
        "!pip install ftfy\n",
        "\n",
        "import clip\n",
        "\n",
        "\n",
        "import numpy as np\n",
        "# Load the model\n",
        "perceptor, preprocess = clip.load('ViT-B/32')\n"
      ],
      "execution_count": null,
      "outputs": [
        {
          "output_type": "stream",
          "text": [
            "/content\n",
            "fatal: destination path 'CLIP' already exists and is not an empty directory.\n",
            "/content/CLIP\n",
            "Requirement already satisfied: ftfy in /usr/local/lib/python3.6/dist-packages (5.8)\n",
            "Requirement already satisfied: wcwidth in /usr/local/lib/python3.6/dist-packages (from ftfy) (0.2.5)\n"
          ],
          "name": "stdout"
        }
      ]
    },
    {
      "cell_type": "markdown",
      "metadata": {
        "id": "mw0KBLebMywW"
      },
      "source": [
        "# Params"
      ]
    },
    {
      "cell_type": "markdown",
      "metadata": {
        "id": "0WMEM-RK_ra0"
      },
      "source": [
        "Determine the output dimensions of the image and the number of channels.\n",
        "\n",
        "Set the text to be matched"
      ]
    },
    {
      "cell_type": "code",
      "metadata": {
        "id": "Nq0wA-wc-P-s",
        "trusted": true
      },
      "source": [
        "im_shape = [512, 512, 3]\n",
        "sideX, sideY, channels = im_shape\n",
        "\n",
        "tx = clip.tokenize(\"a beautiful Waluigi\")"
      ],
      "execution_count": null,
      "outputs": []
    },
    {
      "cell_type": "markdown",
      "metadata": {
        "id": "UlIUu0jK3S19"
      },
      "source": [
        "# Define"
      ]
    },
    {
      "cell_type": "markdown",
      "metadata": {
        "id": "XsYea-43_xdZ"
      },
      "source": [
        "Define some helper functions"
      ]
    },
    {
      "cell_type": "code",
      "metadata": {
        "id": "gCj1wr8pOqOe",
        "trusted": true
      },
      "source": [
        "def displ(img, pre_scaled=True):\n",
        "  img = np.array(img)[:,:,:]\n",
        "  img = np.transpose(img, (1, 2, 0))\n",
        "  if not pre_scaled:\n",
        "    img = scale(img, 48*4, 32*4)\n",
        "  imageio.imwrite(str(3) + '.png', np.array(img))\n",
        "  return display.Image(str(3)+'.png')\n",
        "\n",
        "def card_padded(im, to_pad=3):\n",
        "  return np.pad(np.pad(np.pad(im, [[1,1], [1,1], [0,0]],constant_values=0), [[2,2], [2,2], [0,0]],constant_values=1),\n",
        "            [[to_pad,to_pad], [to_pad,to_pad], [0,0]],constant_values=0)\n"
      ],
      "execution_count": null,
      "outputs": []
    },
    {
      "cell_type": "markdown",
      "metadata": {
        "id": "5odD-rH8t6oz"
      },
      "source": [
        "# SIREN"
      ]
    },
    {
      "cell_type": "markdown",
      "metadata": {
        "id": "tcGF8UUG_5Zi"
      },
      "source": [
        "Thanks to the authors of SIREN! https://github.com/vsitzmann/siren\n",
        "\n",
        "@inproceedings{sitzmann2019siren,\n",
        "    author = {Sitzmann, Vincent\n",
        "              and Martel, Julien N.P.\n",
        "              and Bergman, Alexander W.\n",
        "              and Lindell, David B.\n",
        "              and Wetzstein, Gordon},\n",
        "    title = {Implicit Neural Representations\n",
        "              with Periodic Activation Functions},\n",
        "    booktitle = {arXiv},\n",
        "    year={2020}\n",
        "}\n",
        "\n",
        "\n",
        "The number of layers is 8 right now, but if the machine OOMs (runs out of RAM), it can naturally be tweaked. I've found that 16 layers for the SIREN works best, but I'm not always blessed with a V100 GPU."
      ]
    },
    {
      "cell_type": "code",
      "metadata": {
        "id": "GdCh2D8Dt8Xd"
      },
      "source": [
        "\n",
        "import torch.nn as nn\n",
        "\n",
        "class SineLayer(nn.Module):\n",
        "    # See paper sec. 3.2, final paragraph, and supplement Sec. 1.5 for discussion of omega_0.\n",
        "    \n",
        "    # If is_first=True, omega_0 is a frequency factor which simply multiplies the activations before the \n",
        "    # nonlinearity. Different signals may require different omega_0 in the first layer - this is a \n",
        "    # hyperparameter.\n",
        "    \n",
        "    # If is_first=False, then the weights will be divided by omega_0 so as to keep the magnitude of \n",
        "    # activations constant, but boost gradients to the weight matrix (see supplement Sec. 1.5)\n",
        "    \n",
        "    def __init__(self, in_features, out_features, bias=True,\n",
        "                 is_first=False, omega_0=30):\n",
        "        super().__init__()\n",
        "        self.omega_0 = omega_0\n",
        "        self.is_first = is_first\n",
        "        \n",
        "        self.in_features = in_features\n",
        "        self.linear = nn.Linear(in_features, out_features, bias=bias)\n",
        "        \n",
        "        self.init_weights()\n",
        "    \n",
        "    def init_weights(self):\n",
        "        with torch.no_grad():\n",
        "            if self.is_first:\n",
        "                self.linear.weight.uniform_(-1 / self.in_features, \n",
        "                                             1 / self.in_features)      \n",
        "            else:\n",
        "                self.linear.weight.uniform_(-np.sqrt(6 / self.in_features) / self.omega_0, \n",
        "                                             np.sqrt(6 / self.in_features) / self.omega_0)\n",
        "        \n",
        "    def forward(self, input):\n",
        "        return torch.sin(self.omega_0 * self.linear(input))\n",
        "    \n",
        "    def forward_with_intermediate(self, input): \n",
        "        # For visualization of activation distributions\n",
        "        intermediate = self.omega_0 * self.linear(input)\n",
        "        return torch.sin(intermediate), intermediate\n",
        "    \n",
        "    \n",
        "class Siren(nn.Module):\n",
        "    def __init__(self, in_features, hidden_features, hidden_layers, out_features, outermost_linear=True, \n",
        "                 first_omega_0=30, hidden_omega_0=30.):\n",
        "        super().__init__()\n",
        "        \n",
        "        self.net = []\n",
        "        self.net.append(SineLayer(in_features, hidden_features, \n",
        "                                  is_first=True, omega_0=first_omega_0))\n",
        "\n",
        "        for i in range(hidden_layers):\n",
        "            self.net.append(SineLayer(hidden_features, hidden_features, \n",
        "                                      is_first=False, omega_0=hidden_omega_0))\n",
        "\n",
        "        if outermost_linear:\n",
        "            final_linear = nn.Linear(hidden_features, out_features)\n",
        "            \n",
        "            with torch.no_grad():\n",
        "                final_linear.weight.uniform_(-np.sqrt(6 / hidden_features) / hidden_omega_0, \n",
        "                                              np.sqrt(6 / hidden_features) / hidden_omega_0)\n",
        "                \n",
        "            self.net.append(final_linear)\n",
        "        else:\n",
        "            self.net.append(SineLayer(hidden_features, out_features, \n",
        "                                      is_first=False, omega_0=hidden_omega_0))\n",
        "        \n",
        "        self.net = nn.Sequential(*self.net)\n",
        "    \n",
        "    def forward(self, coords):\n",
        "        coords = coords.clone().detach().requires_grad_(True)\n",
        "        output = self.net(coords.cuda())\n",
        "        return output.view(1, sideX, sideY, 3).permute(0, 3, 1, 2)#.sigmoid_()\n",
        "\n",
        "    def forward_with_activations(self, coords, retain_grad=False):\n",
        "        '''Returns not only model output, but also intermediate activations.\n",
        "        Only used for visualizing activations later!'''\n",
        "        activations = OrderedDict()\n",
        "\n",
        "        activation_count = 0\n",
        "        x = coords.clone().detach().requires_grad_(True)\n",
        "        activations['input'] = x\n",
        "        for i, layer in enumerate(self.net):\n",
        "            if isinstance(layer, SineLayer):\n",
        "                x, intermed = layer.forward_with_intermediate(x)\n",
        "                \n",
        "                if retain_grad:\n",
        "                    x.retain_grad()\n",
        "                    intermed.retain_grad()\n",
        "                    \n",
        "                activations['_'.join((str(layer.__class__), \"%d\" % activation_count))] = intermed\n",
        "                activation_count += 1\n",
        "            else: \n",
        "                x = layer(x)\n",
        "                \n",
        "                if retain_grad:\n",
        "                    x.retain_grad()\n",
        "                    \n",
        "            activations['_'.join((str(layer.__class__), \"%d\" % activation_count))] = x\n",
        "            activation_count += 1\n",
        "\n",
        "        return activations\n",
        "\n",
        "\n",
        "def get_mgrid(sidelen, dim=2):\n",
        "    '''Generates a flattened grid of (x,y,...) coordinates in a range of -1 to 1.\n",
        "    sidelen: int\n",
        "    dim: int'''\n",
        "    tensors = tuple(dim * [torch.linspace(-1, 1, steps=sidelen)])\n",
        "    mgrid = torch.stack(torch.meshgrid(*tensors), dim=-1)\n",
        "    mgrid = mgrid.reshape(-1, dim)\n",
        "    return mgrid\n",
        "\n",
        "\n",
        "model = Siren(2, 256, 8, 3).cuda()\n",
        "LLL = []\n",
        "eps = 0\n",
        "\n",
        "optimizer = torch.optim.Adam(model.parameters(), .00001)"
      ],
      "execution_count": null,
      "outputs": []
    },
    {
      "cell_type": "markdown",
      "metadata": {
        "id": "WztSrRF23Rqg"
      },
      "source": [
        "# Train"
      ]
    },
    {
      "cell_type": "markdown",
      "metadata": {
        "id": "nbeZVdA_AGK7"
      },
      "source": [
        "Train and output samples every 150 iterations\n",
        "\n",
        "We create batches of images at different resolutions in different parts of the SIREN image and resize them with bilinear upsampling. This seems to work very, very well as regularization for visualizing networks with larger images than their usual input resolution."
      ]
    },
    {
      "cell_type": "code",
      "metadata": {
        "id": "7EuUz-ICNKUr",
        "cellView": "both",
        "trusted": true
      },
      "source": [
        "\n",
        "\n",
        "\n",
        "def checkin(loss):\n",
        "  print(loss)\n",
        "  with torch.no_grad():\n",
        "    al = nom(model(get_mgrid(sideX)).cpu()).numpy()\n",
        "  for allls in al:\n",
        "    displ(allls)\n",
        "    display.display(display.Image(str(3)+'.png'))\n",
        "    print('\\n')\n",
        "  output.eval_js('new Audio(\"https://freesound.org/data/previews/80/80921_1022651-lq.ogg\").play()')\n",
        "\n",
        "\n",
        "def ascend_txt():\n",
        "  out = model(get_mgrid(sideX))\n",
        "\n",
        "  cutn = 64\n",
        "  p_s = []\n",
        "  for ch in range(cutn):\n",
        "    size = torch.randint(int(.5*sideX), int(.98*sideX), ())\n",
        "    offsetx = torch.randint(0, sideX - size, ())\n",
        "    offsety = torch.randint(0, sideX - size, ())\n",
        "    apper = out[:, :, offsetx:offsetx + size, offsety:offsety + size]\n",
        "    apper = torch.nn.functional.interpolate(apper, (224,224), mode='bilinear')\n",
        "    p_s.append(nom(apper))\n",
        "  into = torch.cat(p_s, 0)\n",
        "\n",
        "\n",
        "  \n",
        "  iii = perceptor.encode_image(into)\n",
        "  t = perceptor.encode_text(tx.cuda())\n",
        "  return -100*torch.cosine_similarity(t, iii, dim=-1).mean()\n",
        "\n",
        "def train(epoch, i):\n",
        "  loss = ascend_txt()\n",
        "  optimizer.zero_grad()\n",
        "  loss.backward()\n",
        "  optimizer.step()\n",
        "  \n",
        "\n",
        "  \n",
        "  \n",
        "  if itt % 150 == 0:\n",
        "    checkin(loss)\n",
        "\n",
        "nom = torchvision.transforms.Normalize((0.48145466, 0.4578275, 0.40821073), (0.26862954, 0.26130258, 0.27577711))\n",
        "\n",
        "\n",
        "itt = 0\n",
        "for epochs in range(10000):\n",
        "  for i in range(1000):\n",
        "    train(eps, i)\n",
        "    itt+=1\n",
        "  eps+=1\n"
      ],
      "execution_count": null,
      "outputs": []
    },
    {
      "cell_type": "markdown",
      "metadata": {
        "id": "YQ3AK_iIjwaw"
      },
      "source": [
        "# Bot"
      ]
    }
  ]
}