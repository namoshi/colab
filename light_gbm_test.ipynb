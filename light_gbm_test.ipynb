{
  "nbformat": 4,
  "nbformat_minor": 0,
  "metadata": {
    "colab": {
      "provenance": [],
      "authorship_tag": "ABX9TyMTmJzb0E16hBkrzRFC94P3",
      "include_colab_link": true
    },
    "kernelspec": {
      "name": "python3",
      "display_name": "Python 3"
    },
    "language_info": {
      "name": "python"
    }
  },
  "cells": [
    {
      "cell_type": "markdown",
      "metadata": {
        "id": "view-in-github",
        "colab_type": "text"
      },
      "source": [
        "<a href=\"https://colab.research.google.com/github/namoshi/colab/blob/master/light_gbm_test.ipynb\" target=\"_parent\"><img src=\"https://colab.research.google.com/assets/colab-badge.svg\" alt=\"Open In Colab\"/></a>"
      ]
    },
    {
      "cell_type": "code",
      "execution_count": 1,
      "metadata": {
        "id": "BHlQ3xECTtFh"
      },
      "outputs": [],
      "source": [
        "from sklearn.datasets import load_breast_cancer\n",
        "from sklearn.model_selection import train_test_split\n",
        "from sklearn.metrics import accuracy_score\n",
        "import lightgbm as lgb\n",
        "\n",
        "# データセットをロードする\n",
        "data = load_breast_cancer()\n",
        "\n",
        "# シード\n",
        "seed = 42\n",
        "\n",
        "# 説明変数をXに、目的変数をyに格納する\n",
        "X = data.data\n",
        "y = data.target\n",
        "\n",
        "X_train, X_test, y_train, y_test = train_test_split(X, y, test_size=0.2, random_state=seed)\n"
      ]
    },
    {
      "cell_type": "code",
      "source": [
        "# Datasetオブジェクトの作成 (異なるポイント①)\n",
        "d_train = lgb.Dataset(data=X_train,label=y_train)\n",
        "d_test = lgb.Dataset(data=X_test,label=y_test)\n",
        "\n",
        "# パラメータ設定\n",
        "params = {\n",
        "    'objective':'binary', # 二値分類タスク(回帰であればregression)\n",
        "    'metric':'binary_logloss', # objectiveを定義しているので自動入力されるが、明示しておく\n",
        "    'n_estimators':10000, # early_stopping使用時は大きな値\n",
        "    'verbosity': -1, # コマンドライン出力しない設定\n",
        "    'random_state':seed\n",
        "}\n",
        "\n",
        "# モデルの構築・学習 (異なるポイント②)\n",
        "gbm = lgb.train(params, d_train, valid_sets=[d_test], # early_stoppingの評価用データ\n",
        "                callbacks=[lgb.early_stopping(stopping_rounds=10, verbose=True)] # early_stopping用コールバック関数\n",
        "               )\n",
        "\n",
        "# テストデータで予測\n",
        "y_pred = gbm.predict(X_test)\n",
        "y_pred = y_pred.round(0) # 丸め込み\n",
        "\n",
        "# テストデータの評価\n",
        "accuracy = accuracy_score(y_pred,y_test)\n",
        "print(accuracy)\n",
        "# 0.9736842105263158\n"
      ],
      "metadata": {
        "colab": {
          "base_uri": "https://localhost:8080/"
        },
        "id": "iapumIfnTyDs",
        "outputId": "060aaed4-ed35-4ff3-f26e-1eeaf8642d56"
      },
      "execution_count": 2,
      "outputs": [
        {
          "output_type": "stream",
          "name": "stderr",
          "text": [
            "/usr/local/lib/python3.10/dist-packages/lightgbm/engine.py:172: UserWarning: Found `n_estimators` in params. Will use it instead of argument\n",
            "  _log_warning(f\"Found `{alias}` in params. Will use it instead of argument\")\n"
          ]
        },
        {
          "output_type": "stream",
          "name": "stdout",
          "text": [
            "Training until validation scores don't improve for 10 rounds\n",
            "Early stopping, best iteration is:\n",
            "[45]\tvalid_0's binary_logloss: 0.10416\n",
            "0.9736842105263158\n"
          ]
        }
      ]
    },
    {
      "cell_type": "code",
      "source": [
        "# パラメータ設定\n",
        "params = {\n",
        "    'objective':'binary',\n",
        "    'metric':'binary_logloss',\n",
        "    'n_estimators':10000,\n",
        "    'verbosity': -1,\n",
        "    'random_state':seed\n",
        "}\n",
        "\n",
        "# インスタンスの作成 (異なるポイント①)\n",
        "gbm = lgb.LGBMClassifier(**params)  # 回帰であればlgb.LGBMRegressor()\n",
        "\n",
        "# モデルの学習 (異なるポイント②)\n",
        "gbm.fit(X_train, y_train, eval_metric='bainry_logloss', eval_set=[(X_test, y_test)],\n",
        "        callbacks=[lgb.early_stopping(stopping_rounds=10, verbose=True)]\n",
        "       )\n",
        "\n",
        "# テストデータで予測\n",
        "y_pred = gbm.predict(X_test)\n",
        "y_pred = y_pred.round(0) # 丸め込み\n",
        "\n",
        "# テストデータの評価\n",
        "accuracy = accuracy_score(y_pred,y_test)\n",
        "print(accuracy)\n",
        "# 0.9736842105263158\n"
      ],
      "metadata": {
        "colab": {
          "base_uri": "https://localhost:8080/"
        },
        "id": "egCCVQedT3sj",
        "outputId": "8b080fdf-6509-4ad9-aa61-d2cde030b4d6"
      },
      "execution_count": 3,
      "outputs": [
        {
          "output_type": "stream",
          "name": "stdout",
          "text": [
            "Training until validation scores don't improve for 10 rounds\n",
            "Early stopping, best iteration is:\n",
            "[45]\tvalid_0's binary_logloss: 0.10416\n",
            "0.9736842105263158\n"
          ]
        }
      ]
    }
  ]
}