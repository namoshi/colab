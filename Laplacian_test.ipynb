{
  "nbformat": 4,
  "nbformat_minor": 0,
  "metadata": {
    "colab": {
      "name": "Laplacian_test.ipynb",
      "provenance": [],
      "authorship_tag": "ABX9TyMQeeSQzEVMRzyPcgcaN0SI",
      "include_colab_link": true
    },
    "kernelspec": {
      "name": "python3",
      "display_name": "Python 3"
    },
    "language_info": {
      "name": "python"
    }
  },
  "cells": [
    {
      "cell_type": "markdown",
      "metadata": {
        "id": "view-in-github",
        "colab_type": "text"
      },
      "source": [
        "<a href=\"https://colab.research.google.com/github/namoshi/colab/blob/master/Laplacian_test.ipynb\" target=\"_parent\"><img src=\"https://colab.research.google.com/assets/colab-badge.svg\" alt=\"Open In Colab\"/></a>"
      ]
    },
    {
      "cell_type": "code",
      "execution_count": 17,
      "metadata": {
        "id": "QybiZvJ5SmNw"
      },
      "outputs": [],
      "source": [
        "import numpy as np\n"
      ]
    },
    {
      "cell_type": "code",
      "source": [
        "###\n",
        "# Solve the Eigen Value Problem (desending order)\n",
        "# A Evec = Evec Eval\n",
        "# Usage:  Eval, Evec = eigen(A)\n",
        "###\n",
        "def eigen(A):\n",
        "\n",
        "    shapeA = A.shape\n",
        "\n",
        "    if not (shapeA[0] == shapeA[1]):\n",
        "        print>>sys.stderr, 'Error (eigen): the matrix A must be square.'\n",
        "    else:\n",
        "\n",
        "        Eval, Evec = np.linalg.eigh(A)\n",
        "        idx = Eval.argsort()\n",
        "        Eval = Eval[idx][::-1]\n",
        "        Evec = Evec[:,idx][:,::-1]\n",
        "\n",
        "    return (Eval, Evec)"
      ],
      "metadata": {
        "id": "RAEvakMSSqvr"
      },
      "execution_count": 18,
      "outputs": []
    },
    {
      "cell_type": "code",
      "source": [
        "# Adjacency Matrix\n",
        "\n",
        "A = np.array([[0,1,1,0,0], [1,0,1,0,1], [1,1,0,1,0], [0,0,1,0,1],[0,1,0,1,0]])\n",
        "print('Adjacency Matrix')\n",
        "print(A)\n",
        "\n",
        "# Degree Matrix\n",
        "D = np.diag(np.sum(A, axis=1))\n",
        "print('Degree Matrix')\n",
        "print(D)\n",
        "\n",
        "# Glaph Laplacian Matrix\n",
        "L = D - A\n",
        "print('Laplacian Matrix')\n",
        "print(L)\n"
      ],
      "metadata": {
        "colab": {
          "base_uri": "https://localhost:8080/"
        },
        "id": "qiwC63TnS7NQ",
        "outputId": "cfe649c2-c3c7-465b-f924-527df32fe737"
      },
      "execution_count": 19,
      "outputs": [
        {
          "output_type": "stream",
          "name": "stdout",
          "text": [
            "Adjacency Matrix\n",
            "[[0 1 1 0 0]\n",
            " [1 0 1 0 1]\n",
            " [1 1 0 1 0]\n",
            " [0 0 1 0 1]\n",
            " [0 1 0 1 0]]\n",
            "Degree Matrix\n",
            "[[2 0 0 0 0]\n",
            " [0 3 0 0 0]\n",
            " [0 0 3 0 0]\n",
            " [0 0 0 2 0]\n",
            " [0 0 0 0 2]]\n",
            "Laplacian Matrix\n",
            "[[ 2 -1 -1  0  0]\n",
            " [-1  3 -1  0 -1]\n",
            " [-1 -1  3 -1  0]\n",
            " [ 0  0 -1  2 -1]\n",
            " [ 0 -1  0 -1  2]]\n"
          ]
        }
      ]
    },
    {
      "cell_type": "code",
      "source": [
        "# EIgen values and Eigen Vectors of Laplacian Matrix\n",
        "[V, U] = eigen(L)\n",
        "\n",
        "print('Eiven Values')\n",
        "print(V)\n",
        "print('Eigen Vectors')\n",
        "print(U)"
      ],
      "metadata": {
        "colab": {
          "base_uri": "https://localhost:8080/"
        },
        "id": "8lStDKB7Uk6X",
        "outputId": "102d316f-b8ce-4942-8c02-7a552d296d34"
      },
      "execution_count": 20,
      "outputs": [
        {
          "output_type": "stream",
          "name": "stdout",
          "text": [
            "Eiven Values\n",
            "[4.61803399e+00 3.61803399e+00 2.38196601e+00 1.38196601e+00\n",
            " 1.38777878e-17]\n",
            "Eigen Vectors\n",
            "[[-6.61792833e-17  6.32455532e-01  3.02887049e-17 -6.32455532e-01\n",
            "   4.47213595e-01]\n",
            " [-6.01500955e-01 -5.11667274e-01 -3.71748034e-01 -1.95439508e-01\n",
            "   4.47213595e-01]\n",
            " [ 6.01500955e-01 -5.11667274e-01  3.71748034e-01 -1.95439508e-01\n",
            "   4.47213595e-01]\n",
            " [-3.71748034e-01  1.95439508e-01  6.01500955e-01  5.11667274e-01\n",
            "   4.47213595e-01]\n",
            " [ 3.71748034e-01  1.95439508e-01 -6.01500955e-01  5.11667274e-01\n",
            "   4.47213595e-01]]\n"
          ]
        }
      ]
    },
    {
      "cell_type": "code",
      "source": [
        "# Plot Eigen Values\n",
        "import matplotlib.pyplot as plt\n",
        "\n",
        "ind = np.arange(0,5)\n",
        "print(ind)\n",
        "plt.bar(ind, V)\n",
        "plt.show()"
      ],
      "metadata": {
        "colab": {
          "base_uri": "https://localhost:8080/",
          "height": 282
        },
        "id": "Z3Vj6M4BVK_M",
        "outputId": "b08be4af-0bb1-44fe-bef1-9f4ef3e66932"
      },
      "execution_count": 21,
      "outputs": [
        {
          "output_type": "stream",
          "name": "stdout",
          "text": [
            "[0 1 2 3 4]\n"
          ]
        },
        {
          "output_type": "display_data",
          "data": {
            "text/plain": [
              "<Figure size 432x288 with 1 Axes>"
            ],
            "image/png": "[encoded data removed]"
          },
          "metadata": {
            "needs_background": "light"
          }
        }
      ]
    },
    {
      "cell_type": "code",
      "source": [
        "print(V[:-1])"
      ],
      "metadata": {
        "colab": {
          "base_uri": "https://localhost:8080/"
        },
        "id": "-ywfPpsOZeyX",
        "outputId": "869534ea-9382-4ede-886b-f583d2140754"
      },
      "execution_count": 23,
      "outputs": [
        {
          "output_type": "stream",
          "name": "stdout",
          "text": [
            "[4.61803399 3.61803399 2.38196601 1.38196601]\n"
          ]
        }
      ]
    },
    {
      "cell_type": "code",
      "source": [
        "# Reconstruction\n",
        "for i in ind-1:\n",
        "  print('degree=', 5-(i+1))\n",
        "  VV = np.diag(V[:-(i+1)])\n",
        "  UU = U[:,:-(i+1)]\n",
        "  print(UU)\n",
        "  print(VV)\n",
        "  LApp = np.dot(UU, np.dot(VV, np.transpose(UU)))\n",
        "  print(LApp)\n",
        "\n",
        "  print('MSE=', np.linalg.norm(L-LApp))"
      ],
      "metadata": {
        "colab": {
          "base_uri": "https://localhost:8080/"
        },
        "id": "7MbO5kCaYgIF",
        "outputId": "2295c466-6904-473f-9826-c7686a485eb5"
      },
      "execution_count": 29,
      "outputs": [
        {
          "output_type": "stream",
          "name": "stdout",
          "text": [
            "degree= 5\n",
            "[]\n",
            "[]\n",
            "[[0. 0. 0. 0. 0.]\n",
            " [0. 0. 0. 0. 0.]\n",
            " [0. 0. 0. 0. 0.]\n",
            " [0. 0. 0. 0. 0.]\n",
            " [0. 0. 0. 0. 0.]]\n",
            "MSE= 6.48074069840786\n",
            "degree= 4\n",
            "[[-6.61792833e-17  6.32455532e-01  3.02887049e-17 -6.32455532e-01]\n",
            " [-6.01500955e-01 -5.11667274e-01 -3.71748034e-01 -1.95439508e-01]\n",
            " [ 6.01500955e-01 -5.11667274e-01  3.71748034e-01 -1.95439508e-01]\n",
            " [-3.71748034e-01  1.95439508e-01  6.01500955e-01  5.11667274e-01]\n",
            " [ 3.71748034e-01  1.95439508e-01 -6.01500955e-01  5.11667274e-01]]\n",
            "[[4.61803399 0.         0.         0.        ]\n",
            " [0.         3.61803399 0.         0.        ]\n",
            " [0.         0.         2.38196601 0.        ]\n",
            " [0.         0.         0.         1.38196601]]\n",
            "[[ 2.00000000e+00 -1.00000000e+00 -1.00000000e+00 -1.18464852e-16\n",
            "  -3.35426643e-17]\n",
            " [-1.00000000e+00  3.00000000e+00 -1.00000000e+00  6.55822617e-16\n",
            "  -1.00000000e+00]\n",
            " [-1.00000000e+00 -1.00000000e+00  3.00000000e+00 -1.00000000e+00\n",
            "   9.80141977e-16]\n",
            " [-7.10557786e-17  3.34159507e-16 -1.00000000e+00  2.00000000e+00\n",
            "  -1.00000000e+00]\n",
            " [-2.95298793e-17 -1.00000000e+00  9.76063596e-16 -1.00000000e+00\n",
            "   2.00000000e+00]]\n",
            "MSE= 4.397513631233259e-15\n",
            "degree= 3\n",
            "[[-6.61792833e-17  6.32455532e-01  3.02887049e-17]\n",
            " [-6.01500955e-01 -5.11667274e-01 -3.71748034e-01]\n",
            " [ 6.01500955e-01 -5.11667274e-01  3.71748034e-01]\n",
            " [-3.71748034e-01  1.95439508e-01  6.01500955e-01]\n",
            " [ 3.71748034e-01  1.95439508e-01 -6.01500955e-01]]\n",
            "[[4.61803399 0.         0.        ]\n",
            " [0.         3.61803399 0.        ]\n",
            " [0.         0.         2.38196601]]\n",
            "[[ 1.4472136  -1.17082039 -1.17082039  0.4472136   0.4472136 ]\n",
            " [-1.17082039  2.9472136  -1.0527864   0.1381966  -0.8618034 ]\n",
            " [-1.17082039 -1.0527864   2.9472136  -0.8618034   0.1381966 ]\n",
            " [ 0.4472136   0.1381966  -0.8618034   1.6381966  -1.3618034 ]\n",
            " [ 0.4472136  -0.8618034   0.1381966  -1.3618034   1.6381966 ]]\n",
            "MSE= 1.3819660112501053\n",
            "degree= 2\n",
            "[[-6.61792833e-17  6.32455532e-01]\n",
            " [-6.01500955e-01 -5.11667274e-01]\n",
            " [ 6.01500955e-01 -5.11667274e-01]\n",
            " [-3.71748034e-01  1.95439508e-01]\n",
            " [ 3.71748034e-01  1.95439508e-01]]\n",
            "[[4.61803399 0.        ]\n",
            " [0.         3.61803399]]\n",
            "[[ 1.4472136  -1.17082039 -1.17082039  0.4472136   0.4472136 ]\n",
            " [-1.17082039  2.61803399 -0.7236068   0.67082039 -1.39442719]\n",
            " [-1.17082039 -0.7236068   2.61803399 -1.39442719  0.67082039]\n",
            " [ 0.4472136   0.67082039 -1.39442719  0.7763932  -0.5       ]\n",
            " [ 0.4472136  -1.39442719  0.67082039 -0.5         0.7763932 ]]\n",
            "MSE= 2.7538322634106205\n",
            "degree= 1\n",
            "[[-6.61792833e-17]\n",
            " [-6.01500955e-01]\n",
            " [ 6.01500955e-01]\n",
            " [-3.71748034e-01]\n",
            " [ 3.71748034e-01]]\n",
            "[[4.61803399]]\n",
            "[[ 2.02255921e-32  1.83829627e-16 -1.83829627e-16  1.13612958e-16\n",
            "  -1.13612958e-16]\n",
            " [ 1.83829627e-16  1.67082039e+00 -1.67082039e+00  1.03262379e+00\n",
            "  -1.03262379e+00]\n",
            " [-1.83829627e-16 -1.67082039e+00  1.67082039e+00 -1.03262379e+00\n",
            "   1.03262379e+00]\n",
            " [ 1.13612958e-16  1.03262379e+00 -1.03262379e+00  6.38196601e-01\n",
            "  -6.38196601e-01]\n",
            " [-1.13612958e-16 -1.03262379e+00  1.03262379e+00 -6.38196601e-01\n",
            "   6.38196601e-01]]\n",
            "MSE= 4.54684088997523\n"
          ]
        }
      ]
    }
  ]
}