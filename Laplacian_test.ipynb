{
  "nbformat": 4,
  "nbformat_minor": 0,
  "metadata": {
    "colab": {
      "name": "Laplacian_test.ipynb",
      "provenance": [],
      "authorship_tag": "ABX9TyOoRMiqYNsJNXF27Tu6gCRk",
      "include_colab_link": true
    },
    "kernelspec": {
      "name": "python3",
      "display_name": "Python 3"
    },
    "language_info": {
      "name": "python"
    }
  },
  "cells": [
    {
      "cell_type": "markdown",
      "metadata": {
        "id": "view-in-github",
        "colab_type": "text"
      },
      "source": [
        "<a href=\"https://colab.research.google.com/github/namoshi/colab/blob/master/Laplacian_test.ipynb\" target=\"_parent\"><img src=\"https://colab.research.google.com/assets/colab-badge.svg\" alt=\"Open In Colab\"/></a>"
      ]
    },
    {
      "cell_type": "code",
      "execution_count": 1,
      "metadata": {
        "id": "QybiZvJ5SmNw"
      },
      "outputs": [],
      "source": [
        "import numpy as np\n"
      ]
    },
    {
      "cell_type": "code",
      "source": [
        "###\n",
        "# Solve the Eigen Value Problem (desending order)\n",
        "# A Evec = Evec Eval\n",
        "# Usage:  Eval, Evec = eigen(A)\n",
        "###\n",
        "def eigen(A):\n",
        "\n",
        "    shapeA = A.shape\n",
        "\n",
        "    if not (shapeA[0] == shapeA[1]):\n",
        "        print>>sys.stderr, 'Error (eigen): the matrix A must be square.'\n",
        "    else:\n",
        "\n",
        "        Eval, Evec = np.linalg.eigh(A)\n",
        "        idx = Eval.argsort()\n",
        "        Eval = Eval[idx][::-1]\n",
        "        Evec = Evec[:,idx][:,::-1]\n",
        "\n",
        "    return (Eval, Evec)"
      ],
      "metadata": {
        "id": "RAEvakMSSqvr"
      },
      "execution_count": 2,
      "outputs": []
    },
    {
      "cell_type": "code",
      "source": [
        "# Adjacency Matrix\n",
        "\n",
        "A = np.array([[0,1,1,0,0], [1,0,1,0,1], [1,1,0,1,0], [0,0,1,0,1],[0,1,0,1,0]])\n",
        "print('Adjacency Matrix')\n",
        "print(A)\n",
        "\n",
        "# Degree Matrix\n",
        "D = np.diag(np.sum(A, axis=1))\n",
        "print('Degree Matrix')\n",
        "print(D)\n",
        "\n",
        "# Glaph Laplacian Matrix\n",
        "L = D - A\n",
        "print('Laplacian Matrix')\n",
        "print(L)\n"
      ],
      "metadata": {
        "colab": {
          "base_uri": "https://localhost:8080/"
        },
        "id": "qiwC63TnS7NQ",
        "outputId": "43e582aa-2130-44b9-db7d-a9d899e556a2"
      },
      "execution_count": 8,
      "outputs": [
        {
          "output_type": "stream",
          "name": "stdout",
          "text": [
            "Adjacency Matrix\n",
            "[[0 1 1 0 0]\n",
            " [1 0 1 0 1]\n",
            " [1 1 0 1 0]\n",
            " [0 0 1 0 1]\n",
            " [0 1 0 1 0]]\n",
            "Degree Matrix\n",
            "[[2 0 0 0 0]\n",
            " [0 3 0 0 0]\n",
            " [0 0 3 0 0]\n",
            " [0 0 0 2 0]\n",
            " [0 0 0 0 2]]\n",
            "Laplacian Matrix\n",
            "[[ 2 -1 -1  0  0]\n",
            " [-1  3 -1  0 -1]\n",
            " [-1 -1  3 -1  0]\n",
            " [ 0  0 -1  2 -1]\n",
            " [ 0 -1  0 -1  2]]\n"
          ]
        }
      ]
    },
    {
      "cell_type": "code",
      "source": [
        "# EIgen values and Eigen Vectors of Laplacian Matrix\n",
        "[EVal, EVec] = eigen(L)\n",
        "\n",
        "print('Eiven Values')\n",
        "print(EVal)\n",
        "print('Eigen Vectors')\n",
        "print(EVec)"
      ],
      "metadata": {
        "colab": {
          "base_uri": "https://localhost:8080/"
        },
        "id": "8lStDKB7Uk6X",
        "outputId": "0a04f1c5-eddd-4afd-8498-d994442a1933"
      },
      "execution_count": 10,
      "outputs": [
        {
          "output_type": "stream",
          "name": "stdout",
          "text": [
            "Eiven Values\n",
            "[4.61803399e+00 3.61803399e+00 2.38196601e+00 1.38196601e+00\n",
            " 1.38777878e-17]\n",
            "Eigen Vectors\n",
            "[[-6.61792833e-17  6.32455532e-01  3.02887049e-17 -6.32455532e-01\n",
            "   4.47213595e-01]\n",
            " [-6.01500955e-01 -5.11667274e-01 -3.71748034e-01 -1.95439508e-01\n",
            "   4.47213595e-01]\n",
            " [ 6.01500955e-01 -5.11667274e-01  3.71748034e-01 -1.95439508e-01\n",
            "   4.47213595e-01]\n",
            " [-3.71748034e-01  1.95439508e-01  6.01500955e-01  5.11667274e-01\n",
            "   4.47213595e-01]\n",
            " [ 3.71748034e-01  1.95439508e-01 -6.01500955e-01  5.11667274e-01\n",
            "   4.47213595e-01]]\n"
          ]
        }
      ]
    },
    {
      "cell_type": "code",
      "source": [
        "# Plot Eigen Values\n",
        "import matplotlib.pyplot as plt\n",
        "\n",
        "ind = np.space\n",
        "plt.plot(EVal)\n",
        "plt.show()"
      ],
      "metadata": {
        "colab": {
          "base_uri": "https://localhost:8080/",
          "height": 265
        },
        "id": "Z3Vj6M4BVK_M",
        "outputId": "7f788967-f690-4150-86f2-244510364af6"
      },
      "execution_count": 12,
      "outputs": [
        {
          "output_type": "display_data",
          "data": {
            "text/plain": [
              "<Figure size 432x288 with 1 Axes>"
            ],
            "image/png": "[encoded data removed]"
          },
          "metadata": {
            "needs_background": "light"
          }
        }
      ]
    }
  ]
}