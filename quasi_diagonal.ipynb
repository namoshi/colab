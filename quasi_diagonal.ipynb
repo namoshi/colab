{
  "nbformat": 4,
  "nbformat_minor": 0,
  "metadata": {
    "colab": {
      "provenance": [],
      "authorship_tag": "ABX9TyP07g7Qu55b0L7OqVzoivpE",
      "include_colab_link": true
    },
    "kernelspec": {
      "name": "python3",
      "display_name": "Python 3"
    },
    "language_info": {
      "name": "python"
    }
  },
  "cells": [
    {
      "cell_type": "markdown",
      "metadata": {
        "id": "view-in-github",
        "colab_type": "text"
      },
      "source": [
        "<a href=\"https://colab.research.google.com/github/namoshi/colab/blob/master/quasi_diagonal.ipynb\" target=\"_parent\"><img src=\"https://colab.research.google.com/assets/colab-badge.svg\" alt=\"Open In Colab\"/></a>"
      ]
    },
    {
      "cell_type": "markdown",
      "source": [
        "# Quasi Diagonal Natural Gradient\n",
        "\n"
      ],
      "metadata": {
        "id": "2eTQSkkyw2Q5"
      }
    },
    {
      "cell_type": "code",
      "source": [
        "import numpy as np\n",
        "\n",
        "F = np.array([[2, 1, 2, 3], [1, 3, 0, 0], [2, 0, 2, 0], [3, 0, 0, 1]])\n",
        "\n",
        "print(F)"
      ],
      "metadata": {
        "colab": {
          "base_uri": "https://localhost:8080/"
        },
        "id": "_rg4JhHlxAMb",
        "outputId": "5c75f174-0171-42f6-e0ef-31fbc36ff0fc"
      },
      "execution_count": 3,
      "outputs": [
        {
          "output_type": "stream",
          "name": "stdout",
          "text": [
            "[[2 1 2 3]\n",
            " [1 3 0 0]\n",
            " [2 0 2 0]\n",
            " [3 0 0 1]]\n"
          ]
        }
      ]
    },
    {
      "cell_type": "code",
      "source": [
        "from numpy.linalg import inv\n",
        "\n",
        "Finv = inv(F)\n",
        "\n",
        "print(Finv)"
      ],
      "metadata": {
        "colab": {
          "base_uri": "https://localhost:8080/"
        },
        "id": "d_iyOA59yBJO",
        "outputId": "86877300-c568-41e8-cf12-fbbb6689e961"
      },
      "execution_count": 4,
      "outputs": [
        {
          "output_type": "stream",
          "name": "stdout",
          "text": [
            "[[-0.10714286  0.03571429  0.10714286  0.32142857]\n",
            " [ 0.03571429  0.32142857 -0.03571429 -0.10714286]\n",
            " [ 0.10714286 -0.03571429  0.39285714 -0.32142857]\n",
            " [ 0.32142857 -0.10714286 -0.32142857  0.03571429]]\n"
          ]
        }
      ]
    },
    {
      "cell_type": "code",
      "source": [
        "print(F[1, 1])\n",
        "\n",
        "denomi = F[0, 0]\n",
        "fdf = 0.0\n",
        "for i in range(3):\n",
        "  print(i)\n",
        "  fdf += F[0, i+1] * F[0, i+1] / F[i+1, i+1]\n",
        "\n",
        "denomi -= fdf\n",
        "\n",
        "print('(1,2)=', F[0, 1] * F[0, 2]/(F[1, 1] * F[2, 2]) / denomi)\n",
        "print('(2,3)=', F[0, 2] * F[0, 3]/(F[2, 2] * F[3, 3]) / denomi)"
      ],
      "metadata": {
        "colab": {
          "base_uri": "https://localhost:8080/"
        },
        "id": "5UxaR-szySmF",
        "outputId": "71e5f07e-3361-409a-9523-a297860431d9"
      },
      "execution_count": 12,
      "outputs": [
        {
          "output_type": "stream",
          "name": "stdout",
          "text": [
            "3\n",
            "0\n",
            "1\n",
            "2\n",
            "(1,2)= -0.03571428571428571\n",
            "(2,3)= -0.3214285714285714\n"
          ]
        }
      ]
    },
    {
      "cell_type": "markdown",
      "source": [
        "非対角要素の計算は合っている！"
      ],
      "metadata": {
        "id": "hFJn48Wz0p7l"
      }
    },
    {
      "cell_type": "code",
      "source": [],
      "metadata": {
        "id": "G2tjexJS06ew"
      },
      "execution_count": null,
      "outputs": []
    }
  ]
}