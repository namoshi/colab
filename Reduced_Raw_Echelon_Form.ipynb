{
  "nbformat": 4,
  "nbformat_minor": 0,
  "metadata": {
    "colab": {
      "provenance": [],
      "authorship_tag": "ABX9TyN5htwTy7W7sumMlHFo7VRV",
      "include_colab_link": true
    },
    "kernelspec": {
      "name": "python3",
      "display_name": "Python 3"
    },
    "language_info": {
      "name": "python"
    }
  },
  "cells": [
    {
      "cell_type": "markdown",
      "metadata": {
        "id": "view-in-github",
        "colab_type": "text"
      },
      "source": [
        "<a href=\"https://colab.research.google.com/github/namoshi/colab/blob/master/Reduced_Raw_Echelon_Form.ipynb\" target=\"_parent\"><img src=\"https://colab.research.google.com/assets/colab-badge.svg\" alt=\"Open In Colab\"/></a>"
      ]
    },
    {
      "cell_type": "code",
      "execution_count": 1,
      "metadata": {
        "colab": {
          "base_uri": "https://localhost:8080/"
        },
        "id": "SKLBccbTfJ3L",
        "outputId": "ab255d13-6c21-45b9-9cda-2c681ed2b9bb"
      },
      "outputs": [
        {
          "output_type": "stream",
          "name": "stdout",
          "text": [
            "Reduced Row Echelon Form:\n",
            "[[ 1  0 -1]\n",
            " [ 0  1  2]\n",
            " [ 0  0  0]]\n"
          ]
        }
      ],
      "source": [
        "import numpy as np\n",
        "\n",
        "def find_reduced_row_echelon_form(matrix):\n",
        "    m, n = matrix.shape\n",
        "    lead = 0  # リーディングエッジの列\n",
        "\n",
        "    for r in range(m):\n",
        "        if lead >= n:\n",
        "            break\n",
        "\n",
        "        i = r\n",
        "        while matrix[i, lead] == 0:\n",
        "            i += 1\n",
        "            if i == m:\n",
        "                i = r\n",
        "                lead += 1\n",
        "                if n == lead:\n",
        "                    return matrix\n",
        "\n",
        "        matrix[[i, r]] = matrix[[r, i]]\n",
        "\n",
        "        if matrix[r, lead] != 0:\n",
        "            matrix[r] = matrix[r] / matrix[r, lead]\n",
        "\n",
        "        for i in range(m):\n",
        "            if i != r:\n",
        "                factor = matrix[i, lead]\n",
        "                matrix[i] = matrix[i] - factor * matrix[r]\n",
        "\n",
        "        lead += 1\n",
        "\n",
        "    return matrix\n",
        "\n"
      ]
    },
    {
      "cell_type": "code",
      "source": [
        "# サンプル行列を作成\n",
        "A = np.array([[1, 2, 3],\n",
        "              [4, 5, 6],\n",
        "              [7, 8, 9]])\n",
        "\n",
        "reduced_row_echelon_form = find_reduced_row_echelon_form(A)\n",
        "print(\"Reduced Row Echelon Form:\")\n",
        "print(reduced_row_echelon_form)\n"
      ],
      "metadata": {
        "colab": {
          "base_uri": "https://localhost:8080/"
        },
        "id": "1SWIx7wcfY9V",
        "outputId": "ad3eff35-396c-4e10-cdc4-fcfae47de897"
      },
      "execution_count": 2,
      "outputs": [
        {
          "output_type": "stream",
          "name": "stdout",
          "text": [
            "Reduced Row Echelon Form:\n",
            "[[ 1  0 -1]\n",
            " [ 0  1  2]\n",
            " [ 0  0  0]]\n"
          ]
        }
      ]
    },
    {
      "cell_type": "code",
      "source": [
        "A = np.array([[1, 3, 2, 3],\n",
        "              [-1, -2, 1, 1],\n",
        "              [2, 5, -1, 0],\n",
        "              [0, 1, 1, 2]])\n",
        "\n",
        "reduced_row_echelon_form = find_reduced_row_echelon_form(A)\n",
        "print(\"Reduced Row Echelon Form:\")\n",
        "print(reduced_row_echelon_form)\n"
      ],
      "metadata": {
        "colab": {
          "base_uri": "https://localhost:8080/"
        },
        "id": "L52ZCajsfbCj",
        "outputId": "18e5cc0d-fab0-4994-f82c-5b1545f7ebf8"
      },
      "execution_count": 4,
      "outputs": [
        {
          "output_type": "stream",
          "name": "stdout",
          "text": [
            "Reduced Row Echelon Form:\n",
            "[[ 1  0  0 -2]\n",
            " [ 0  1  0  1]\n",
            " [ 0  0  1  1]\n",
            " [ 0  0  0  0]]\n"
          ]
        }
      ]
    }
  ]
}