{
  "nbformat": 4,
  "nbformat_minor": 0,
  "metadata": {
    "colab": {
      "provenance": [],
      "authorship_tag": "ABX9TyOC2GRMB8QHH1LVUOn+ZitA",
      "include_colab_link": true
    },
    "kernelspec": {
      "name": "python3",
      "display_name": "Python 3"
    },
    "language_info": {
      "name": "python"
    }
  },
  "cells": [
    {
      "cell_type": "markdown",
      "metadata": {
        "id": "view-in-github",
        "colab_type": "text"
      },
      "source": [
        "<a href=\"https://colab.research.google.com/github/namoshi/colab/blob/master/srank.ipynb\" target=\"_parent\"><img src=\"https://colab.research.google.com/assets/colab-badge.svg\" alt=\"Open In Colab\"/></a>"
      ]
    },
    {
      "cell_type": "markdown",
      "source": [
        "# Spectral Norm and Stable Rank\n",
        "\n",
        "Routine for spectral Norm and stable rank.\n",
        "  Please refere the paper entitled \"Randomized Numerical Linear Algebra: Foundations & Algorithms\""
      ],
      "metadata": {
        "id": "aEnmkpttLcTr"
      }
    },
    {
      "cell_type": "code",
      "execution_count": 4,
      "metadata": {
        "id": "3t7xjcG5IX8B"
      },
      "outputs": [],
      "source": [
        "import numpy as np\n",
        "\n",
        "def intdim(A):\n",
        "\n",
        "  U, S, Vh = np.linalg.svd(A)\n",
        "\n",
        "  # Spectral norm (the maximum singular value of )\n",
        "  sn = np.max(S)\n",
        "  tr = np.trace(A)\n",
        "\n",
        "  return(tr/sn)\n",
        "\n",
        "def srank(A):\n",
        "\n",
        "  sr = intdim(np.dot(A.T, A))\n",
        "\n",
        "  return(sr)\n",
        "\n"
      ]
    },
    {
      "cell_type": "code",
      "source": [
        "\n",
        "A = np.array([[1, 2, 3], [3, 3, 3]])\n",
        "AA = np.dot(A.T, A)\n",
        "\n",
        "id = intdim(AA)\n",
        "\n",
        "print('intdim=', id)\n",
        "\n",
        "sr = srank(A)\n",
        "\n",
        "print('srank=', sr)\n",
        "\n",
        "print('rank=', np.linalg.matrix_rank(A))\n",
        "\n"
      ],
      "metadata": {
        "colab": {
          "base_uri": "https://localhost:8080/"
        },
        "id": "4Vu2lOO0K9g1",
        "outputId": "edfe1b6a-bbf2-470f-9a35-52a318958f99"
      },
      "execution_count": 7,
      "outputs": [
        {
          "output_type": "stream",
          "name": "stdout",
          "text": [
            "intdim= 1.0343698598298126\n",
            "srank= 1.0343698598298126\n",
            "rank= 2\n"
          ]
        }
      ]
    }
  ]
}