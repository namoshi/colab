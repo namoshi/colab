{
  "nbformat": 4,
  "nbformat_minor": 0,
  "metadata": {
    "kernelspec": {
      "name": "python36",
      "display_name": "Python 3.6",
      "language": "python"
    },
    "language_info": {
      "mimetype": "text/x-python",
      "nbconvert_exporter": "python",
      "name": "python",
      "pygments_lexer": "ipython3",
      "version": "3.6.6",
      "file_extension": ".py",
      "codemirror_mode": {
        "version": 3,
        "name": "ipython"
      }
    },
    "colab": {
      "name": "linalg.ipynb",
      "provenance": [],
      "include_colab_link": true
    }
  },
  "cells": [
    {
      "cell_type": "markdown",
      "metadata": {
        "id": "view-in-github",
        "colab_type": "text"
      },
      "source": [
        "<a href=\"https://colab.research.google.com/github/namoshi/colab/blob/master/linalg.ipynb\" target=\"_parent\"><img src=\"https://colab.research.google.com/assets/colab-badge.svg\" alt=\"Open In Colab\"/></a>"
      ]
    },
    {
      "cell_type": "markdown",
      "metadata": {
        "collapsed": true,
        "id": "xRH28jbf3LA7",
        "colab_type": "text"
      },
      "source": [
        "## sympy を用いた線形代数"
      ]
    },
    {
      "cell_type": "code",
      "metadata": {
        "trusted": true,
        "id": "GDjHK23s3LBH",
        "colab_type": "code",
        "colab": {}
      },
      "source": [
        "import sympy as sym"
      ],
      "execution_count": 0,
      "outputs": []
    },
    {
      "cell_type": "markdown",
      "metadata": {
        "id": "wS76y0SP3LBp",
        "colab_type": "text"
      },
      "source": [
        "行列の宣言"
      ]
    },
    {
      "cell_type": "code",
      "metadata": {
        "trusted": true,
        "id": "TFzmg_Gl3LBs",
        "colab_type": "code",
        "colab": {
          "base_uri": "https://localhost:8080/",
          "height": 34
        },
        "outputId": "04cd0422-3ae8-4328-fdc4-311a671e7a76"
      },
      "source": [
        "A = sym.Matrix([\n",
        "    [1,2,3],\n",
        "    [4,5,6],\n",
        "    [7,8,9]\n",
        "])\n",
        "print(A)"
      ],
      "execution_count": 2,
      "outputs": [
        {
          "output_type": "stream",
          "text": [
            "Matrix([[1, 2, 3], [4, 5, 6], [7, 8, 9]])\n"
          ],
          "name": "stdout"
        }
      ]
    },
    {
      "cell_type": "markdown",
      "metadata": {
        "id": "wkuqfdTQ3LCJ",
        "colab_type": "text"
      },
      "source": [
        "   ”ｓｙｍｐｙ．Matrix” をnumpy.arrayに変換"
      ]
    },
    {
      "cell_type": "code",
      "metadata": {
        "trusted": true,
        "id": "MlibJi_k3LCP",
        "colab_type": "code",
        "colab": {
          "base_uri": "https://localhost:8080/",
          "height": 68
        },
        "outputId": "d2c82e5f-ce44-4b07-e9e1-8d1cad2ac81f"
      },
      "source": [
        "A_n = sym.matrix2numpy(A)\n",
        "print(A_n)"
      ],
      "execution_count": 3,
      "outputs": [
        {
          "output_type": "stream",
          "text": [
            "[[1 2 3]\n",
            " [4 5 6]\n",
            " [7 8 9]]\n"
          ],
          "name": "stdout"
        }
      ]
    },
    {
      "cell_type": "markdown",
      "metadata": {
        "id": "jEPJVgXT3LCe",
        "colab_type": "text"
      },
      "source": [
        "零行列"
      ]
    },
    {
      "cell_type": "code",
      "metadata": {
        "trusted": true,
        "id": "2MBn52MW3LCi",
        "colab_type": "code",
        "colab": {
          "base_uri": "https://localhost:8080/",
          "height": 34
        },
        "outputId": "29b062e0-fbfc-4c85-d4fa-4230a56e9fa7"
      },
      "source": [
        "Zero = sym.Matrix.zeros(2, 3)\n",
        "print(Zero)"
      ],
      "execution_count": 4,
      "outputs": [
        {
          "output_type": "stream",
          "text": [
            "Matrix([[0, 0, 0], [0, 0, 0]])\n"
          ],
          "name": "stdout"
        }
      ]
    },
    {
      "cell_type": "markdown",
      "metadata": {
        "id": "kudnwT733LCs",
        "colab_type": "text"
      },
      "source": [
        "単位行列"
      ]
    },
    {
      "cell_type": "code",
      "metadata": {
        "trusted": true,
        "id": "nE7_TjHR3LCu",
        "colab_type": "code",
        "colab": {
          "base_uri": "https://localhost:8080/",
          "height": 34
        },
        "outputId": "c513d9ba-a726-451c-f497-cfde03c08672"
      },
      "source": [
        "I = sym.Matrix.eye(3,3)\n",
        "print(I)"
      ],
      "execution_count": 5,
      "outputs": [
        {
          "output_type": "stream",
          "text": [
            "Matrix([[1, 0, 0], [0, 1, 0], [0, 0, 1]])\n"
          ],
          "name": "stdout"
        }
      ]
    },
    {
      "cell_type": "markdown",
      "metadata": {
        "id": "6foDMmyt3LC5",
        "colab_type": "text"
      },
      "source": [
        "対角行列"
      ]
    },
    {
      "cell_type": "code",
      "metadata": {
        "trusted": true,
        "id": "7ybps5Fw3LC7",
        "colab_type": "code",
        "colab": {
          "base_uri": "https://localhost:8080/",
          "height": 34
        },
        "outputId": "06fdc481-0d35-4a2e-b74a-d3f8f4f04044"
      },
      "source": [
        "D = sym.Matrix.diag(1,2,3)\n",
        "print(D)"
      ],
      "execution_count": 6,
      "outputs": [
        {
          "output_type": "stream",
          "text": [
            "Matrix([[1, 0, 0], [0, 2, 0], [0, 0, 3]])\n"
          ],
          "name": "stdout"
        }
      ]
    },
    {
      "cell_type": "code",
      "metadata": {
        "trusted": true,
        "id": "xMEs3niQ3LDS",
        "colab_type": "code",
        "colab": {
          "base_uri": "https://localhost:8080/",
          "height": 85
        },
        "outputId": "e16c4e8b-55be-4c6f-dd67-42659344597c"
      },
      "source": [
        "print(A)\n",
        "print(A[1,2])\n",
        "print(A[0,0])\n",
        "print(A[5])"
      ],
      "execution_count": 7,
      "outputs": [
        {
          "output_type": "stream",
          "text": [
            "Matrix([[1, 2, 3], [4, 5, 6], [7, 8, 9]])\n",
            "6\n",
            "1\n",
            "6\n"
          ],
          "name": "stdout"
        }
      ]
    },
    {
      "cell_type": "code",
      "metadata": {
        "trusted": true,
        "id": "8rQVSTml3LDq",
        "colab_type": "code",
        "colab": {
          "base_uri": "https://localhost:8080/",
          "height": 68
        },
        "outputId": "432d8f1a-c2a4-45e8-a0b4-0043f7f43b9e"
      },
      "source": [
        "B=sym.Matrix([[7,8,9],[4,5,6],[1,2,3]])\n",
        "print(A)\n",
        "print(B)\n",
        "print(A * B)"
      ],
      "execution_count": 8,
      "outputs": [
        {
          "output_type": "stream",
          "text": [
            "Matrix([[1, 2, 3], [4, 5, 6], [7, 8, 9]])\n",
            "Matrix([[7, 8, 9], [4, 5, 6], [1, 2, 3]])\n",
            "Matrix([[18, 24, 30], [54, 69, 84], [90, 114, 138]])\n"
          ],
          "name": "stdout"
        }
      ]
    },
    {
      "cell_type": "markdown",
      "metadata": {
        "trusted": true,
        "id": "UN_m4b133LD6",
        "colab_type": "text"
      },
      "source": [
        "行列の簡約化（Raw Echelon Form)"
      ]
    },
    {
      "cell_type": "code",
      "metadata": {
        "trusted": true,
        "id": "z6xsbZEQ3LD8",
        "colab_type": "code",
        "colab": {
          "base_uri": "https://localhost:8080/",
          "height": 51
        },
        "outputId": "a94ce7bb-c4c1-4691-ec88-8d7abbe77d22"
      },
      "source": [
        "print(\"A={}\".format(A))\n",
        "(G, Pv) = A.rref()\n",
        "print(\"G={}\".format(G))"
      ],
      "execution_count": 9,
      "outputs": [
        {
          "output_type": "stream",
          "text": [
            "A=Matrix([[1, 2, 3], [4, 5, 6], [7, 8, 9]])\n",
            "G=Matrix([[1, 0, -1], [0, 1, 2], [0, 0, 0]])\n"
          ],
          "name": "stdout"
        }
      ]
    },
    {
      "cell_type": "markdown",
      "metadata": {
        "id": "5NNLsVqV3n4a",
        "colab_type": "text"
      },
      "source": [
        "行列のランク"
      ]
    },
    {
      "cell_type": "code",
      "metadata": {
        "trusted": true,
        "id": "44HFINlC3LFG",
        "colab_type": "code",
        "colab": {
          "base_uri": "https://localhost:8080/",
          "height": 68
        },
        "outputId": "63631928-cdaa-4cff-dc71-a045ed992d41"
      },
      "source": [
        "print(A.rank())\n",
        "print(B.rank())\n",
        "print((A * B - I).rank())"
      ],
      "execution_count": 12,
      "outputs": [
        {
          "output_type": "stream",
          "text": [
            "2\n",
            "2\n",
            "3\n"
          ],
          "name": "stdout"
        }
      ]
    },
    {
      "cell_type": "markdown",
      "metadata": {
        "id": "Ngitfo7x3LFq",
        "colab_type": "text"
      },
      "source": [
        "行列の逆行列"
      ]
    },
    {
      "cell_type": "code",
      "metadata": {
        "trusted": true,
        "id": "TJATuyGC3LFt",
        "colab_type": "code",
        "colab": {
          "base_uri": "https://localhost:8080/",
          "height": 51
        },
        "outputId": "f8854e7b-6160-4f03-a8c1-2263b5ff6dc7"
      },
      "source": [
        "C=A * B - I\n",
        "Cinv = C.inv()\n",
        "print(Cinv)\n",
        "print(C * Cinv)"
      ],
      "execution_count": 13,
      "outputs": [
        {
          "output_type": "stream",
          "text": [
            "Matrix([[-65/137, 33/137, -6/137], [81/274, -371/548, 48/137], [9/137, 111/274, -35/137]])\n",
            "Matrix([[1, 0, 0], [0, 1, 0], [0, 0, 1]])\n"
          ],
          "name": "stdout"
        }
      ]
    },
    {
      "cell_type": "markdown",
      "metadata": {
        "trusted": true,
        "id": "WvFbgswt3LF2",
        "colab_type": "text"
      },
      "source": [
        "### numpy, scipyを用いて線形代数\n",
        "\n",
        "LU分解\n",
        "\\begin{align*}\n",
        "    A = P L U\n",
        "\\end{align*}"
      ]
    },
    {
      "cell_type": "code",
      "metadata": {
        "trusted": true,
        "id": "b0vZnrSb3LF3",
        "colab_type": "code",
        "colab": {
          "base_uri": "https://localhost:8080/",
          "height": 374
        },
        "outputId": "8a38ae0c-d814-4c25-8ae0-d93b7805c2e4"
      },
      "source": [
        "import numpy as np\n",
        "from scipy import linalg\n",
        "from scipy.linalg import lu\n",
        "\n",
        "# pylint: disable=invalid-name\n",
        "\n",
        "A = np.array([[1, 2, 2],\n",
        "              [2, 5, 6],\n",
        "              [3, 8, 12]])\n",
        "\n",
        "print(\"LU decomposition (A = PLU): \")\n",
        "print(\"A:\\n\", A)\n",
        "P, L, U = lu(A)\n",
        "print(\"P: \\n\", P)\n",
        "print(\"L: \\n\", L)\n",
        "print(\"U: \\n\", U)\n",
        "print(\"PLU: \\n\", P @ L @ U)"
      ],
      "execution_count": 14,
      "outputs": [
        {
          "output_type": "stream",
          "text": [
            "LU decomposition (A = PLU): \n",
            "A:\n",
            " [[ 1  2  2]\n",
            " [ 2  5  6]\n",
            " [ 3  8 12]]\n",
            "P: \n",
            " [[0. 1. 0.]\n",
            " [0. 0. 1.]\n",
            " [1. 0. 0.]]\n",
            "L: \n",
            " [[1.         0.         0.        ]\n",
            " [0.33333333 1.         0.        ]\n",
            " [0.66666667 0.5        1.        ]]\n",
            "U: \n",
            " [[ 3.          8.         12.        ]\n",
            " [ 0.         -0.66666667 -2.        ]\n",
            " [ 0.          0.         -1.        ]]\n",
            "PLU: \n",
            " [[ 1.  2.  2.]\n",
            " [ 2.  5.  6.]\n",
            " [ 3.  8. 12.]]\n"
          ],
          "name": "stdout"
        }
      ]
    },
    {
      "cell_type": "markdown",
      "metadata": {
        "id": "dDdICRjl4t8d",
        "colab_type": "text"
      },
      "source": [
        "逆行列"
      ]
    },
    {
      "cell_type": "code",
      "metadata": {
        "id": "HMJOKuOp4y0e",
        "colab_type": "code",
        "colab": {
          "base_uri": "https://localhost:8080/",
          "height": 221
        },
        "outputId": "f0288a85-dcdf-4db4-f6da-93757fd3f8e2"
      },
      "source": [
        "#Finding Inverse\n",
        "A = np.array([[1,3,5],[2,5,1],[2,3,8]])\n",
        "print(\"A\\n\", A)\n",
        "\n",
        "#Finding Inverse\n",
        "invA = linalg.inv(A)\n",
        "print(\"Inverse of A\\n\", invA)\n",
        "\n",
        "# check of the\n",
        "AinvA = A.dot(invA)\n",
        "print(\"A invA\\n\", AinvA)"
      ],
      "execution_count": 18,
      "outputs": [
        {
          "output_type": "stream",
          "text": [
            "A\n",
            " [[1 3 5]\n",
            " [2 5 1]\n",
            " [2 3 8]]\n",
            "Inverse of A\n",
            " [[-1.48  0.36  0.88]\n",
            " [ 0.56  0.08 -0.36]\n",
            " [ 0.16 -0.12  0.04]]\n",
            "A invA\n",
            " [[ 1.00000000e+00 -1.11022302e-16  4.85722573e-17]\n",
            " [ 3.05311332e-16  1.00000000e+00  7.63278329e-17]\n",
            " [ 2.22044605e-16 -1.11022302e-16  1.00000000e+00]]\n"
          ],
          "name": "stdout"
        }
      ]
    },
    {
      "cell_type": "markdown",
      "metadata": {
        "id": "es_AseBX3LGD",
        "colab_type": "text"
      },
      "source": [
        "連立方程式の解 by using scipy\n",
        "\\begin{align*}\n",
        "    \\begin{bmatrix} 3 & 2 & 0 \\\\ 1 & -1 & 0 \\\\ 0 & 5 & 1 \\end{bmatrix} \n",
        "    \\begin{bmatrix} x_1 \\\\ x_2 \\\\ x_3 \\end{bmatrix} = \n",
        "    \\begin{bmatrix} 2 \\\\ 4 \\\\ -1 \\end{bmatrix}\n",
        "\\end{align*}"
      ]
    },
    {
      "cell_type": "code",
      "metadata": {
        "trusted": true,
        "id": "AgwQKD753LGG",
        "colab_type": "code",
        "colab": {
          "base_uri": "https://localhost:8080/",
          "height": 170
        },
        "outputId": "6f6e5e1f-96c0-4c49-f33d-ddd5ebae7979"
      },
      "source": [
        "#importing the scipy and numpy packages\n",
        "from scipy import linalg\n",
        "import numpy as np\n",
        "\n",
        "#Declaring the numpy arrays\n",
        "A = np.array([[3, 2, 0], [1, -1, 0], [0, 5, 1]])\n",
        "b = np.array([2, 4, -1])\n",
        "\n",
        "m, n = A.shape\n",
        "\n",
        "print('m=', m, 'n=', n)\n",
        "\n",
        "# Augmented matrx [A b]\n",
        "Ab = np.column_stack((A, b))\n",
        "print(\"[A b]\\n\", Ab)\n",
        "\n",
        "rankA = np.linalg.matrix_rank(A)\n",
        "rankAb = np.linalg.matrix_rank(Ab)\n",
        "\n",
        "print(\"Rank A=\", rankA, \"Rank [A b]=\", rankAb)\n",
        "\n",
        "if (rankA != rankAb):\n",
        "    print(\"There is no solution!!!\")\n",
        "elif (n != rankA):\n",
        "    print(\"There is no uniqe solution\\n\")\n",
        "else:\n",
        "    \n",
        "    # Determinant of A\n",
        "    detA = linalg.det(A)\n",
        "    print(\"Determinant is\", detA)\n",
        "\n",
        "    #Passing the values to the solve function\n",
        "    x = linalg.solve(A, b)\n",
        "\n",
        "    #printing the result array\n",
        "    print(\"The solurion is \", x)\n",
        "\n",
        "    # A x\n",
        "    print(\"A x =\", A.dot(x))\n"
      ],
      "execution_count": 15,
      "outputs": [
        {
          "output_type": "stream",
          "text": [
            "m= 3 n= 3\n",
            "[A b]\n",
            " [[ 3  2  0  2]\n",
            " [ 1 -1  0  4]\n",
            " [ 0  5  1 -1]]\n",
            "Rank A= 3 Rank [A b]= 3\n",
            "Determinant is -5.0\n",
            "The solurion is  [ 2. -2.  9.]\n",
            "A x = [ 2.  4. -1.]\n"
          ],
          "name": "stdout"
        }
      ]
    },
    {
      "cell_type": "markdown",
      "metadata": {
        "id": "JM9bZIeM6G8G",
        "colab_type": "text"
      },
      "source": [
        "固有値と固有ベクトル"
      ]
    },
    {
      "cell_type": "code",
      "metadata": {
        "trusted": true,
        "id": "-uTCWoZl3LGP",
        "colab_type": "code",
        "colab": {
          "base_uri": "https://localhost:8080/",
          "height": 119
        },
        "outputId": "59a66073-0a49-4b24-f174-4bc23eafca8c"
      },
      "source": [
        "# Eigenvalues and eigenvectors\n",
        "import numpy as np\n",
        "from scipy import linalg\n",
        "A = np.array([[1, 2, 3], [3, 4, 3], [2, 1, 2]])\n",
        "L, V = linalg.eig(A)\n",
        "print(\"Eigne Values\\n\", L)   # eigenvalues\n",
        "print(\"Eigen Vectors\\n\", V)"
      ],
      "execution_count": 21,
      "outputs": [
        {
          "output_type": "stream",
          "text": [
            "Eigne Values\n",
            " [ 6.93632273+0.j -1.16928575+0.j  1.23296302+0.j]\n",
            "Eigen Vectors\n",
            " [[-0.45300009 -0.85454658  0.19208333]\n",
            " [-0.82007503  0.22398865 -0.80960671]\n",
            " [-0.34966823  0.46859281  0.55465391]]\n"
          ],
          "name": "stdout"
        }
      ]
    },
    {
      "cell_type": "markdown",
      "metadata": {
        "id": "FP1wA6JX-6NE",
        "colab_type": "text"
      },
      "source": [
        "特異値分解（SVD)"
      ]
    },
    {
      "cell_type": "code",
      "metadata": {
        "id": "Z5oqrU4l-9D0",
        "colab_type": "code",
        "colab": {
          "base_uri": "https://localhost:8080/",
          "height": 374
        },
        "outputId": "002d384f-776d-4ab7-d29f-d0e9cffe0325"
      },
      "source": [
        "# Singular Value Decomposition\n",
        "\n",
        "A = np.array([[1, 2,], [3, 4], [2, 1]])\n",
        "\n",
        "print(\"A\\n\", A)\n",
        "\n",
        "S, D, V = linalg.svd(A) \n",
        "\n",
        "print(\"S\\n\", S)\n",
        "print(\"V\\n\", V)\n",
        "print(\"D\\n\", D)\n",
        "\n",
        "# Initialize `M` and `N`\n",
        "M,N = A.shape\n",
        "print(\"M=\", M, \"N=\", N)\n",
        "\n",
        "# Construct sigma matrix in SVD\n",
        "Sig = linalg.diagsvd(D, M, N)\n",
        "print(\"SIg\", Sig)\n",
        "\n",
        "print(\"S D V\\n\", np.dot(S.dot(Sig), V))"
      ],
      "execution_count": 31,
      "outputs": [
        {
          "output_type": "stream",
          "text": [
            "A\n",
            " [[1 2]\n",
            " [3 4]\n",
            " [2 1]]\n",
            "S\n",
            " [[-0.37540137 -0.4485299  -0.81110711]\n",
            " [-0.85852835 -0.16151458  0.48666426]\n",
            " [-0.3492891   0.87905288 -0.32444284]]\n",
            "V\n",
            " [[-0.62701799 -0.77900477]\n",
            " [ 0.77900477 -0.62701799]]\n",
            "D\n",
            " [5.82051023 1.05908482]\n",
            "M= 3 N= 2\n",
            "SIg [[5.82051023 0.        ]\n",
            " [0.         1.05908482]\n",
            " [0.         0.        ]]\n",
            "S D V\n",
            " [[1. 2.]\n",
            " [3. 4.]\n",
            " [2. 1.]]\n"
          ],
          "name": "stdout"
        }
      ]
    }
  ]
}