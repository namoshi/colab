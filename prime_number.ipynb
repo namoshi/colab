{
  "nbformat": 4,
  "nbformat_minor": 0,
  "metadata": {
    "colab": {
      "provenance": [],
      "authorship_tag": "ABX9TyN02iJtt2qt/tHOv8+w8ZFO",
      "include_colab_link": true
    },
    "kernelspec": {
      "name": "python3",
      "display_name": "Python 3"
    },
    "language_info": {
      "name": "python"
    }
  },
  "cells": [
    {
      "cell_type": "markdown",
      "metadata": {
        "id": "view-in-github",
        "colab_type": "text"
      },
      "source": [
        "<a href=\"https://colab.research.google.com/github/namoshi/colab/blob/master/prime_number.ipynb\" target=\"_parent\"><img src=\"https://colab.research.google.com/assets/colab-badge.svg\" alt=\"Open In Colab\"/></a>"
      ]
    },
    {
      "cell_type": "code",
      "execution_count": 2,
      "metadata": {
        "colab": {
          "base_uri": "https://localhost:8080/"
        },
        "id": "mjz-dW7FBE0Q",
        "outputId": "4bca15d2-db56-4c93-c55d-1e46ce692842"
      },
      "outputs": [
        {
          "output_type": "stream",
          "name": "stdout",
          "text": [
            "2\n",
            "3\n",
            "5\n",
            "7\n",
            "11\n",
            "13\n",
            "17\n",
            "19\n",
            "23\n",
            "29\n",
            "31\n",
            "37\n",
            "41\n",
            "43\n",
            "47\n",
            "53\n",
            "59\n",
            "61\n",
            "67\n",
            "71\n",
            "73\n",
            "79\n",
            "83\n",
            "89\n",
            "97\n",
            "101\n",
            "103\n",
            "107\n",
            "109\n",
            "113\n",
            "127\n",
            "131\n",
            "137\n",
            "139\n",
            "149\n",
            "151\n",
            "157\n",
            "163\n",
            "167\n",
            "173\n",
            "179\n",
            "181\n",
            "191\n",
            "193\n",
            "197\n",
            "199\n"
          ]
        }
      ],
      "source": [
        "# 篩の上限を設定する\n",
        "n = 200\n",
        "\n",
        "# 篩を作る（Trueは素数候補、Falseは合成数）\n",
        "sieve = [True] * (n + 1)\n",
        "\n",
        "# 0と1は素数ではない\n",
        "sieve[0] = False\n",
        "sieve[1] = False\n",
        "\n",
        "# 2からnの平方根までの数で篩をふるう\n",
        "i = 2\n",
        "while i * i <= n:\n",
        "  # 素数ならその倍数を合成数にする\n",
        "  if sieve[i]:\n",
        "    j = i * i\n",
        "    while j <= n:\n",
        "      sieve[j] = False\n",
        "      j += i\n",
        "  # 次の数に進む\n",
        "  i += 1\n",
        "\n",
        "# 篩に残った素数を出力する\n",
        "for i in range(n + 1):\n",
        "  if sieve[i]:\n",
        "    print(i)\n"
      ]
    },
    {
      "cell_type": "code",
      "source": [
        "# 素数かどうかを判定する関数\n",
        "def is_prime(n):\n",
        "  # 1以下は素数ではない\n",
        "  if n <= 1:\n",
        "    return False\n",
        "  # 2は素数\n",
        "  if n == 2:\n",
        "    return True\n",
        "  # 偶数は素数ではない\n",
        "  if n % 2 == 0:\n",
        "    return False\n",
        "  # 3からnの平方根までの奇数で割り切れるかどうかを調べる\n",
        "  i = 3\n",
        "  while i * i <= n:\n",
        "    if n % i == 0:\n",
        "      return False\n",
        "    i += 2\n",
        "  # 割り切れなかったら素数\n",
        "  return True\n",
        "\n",
        "# 2からnまでの自然数の中から素数を小さい順に出力する関数\n",
        "def print_primes(n):\n",
        "  # 2からnまでの数について素数判定を行う\n",
        "  for i in range(2, n + 1):\n",
        "    # 素数なら出力\n",
        "    if is_prime(i):\n",
        "      print(i)\n",
        "\n",
        "# 関数を呼び出す（例としてnを50に設定）\n",
        "print_primes(200)\n"
      ],
      "metadata": {
        "colab": {
          "base_uri": "https://localhost:8080/"
        },
        "id": "S86UooDYCRv5",
        "outputId": "f14f98e9-b224-495e-9b6f-dddc12e4e4df"
      },
      "execution_count": 5,
      "outputs": [
        {
          "output_type": "stream",
          "name": "stdout",
          "text": [
            "2\n",
            "3\n",
            "5\n",
            "7\n",
            "11\n",
            "13\n",
            "17\n",
            "19\n",
            "23\n",
            "29\n",
            "31\n",
            "37\n",
            "41\n",
            "43\n",
            "47\n",
            "53\n",
            "59\n",
            "61\n",
            "67\n",
            "71\n",
            "73\n",
            "79\n",
            "83\n",
            "89\n",
            "97\n",
            "101\n",
            "103\n",
            "107\n",
            "109\n",
            "113\n",
            "127\n",
            "131\n",
            "137\n",
            "139\n",
            "149\n",
            "151\n",
            "157\n",
            "163\n",
            "167\n",
            "173\n",
            "179\n",
            "181\n",
            "191\n",
            "193\n",
            "197\n",
            "199\n"
          ]
        }
      ]
    }
  ]
}