{
  "nbformat": 4,
  "nbformat_minor": 0,
  "metadata": {
    "colab": {
      "provenance": [],
      "authorship_tag": "ABX9TyPuJUjt/QDR3CWduCnvxzmS",
      "include_colab_link": true
    },
    "kernelspec": {
      "name": "python3",
      "display_name": "Python 3"
    },
    "language_info": {
      "name": "python"
    }
  },
  "cells": [
    {
      "cell_type": "markdown",
      "metadata": {
        "id": "view-in-github",
        "colab_type": "text"
      },
      "source": [
        "<a href=\"https://colab.research.google.com/github/namoshi/colab/blob/master/randmized_trace.ipynb\" target=\"_parent\"><img src=\"https://colab.research.google.com/assets/colab-badge.svg\" alt=\"Open In Colab\"/></a>"
      ]
    },
    {
      "cell_type": "markdown",
      "source": [],
      "metadata": {
        "id": "ghOmnJzfyuS9"
      }
    },
    {
      "cell_type": "markdown",
      "source": [
        "# Randomaized Neumerical Linear Algebra\n",
        "\n",
        "## Trace"
      ],
      "metadata": {
        "id": "e-4EfgRfywB4"
      }
    },
    {
      "cell_type": "code",
      "source": [
        "import numpy as np\n",
        "\n",
        "def rtrace(A, k):\n",
        "  trace_est = 0.0\n",
        "  (nrow, ncol) = A.shape\n",
        "  print(nrow)\n",
        "\n",
        "  for i in range(k):\n",
        "#    print('i=', i)\n",
        "    omega = np.random.randn(nrow)\n",
        "#    print(omega)\n",
        "\n",
        "    x = np.dot(omega, np.dot(A, omega))\n",
        "\n",
        "#    print(x)\n",
        "\n",
        "    trace_est = trace_est + x\n",
        "\n",
        "  trace_est = trace_est / k\n",
        "\n",
        "  return(trace_est)\n",
        "\n"
      ],
      "metadata": {
        "id": "TdtedVHKy4I-"
      },
      "execution_count": 77,
      "outputs": []
    },
    {
      "cell_type": "code",
      "source": [
        "#A = np.array([[1, 2, 3], [3, 3, 3], [2, 1, 3]])\n",
        "\n",
        "A = np.random.randn(1000, 1000)\n",
        "AA = np.dot(A.T, A)\n",
        "#print(AA)\n",
        "\n",
        "#E, L = np.linalg.eig(AA)\n",
        "\n",
        "#print(E)\n",
        "\n",
        "rt = rtrace(AA, 100)\n",
        "\n",
        "print('trace_est=', rt)\n",
        "print('trace=', np.matrix.trace(AA))\n",
        "print('raio=', rt/np.matrix.trace(AA))"
      ],
      "metadata": {
        "colab": {
          "base_uri": "https://localhost:8080/"
        },
        "id": "16CJuaYkzZxW",
        "outputId": "b65a716e-41df-4051-c286-04247538fa51"
      },
      "execution_count": 78,
      "outputs": [
        {
          "output_type": "stream",
          "name": "stdout",
          "text": [
            "1000\n",
            "trace_est= 1005795.0711033577\n",
            "trace= 998754.6182450979\n",
            "raio= 1.0070492318429831\n"
          ]
        }
      ]
    }
  ]
}