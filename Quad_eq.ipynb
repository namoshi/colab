{
  "nbformat": 4,
  "nbformat_minor": 0,
  "metadata": {
    "colab": {
      "provenance": [],
      "authorship_tag": "ABX9TyNs3CBI79x2MIp7f2qhlgze",
      "include_colab_link": true
    },
    "kernelspec": {
      "name": "python3",
      "display_name": "Python 3"
    },
    "language_info": {
      "name": "python"
    }
  },
  "cells": [
    {
      "cell_type": "markdown",
      "metadata": {
        "id": "view-in-github",
        "colab_type": "text"
      },
      "source": [
        "<a href=\"https://colab.research.google.com/github/namoshi/colab/blob/master/Quad_eq.ipynb\" target=\"_parent\"><img src=\"https://colab.research.google.com/assets/colab-badge.svg\" alt=\"Open In Colab\"/></a>"
      ]
    },
    {
      "cell_type": "markdown",
      "source": [
        "# ２次関数の解を根の公式を使わないで計算する方法\n",
        "\n",
        "２次関数\n",
        "$$\n",
        "a x^2 + b x + c = 0\n",
        "$$\n",
        "の解を根の公式を用いないで計算するプログラム"
      ],
      "metadata": {
        "id": "CkETRZdGvriP"
      }
    },
    {
      "cell_type": "markdown",
      "source": [
        "1. $a=0$の場合，2次関数は，1次関数となり，\n",
        "$$\n",
        " b x + c = 0\n",
        "$$\n",
        "となるので，解は\n",
        "$$\n",
        "x = -\\frac{c}{b}\n",
        "$$\n",
        "となる．\n",
        "\n",
        "2. $a \\ne 0$のとき，$x^2$の係数を$1$にするために両辺を$a$で割ると，2次方程式は，\n",
        "$$\n",
        "x^2 + \\frac{b}{a} x + \\frac{c}{a} = 0\n",
        "$$\n",
        "となる．\n",
        "\n",
        "3. 一方，$x^2$の係数が$1$の2次方程式の二つの解を$\\alpha$，および，$\\beta$とすると，2次方程式は，\n",
        "$$\n",
        "(x - \\alpha)(x - \\beta) = x^2 - (\\alpha + \\beta) + \\alpha \\beta = 0\n",
        "$$\n",
        "のように書ける．\n",
        "\n",
        "4. ここで，これらの二つの2次方程式を比較すると\n",
        "$$\n",
        "\\alpha + \\beta = - \\frac{b}{a}\n",
        "$$\n",
        "および\n",
        "$$\n",
        "\\alpha \\beta = \\frac{c}{a}\n",
        "$$\n",
        "となる．\n",
        "\n",
        "5. 今，$\\alpha = \\mu - u$，$\\beta = \\mu + u$と置くと，$\\alpha + \\beta = (\\mu - u) + (\\mu + u) = 2 \\mu = -\\frac{b}{a}$となり，\n",
        "$$\n",
        "\\mu = - \\frac{b}{2a}\n",
        "$$\n",
        "となる．\n",
        "\n",
        "6. $u$を求めるために，これらを2番目の条件式に代入すると\n",
        "$$\n",
        "(\\mu - u)(\\mu + u) = \\mu^2 - u^2 = \\frac{b}{a}\n",
        "$$\n",
        "となる．これから，$u$について整理すると\n",
        "$$\n",
        "u^2 = \\mu^2 - \\frac{c}{a} = \\frac{b^2}{4 a^2} - \\frac{c}{a}\n",
        "= \\frac{b^2 - 4 a c}{4 a^2}\n",
        "$$\n",
        "となる．\n",
        "\n",
        "7. これから，$b^2 - 4 a c \\ge 0$の場合には，\n",
        "$$\n",
        "\\mu = \\pm \\frac{\\sqrt{b^2 - 4 a c}}{2 a}\n",
        "$$\n",
        "となり，$b^2 - 4 ac\\ c < 0$ の場合には，\n",
        "$$\n",
        "\\mu = \\pm \\frac{\\sqrt{b^2 - 4 a c}}{2 a} i\n",
        "$$\n",
        "のように複素数となる．ここで，$i$は虚数単位で，$i^2=-1$である．\n",
        "\n",
        "8. したがって，$b^2 - 4 a c \\ge 0$の場合には，\n",
        "$$\n",
        "\\alpha = -\\frac{b}{2 a} - \\frac{\\sqrt{b^2 - 4 a c}}{2 a}\n",
        "$$\n",
        "および\n",
        "$$\n",
        "\\beta = -\\frac{b}{2 a} + \\frac{\\sqrt{b^2 - 4 a c}}{2 a}\n",
        "$$\n",
        "となる．また，$b^2 - 4 ac\\ c < 0$ の場合には，\n",
        "$$\n",
        "\\alpha = -\\frac{b}{2 a} - \\frac{\\sqrt{b^2 - 4 a c}}{2 a} i\n",
        "$$\n",
        "および\n",
        "$$\n",
        "\\beta = -\\frac{b}{2 a} + \\frac{\\sqrt{b^2 - 4 a c}}{2 a} i\n",
        "$$\n",
        "となる．"
      ],
      "metadata": {
        "id": "9PyddvCbwISZ"
      }
    },
    {
      "cell_type": "code",
      "execution_count": null,
      "metadata": {
        "id": "ITXVHEsrvqjk"
      },
      "outputs": [],
      "source": []
    }
  ]
}