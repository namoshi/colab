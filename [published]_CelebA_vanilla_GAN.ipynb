{
  "nbformat": 4,
  "nbformat_minor": 0,
  "metadata": {
    "colab": {
      "name": "[published] CelebA vanilla GAN",
      "provenance": [],
      "collapsed_sections": [],
      "include_colab_link": true
    },
    "kernelspec": {
      "display_name": "Python 3",
      "language": "python",
      "name": "python3"
    },
    "language_info": {
      "codemirror_mode": {
        "name": "ipython",
        "version": 3
      },
      "file_extension": ".py",
      "mimetype": "text/x-python",
      "name": "python",
      "nbconvert_exporter": "python",
      "pygments_lexer": "ipython3",
      "version": "3.7.0"
    },
    "accelerator": "GPU"
  },
  "cells": [
    {
      "cell_type": "markdown",
      "metadata": {
        "id": "view-in-github",
        "colab_type": "text"
      },
      "source": [
        "<a href=\"https://colab.research.google.com/github/namoshi/colab/blob/master/%5Bpublished%5D_CelebA_vanilla_GAN.ipynb\" target=\"_parent\"><img src=\"https://colab.research.google.com/assets/colab-badge.svg\" alt=\"Open In Colab\"/></a>"
      ]
    },
    {
      "cell_type": "markdown",
      "metadata": {
        "id": "D02QjJElmA_i"
      },
      "source": [
        "# Simple DCGAN implementation in Keras trained on 64x64 CelebA images"
      ]
    },
    {
      "cell_type": "markdown",
      "metadata": {
        "id": "jBnnFvK9mA_o"
      },
      "source": [
        "## Setup"
      ]
    },
    {
      "cell_type": "code",
      "metadata": {
        "id": "2LE57yr-mA_o"
      },
      "source": [
        "import tensorflow as tf\n",
        "from tensorflow import keras\n",
        "from tensorflow.keras import layers\n",
        "import numpy as np\n",
        "import matplotlib.pyplot as plt"
      ],
      "execution_count": null,
      "outputs": []
    },
    {
      "cell_type": "markdown",
      "metadata": {
        "id": "4u367rsRdRlR"
      },
      "source": [
        "## Get the data"
      ]
    },
    {
      "cell_type": "code",
      "metadata": {
        "colab": {
          "base_uri": "https://localhost:8080/"
        },
        "id": "oKnKW2OIlTzf",
        "outputId": "76ad27fe-8ce2-46cc-ba9c-23dd33c3dc42"
      },
      "source": [
        "!mkdir celeba_gan\n",
        "!gdown --id 1O7m1010EJjLE5QxLZiM9Fpjs7Oj6e684 -O celeba_gan/data.zip"
      ],
      "execution_count": null,
      "outputs": [
        {
          "output_type": "stream",
          "text": [
            "Downloading...\n",
            "From: https://drive.google.com/uc?id=1O7m1010EJjLE5QxLZiM9Fpjs7Oj6e684\n",
            "To: /content/celeba_gan/data.zip\n",
            "1.44GB [00:24, 58.1MB/s]\n"
          ],
          "name": "stdout"
        }
      ]
    },
    {
      "cell_type": "code",
      "metadata": {
        "id": "ilay6yKNg0pv"
      },
      "source": [
        "!unzip -qq celeba_gan/data.zip -d celeba_gan"
      ],
      "execution_count": null,
      "outputs": []
    },
    {
      "cell_type": "markdown",
      "metadata": {
        "id": "jhJsYkL_dTkE"
      },
      "source": [
        "## Create a `Dataset`\n",
        "\n",
        "We will work with 64x64 images."
      ]
    },
    {
      "cell_type": "code",
      "metadata": {
        "colab": {
          "base_uri": "https://localhost:8080/"
        },
        "id": "N3HZLjcPmUEK",
        "outputId": "6ce0e867-52a6-45d4-b349-542fc32f155a"
      },
      "source": [
        "from tensorflow import keras\n",
        "dataset = keras.preprocessing.image_dataset_from_directory('celeba_gan', label_mode=None, image_size=(64, 64), batch_size=32)"
      ],
      "execution_count": null,
      "outputs": [
        {
          "output_type": "stream",
          "text": [
            "Found 202599 files belonging to 1 classes.\n"
          ],
          "name": "stdout"
        }
      ]
    },
    {
      "cell_type": "code",
      "metadata": {
        "id": "x7GrSQ74qMSv"
      },
      "source": [
        "dataset = dataset.map(lambda x: x / 255.)"
      ],
      "execution_count": null,
      "outputs": []
    },
    {
      "cell_type": "markdown",
      "metadata": {
        "id": "jkj7ajZwdWij"
      },
      "source": [
        "## Display a sample image"
      ]
    },
    {
      "cell_type": "code",
      "metadata": {
        "colab": {
          "base_uri": "https://localhost:8080/",
          "height": 247
        },
        "id": "7fGS0fp_qLYk",
        "outputId": "339fdc19-4b7a-458c-fa02-ca90308c28c0"
      },
      "source": [
        "import matplotlib.pyplot as plt\n",
        "for x in dataset:\n",
        "  plt.axis(\"off\")\n",
        "  plt.imshow((x.numpy() * 255).astype('int32')[0])\n",
        "  break"
      ],
      "execution_count": null,
      "outputs": [
        {
          "output_type": "display_data",
          "data": {
            "image/png": "[encoded data removed]",
            "text/plain": [
              "<Figure size 432x288 with 1 Axes>"
            ]
          },
          "metadata": {
            "tags": [],
            "needs_background": "light"
          }
        }
      ]
    },
    {
      "cell_type": "markdown",
      "metadata": {
        "id": "5-uN83VLmA_p"
      },
      "source": [
        "## Create the discriminator\n",
        "\n",
        "It maps a 64x64 image to a binary classification score."
      ]
    },
    {
      "cell_type": "code",
      "metadata": {
        "id": "EXYpRiV5mA_q",
        "colab": {
          "base_uri": "https://localhost:8080/"
        },
        "outputId": "e8d30d85-49a8-4391-ef8e-31519f95b532"
      },
      "source": [
        "from tensorflow.keras import layers\n",
        "\n",
        "discriminator = keras.Sequential(\n",
        "    [\n",
        "        keras.Input(shape=(64, 64, 3)),\n",
        "        layers.Conv2D(64, kernel_size=4, strides=2, padding=\"same\"),\n",
        "        layers.LeakyReLU(alpha=0.2),\n",
        "        layers.Conv2D(128, kernel_size=4, strides=2, padding=\"same\"),\n",
        "        layers.LeakyReLU(alpha=0.2),\n",
        "        layers.Conv2D(128, kernel_size=4, strides=2, padding=\"same\"),\n",
        "        layers.LeakyReLU(alpha=0.2),\n",
        "        layers.Flatten(),\n",
        "        layers.Dropout(0.2),\n",
        "        layers.Dense(1, activation=\"sigmoid\"),\n",
        "    ],\n",
        "    name=\"discriminator\",\n",
        ")\n",
        "\n",
        "discriminator.summary()"
      ],
      "execution_count": null,
      "outputs": [
        {
          "output_type": "stream",
          "text": [
            "Model: \"discriminator\"\n",
            "_________________________________________________________________\n",
            "Layer (type)                 Output Shape              Param #   \n",
            "=================================================================\n",
            "conv2d_12 (Conv2D)           (None, 32, 32, 64)        3136      \n",
            "_________________________________________________________________\n",
            "leaky_re_lu_18 (LeakyReLU)   (None, 32, 32, 64)        0         \n",
            "_________________________________________________________________\n",
            "conv2d_13 (Conv2D)           (None, 16, 16, 128)       131200    \n",
            "_________________________________________________________________\n",
            "leaky_re_lu_19 (LeakyReLU)   (None, 16, 16, 128)       0         \n",
            "_________________________________________________________________\n",
            "conv2d_14 (Conv2D)           (None, 8, 8, 128)         262272    \n",
            "_________________________________________________________________\n",
            "leaky_re_lu_20 (LeakyReLU)   (None, 8, 8, 128)         0         \n",
            "_________________________________________________________________\n",
            "flatten_3 (Flatten)          (None, 8192)              0         \n",
            "_________________________________________________________________\n",
            "dropout_3 (Dropout)          (None, 8192)              0         \n",
            "_________________________________________________________________\n",
            "dense_6 (Dense)              (None, 1)                 8193      \n",
            "=================================================================\n",
            "Total params: 404,801\n",
            "Trainable params: 404,801\n",
            "Non-trainable params: 0\n",
            "_________________________________________________________________\n"
          ],
          "name": "stdout"
        }
      ]
    },
    {
      "cell_type": "markdown",
      "metadata": {
        "id": "jy4TULqvmA_q"
      },
      "source": [
        "## Create the generator\n",
        "\n",
        "It mirrors the discriminator, replacing `Conv2D` layers with `Conv2DTranspose` layers."
      ]
    },
    {
      "cell_type": "code",
      "metadata": {
        "id": "Ap4CpcF9mA_q",
        "colab": {
          "base_uri": "https://localhost:8080/"
        },
        "outputId": "9f39aaf6-e6a0-45a7-c5a0-69ac16fecd7f"
      },
      "source": [
        "latent_dim = 128\n",
        "\n",
        "generator = keras.Sequential(\n",
        "    [\n",
        "        keras.Input(shape=(latent_dim,)),\n",
        "        layers.Dense(8 * 8 * 128),\n",
        "        layers.Reshape((8, 8, 128)),\n",
        "        layers.Conv2DTranspose(128, kernel_size=4, strides=2, padding=\"same\"),\n",
        "        layers.LeakyReLU(alpha=0.2),\n",
        "        layers.Conv2DTranspose(256, kernel_size=4, strides=2, padding=\"same\"),\n",
        "        layers.LeakyReLU(alpha=0.2),\n",
        "        layers.Conv2DTranspose(512, kernel_size=4, strides=2, padding=\"same\"),\n",
        "        layers.LeakyReLU(alpha=0.2),\n",
        "        layers.Conv2D(3, kernel_size=5, padding=\"same\", activation=\"sigmoid\"),\n",
        "    ],\n",
        "    name=\"generator\",\n",
        ")\n",
        "\n",
        "generator.summary()"
      ],
      "execution_count": null,
      "outputs": [
        {
          "output_type": "stream",
          "text": [
            "Model: \"generator\"\n",
            "_________________________________________________________________\n",
            "Layer (type)                 Output Shape              Param #   \n",
            "=================================================================\n",
            "dense_7 (Dense)              (None, 8192)              1056768   \n",
            "_________________________________________________________________\n",
            "reshape_3 (Reshape)          (None, 8, 8, 128)         0         \n",
            "_________________________________________________________________\n",
            "conv2d_transpose_9 (Conv2DTr (None, 16, 16, 128)       262272    \n",
            "_________________________________________________________________\n",
            "leaky_re_lu_21 (LeakyReLU)   (None, 16, 16, 128)       0         \n",
            "_________________________________________________________________\n",
            "conv2d_transpose_10 (Conv2DT (None, 32, 32, 256)       524544    \n",
            "_________________________________________________________________\n",
            "leaky_re_lu_22 (LeakyReLU)   (None, 32, 32, 256)       0         \n",
            "_________________________________________________________________\n",
            "conv2d_transpose_11 (Conv2DT (None, 64, 64, 512)       2097664   \n",
            "_________________________________________________________________\n",
            "leaky_re_lu_23 (LeakyReLU)   (None, 64, 64, 512)       0         \n",
            "_________________________________________________________________\n",
            "conv2d_15 (Conv2D)           (None, 64, 64, 3)         38403     \n",
            "=================================================================\n",
            "Total params: 3,979,651\n",
            "Trainable params: 3,979,651\n",
            "Non-trainable params: 0\n",
            "_________________________________________________________________\n"
          ],
          "name": "stdout"
        }
      ]
    },
    {
      "cell_type": "markdown",
      "metadata": {
        "id": "9aXJvWUkmA_q"
      },
      "source": [
        "## Create a GAN model that overrides `train_step`\n",
        "\n",
        "- We need 2 optimizers, so we also override `compile` to allow that.\n",
        "- We track our 2 losses with `Mean` metrics. We list them in the `metrics` property so that `fit` will reset the trackers at the start of each epoch.\n",
        "- The training logic is in `train_step`."
      ]
    },
    {
      "cell_type": "code",
      "metadata": {
        "id": "1-QtSLYbmA_r"
      },
      "source": [
        "\n",
        "class GAN(keras.Model):\n",
        "    def __init__(self, discriminator, generator, latent_dim):\n",
        "        super(GAN, self).__init__()\n",
        "        self.discriminator = discriminator\n",
        "        self.generator = generator\n",
        "        self.latent_dim = latent_dim\n",
        "\n",
        "    def compile(self, d_optimizer, g_optimizer, loss_fn):\n",
        "        super(GAN, self).compile()\n",
        "        self.d_optimizer = d_optimizer\n",
        "        self.g_optimizer = g_optimizer\n",
        "        self.loss_fn = loss_fn\n",
        "        self.d_loss_metric = keras.metrics.Mean(name='d_loss')\n",
        "        self.g_loss_metric = keras.metrics.Mean(name='g_loss')\n",
        "\n",
        "    @property\n",
        "    def metrics(self):\n",
        "      return [self.d_loss_metric, self.g_loss_metric]\n",
        "\n",
        "    def train_step(self, real_images):\n",
        "        # Sample random points in the latent space\n",
        "        batch_size = tf.shape(real_images)[0]\n",
        "        random_latent_vectors = tf.random.normal(shape=(batch_size, self.latent_dim))\n",
        "\n",
        "        # Decode them to fake images\n",
        "        generated_images = self.generator(random_latent_vectors)\n",
        "\n",
        "        # Combine them with real images\n",
        "        combined_images = tf.concat([generated_images, real_images], axis=0)\n",
        "\n",
        "        # Assemble labels discriminating real from fake images\n",
        "        labels = tf.concat(\n",
        "            [tf.ones((batch_size, 1)), tf.zeros((batch_size, 1))], axis=0\n",
        "        )\n",
        "        # Add random noise to the labels - important trick!\n",
        "        labels += 0.05 * tf.random.uniform(tf.shape(labels))\n",
        "\n",
        "        # Train the discriminator\n",
        "        with tf.GradientTape() as tape:\n",
        "            predictions = self.discriminator(combined_images)\n",
        "            d_loss = self.loss_fn(labels, predictions)\n",
        "        grads = tape.gradient(d_loss, self.discriminator.trainable_weights)\n",
        "        self.d_optimizer.apply_gradients(\n",
        "            zip(grads, self.discriminator.trainable_weights)\n",
        "        )\n",
        "\n",
        "        # Sample random points in the latent space\n",
        "        random_latent_vectors = tf.random.normal(shape=(batch_size, self.latent_dim))\n",
        "\n",
        "        # Assemble labels that say \"all real images\"\n",
        "        misleading_labels = tf.zeros((batch_size, 1))\n",
        "\n",
        "        # Train the generator (note that we should *not* update the weights\n",
        "        # of the discriminator)!\n",
        "        with tf.GradientTape() as tape:\n",
        "            predictions = self.discriminator(self.generator(random_latent_vectors))\n",
        "            g_loss = self.loss_fn(misleading_labels, predictions)\n",
        "        grads = tape.gradient(g_loss, self.generator.trainable_weights)\n",
        "        self.g_optimizer.apply_gradients(zip(grads, self.generator.trainable_weights))\n",
        "\n",
        "        self.d_loss_metric.update_state(d_loss)\n",
        "        self.g_loss_metric.update_state(g_loss)\n",
        "        return {\"d_loss\": self.d_loss_metric.result(), \"g_loss\": self.g_loss_metric.result()}\n"
      ],
      "execution_count": null,
      "outputs": []
    },
    {
      "cell_type": "markdown",
      "metadata": {
        "id": "flKPXazumA_r"
      },
      "source": [
        "## Create a callback that periodically saves generated images"
      ]
    },
    {
      "cell_type": "code",
      "metadata": {
        "id": "lKBfndPVmA_r"
      },
      "source": [
        "\n",
        "class GANMonitor(keras.callbacks.Callback):\n",
        "    def __init__(self, num_img=3, latent_dim=128):\n",
        "        self.num_img = num_img\n",
        "        self.latent_dim = latent_dim\n",
        "\n",
        "    def on_epoch_end(self, epoch, logs=None):\n",
        "        random_latent_vectors = tf.random.normal(shape=(self.num_img, self.latent_dim))\n",
        "        generated_images = self.model.generator(random_latent_vectors)\n",
        "        generated_images *= 255\n",
        "        generated_images.numpy()\n",
        "        for i in range(self.num_img):\n",
        "            img = keras.preprocessing.image.array_to_img(generated_images[i])\n",
        "            img.save(\"generated_img_%03d_%d.png\" % (epoch, i))\n"
      ],
      "execution_count": null,
      "outputs": []
    },
    {
      "cell_type": "markdown",
      "metadata": {
        "id": "8yyeAipkmA_s"
      },
      "source": [
        "## Train the end-to-end model"
      ]
    },
    {
      "cell_type": "code",
      "metadata": {
        "id": "wqIA2mLsmA_s",
        "colab": {
          "base_uri": "https://localhost:8080/"
        },
        "outputId": "a3c7dd85-0c4e-4b60-be91-2dfdfb2ad24f"
      },
      "source": [
        "epochs = 100\n",
        "\n",
        "gan = GAN(discriminator=discriminator, generator=generator, latent_dim=latent_dim)\n",
        "gan.compile(\n",
        "    d_optimizer=keras.optimizers.Adam(learning_rate=0.0001),\n",
        "    g_optimizer=keras.optimizers.Adam(learning_rate=0.0001),\n",
        "    loss_fn=keras.losses.BinaryCrossentropy(),\n",
        ")\n",
        "\n",
        "gan.fit(\n",
        "    dataset, epochs=epochs, callbacks=[GANMonitor(num_img=10, latent_dim=latent_dim)]\n",
        ")"
      ],
      "execution_count": null,
      "outputs": [
        {
          "output_type": "stream",
          "text": [
            "Epoch 1/300\n",
            "6332/6332 [==============================] - 611s 96ms/step - d_loss: 0.5655 - g_loss: 1.7346\n",
            "Epoch 2/300\n",
            "6332/6332 [==============================] - 612s 97ms/step - d_loss: 0.6451 - g_loss: 1.1412\n",
            "Epoch 3/300\n",
            "6332/6332 [==============================] - 608s 96ms/step - d_loss: 0.6507 - g_loss: 1.0504\n",
            "Epoch 4/300\n",
            "6332/6332 [==============================] - 608s 96ms/step - d_loss: 0.6207 - g_loss: 1.1331\n",
            "Epoch 5/300\n",
            "6332/6332 [==============================] - 608s 96ms/step - d_loss: 0.6345 - g_loss: 1.0580\n",
            "Epoch 6/300\n",
            "6332/6332 [==============================] - 610s 96ms/step - d_loss: 0.6554 - g_loss: 1.0098\n",
            "Epoch 7/300\n",
            "6332/6332 [==============================] - 610s 96ms/step - d_loss: 0.6618 - g_loss: 0.9642\n",
            "Epoch 8/300\n",
            "6332/6332 [==============================] - 608s 96ms/step - d_loss: 0.6689 - g_loss: 0.9444\n",
            "Epoch 9/300\n",
            "6332/6332 [==============================] - 610s 96ms/step - d_loss: 0.6703 - g_loss: 0.9316\n",
            "Epoch 10/300\n",
            "6332/6332 [==============================] - 611s 96ms/step - d_loss: 0.6696 - g_loss: 0.9290\n",
            "Epoch 11/300\n",
            "6332/6332 [==============================] - 608s 96ms/step - d_loss: 0.6670 - g_loss: 0.9353\n",
            "Epoch 12/300\n",
            "6332/6332 [==============================] - 610s 96ms/step - d_loss: 0.6686 - g_loss: 0.9272\n",
            "Epoch 13/300\n",
            "6332/6332 [==============================] - 610s 96ms/step - d_loss: 0.6614 - g_loss: 0.9352\n",
            "Epoch 14/300\n",
            "6332/6332 [==============================] - 610s 96ms/step - d_loss: 0.6551 - g_loss: 0.9392\n",
            "Epoch 15/300\n",
            "6332/6332 [==============================] - 610s 96ms/step - d_loss: 0.6500 - g_loss: 0.9531\n",
            "Epoch 16/300\n",
            "6332/6332 [==============================] - 610s 96ms/step - d_loss: 0.6495 - g_loss: 0.9482\n",
            "Epoch 17/300\n",
            "6332/6332 [==============================] - 613s 97ms/step - d_loss: 0.6525 - g_loss: 0.9402\n",
            "Epoch 18/300\n",
            "6332/6332 [==============================] - 613s 97ms/step - d_loss: 0.6556 - g_loss: 0.9366\n",
            "Epoch 19/300\n",
            "6332/6332 [==============================] - 611s 96ms/step - d_loss: 0.6545 - g_loss: 0.9336\n",
            "Epoch 20/300\n",
            "6332/6332 [==============================] - 611s 96ms/step - d_loss: 0.6568 - g_loss: 0.9272\n",
            "Epoch 21/300\n",
            "6332/6332 [==============================] - 613s 97ms/step - d_loss: 0.6621 - g_loss: 0.9282\n",
            "Epoch 22/300\n",
            "6332/6332 [==============================] - 613s 97ms/step - d_loss: 0.6587 - g_loss: 0.9234\n",
            "Epoch 23/300\n",
            "6332/6332 [==============================] - 605s 95ms/step - d_loss: 0.6607 - g_loss: 0.9156\n",
            "Epoch 24/300\n",
            "6332/6332 [==============================] - 605s 96ms/step - d_loss: 0.6618 - g_loss: 0.9085\n",
            "Epoch 25/300\n",
            "6332/6332 [==============================] - 605s 96ms/step - d_loss: 0.6608 - g_loss: 0.9132\n",
            "Epoch 26/300\n",
            "6332/6332 [==============================] - 607s 96ms/step - d_loss: 0.6615 - g_loss: 0.9097\n",
            "Epoch 27/300\n",
            "6332/6332 [==============================] - 604s 95ms/step - d_loss: 0.6587 - g_loss: 0.9146\n",
            "Epoch 28/300\n",
            "6332/6332 [==============================] - 602s 95ms/step - d_loss: 0.6551 - g_loss: 0.9166\n",
            "Epoch 29/300\n",
            "6332/6332 [==============================] - 602s 95ms/step - d_loss: 0.6492 - g_loss: 0.9256\n",
            "Epoch 30/300\n",
            "6332/6332 [==============================] - 606s 96ms/step - d_loss: 0.6492 - g_loss: 0.9265\n",
            "Epoch 31/300\n",
            "6332/6332 [==============================] - 606s 96ms/step - d_loss: 0.6441 - g_loss: 0.9360\n",
            "Epoch 32/300\n",
            "6332/6332 [==============================] - 605s 96ms/step - d_loss: 0.6431 - g_loss: 0.9484\n",
            "Epoch 33/300\n",
            "6332/6332 [==============================] - 604s 95ms/step - d_loss: 0.6391 - g_loss: 0.9488\n",
            "Epoch 34/300\n",
            "6332/6332 [==============================] - 604s 95ms/step - d_loss: 0.6357 - g_loss: 0.9519\n",
            "Epoch 35/300\n",
            "6332/6332 [==============================] - 605s 96ms/step - d_loss: 0.6344 - g_loss: 0.9577\n",
            "Epoch 36/300\n",
            "6332/6332 [==============================] - 604s 95ms/step - d_loss: 0.6355 - g_loss: 0.9703\n",
            "Epoch 37/300\n",
            "6332/6332 [==============================] - 604s 95ms/step - d_loss: 0.6314 - g_loss: 0.9686\n",
            "Epoch 38/300\n",
            "6332/6332 [==============================] - 604s 95ms/step - d_loss: 0.6288 - g_loss: 0.9709\n",
            "Epoch 39/300\n",
            "6332/6332 [==============================] - 604s 95ms/step - d_loss: 0.6274 - g_loss: 0.9846\n",
            "Epoch 40/300\n",
            "6332/6332 [==============================] - 602s 95ms/step - d_loss: 0.6228 - g_loss: 0.9904\n",
            "Epoch 41/300\n",
            "6332/6332 [==============================] - 602s 95ms/step - d_loss: 0.6231 - g_loss: 0.9931\n",
            "Epoch 42/300\n",
            "6332/6332 [==============================] - 603s 95ms/step - d_loss: 0.6180 - g_loss: 1.0028\n",
            "Epoch 43/300\n",
            "6332/6332 [==============================] - 604s 95ms/step - d_loss: 0.6187 - g_loss: 1.0125\n",
            "Epoch 44/300\n",
            "6332/6332 [==============================] - 605s 95ms/step - d_loss: 0.6127 - g_loss: 1.0142\n",
            "Epoch 45/300\n",
            "6332/6332 [==============================] - 605s 96ms/step - d_loss: 0.6096 - g_loss: 1.0282\n",
            "Epoch 46/300\n",
            "6332/6332 [==============================] - 603s 95ms/step - d_loss: 0.6092 - g_loss: 1.0338\n",
            "Epoch 47/300\n",
            "6332/6332 [==============================] - 603s 95ms/step - d_loss: 0.6065 - g_loss: 1.0414\n",
            "Epoch 48/300\n",
            "6332/6332 [==============================] - 604s 95ms/step - d_loss: 0.6033 - g_loss: 1.0476\n",
            "Epoch 49/300\n",
            "6332/6332 [==============================] - 603s 95ms/step - d_loss: 0.6045 - g_loss: 1.0535\n",
            "Epoch 50/300\n",
            "6332/6332 [==============================] - 604s 95ms/step - d_loss: 0.6026 - g_loss: 1.0566\n",
            "Epoch 51/300\n",
            "6332/6332 [==============================] - 604s 95ms/step - d_loss: 0.6007 - g_loss: 1.0693\n",
            "Epoch 52/300\n",
            "6332/6332 [==============================] - 604s 95ms/step - d_loss: 0.5994 - g_loss: 1.0728\n",
            "Epoch 53/300\n",
            "6332/6332 [==============================] - 606s 96ms/step - d_loss: 0.5978 - g_loss: 1.0664\n",
            "Epoch 54/300\n",
            "6332/6332 [==============================] - 613s 97ms/step - d_loss: 0.5962 - g_loss: 1.0759\n",
            "Epoch 55/300\n",
            "6332/6332 [==============================] - 618s 98ms/step - d_loss: 0.5959 - g_loss: 1.0798\n",
            "Epoch 56/300\n",
            "6332/6332 [==============================] - 617s 97ms/step - d_loss: 0.5944 - g_loss: 1.0856\n",
            "Epoch 57/300\n",
            "6332/6332 [==============================] - 616s 97ms/step - d_loss: 0.5929 - g_loss: 1.0830\n",
            "Epoch 58/300\n",
            "6332/6332 [==============================] - 607s 96ms/step - d_loss: 0.5928 - g_loss: 1.0965\n",
            "Epoch 59/300\n",
            "6332/6332 [==============================] - 602s 95ms/step - d_loss: 0.5918 - g_loss: 1.0863\n",
            "Epoch 60/300\n",
            "6332/6332 [==============================] - 602s 95ms/step - d_loss: 0.5916 - g_loss: 1.0855\n",
            "Epoch 61/300\n",
            "6332/6332 [==============================] - 601s 95ms/step - d_loss: 0.5899 - g_loss: 1.0885\n",
            "Epoch 62/300\n",
            "6332/6332 [==============================] - 600s 95ms/step - d_loss: 0.5900 - g_loss: 1.0938\n",
            "Epoch 63/300\n",
            "6332/6332 [==============================] - 600s 95ms/step - d_loss: 0.5874 - g_loss: 1.0988\n",
            "Epoch 64/300\n",
            "6332/6332 [==============================] - 600s 95ms/step - d_loss: 0.5881 - g_loss: 1.0982\n",
            "Epoch 65/300\n",
            "6332/6332 [==============================] - 599s 95ms/step - d_loss: 0.5871 - g_loss: 1.0998\n",
            "Epoch 66/300\n",
            "6332/6332 [==============================] - 599s 95ms/step - d_loss: 0.5856 - g_loss: 1.1079\n",
            "Epoch 67/300\n",
            "6332/6332 [==============================] - 599s 95ms/step - d_loss: 0.5849 - g_loss: 1.1081\n",
            "Epoch 68/300\n",
            "6332/6332 [==============================] - 598s 94ms/step - d_loss: 0.5844 - g_loss: 1.1011\n",
            "Epoch 69/300\n",
            "6332/6332 [==============================] - 600s 95ms/step - d_loss: 0.5829 - g_loss: 1.1075\n",
            "Epoch 70/300\n",
            "6332/6332 [==============================] - 599s 95ms/step - d_loss: 0.5838 - g_loss: 1.1020\n",
            "Epoch 71/300\n",
            "6332/6332 [==============================] - 599s 95ms/step - d_loss: 0.5831 - g_loss: 1.1105\n",
            "Epoch 72/300\n",
            "6332/6332 [==============================] - 598s 94ms/step - d_loss: 0.5811 - g_loss: 1.1116\n",
            "Epoch 73/300\n",
            "6332/6332 [==============================] - 597s 94ms/step - d_loss: 0.5793 - g_loss: 1.1184\n",
            "Epoch 74/300\n",
            "6332/6332 [==============================] - 597s 94ms/step - d_loss: 0.5740 - g_loss: 1.1351\n",
            "Epoch 75/300\n",
            "6332/6332 [==============================] - 597s 94ms/step - d_loss: 0.5750 - g_loss: 1.1250\n",
            "Epoch 76/300\n",
            "6332/6332 [==============================] - 598s 94ms/step - d_loss: 0.5732 - g_loss: 1.1353\n",
            "Epoch 77/300\n",
            "6332/6332 [==============================] - 597s 94ms/step - d_loss: 0.5720 - g_loss: 1.1402\n",
            "Epoch 78/300\n",
            "6332/6332 [==============================] - 598s 94ms/step - d_loss: 0.5716 - g_loss: 1.1412\n",
            "Epoch 79/300\n",
            "6332/6332 [==============================] - 598s 94ms/step - d_loss: 0.5691 - g_loss: 1.1579\n",
            "Epoch 80/300\n",
            "6332/6332 [==============================] - 597s 94ms/step - d_loss: 0.5678 - g_loss: 1.1448\n",
            "Epoch 81/300\n",
            "6332/6332 [==============================] - 598s 94ms/step - d_loss: 0.5669 - g_loss: 1.1597\n",
            "Epoch 82/300\n",
            "6332/6332 [==============================] - 601s 95ms/step - d_loss: 0.5656 - g_loss: 1.1619\n",
            "Epoch 83/300\n",
            "6332/6332 [==============================] - 603s 95ms/step - d_loss: 0.5648 - g_loss: 1.1700\n",
            "Epoch 84/300\n",
            "6332/6332 [==============================] - 602s 95ms/step - d_loss: 0.5647 - g_loss: 1.1682\n",
            "Epoch 85/300\n",
            "6332/6332 [==============================] - 597s 94ms/step - d_loss: 0.5627 - g_loss: 1.1656\n",
            "Epoch 86/300\n",
            "6332/6332 [==============================] - 597s 94ms/step - d_loss: 0.5617 - g_loss: 1.1701\n",
            "Epoch 87/300\n",
            "6332/6332 [==============================] - 601s 95ms/step - d_loss: 0.5593 - g_loss: 1.1799\n",
            "Epoch 88/300\n",
            "6332/6332 [==============================] - 598s 94ms/step - d_loss: 0.5591 - g_loss: 1.1805\n",
            "Epoch 89/300\n",
            "6332/6332 [==============================] - 597s 94ms/step - d_loss: 0.5558 - g_loss: 1.1924\n",
            "Epoch 90/300\n",
            "6332/6332 [==============================] - 597s 94ms/step - d_loss: 0.5541 - g_loss: 1.1917\n",
            "Epoch 91/300\n",
            "6332/6332 [==============================] - 597s 94ms/step - d_loss: 0.5548 - g_loss: 1.2001\n",
            "Epoch 92/300\n",
            "6332/6332 [==============================] - 598s 94ms/step - d_loss: 0.5522 - g_loss: 1.1986\n",
            "Epoch 93/300\n",
            "6332/6332 [==============================] - 597s 94ms/step - d_loss: 0.5526 - g_loss: 1.2059\n",
            "Epoch 94/300\n",
            "6332/6332 [==============================] - 598s 94ms/step - d_loss: 0.5503 - g_loss: 1.2117\n",
            "Epoch 95/300\n",
            "6332/6332 [==============================] - 600s 95ms/step - d_loss: 0.5485 - g_loss: 1.2160\n",
            "Epoch 96/300\n",
            "6332/6332 [==============================] - 602s 95ms/step - d_loss: 0.5470 - g_loss: 1.2256\n",
            "Epoch 97/300\n",
            "6332/6332 [==============================] - 599s 95ms/step - d_loss: 0.5467 - g_loss: 1.2214\n",
            "Epoch 98/300\n",
            "6332/6332 [==============================] - 597s 94ms/step - d_loss: 0.5448 - g_loss: 1.2287\n",
            "Epoch 99/300\n",
            "6332/6332 [==============================] - 598s 94ms/step - d_loss: 0.5445 - g_loss: 1.2224\n",
            "Epoch 100/300\n",
            "6332/6332 [==============================] - 600s 95ms/step - d_loss: 0.5421 - g_loss: 1.2353\n",
            "Epoch 101/300\n",
            "6332/6332 [==============================] - 600s 95ms/step - d_loss: 0.5410 - g_loss: 1.2393\n",
            "Epoch 102/300\n",
            "1362/6332 [=====>........................] - ETA: 7:49 - d_loss: 0.5379 - g_loss: 1.2468"
          ],
          "name": "stdout"
        }
      ]
    },
    {
      "cell_type": "markdown",
      "metadata": {
        "id": "kc-5MMQBdkrl"
      },
      "source": [
        "## You end up with images like this after ~30 epochs\n",
        "\n",
        "![results](https://i.imgur.com/h5MtQZ7l.png)"
      ]
    }
  ]
}