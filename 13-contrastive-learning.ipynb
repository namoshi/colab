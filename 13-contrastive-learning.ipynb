{
  "cells": [
    {
      "cell_type": "markdown",
      "metadata": {
        "id": "view-in-github",
        "colab_type": "text"
      },
      "source": [
        "<a href=\"https://colab.research.google.com/github/namoshi/colab/blob/master/13-contrastive-learning.ipynb\" target=\"_parent\"><img src=\"https://colab.research.google.com/assets/colab-badge.svg\" alt=\"Open In Colab\"/></a>"
      ]
    },
    {
      "cell_type": "markdown",
      "id": "6000551a",
      "metadata": {
        "papermill": {
          "duration": 0.030399,
          "end_time": "2021-10-10T16:38:20.779892",
          "exception": false,
          "start_time": "2021-10-10T16:38:20.749493",
          "status": "completed"
        },
        "tags": [],
        "id": "6000551a"
      },
      "source": [
        "\n",
        "# Tutorial 13: Self-Supervised Contrastive Learning with SimCLR\n",
        "\n",
        "* **Author:** Phillip Lippe\n",
        "* **License:** CC BY-SA\n",
        "* **Generated:** 2021-10-10T18:35:52.598167\n",
        "\n",
        "In this tutorial, we will take a closer look at self-supervised contrastive learning.\n",
        "Self-supervised learning, or also sometimes called unsupervised learning, describes the scenario where we have given input data, but no accompanying labels to train in a classical supervised way.\n",
        "However, this data still contains a lot of information from which we can learn: how are the images different from each other?\n",
        "What patterns are descriptive for certain images?\n",
        "Can we cluster the images?\n",
        "To get an insight into these questions, we will implement a popular, simple contrastive learning method, SimCLR, and apply it to the STL10 dataset.\n",
        "This notebook is part of a lecture series on Deep Learning at the University of Amsterdam.\n",
        "The full list of tutorials can be found at https://uvadlc-notebooks.rtfd.io.\n",
        "\n",
        "\n",
        "---\n",
        "Open in [![Open In Colab](data:image/png;base64,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){height=\"20px\" width=\"117px\"}](https://colab.research.google.com/github/PytorchLightning/lightning-tutorials/blob/publication/.notebooks/course_UvA-DL/13-contrastive-learning.ipynb)\n",
        "\n",
        "Give us a ⭐ [on Github](https://www.github.com/PytorchLightning/pytorch-lightning/)\n",
        "| Check out [the documentation](https://pytorch-lightning.readthedocs.io/en/latest/)\n",
        "| Join us [on Slack](https://join.slack.com/t/pytorch-lightning/shared_invite/zt-pw5v393p-qRaDgEk24~EjiZNBpSQFgQ)"
      ]
    },
    {
      "cell_type": "markdown",
      "id": "c075e657",
      "metadata": {
        "papermill": {
          "duration": 0.028259,
          "end_time": "2021-10-10T16:38:20.837183",
          "exception": false,
          "start_time": "2021-10-10T16:38:20.808924",
          "status": "completed"
        },
        "tags": [],
        "id": "c075e657"
      },
      "source": [
        "## Setup\n",
        "This notebook requires some packages besides pytorch-lightning."
      ]
    },
    {
      "cell_type": "code",
      "source": [
        "! pip install --quiet \"torch>=1.6, <1.9\" \"matplotlib\" \"pytorch-lightning>=1.3\" \"seaborn\" \"torchvision\" \"torchmetrics>=0.3\""
      ],
      "metadata": {
        "id": "hd6M-beqyk5P"
      },
      "id": "hd6M-beqyk5P",
      "execution_count": null,
      "outputs": []
    },
    {
      "cell_type": "code",
      "execution_count": 1,
      "id": "132c3c36",
      "metadata": {
        "colab": {
          "base_uri": "https://localhost:8080/"
        },
        "execution": {
          "iopub.execute_input": "2021-10-10T16:38:20.897899Z",
          "iopub.status.busy": "2021-10-10T16:38:20.897428Z",
          "iopub.status.idle": "2021-10-10T16:38:20.900024Z",
          "shell.execute_reply": "2021-10-10T16:38:20.899479Z"
        },
        "id": "132c3c36",
        "lines_to_next_cell": 0,
        "papermill": {
          "duration": 0.034648,
          "end_time": "2021-10-10T16:38:20.900141",
          "exception": false,
          "start_time": "2021-10-10T16:38:20.865493",
          "status": "completed"
        },
        "tags": [],
        "outputId": "85184485-747d-4d63-8d65-44f2b016cf09"
      },
      "outputs": [
        {
          "output_type": "stream",
          "name": "stdout",
          "text": [
            "Requirement already satisfied: torch in /usr/local/lib/python3.7/dist-packages (1.10.1)\n",
            "Requirement already satisfied: matplotlib in /usr/local/lib/python3.7/dist-packages (3.5.1)\n",
            "Requirement already satisfied: pytorch-lightning in /usr/local/lib/python3.7/dist-packages (1.5.7)\n",
            "Requirement already satisfied: seaborn in /usr/local/lib/python3.7/dist-packages (0.11.2)\n",
            "Requirement already satisfied: torchvision in /usr/local/lib/python3.7/dist-packages (0.11.2)\n",
            "Requirement already satisfied: torchmetrics in /usr/local/lib/python3.7/dist-packages (0.6.2)\n",
            "Requirement already satisfied: typing-extensions in /usr/local/lib/python3.7/dist-packages (from torch) (3.10.0.2)\n",
            "Requirement already satisfied: fonttools>=4.22.0 in /usr/local/lib/python3.7/dist-packages (from matplotlib) (4.28.5)\n",
            "Requirement already satisfied: pyparsing>=2.2.1 in /usr/local/lib/python3.7/dist-packages (from matplotlib) (3.0.6)\n",
            "Requirement already satisfied: kiwisolver>=1.0.1 in /usr/local/lib/python3.7/dist-packages (from matplotlib) (1.3.2)\n",
            "Requirement already satisfied: pillow>=6.2.0 in /usr/local/lib/python3.7/dist-packages (from matplotlib) (7.1.2)\n",
            "Requirement already satisfied: cycler>=0.10 in /usr/local/lib/python3.7/dist-packages (from matplotlib) (0.11.0)\n",
            "Requirement already satisfied: python-dateutil>=2.7 in /usr/local/lib/python3.7/dist-packages (from matplotlib) (2.8.2)\n",
            "Requirement already satisfied: packaging>=20.0 in /usr/local/lib/python3.7/dist-packages (from matplotlib) (21.3)\n",
            "Requirement already satisfied: numpy>=1.17 in /usr/local/lib/python3.7/dist-packages (from matplotlib) (1.19.5)\n",
            "Requirement already satisfied: six>=1.5 in /usr/local/lib/python3.7/dist-packages (from python-dateutil>=2.7->matplotlib) (1.15.0)\n",
            "Requirement already satisfied: PyYAML>=5.1 in /usr/local/lib/python3.7/dist-packages (from pytorch-lightning) (6.0)\n",
            "Requirement already satisfied: tqdm>=4.41.0 in /usr/local/lib/python3.7/dist-packages (from pytorch-lightning) (4.62.3)\n",
            "Requirement already satisfied: fsspec[http]!=2021.06.0,>=2021.05.0 in /usr/local/lib/python3.7/dist-packages (from pytorch-lightning) (2021.11.1)\n",
            "Requirement already satisfied: future>=0.17.1 in /usr/local/lib/python3.7/dist-packages (from pytorch-lightning) (0.18.2)\n",
            "Requirement already satisfied: pyDeprecate==0.3.1 in /usr/local/lib/python3.7/dist-packages (from pytorch-lightning) (0.3.1)\n",
            "Requirement already satisfied: tensorboard>=2.2.0 in /usr/local/lib/python3.7/dist-packages (from pytorch-lightning) (2.7.0)\n",
            "Requirement already satisfied: requests in /usr/local/lib/python3.7/dist-packages (from fsspec[http]!=2021.06.0,>=2021.05.0->pytorch-lightning) (2.23.0)\n",
            "Requirement already satisfied: aiohttp in /usr/local/lib/python3.7/dist-packages (from fsspec[http]!=2021.06.0,>=2021.05.0->pytorch-lightning) (3.8.1)\n",
            "Requirement already satisfied: grpcio>=1.24.3 in /usr/local/lib/python3.7/dist-packages (from tensorboard>=2.2.0->pytorch-lightning) (1.42.0)\n",
            "Requirement already satisfied: wheel>=0.26 in /usr/local/lib/python3.7/dist-packages (from tensorboard>=2.2.0->pytorch-lightning) (0.37.0)\n",
            "Requirement already satisfied: absl-py>=0.4 in /usr/local/lib/python3.7/dist-packages (from tensorboard>=2.2.0->pytorch-lightning) (0.12.0)\n",
            "Requirement already satisfied: werkzeug>=0.11.15 in /usr/local/lib/python3.7/dist-packages (from tensorboard>=2.2.0->pytorch-lightning) (1.0.1)\n",
            "Requirement already satisfied: google-auth-oauthlib<0.5,>=0.4.1 in /usr/local/lib/python3.7/dist-packages (from tensorboard>=2.2.0->pytorch-lightning) (0.4.6)\n",
            "Requirement already satisfied: google-auth<3,>=1.6.3 in /usr/local/lib/python3.7/dist-packages (from tensorboard>=2.2.0->pytorch-lightning) (1.35.0)\n",
            "Requirement already satisfied: markdown>=2.6.8 in /usr/local/lib/python3.7/dist-packages (from tensorboard>=2.2.0->pytorch-lightning) (3.3.6)\n",
            "Requirement already satisfied: tensorboard-data-server<0.7.0,>=0.6.0 in /usr/local/lib/python3.7/dist-packages (from tensorboard>=2.2.0->pytorch-lightning) (0.6.1)\n",
            "Requirement already satisfied: setuptools>=41.0.0 in /usr/local/lib/python3.7/dist-packages (from tensorboard>=2.2.0->pytorch-lightning) (57.4.0)\n",
            "Requirement already satisfied: tensorboard-plugin-wit>=1.6.0 in /usr/local/lib/python3.7/dist-packages (from tensorboard>=2.2.0->pytorch-lightning) (1.8.0)\n",
            "Requirement already satisfied: protobuf>=3.6.0 in /usr/local/lib/python3.7/dist-packages (from tensorboard>=2.2.0->pytorch-lightning) (3.17.3)\n",
            "Requirement already satisfied: rsa<5,>=3.1.4 in /usr/local/lib/python3.7/dist-packages (from google-auth<3,>=1.6.3->tensorboard>=2.2.0->pytorch-lightning) (4.8)\n",
            "Requirement already satisfied: pyasn1-modules>=0.2.1 in /usr/local/lib/python3.7/dist-packages (from google-auth<3,>=1.6.3->tensorboard>=2.2.0->pytorch-lightning) (0.2.8)\n",
            "Requirement already satisfied: cachetools<5.0,>=2.0.0 in /usr/local/lib/python3.7/dist-packages (from google-auth<3,>=1.6.3->tensorboard>=2.2.0->pytorch-lightning) (4.2.4)\n",
            "Requirement already satisfied: requests-oauthlib>=0.7.0 in /usr/local/lib/python3.7/dist-packages (from google-auth-oauthlib<0.5,>=0.4.1->tensorboard>=2.2.0->pytorch-lightning) (1.3.0)\n",
            "Requirement already satisfied: importlib-metadata>=4.4 in /usr/local/lib/python3.7/dist-packages (from markdown>=2.6.8->tensorboard>=2.2.0->pytorch-lightning) (4.8.2)\n",
            "Requirement already satisfied: zipp>=0.5 in /usr/local/lib/python3.7/dist-packages (from importlib-metadata>=4.4->markdown>=2.6.8->tensorboard>=2.2.0->pytorch-lightning) (3.6.0)\n",
            "Requirement already satisfied: pyasn1<0.5.0,>=0.4.6 in /usr/local/lib/python3.7/dist-packages (from pyasn1-modules>=0.2.1->google-auth<3,>=1.6.3->tensorboard>=2.2.0->pytorch-lightning) (0.4.8)\n",
            "Requirement already satisfied: chardet<4,>=3.0.2 in /usr/local/lib/python3.7/dist-packages (from requests->fsspec[http]!=2021.06.0,>=2021.05.0->pytorch-lightning) (3.0.4)\n",
            "Requirement already satisfied: certifi>=2017.4.17 in /usr/local/lib/python3.7/dist-packages (from requests->fsspec[http]!=2021.06.0,>=2021.05.0->pytorch-lightning) (2021.10.8)\n",
            "Requirement already satisfied: urllib3!=1.25.0,!=1.25.1,<1.26,>=1.21.1 in /usr/local/lib/python3.7/dist-packages (from requests->fsspec[http]!=2021.06.0,>=2021.05.0->pytorch-lightning) (1.24.3)\n",
            "Requirement already satisfied: idna<3,>=2.5 in /usr/local/lib/python3.7/dist-packages (from requests->fsspec[http]!=2021.06.0,>=2021.05.0->pytorch-lightning) (2.10)\n",
            "Requirement already satisfied: oauthlib>=3.0.0 in /usr/local/lib/python3.7/dist-packages (from requests-oauthlib>=0.7.0->google-auth-oauthlib<0.5,>=0.4.1->tensorboard>=2.2.0->pytorch-lightning) (3.1.1)\n",
            "Requirement already satisfied: pandas>=0.23 in /usr/local/lib/python3.7/dist-packages (from seaborn) (1.1.5)\n",
            "Requirement already satisfied: scipy>=1.0 in /usr/local/lib/python3.7/dist-packages (from seaborn) (1.4.1)\n",
            "Requirement already satisfied: pytz>=2017.2 in /usr/local/lib/python3.7/dist-packages (from pandas>=0.23->seaborn) (2018.9)\n",
            "Requirement already satisfied: charset-normalizer<3.0,>=2.0 in /usr/local/lib/python3.7/dist-packages (from aiohttp->fsspec[http]!=2021.06.0,>=2021.05.0->pytorch-lightning) (2.0.8)\n",
            "Requirement already satisfied: asynctest==0.13.0 in /usr/local/lib/python3.7/dist-packages (from aiohttp->fsspec[http]!=2021.06.0,>=2021.05.0->pytorch-lightning) (0.13.0)\n",
            "Requirement already satisfied: multidict<7.0,>=4.5 in /usr/local/lib/python3.7/dist-packages (from aiohttp->fsspec[http]!=2021.06.0,>=2021.05.0->pytorch-lightning) (5.2.0)\n",
            "Requirement already satisfied: yarl<2.0,>=1.0 in /usr/local/lib/python3.7/dist-packages (from aiohttp->fsspec[http]!=2021.06.0,>=2021.05.0->pytorch-lightning) (1.7.2)\n",
            "Requirement already satisfied: frozenlist>=1.1.1 in /usr/local/lib/python3.7/dist-packages (from aiohttp->fsspec[http]!=2021.06.0,>=2021.05.0->pytorch-lightning) (1.2.0)\n",
            "Requirement already satisfied: aiosignal>=1.1.2 in /usr/local/lib/python3.7/dist-packages (from aiohttp->fsspec[http]!=2021.06.0,>=2021.05.0->pytorch-lightning) (1.2.0)\n",
            "Requirement already satisfied: attrs>=17.3.0 in /usr/local/lib/python3.7/dist-packages (from aiohttp->fsspec[http]!=2021.06.0,>=2021.05.0->pytorch-lightning) (21.2.0)\n",
            "Requirement already satisfied: async-timeout<5.0,>=4.0.0a3 in /usr/local/lib/python3.7/dist-packages (from aiohttp->fsspec[http]!=2021.06.0,>=2021.05.0->pytorch-lightning) (4.0.2)\n"
          ]
        }
      ],
      "source": [
        "! pip install \"torch\" \"matplotlib\" \"pytorch-lightning\" \"seaborn\" \"torchvision\" \"torchmetrics\""
      ]
    },
    {
      "cell_type": "code",
      "execution_count": 2,
      "id": "e2627246",
      "metadata": {
        "execution": {
          "iopub.execute_input": "2021-10-10T16:38:21.024058Z",
          "iopub.status.busy": "2021-10-10T16:38:21.022126Z",
          "iopub.status.idle": "2021-10-10T16:38:22.765560Z",
          "shell.execute_reply": "2021-10-10T16:38:22.765143Z"
        },
        "papermill": {
          "duration": 1.779594,
          "end_time": "2021-10-10T16:38:22.765675",
          "exception": false,
          "start_time": "2021-10-10T16:38:20.986081",
          "status": "completed"
        },
        "tags": [],
        "id": "e2627246",
        "outputId": "c1796c0a-4951-4ba8-b2b9-932f098fbab8",
        "colab": {
          "base_uri": "https://localhost:8080/",
          "height": 90
        }
      },
      "outputs": [
        {
          "output_type": "stream",
          "name": "stderr",
          "text": [
            "Global seed set to 42\n"
          ]
        },
        {
          "output_type": "stream",
          "name": "stdout",
          "text": [
            "Device: cuda:0\n",
            "Number of workers: 2\n"
          ]
        },
        {
          "output_type": "display_data",
          "data": {
            "text/plain": [
              "<Figure size 432x288 with 0 Axes>"
            ]
          },
          "metadata": {}
        }
      ],
      "source": [
        "import os\n",
        "import urllib.request\n",
        "from copy import deepcopy\n",
        "from urllib.error import HTTPError\n",
        "\n",
        "import matplotlib\n",
        "import matplotlib.pyplot as plt\n",
        "import pytorch_lightning as pl\n",
        "import seaborn as sns\n",
        "import torch\n",
        "import torch.nn as nn\n",
        "import torch.nn.functional as F\n",
        "import torch.optim as optim\n",
        "import torch.utils.data as data\n",
        "import torchvision\n",
        "from IPython.display import set_matplotlib_formats\n",
        "from pytorch_lightning.callbacks import LearningRateMonitor, ModelCheckpoint\n",
        "from torchvision import transforms\n",
        "from torchvision.datasets import STL10\n",
        "from tqdm.notebook import tqdm\n",
        "\n",
        "plt.set_cmap(\"cividis\")\n",
        "# %matplotlib inline\n",
        "set_matplotlib_formats(\"svg\", \"pdf\")  # For export\n",
        "matplotlib.rcParams[\"lines.linewidth\"] = 2.0\n",
        "sns.set()\n",
        "\n",
        "# Import tensorboard\n",
        "# %load_ext tensorboard\n",
        "\n",
        "# Path to the folder where the datasets are/should be downloaded (e.g. CIFAR10)\n",
        "DATASET_PATH = os.environ.get(\"PATH_DATASETS\", \"data/\")\n",
        "# Path to the folder where the pretrained models are saved\n",
        "CHECKPOINT_PATH = os.environ.get(\"PATH_CHECKPOINT\", \"saved_models/ContrastiveLearning/\")\n",
        "# In this notebook, we use data loaders with heavier computational processing. It is recommended to use as many\n",
        "# workers as possible in a data loader, which corresponds to the number of CPU cores\n",
        "NUM_WORKERS = os.cpu_count()\n",
        "\n",
        "# Setting the seed\n",
        "pl.seed_everything(42)\n",
        "\n",
        "# Ensure that all operations are deterministic on GPU (if used) for reproducibility\n",
        "torch.backends.cudnn.determinstic = True\n",
        "torch.backends.cudnn.benchmark = False\n",
        "\n",
        "device = torch.device(\"cuda:0\") if torch.cuda.is_available() else torch.device(\"cpu\")\n",
        "print(\"Device:\", device)\n",
        "print(\"Number of workers:\", NUM_WORKERS)"
      ]
    },
    {
      "cell_type": "markdown",
      "id": "ae59fd9f",
      "metadata": {
        "papermill": {
          "duration": 0.029754,
          "end_time": "2021-10-10T16:38:22.826902",
          "exception": false,
          "start_time": "2021-10-10T16:38:22.797148",
          "status": "completed"
        },
        "tags": [],
        "id": "ae59fd9f"
      },
      "source": [
        "As in many tutorials before, we provide pre-trained models.\n",
        "Note that those models are slightly larger as normal (~100MB overall) since we use the default ResNet-18 architecture.\n",
        "If you are running this notebook locally, make sure to have sufficient disk space available."
      ]
    },
    {
      "cell_type": "code",
      "execution_count": 3,
      "id": "482bf0ff",
      "metadata": {
        "execution": {
          "iopub.execute_input": "2021-10-10T16:38:22.890766Z",
          "iopub.status.busy": "2021-10-10T16:38:22.887393Z",
          "iopub.status.idle": "2021-10-10T16:38:25.058940Z",
          "shell.execute_reply": "2021-10-10T16:38:25.058450Z"
        },
        "papermill": {
          "duration": 2.20285,
          "end_time": "2021-10-10T16:38:25.059060",
          "exception": false,
          "start_time": "2021-10-10T16:38:22.856210",
          "status": "completed"
        },
        "tags": [],
        "id": "482bf0ff",
        "outputId": "246c55a6-1c19-4365-ce1e-051bdb5ecd76",
        "colab": {
          "base_uri": "https://localhost:8080/"
        }
      },
      "outputs": [
        {
          "output_type": "stream",
          "name": "stdout",
          "text": [
            "Downloading https://raw.githubusercontent.com/phlippe/saved_models/main/tutorial17/SimCLR.ckpt...\n",
            "Downloading https://raw.githubusercontent.com/phlippe/saved_models/main/tutorial17/ResNet.ckpt...\n",
            "Downloading https://raw.githubusercontent.com/phlippe/saved_models/main/tutorial17/tensorboards/SimCLR/events.out.tfevents.SimCLR...\n",
            "Downloading https://raw.githubusercontent.com/phlippe/saved_models/main/tutorial17/tensorboards/classification/ResNet/events.out.tfevents.ResNet...\n",
            "Downloading https://raw.githubusercontent.com/phlippe/saved_models/main/tutorial17/LogisticRegression_10.ckpt...\n",
            "Downloading https://raw.githubusercontent.com/phlippe/saved_models/main/tutorial17/LogisticRegression_20.ckpt...\n",
            "Downloading https://raw.githubusercontent.com/phlippe/saved_models/main/tutorial17/LogisticRegression_50.ckpt...\n",
            "Downloading https://raw.githubusercontent.com/phlippe/saved_models/main/tutorial17/LogisticRegression_100.ckpt...\n",
            "Downloading https://raw.githubusercontent.com/phlippe/saved_models/main/tutorial17/LogisticRegression_200.ckpt...\n",
            "Downloading https://raw.githubusercontent.com/phlippe/saved_models/main/tutorial17/LogisticRegression_500.ckpt...\n"
          ]
        }
      ],
      "source": [
        "# Github URL where saved models are stored for this tutorial\n",
        "base_url = \"https://raw.githubusercontent.com/phlippe/saved_models/main/tutorial17/\"\n",
        "# Files to download\n",
        "pretrained_files = [\n",
        "    \"SimCLR.ckpt\",\n",
        "    \"ResNet.ckpt\",\n",
        "    \"tensorboards/SimCLR/events.out.tfevents.SimCLR\",\n",
        "    \"tensorboards/classification/ResNet/events.out.tfevents.ResNet\",\n",
        "]\n",
        "pretrained_files += [f\"LogisticRegression_{size}.ckpt\" for size in [10, 20, 50, 100, 200, 500]]\n",
        "# Create checkpoint path if it doesn't exist yet\n",
        "os.makedirs(CHECKPOINT_PATH, exist_ok=True)\n",
        "\n",
        "# For each file, check whether it already exists. If not, try downloading it.\n",
        "for file_name in pretrained_files:\n",
        "    file_path = os.path.join(CHECKPOINT_PATH, file_name)\n",
        "    if \"/\" in file_name:\n",
        "        os.makedirs(file_path.rsplit(\"/\", 1)[0], exist_ok=True)\n",
        "    if not os.path.isfile(file_path):\n",
        "        file_url = base_url + file_name\n",
        "        print(f\"Downloading {file_url}...\")\n",
        "        try:\n",
        "            urllib.request.urlretrieve(file_url, file_path)\n",
        "        except HTTPError as e:\n",
        "            print(\n",
        "                \"Something went wrong. Please try to download the file from the GDrive folder, or contact the author with the full output including the following error:\\n\",\n",
        "                e,\n",
        "            )"
      ]
    },
    {
      "cell_type": "markdown",
      "id": "f7e66a12",
      "metadata": {
        "papermill": {
          "duration": 0.030275,
          "end_time": "2021-10-10T16:38:25.125477",
          "exception": false,
          "start_time": "2021-10-10T16:38:25.095202",
          "status": "completed"
        },
        "tags": [],
        "id": "f7e66a12"
      },
      "source": [
        "## SimCLR\n",
        "\n",
        "We will start our exploration of contrastive learning by discussing the effect of different data augmentation techniques, and how we can implement an efficient data loader for such.\n",
        "Next, we implement SimCLR with PyTorch Lightning, and finally train it on a large, unlabeled dataset."
      ]
    },
    {
      "cell_type": "markdown",
      "id": "f78a4c91",
      "metadata": {
        "lines_to_next_cell": 2,
        "papermill": {
          "duration": 0.030063,
          "end_time": "2021-10-10T16:38:25.185749",
          "exception": false,
          "start_time": "2021-10-10T16:38:25.155686",
          "status": "completed"
        },
        "tags": [],
        "id": "f78a4c91"
      },
      "source": [
        "### Data Augmentation for Contrastive Learning\n",
        "\n",
        "To allow efficient training, we need to prepare the data loading such that we sample two different, random augmentations for each image in the batch.\n",
        "The easiest way to do this is by creating a transformation that, when being called, applies a set of data augmentations to an image twice.\n",
        "This is implemented in the class `ContrastiveTransformations` below:"
      ]
    },
    {
      "cell_type": "code",
      "execution_count": 4,
      "id": "c7868578",
      "metadata": {
        "execution": {
          "iopub.execute_input": "2021-10-10T16:38:25.253314Z",
          "iopub.status.busy": "2021-10-10T16:38:25.252845Z",
          "iopub.status.idle": "2021-10-10T16:38:25.254844Z",
          "shell.execute_reply": "2021-10-10T16:38:25.254446Z"
        },
        "papermill": {
          "duration": 0.036682,
          "end_time": "2021-10-10T16:38:25.254947",
          "exception": false,
          "start_time": "2021-10-10T16:38:25.218265",
          "status": "completed"
        },
        "tags": [],
        "id": "c7868578"
      },
      "outputs": [],
      "source": [
        "class ContrastiveTransformations:\n",
        "    def __init__(self, base_transforms, n_views=2):\n",
        "        self.base_transforms = base_transforms\n",
        "        self.n_views = n_views\n",
        "\n",
        "    def __call__(self, x):\n",
        "        return [self.base_transforms(x) for i in range(self.n_views)]"
      ]
    },
    {
      "cell_type": "markdown",
      "id": "ebf730fc",
      "metadata": {
        "papermill": {
          "duration": 0.030955,
          "end_time": "2021-10-10T16:38:25.316735",
          "exception": false,
          "start_time": "2021-10-10T16:38:25.285780",
          "status": "completed"
        },
        "tags": [],
        "id": "ebf730fc"
      },
      "source": [
        "The contrastive learning framework can easily be extended to have more _positive_ examples by sampling more than two augmentations of the same image.\n",
        "However, the most efficient training is usually obtained by using only two.\n",
        "\n",
        "Next, we can look at the specific augmentations we want to apply.\n",
        "The choice of the data augmentation to use is the most crucial hyperparameter in SimCLR since it directly affects how the latent space is structured, and what patterns might be learned from the data.\n",
        "Let's first take a look at some of the most popular data augmentations (figure credit - [Ting Chen and Geoffrey Hinton](https://ai.googleblog.com/2020/04/advancing-self-supervised-and-semi.html)):\n",
        "\n",
        "<center width=\"100%\"><img src=\"https://github.com/PyTorchLightning/lightning-tutorials/raw/main/course_UvA-DL/13-contrastive-learning/simclr_data_augmentations.jpg\" width=\"800px\" style=\"padding-top: 10px; padding-bottom: 10px\"></center>\n",
        "\n",
        "All of them can be used, but it turns out that two augmentations stand out in their importance: crop-and-resize, and color distortion.\n",
        "Interestingly, however, they only lead to strong performance if they have been used together as discussed by [Ting Chen et al. ](https://arxiv.org/abs/2006.10029) in their SimCLR paper.\n",
        "When performing randomly cropping and resizing, we can distinguish between two situations: (a) cropped image A provides a local view of cropped image B, or (b) cropped images C and D show neighboring views of the same image (figure credit - [Ting Chen and Geoffrey Hinton](https://ai.googleblog.com/2020/04/advancing-self-supervised-and-semi.html)).\n",
        "\n",
        "<center width=\"100%\"><img src=\"https://github.com/PyTorchLightning/lightning-tutorials/raw/main/course_UvA-DL/13-contrastive-learning/crop_views.svg\" width=\"400px\" style=\"padding-top: 20px; padding-bottom: 0px\"></center>\n",
        "\n",
        "While situation (a) requires the model to learn some sort of scale invariance to make crops A and B similar in latent space, situation (b) is more challenging since the model needs to recognize an object beyond its limited view.\n",
        "However, without color distortion, there is a loophole that the model can exploit, namely that different crops of the same image usually look very similar in color space.\n",
        "Consider the picture of the dog above.\n",
        "Simply from the color of the fur and the green color tone of the background, you can reason that two patches belong to the same image without actually recognizing the dog in the picture.\n",
        "In this case, the model might end up focusing only on the color histograms of the images, and ignore other more generalizable features.\n",
        "If, however, we distort the colors in the two patches randomly and independently of each other, the model cannot rely on this simple feature anymore.\n",
        "Hence, by combining random cropping and color distortions, the model can only match two patches by learning generalizable representations.\n",
        "\n",
        "Overall, for our experiments, we apply a set of 5 transformations following the original SimCLR setup: random horizontal flip, crop-and-resize, color distortion, random grayscale, and gaussian blur.\n",
        "In comparison to the [original implementation](https://github.com/google-research/simclr), we reduce the effect of the color jitter slightly (0.5 instead of 0.8 for brightness, contrast, and saturation, and 0.1 instead of 0.2 for hue).\n",
        "In our experiments, this setting obtained better performance and was faster and more stable to train.\n",
        "If, for instance, the brightness scale highly varies in a dataset, the\n",
        "original settings can be more beneficial since the model can't rely on\n",
        "this information anymore to distinguish between images."
      ]
    },
    {
      "cell_type": "code",
      "execution_count": 5,
      "id": "cfb65837",
      "metadata": {
        "execution": {
          "iopub.execute_input": "2021-10-10T16:38:25.382410Z",
          "iopub.status.busy": "2021-10-10T16:38:25.381935Z",
          "iopub.status.idle": "2021-10-10T16:38:25.383969Z",
          "shell.execute_reply": "2021-10-10T16:38:25.383557Z"
        },
        "papermill": {
          "duration": 0.036481,
          "end_time": "2021-10-10T16:38:25.384069",
          "exception": false,
          "start_time": "2021-10-10T16:38:25.347588",
          "status": "completed"
        },
        "tags": [],
        "id": "cfb65837"
      },
      "outputs": [],
      "source": [
        "contrast_transforms = transforms.Compose(\n",
        "    [\n",
        "        transforms.RandomHorizontalFlip(),\n",
        "        transforms.RandomResizedCrop(size=96),\n",
        "        transforms.RandomApply([transforms.ColorJitter(brightness=0.5, contrast=0.5, saturation=0.5, hue=0.1)], p=0.8),\n",
        "        transforms.RandomGrayscale(p=0.2),\n",
        "        transforms.GaussianBlur(kernel_size=9),\n",
        "        transforms.ToTensor(),\n",
        "        transforms.Normalize((0.5,), (0.5,)),\n",
        "    ]\n",
        ")"
      ]
    },
    {
      "cell_type": "markdown",
      "id": "64514ea2",
      "metadata": {
        "papermill": {
          "duration": 0.030802,
          "end_time": "2021-10-10T16:38:25.444902",
          "exception": false,
          "start_time": "2021-10-10T16:38:25.414100",
          "status": "completed"
        },
        "tags": [],
        "id": "64514ea2"
      },
      "source": [
        "After discussing the data augmentation techniques, we can now focus on the dataset.\n",
        "In this tutorial, we will use the [STL10 dataset](https://cs.stanford.edu/~acoates/stl10/), which, similarly to CIFAR10, contains images of 10 classes: airplane, bird, car, cat, deer, dog, horse, monkey, ship, truck.\n",
        "However, the images have a higher resolution, namely $96\\times 96$ pixels, and we are only provided with 500 labeled images per class.\n",
        "Additionally, we have a much larger set of $100,000$ unlabeled images which are similar to the training images but are sampled from a wider range of animals and vehicles.\n",
        "This makes the dataset ideal to showcase the benefits that self-supervised learning offers.\n",
        "\n",
        "Luckily, the STL10 dataset is provided through torchvision.\n",
        "Keep in mind, however, that since this dataset is relatively large and has a considerably higher resolution than CIFAR10, it requires more disk space (~3GB) and takes a bit of time to download.\n",
        "For our initial discussion of self-supervised learning and SimCLR, we\n",
        "will create two data loaders with our contrastive transformations above:\n",
        "the `unlabeled_data` will be used to train our model via contrastive\n",
        "learning, and `train_data_contrast` will be used as a validation set in\n",
        "contrastive learning."
      ]
    },
    {
      "cell_type": "code",
      "execution_count": 6,
      "id": "5893d109",
      "metadata": {
        "execution": {
          "iopub.execute_input": "2021-10-10T16:38:25.510013Z",
          "iopub.status.busy": "2021-10-10T16:38:25.509537Z",
          "iopub.status.idle": "2021-10-10T16:41:52.516922Z",
          "shell.execute_reply": "2021-10-10T16:41:52.517324Z"
        },
        "papermill": {
          "duration": 207.042247,
          "end_time": "2021-10-10T16:41:52.517484",
          "exception": false,
          "start_time": "2021-10-10T16:38:25.475237",
          "status": "completed"
        },
        "tags": [],
        "id": "5893d109",
        "outputId": "38eb0267-2ecb-4f3b-da3e-74039c69baed",
        "colab": {
          "base_uri": "https://localhost:8080/",
          "height": 103,
          "referenced_widgets": [
            "910b265c0cda4cad990e9d9bbffc9962",
            "c9d19970980e4cd792f37bc32bd7fe14",
            "a6876bbdb4cb4e39a8164d5688a391cb",
            "3cfb837e6665449f9c793979e4579279",
            "3d1c8a3461974152bcbb36456d2eeac9",
            "0c15ec476aaa41cca475d6de03a17fe3",
            "a83e8a159bf44654ac8ba23c47656a9a",
            "7570cf09c65c4b80b3fe300a843bfbbc",
            "224d2c976bb7416bb4621c5097c5d400",
            "f452ba5b0ad6405c8fbc7472096de0f4",
            "244db5c75fc046e8b73d814176f9845c"
          ]
        }
      },
      "outputs": [
        {
          "output_type": "stream",
          "name": "stdout",
          "text": [
            "Downloading http://ai.stanford.edu/~acoates/stl10/stl10_binary.tar.gz to data/stl10_binary.tar.gz\n"
          ]
        },
        {
          "output_type": "display_data",
          "data": {
            "application/vnd.jupyter.widget-view+json": {
              "model_id": "910b265c0cda4cad990e9d9bbffc9962",
              "version_minor": 0,
              "version_major": 2
            },
            "text/plain": [
              "  0%|          | 0/2640397119 [00:00<?, ?it/s]"
            ]
          },
          "metadata": {}
        },
        {
          "output_type": "stream",
          "name": "stdout",
          "text": [
            "Extracting data/stl10_binary.tar.gz to data/\n",
            "Files already downloaded and verified\n"
          ]
        }
      ],
      "source": [
        "unlabeled_data = STL10(\n",
        "    root=DATASET_PATH,\n",
        "    split=\"unlabeled\",\n",
        "    download=True,\n",
        "    transform=ContrastiveTransformations(contrast_transforms, n_views=2),\n",
        ")\n",
        "train_data_contrast = STL10(\n",
        "    root=DATASET_PATH,\n",
        "    split=\"train\",\n",
        "    download=True,\n",
        "    transform=ContrastiveTransformations(contrast_transforms, n_views=2),\n",
        ")"
      ]
    },
    {
      "cell_type": "markdown",
      "id": "b5b37f86",
      "metadata": {
        "papermill": {
          "duration": 0.103929,
          "end_time": "2021-10-10T16:41:52.724307",
          "exception": false,
          "start_time": "2021-10-10T16:41:52.620378",
          "status": "completed"
        },
        "tags": [],
        "id": "b5b37f86"
      },
      "source": [
        "Finally, before starting with our implementation of SimCLR, let's look\n",
        "at some example image pairs sampled with our augmentations:"
      ]
    },
    {
      "cell_type": "code",
      "execution_count": 7,
      "id": "b8165695",
      "metadata": {
        "execution": {
          "iopub.execute_input": "2021-10-10T16:41:52.980855Z",
          "iopub.status.busy": "2021-10-10T16:41:52.980381Z",
          "iopub.status.idle": "2021-10-10T16:41:53.330052Z",
          "shell.execute_reply": "2021-10-10T16:41:53.330430Z"
        },
        "papermill": {
          "duration": 0.502194,
          "end_time": "2021-10-10T16:41:53.330573",
          "exception": false,
          "start_time": "2021-10-10T16:41:52.828379",
          "status": "completed"
        },
        "tags": [],
        "id": "b8165695",
        "outputId": "74337306-b97d-46f9-df03-19e979b05135",
        "colab": {
          "base_uri": "https://localhost:8080/",
          "height": 329
        }
      },
      "outputs": [
        {
          "output_type": "stream",
          "name": "stderr",
          "text": [
            "Global seed set to 42\n"
          ]
        },
        {
          "output_type": "display_data",
          "data": {
            "application/pdf": "[encoded data removed]",
            "text/plain": [
              "<Figure size 720x360 with 1 Axes>"
            ],
            "image/svg+xml": "<?xml version=\"1.0\" encoding=\"utf-8\" standalone=\"no\"?>\n<!DOCTYPE svg PUBLIC \"-//W3C//DTD SVG 1.1//EN\"\n  \"http://www.w3.org/Graphics/SVG/1.1/DTD/svg11.dtd\">\n<svg xmlns:xlink=\"http://www.w3.org/1999/xlink\" width=\"572.4pt\" height=\"216.779142pt\" viewBox=\"0 0 572.4 216.779142\" xmlns=\"http://www.w3.org/2000/svg\" version=\"1.1\">\n <metadata>\n  <rdf:RDF xmlns:dc=\"http://purl.org/dc/elements/1.1/\" xmlns:cc=\"http://creativecommons.org/ns#\" xmlns:rdf=\"http://www.w3.org/1999/02/22-rdf-syntax-ns#\">\n   <cc:Work>\n    <dc:type rdf:resource=\"http://purl.org/dc/dcmitype/StillImage\"/>\n    <dc:date>2021-12-23T01:07:43.601210</dc:date>\n    <dc:format>image/svg+xml</dc:format>\n    <dc:creator>\n     <cc:Agent>\n      <dc:title>Matplotlib v3.5.1, https://matplotlib.org/</dc:title>\n     </cc:Agent>\n    </dc:creator>\n   </cc:Work>\n  </rdf:RDF>\n </metadata>\n <defs>\n  <style type=\"text/css\">*{stroke-linejoin: round; stroke-linecap: butt}</style>\n </defs>\n <g id=\"figure_1\">\n  <g id=\"patch_1\">\n   <path d=\"M 0 216.779142 \nL 572.4 216.779142 \nL 572.4 0 \nL 0 0 \nz\n\" style=\"fill: #ffffff\"/>\n  </g>\n  <g id=\"axes_1\">\n   <g clip-path=\"url(#p2cccda3a68)\">\n    <image xlink:href=\"data:image/png;base64,\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\" id=\"image5920038b4b\" transform=\"scale(1 -1)translate(0 -188)\" x=\"7.2\" y=\"-21.579142\" width=\"558\" height=\"188\"/>\n   </g>\n   <g id=\"text_1\">\n    <!-- Augmented image examples of the STL10 dataset -->\n    <g style=\"fill: #262626\" transform=\"translate(135.4425 16.318125)scale(0.12 -0.12)\">\n     <defs>\n      <path id=\"DejaVuSans-41\" d=\"M 2188 4044 \nL 1331 1722 \nL 3047 1722 \nL 2188 4044 \nz\nM 1831 4666 \nL 2547 4666 \nL 4325 0 \nL 3669 0 \nL 3244 1197 \nL 1141 1197 \nL 716 0 \nL 50 0 \nL 1831 4666 \nz\n\" transform=\"scale(0.015625)\"/>\n      <path id=\"DejaVuSans-75\" d=\"M 544 1381 \nL 544 3500 \nL 1119 3500 \nL 1119 1403 \nQ 1119 906 1312 657 \nQ 1506 409 1894 409 \nQ 2359 409 2629 706 \nQ 2900 1003 2900 1516 \nL 2900 3500 \nL 3475 3500 \nL 3475 0 \nL 2900 0 \nL 2900 538 \nQ 2691 219 2414 64 \nQ 2138 -91 1772 -91 \nQ 1169 -91 856 284 \nQ 544 659 544 1381 \nz\nM 1991 3584 \nL 1991 3584 \nz\n\" transform=\"scale(0.015625)\"/>\n      <path id=\"DejaVuSans-67\" d=\"M 2906 1791 \nQ 2906 2416 2648 2759 \nQ 2391 3103 1925 3103 \nQ 1463 3103 1205 2759 \nQ 947 2416 947 1791 \nQ 947 1169 1205 825 \nQ 1463 481 1925 481 \nQ 2391 481 2648 825 \nQ 2906 1169 2906 1791 \nz\nM 3481 434 \nQ 3481 -459 3084 -895 \nQ 2688 -1331 1869 -1331 \nQ 1566 -1331 1297 -1286 \nQ 1028 -1241 775 -1147 \nL 775 -588 \nQ 1028 -725 1275 -790 \nQ 1522 -856 1778 -856 \nQ 2344 -856 2625 -561 \nQ 2906 -266 2906 331 \nL 2906 616 \nQ 2728 306 2450 153 \nQ 2172 0 1784 0 \nQ 1141 0 747 490 \nQ 353 981 353 1791 \nQ 353 2603 747 3093 \nQ 1141 3584 1784 3584 \nQ 2172 3584 2450 3431 \nQ 2728 3278 2906 2969 \nL 2906 3500 \nL 3481 3500 \nL 3481 434 \nz\n\" transform=\"scale(0.015625)\"/>\n      <path id=\"DejaVuSans-6d\" d=\"M 3328 2828 \nQ 3544 3216 3844 3400 \nQ 4144 3584 4550 3584 \nQ 5097 3584 5394 3201 \nQ 5691 2819 5691 2113 \nL 5691 0 \nL 5113 0 \nL 5113 2094 \nQ 5113 2597 4934 2840 \nQ 4756 3084 4391 3084 \nQ 3944 3084 3684 2787 \nQ 3425 2491 3425 1978 \nL 3425 0 \nL 2847 0 \nL 2847 2094 \nQ 2847 2600 2669 2842 \nQ 2491 3084 2119 3084 \nQ 1678 3084 1418 2786 \nQ 1159 2488 1159 1978 \nL 1159 0 \nL 581 0 \nL 581 3500 \nL 1159 3500 \nL 1159 2956 \nQ 1356 3278 1631 3431 \nQ 1906 3584 2284 3584 \nQ 2666 3584 2933 3390 \nQ 3200 3197 3328 2828 \nz\n\" transform=\"scale(0.015625)\"/>\n      <path id=\"DejaVuSans-65\" d=\"M 3597 1894 \nL 3597 1613 \nL 953 1613 \nQ 991 1019 1311 708 \nQ 1631 397 2203 397 \nQ 2534 397 2845 478 \nQ 3156 559 3463 722 \nL 3463 178 \nQ 3153 47 2828 -22 \nQ 2503 -91 2169 -91 \nQ 1331 -91 842 396 \nQ 353 884 353 1716 \nQ 353 2575 817 3079 \nQ 1281 3584 2069 3584 \nQ 2775 3584 3186 3129 \nQ 3597 2675 3597 1894 \nz\nM 3022 2063 \nQ 3016 2534 2758 2815 \nQ 2500 3097 2075 3097 \nQ 1594 3097 1305 2825 \nQ 1016 2553 972 2059 \nL 3022 2063 \nz\n\" transform=\"scale(0.015625)\"/>\n      <path id=\"DejaVuSans-6e\" d=\"M 3513 2113 \nL 3513 0 \nL 2938 0 \nL 2938 2094 \nQ 2938 2591 2744 2837 \nQ 2550 3084 2163 3084 \nQ 1697 3084 1428 2787 \nQ 1159 2491 1159 1978 \nL 1159 0 \nL 581 0 \nL 581 3500 \nL 1159 3500 \nL 1159 2956 \nQ 1366 3272 1645 3428 \nQ 1925 3584 2291 3584 \nQ 2894 3584 3203 3211 \nQ 3513 2838 3513 2113 \nz\n\" transform=\"scale(0.015625)\"/>\n      <path id=\"DejaVuSans-74\" d=\"M 1172 4494 \nL 1172 3500 \nL 2356 3500 \nL 2356 3053 \nL 1172 3053 \nL 1172 1153 \nQ 1172 725 1289 603 \nQ 1406 481 1766 481 \nL 2356 481 \nL 2356 0 \nL 1766 0 \nQ 1100 0 847 248 \nQ 594 497 594 1153 \nL 594 3053 \nL 172 3053 \nL 172 3500 \nL 594 3500 \nL 594 4494 \nL 1172 4494 \nz\n\" transform=\"scale(0.015625)\"/>\n      <path id=\"DejaVuSans-64\" d=\"M 2906 2969 \nL 2906 4863 \nL 3481 4863 \nL 3481 0 \nL 2906 0 \nL 2906 525 \nQ 2725 213 2448 61 \nQ 2172 -91 1784 -91 \nQ 1150 -91 751 415 \nQ 353 922 353 1747 \nQ 353 2572 751 3078 \nQ 1150 3584 1784 3584 \nQ 2172 3584 2448 3432 \nQ 2725 3281 2906 2969 \nz\nM 947 1747 \nQ 947 1113 1208 752 \nQ 1469 391 1925 391 \nQ 2381 391 2643 752 \nQ 2906 1113 2906 1747 \nQ 2906 2381 2643 2742 \nQ 2381 3103 1925 3103 \nQ 1469 3103 1208 2742 \nQ 947 2381 947 1747 \nz\n\" transform=\"scale(0.015625)\"/>\n      <path id=\"DejaVuSans-20\" transform=\"scale(0.015625)\"/>\n      <path id=\"DejaVuSans-69\" d=\"M 603 3500 \nL 1178 3500 \nL 1178 0 \nL 603 0 \nL 603 3500 \nz\nM 603 4863 \nL 1178 4863 \nL 1178 4134 \nL 603 4134 \nL 603 4863 \nz\n\" transform=\"scale(0.015625)\"/>\n      <path id=\"DejaVuSans-61\" d=\"M 2194 1759 \nQ 1497 1759 1228 1600 \nQ 959 1441 959 1056 \nQ 959 750 1161 570 \nQ 1363 391 1709 391 \nQ 2188 391 2477 730 \nQ 2766 1069 2766 1631 \nL 2766 1759 \nL 2194 1759 \nz\nM 3341 1997 \nL 3341 0 \nL 2766 0 \nL 2766 531 \nQ 2569 213 2275 61 \nQ 1981 -91 1556 -91 \nQ 1019 -91 701 211 \nQ 384 513 384 1019 \nQ 384 1609 779 1909 \nQ 1175 2209 1959 2209 \nL 2766 2209 \nL 2766 2266 \nQ 2766 2663 2505 2880 \nQ 2244 3097 1772 3097 \nQ 1472 3097 1187 3025 \nQ 903 2953 641 2809 \nL 641 3341 \nQ 956 3463 1253 3523 \nQ 1550 3584 1831 3584 \nQ 2591 3584 2966 3190 \nQ 3341 2797 3341 1997 \nz\n\" transform=\"scale(0.015625)\"/>\n      <path id=\"DejaVuSans-78\" d=\"M 3513 3500 \nL 2247 1797 \nL 3578 0 \nL 2900 0 \nL 1881 1375 \nL 863 0 \nL 184 0 \nL 1544 1831 \nL 300 3500 \nL 978 3500 \nL 1906 2253 \nL 2834 3500 \nL 3513 3500 \nz\n\" transform=\"scale(0.015625)\"/>\n      <path id=\"DejaVuSans-70\" d=\"M 1159 525 \nL 1159 -1331 \nL 581 -1331 \nL 581 3500 \nL 1159 3500 \nL 1159 2969 \nQ 1341 3281 1617 3432 \nQ 1894 3584 2278 3584 \nQ 2916 3584 3314 3078 \nQ 3713 2572 3713 1747 \nQ 3713 922 3314 415 \nQ 2916 -91 2278 -91 \nQ 1894 -91 1617 61 \nQ 1341 213 1159 525 \nz\nM 3116 1747 \nQ 3116 2381 2855 2742 \nQ 2594 3103 2138 3103 \nQ 1681 3103 1420 2742 \nQ 1159 2381 1159 1747 \nQ 1159 1113 1420 752 \nQ 1681 391 2138 391 \nQ 2594 391 2855 752 \nQ 3116 1113 3116 1747 \nz\n\" transform=\"scale(0.015625)\"/>\n      <path id=\"DejaVuSans-6c\" d=\"M 603 4863 \nL 1178 4863 \nL 1178 0 \nL 603 0 \nL 603 4863 \nz\n\" transform=\"scale(0.015625)\"/>\n      <path id=\"DejaVuSans-73\" d=\"M 2834 3397 \nL 2834 2853 \nQ 2591 2978 2328 3040 \nQ 2066 3103 1784 3103 \nQ 1356 3103 1142 2972 \nQ 928 2841 928 2578 \nQ 928 2378 1081 2264 \nQ 1234 2150 1697 2047 \nL 1894 2003 \nQ 2506 1872 2764 1633 \nQ 3022 1394 3022 966 \nQ 3022 478 2636 193 \nQ 2250 -91 1575 -91 \nQ 1294 -91 989 -36 \nQ 684 19 347 128 \nL 347 722 \nQ 666 556 975 473 \nQ 1284 391 1588 391 \nQ 1994 391 2212 530 \nQ 2431 669 2431 922 \nQ 2431 1156 2273 1281 \nQ 2116 1406 1581 1522 \nL 1381 1569 \nQ 847 1681 609 1914 \nQ 372 2147 372 2553 \nQ 372 3047 722 3315 \nQ 1072 3584 1716 3584 \nQ 2034 3584 2315 3537 \nQ 2597 3491 2834 3397 \nz\n\" transform=\"scale(0.015625)\"/>\n      <path id=\"DejaVuSans-6f\" d=\"M 1959 3097 \nQ 1497 3097 1228 2736 \nQ 959 2375 959 1747 \nQ 959 1119 1226 758 \nQ 1494 397 1959 397 \nQ 2419 397 2687 759 \nQ 2956 1122 2956 1747 \nQ 2956 2369 2687 2733 \nQ 2419 3097 1959 3097 \nz\nM 1959 3584 \nQ 2709 3584 3137 3096 \nQ 3566 2609 3566 1747 \nQ 3566 888 3137 398 \nQ 2709 -91 1959 -91 \nQ 1206 -91 779 398 \nQ 353 888 353 1747 \nQ 353 2609 779 3096 \nQ 1206 3584 1959 3584 \nz\n\" transform=\"scale(0.015625)\"/>\n      <path id=\"DejaVuSans-66\" d=\"M 2375 4863 \nL 2375 4384 \nL 1825 4384 \nQ 1516 4384 1395 4259 \nQ 1275 4134 1275 3809 \nL 1275 3500 \nL 2222 3500 \nL 2222 3053 \nL 1275 3053 \nL 1275 0 \nL 697 0 \nL 697 3053 \nL 147 3053 \nL 147 3500 \nL 697 3500 \nL 697 3744 \nQ 697 4328 969 4595 \nQ 1241 4863 1831 4863 \nL 2375 4863 \nz\n\" transform=\"scale(0.015625)\"/>\n      <path id=\"DejaVuSans-68\" d=\"M 3513 2113 \nL 3513 0 \nL 2938 0 \nL 2938 2094 \nQ 2938 2591 2744 2837 \nQ 2550 3084 2163 3084 \nQ 1697 3084 1428 2787 \nQ 1159 2491 1159 1978 \nL 1159 0 \nL 581 0 \nL 581 4863 \nL 1159 4863 \nL 1159 2956 \nQ 1366 3272 1645 3428 \nQ 1925 3584 2291 3584 \nQ 2894 3584 3203 3211 \nQ 3513 2838 3513 2113 \nz\n\" transform=\"scale(0.015625)\"/>\n      <path id=\"DejaVuSans-53\" d=\"M 3425 4513 \nL 3425 3897 \nQ 3066 4069 2747 4153 \nQ 2428 4238 2131 4238 \nQ 1616 4238 1336 4038 \nQ 1056 3838 1056 3469 \nQ 1056 3159 1242 3001 \nQ 1428 2844 1947 2747 \nL 2328 2669 \nQ 3034 2534 3370 2195 \nQ 3706 1856 3706 1288 \nQ 3706 609 3251 259 \nQ 2797 -91 1919 -91 \nQ 1588 -91 1214 -16 \nQ 841 59 441 206 \nL 441 856 \nQ 825 641 1194 531 \nQ 1563 422 1919 422 \nQ 2459 422 2753 634 \nQ 3047 847 3047 1241 \nQ 3047 1584 2836 1778 \nQ 2625 1972 2144 2069 \nL 1759 2144 \nQ 1053 2284 737 2584 \nQ 422 2884 422 3419 \nQ 422 4038 858 4394 \nQ 1294 4750 2059 4750 \nQ 2388 4750 2728 4690 \nQ 3069 4631 3425 4513 \nz\n\" transform=\"scale(0.015625)\"/>\n      <path id=\"DejaVuSans-54\" d=\"M -19 4666 \nL 3928 4666 \nL 3928 4134 \nL 2272 4134 \nL 2272 0 \nL 1638 0 \nL 1638 4134 \nL -19 4134 \nL -19 4666 \nz\n\" transform=\"scale(0.015625)\"/>\n      <path id=\"DejaVuSans-4c\" d=\"M 628 4666 \nL 1259 4666 \nL 1259 531 \nL 3531 531 \nL 3531 0 \nL 628 0 \nL 628 4666 \nz\n\" transform=\"scale(0.015625)\"/>\n      <path id=\"DejaVuSans-31\" d=\"M 794 531 \nL 1825 531 \nL 1825 4091 \nL 703 3866 \nL 703 4441 \nL 1819 4666 \nL 2450 4666 \nL 2450 531 \nL 3481 531 \nL 3481 0 \nL 794 0 \nL 794 531 \nz\n\" transform=\"scale(0.015625)\"/>\n      <path id=\"DejaVuSans-30\" d=\"M 2034 4250 \nQ 1547 4250 1301 3770 \nQ 1056 3291 1056 2328 \nQ 1056 1369 1301 889 \nQ 1547 409 2034 409 \nQ 2525 409 2770 889 \nQ 3016 1369 3016 2328 \nQ 3016 3291 2770 3770 \nQ 2525 4250 2034 4250 \nz\nM 2034 4750 \nQ 2819 4750 3233 4129 \nQ 3647 3509 3647 2328 \nQ 3647 1150 3233 529 \nQ 2819 -91 2034 -91 \nQ 1250 -91 836 529 \nQ 422 1150 422 2328 \nQ 422 3509 836 4129 \nQ 1250 4750 2034 4750 \nz\n\" transform=\"scale(0.015625)\"/>\n     </defs>\n     <use xlink:href=\"#DejaVuSans-41\"/>\n     <use xlink:href=\"#DejaVuSans-75\" x=\"68.408203\"/>\n     <use xlink:href=\"#DejaVuSans-67\" x=\"131.787109\"/>\n     <use xlink:href=\"#DejaVuSans-6d\" x=\"195.263672\"/>\n     <use xlink:href=\"#DejaVuSans-65\" x=\"292.675781\"/>\n     <use xlink:href=\"#DejaVuSans-6e\" x=\"354.199219\"/>\n     <use xlink:href=\"#DejaVuSans-74\" x=\"417.578125\"/>\n     <use xlink:href=\"#DejaVuSans-65\" x=\"456.787109\"/>\n     <use xlink:href=\"#DejaVuSans-64\" x=\"518.310547\"/>\n     <use xlink:href=\"#DejaVuSans-20\" x=\"581.787109\"/>\n     <use xlink:href=\"#DejaVuSans-69\" x=\"613.574219\"/>\n     <use xlink:href=\"#DejaVuSans-6d\" x=\"641.357422\"/>\n     <use xlink:href=\"#DejaVuSans-61\" x=\"738.769531\"/>\n     <use xlink:href=\"#DejaVuSans-67\" x=\"800.048828\"/>\n     <use xlink:href=\"#DejaVuSans-65\" x=\"863.525391\"/>\n     <use xlink:href=\"#DejaVuSans-20\" x=\"925.048828\"/>\n     <use xlink:href=\"#DejaVuSans-65\" x=\"956.835938\"/>\n     <use xlink:href=\"#DejaVuSans-78\" x=\"1016.609375\"/>\n     <use xlink:href=\"#DejaVuSans-61\" x=\"1075.789062\"/>\n     <use xlink:href=\"#DejaVuSans-6d\" x=\"1137.068359\"/>\n     <use xlink:href=\"#DejaVuSans-70\" x=\"1234.480469\"/>\n     <use xlink:href=\"#DejaVuSans-6c\" x=\"1297.957031\"/>\n     <use xlink:href=\"#DejaVuSans-65\" x=\"1325.740234\"/>\n     <use xlink:href=\"#DejaVuSans-73\" x=\"1387.263672\"/>\n     <use xlink:href=\"#DejaVuSans-20\" x=\"1439.363281\"/>\n     <use xlink:href=\"#DejaVuSans-6f\" x=\"1471.150391\"/>\n     <use xlink:href=\"#DejaVuSans-66\" x=\"1532.332031\"/>\n     <use xlink:href=\"#DejaVuSans-20\" x=\"1567.537109\"/>\n     <use xlink:href=\"#DejaVuSans-74\" x=\"1599.324219\"/>\n     <use xlink:href=\"#DejaVuSans-68\" x=\"1638.533203\"/>\n     <use xlink:href=\"#DejaVuSans-65\" x=\"1701.912109\"/>\n     <use xlink:href=\"#DejaVuSans-20\" x=\"1763.435547\"/>\n     <use xlink:href=\"#DejaVuSans-53\" x=\"1795.222656\"/>\n     <use xlink:href=\"#DejaVuSans-54\" x=\"1858.699219\"/>\n     <use xlink:href=\"#DejaVuSans-4c\" x=\"1919.783203\"/>\n     <use xlink:href=\"#DejaVuSans-31\" x=\"1975.496094\"/>\n     <use xlink:href=\"#DejaVuSans-30\" x=\"2039.119141\"/>\n     <use xlink:href=\"#DejaVuSans-20\" x=\"2102.742188\"/>\n     <use xlink:href=\"#DejaVuSans-64\" x=\"2134.529297\"/>\n     <use xlink:href=\"#DejaVuSans-61\" x=\"2198.005859\"/>\n     <use xlink:href=\"#DejaVuSans-74\" x=\"2259.285156\"/>\n     <use xlink:href=\"#DejaVuSans-61\" x=\"2298.494141\"/>\n     <use xlink:href=\"#DejaVuSans-73\" x=\"2359.773438\"/>\n     <use xlink:href=\"#DejaVuSans-65\" x=\"2411.873047\"/>\n     <use xlink:href=\"#DejaVuSans-74\" x=\"2473.396484\"/>\n    </g>\n   </g>\n  </g>\n </g>\n <defs>\n  <clipPath id=\"p2cccda3a68\">\n   <rect x=\"7.2\" y=\"22.318125\" width=\"558\" height=\"187.261017\"/>\n  </clipPath>\n </defs>\n</svg>\n"
          },
          "metadata": {}
        }
      ],
      "source": [
        "# Visualize some examples\n",
        "pl.seed_everything(42)\n",
        "NUM_IMAGES = 6\n",
        "imgs = torch.stack([img for idx in range(NUM_IMAGES) for img in unlabeled_data[idx][0]], dim=0)\n",
        "img_grid = torchvision.utils.make_grid(imgs, nrow=6, normalize=True, pad_value=0.9)\n",
        "img_grid = img_grid.permute(1, 2, 0)\n",
        "\n",
        "plt.figure(figsize=(10, 5))\n",
        "plt.title(\"Augmented image examples of the STL10 dataset\")\n",
        "plt.imshow(img_grid)\n",
        "plt.axis(\"off\")\n",
        "plt.show()\n",
        "plt.close()"
      ]
    },
    {
      "cell_type": "markdown",
      "id": "d9b44c08",
      "metadata": {
        "papermill": {
          "duration": 0.079471,
          "end_time": "2021-10-10T16:41:53.515584",
          "exception": false,
          "start_time": "2021-10-10T16:41:53.436113",
          "status": "completed"
        },
        "tags": [],
        "id": "d9b44c08"
      },
      "source": [
        "We see the wide variety of our data augmentation, including randomly cropping, grayscaling, gaussian blur, and color distortion.\n",
        "Thus, it remains a challenging task for the model to match two, independently augmented patches of the same image."
      ]
    },
    {
      "cell_type": "markdown",
      "id": "525c3967",
      "metadata": {
        "lines_to_next_cell": 2,
        "papermill": {
          "duration": 0.047654,
          "end_time": "2021-10-10T16:41:53.615813",
          "exception": false,
          "start_time": "2021-10-10T16:41:53.568159",
          "status": "completed"
        },
        "tags": [],
        "id": "525c3967"
      },
      "source": [
        "### SimCLR implementation\n",
        "\n",
        "Using the data loader pipeline above, we can now implement SimCLR.\n",
        "At each iteration, we get for every image $x$ two differently augmented versions, which we refer to as $\\tilde{x}_i$ and $\\tilde{x}_j$.\n",
        "Both of these images are encoded into a one-dimensional feature vector, between which we want to maximize similarity which minimizes it to all other images in the batch.\n",
        "The encoder network is split into two parts: a base encoder network $f(\\cdot)$, and a projection head $g(\\cdot)$.\n",
        "The base network is usually a deep CNN as we have seen in e.g. [Tutorial 5](https://uvadlc-notebooks.readthedocs.io/en/latest/tutorial_notebooks/tutorial5/Inception_ResNet_DenseNet.html) before, and is responsible for extracting a representation vector from the augmented data examples.\n",
        "In our experiments, we will use the common ResNet-18 architecture as $f(\\cdot)$, and refer to the output as $f(\\tilde{x}_i)=h_i$.\n",
        "The projection head $g(\\cdot)$ maps the representation $h$ into a space where we apply the contrastive loss, i.e., compare similarities between vectors.\n",
        "It is often chosen to be a small MLP with non-linearities, and for simplicity, we follow the original SimCLR paper setup by defining it as a two-layer MLP with ReLU activation in the hidden layer.\n",
        "Note that in the follow-up paper, [SimCLRv2](https://arxiv.org/abs/2006.10029), the authors mention that larger/wider MLPs can boost the performance considerably.\n",
        "This is why we apply an MLP with four times larger hidden dimensions, but deeper MLPs showed to overfit on the given dataset.\n",
        "The general setup is visualized below (figure credit - [Ting Chen et al. ](https://arxiv.org/abs/2006.10029)):\n",
        "\n",
        "<center width=\"100%\"><img src=\"https://github.com/PyTorchLightning/lightning-tutorials/raw/main/course_UvA-DL/13-contrastive-learning/simclr_network_setup.svg\" width=\"350px\"></center>\n",
        "\n",
        "After finishing the training with contrastive learning, we will remove the projection head $g(\\cdot)$, and use $f(\\cdot)$ as a pretrained feature extractor.\n",
        "The representations $z$ that come out of the projection head $g(\\cdot)$ have been shown to perform worse than those of the base network $f(\\cdot)$ when finetuning the network for a new task.\n",
        "This is likely because the representations $z$ are trained to become invariant to many features like the color that can be important for downstream tasks.\n",
        "Thus, $g(\\cdot)$ is only needed for the contrastive learning stage.\n",
        "\n",
        "Now that the architecture is described, let's take a closer look at how we train the model.\n",
        "As mentioned before, we want to maximize the similarity between the representations of the two augmented versions of the same image, i.e., $z_i$ and $z_j$ in the figure above, while minimizing it to all other examples in the batch.\n",
        "SimCLR thereby applies the InfoNCE loss, originally proposed by [Aaron van den Oord et al. ](https://arxiv.org/abs/1807.03748) for contrastive learning.\n",
        "In short, the InfoNCE loss compares the similarity of $z_i$ and $z_j$ to the similarity of $z_i$ to any other representation in the batch by performing a softmax over the similarity values.\n",
        "The loss can be formally written as:\n",
        "$$\n",
        "\\ell_{i,j}=-\\log \\frac{\\exp(\\text{sim}(z_i,z_j)/\\tau)}{\\sum_{k=1}^{2N}\\mathbb{1}_{[k\\neq i]}\\exp(\\text{sim}(z_i,z_k)/\\tau)}=-\\text{sim}(z_i,z_j)/\\tau+\\log\\left[\\sum_{k=1}^{2N}\\mathbb{1}_{[k\\neq i]}\\exp(\\text{sim}(z_i,z_k)/\\tau)\\right]\n",
        "$$\n",
        "The function $\\text{sim}$ is a similarity metric, and the hyperparameter $\\tau$ is called temperature determining how peaked the distribution is.\n",
        "Since many similarity metrics are bounded, the temperature parameter allows us to balance the influence of many dissimilar image patches versus one similar patch.\n",
        "The similarity metric that is used in SimCLR is cosine similarity, as defined below:\n",
        "$$\n",
        "\\text{sim}(z_i,z_j) = \\frac{z_i^\\top \\cdot z_j}{||z_i||\\cdot||z_j||}\n",
        "$$\n",
        "The maximum cosine similarity possible is $1$, while the minimum is $-1$.\n",
        "In general, we will see that the features of two different images will converge to a cosine similarity around zero since the minimum, $-1$, would require $z_i$ and $z_j$ to be in the exact opposite direction in all feature dimensions, which does not allow for great flexibility.\n",
        "\n",
        "Finally, now that we have discussed all details, let's implement SimCLR below as a PyTorch Lightning module:"
      ]
    },
    {
      "cell_type": "code",
      "execution_count": 8,
      "id": "a94c063a",
      "metadata": {
        "execution": {
          "iopub.execute_input": "2021-10-10T16:41:53.767396Z",
          "iopub.status.busy": "2021-10-10T16:41:53.764007Z",
          "iopub.status.idle": "2021-10-10T16:41:53.769425Z",
          "shell.execute_reply": "2021-10-10T16:41:53.769027Z"
        },
        "lines_to_next_cell": 2,
        "papermill": {
          "duration": 0.09737,
          "end_time": "2021-10-10T16:41:53.769531",
          "exception": false,
          "start_time": "2021-10-10T16:41:53.672161",
          "status": "completed"
        },
        "tags": [],
        "id": "a94c063a"
      },
      "outputs": [],
      "source": [
        "class SimCLR(pl.LightningModule):\n",
        "    def __init__(self, hidden_dim, lr, temperature, weight_decay, max_epochs=500):\n",
        "        super().__init__()\n",
        "        self.save_hyperparameters()\n",
        "        assert self.hparams.temperature > 0.0, \"The temperature must be a positive float!\"\n",
        "        # Base model f(.)\n",
        "        self.convnet = torchvision.models.resnet18(\n",
        "            pretrained=False, num_classes=4 * hidden_dim\n",
        "        )  # num_classes is the output size of the last linear layer\n",
        "        # The MLP for g(.) consists of Linear->ReLU->Linear\n",
        "        self.convnet.fc = nn.Sequential(\n",
        "            self.convnet.fc,  # Linear(ResNet output, 4*hidden_dim)\n",
        "            nn.ReLU(inplace=True),\n",
        "            nn.Linear(4 * hidden_dim, hidden_dim),\n",
        "        )\n",
        "\n",
        "    def configure_optimizers(self):\n",
        "        optimizer = optim.AdamW(self.parameters(), lr=self.hparams.lr, weight_decay=self.hparams.weight_decay)\n",
        "        lr_scheduler = optim.lr_scheduler.CosineAnnealingLR(\n",
        "            optimizer, T_max=self.hparams.max_epochs, eta_min=self.hparams.lr / 50\n",
        "        )\n",
        "        return [optimizer], [lr_scheduler]\n",
        "\n",
        "    def info_nce_loss(self, batch, mode=\"train\"):\n",
        "        imgs, _ = batch\n",
        "        imgs = torch.cat(imgs, dim=0)\n",
        "\n",
        "        # Encode all images\n",
        "        feats = self.convnet(imgs)\n",
        "        # Calculate cosine similarity\n",
        "        cos_sim = F.cosine_similarity(feats[:, None, :], feats[None, :, :], dim=-1)\n",
        "        # Mask out cosine similarity to itself\n",
        "        self_mask = torch.eye(cos_sim.shape[0], dtype=torch.bool, device=cos_sim.device)\n",
        "        cos_sim.masked_fill_(self_mask, -9e15)\n",
        "        # Find positive example -> batch_size//2 away from the original example\n",
        "        pos_mask = self_mask.roll(shifts=cos_sim.shape[0] // 2, dims=0)\n",
        "        # InfoNCE loss\n",
        "        cos_sim = cos_sim / self.hparams.temperature\n",
        "        nll = -cos_sim[pos_mask] + torch.logsumexp(cos_sim, dim=-1)\n",
        "        nll = nll.mean()\n",
        "\n",
        "        # Logging loss\n",
        "        self.log(mode + \"_loss\", nll)\n",
        "        # Get ranking position of positive example\n",
        "        comb_sim = torch.cat(\n",
        "            [cos_sim[pos_mask][:, None], cos_sim.masked_fill(pos_mask, -9e15)],  # First position positive example\n",
        "            dim=-1,\n",
        "        )\n",
        "        sim_argsort = comb_sim.argsort(dim=-1, descending=True).argmin(dim=-1)\n",
        "        # Logging ranking metrics\n",
        "        self.log(mode + \"_acc_top1\", (sim_argsort == 0).float().mean())\n",
        "        self.log(mode + \"_acc_top5\", (sim_argsort < 5).float().mean())\n",
        "        self.log(mode + \"_acc_mean_pos\", 1 + sim_argsort.float().mean())\n",
        "\n",
        "        return nll\n",
        "\n",
        "    def training_step(self, batch, batch_idx):\n",
        "        return self.info_nce_loss(batch, mode=\"train\")\n",
        "\n",
        "    def validation_step(self, batch, batch_idx):\n",
        "        self.info_nce_loss(batch, mode=\"val\")"
      ]
    },
    {
      "cell_type": "markdown",
      "id": "5930dd21",
      "metadata": {
        "papermill": {
          "duration": 0.339364,
          "end_time": "2021-10-10T16:41:54.219681",
          "exception": false,
          "start_time": "2021-10-10T16:41:53.880317",
          "status": "completed"
        },
        "tags": [],
        "id": "5930dd21"
      },
      "source": [
        "Alternatively to performing the validation on the contrastive learning loss as well, we could also take a simple, small downstream task, and track the performance of the base network $f(\\cdot)$ on that.\n",
        "However, in this tutorial, we will restrict ourselves to the STL10\n",
        "dataset where we use the task of image classification on STL10 as our\n",
        "test task."
      ]
    },
    {
      "cell_type": "markdown",
      "id": "371aa9b6",
      "metadata": {
        "lines_to_next_cell": 2,
        "papermill": {
          "duration": 0.041653,
          "end_time": "2021-10-10T16:41:54.360538",
          "exception": false,
          "start_time": "2021-10-10T16:41:54.318885",
          "status": "completed"
        },
        "tags": [],
        "id": "371aa9b6"
      },
      "source": [
        "### Training\n",
        "\n",
        "Now that we have implemented SimCLR and the data loading pipeline, we are ready to train the model.\n",
        "We will use the same training function setup as usual.\n",
        "For saving the best model checkpoint, we track the metric `val_acc_top5`, which describes how often the correct image patch is within the top-5 most similar examples in the batch.\n",
        "This is usually less noisy than the top-1 metric, making it a better metric to choose the best model from."
      ]
    },
    {
      "cell_type": "code",
      "execution_count": 9,
      "id": "7ae8797a",
      "metadata": {
        "execution": {
          "iopub.execute_input": "2021-10-10T16:41:54.466376Z",
          "iopub.status.busy": "2021-10-10T16:41:54.465889Z",
          "iopub.status.idle": "2021-10-10T16:41:54.467539Z",
          "shell.execute_reply": "2021-10-10T16:41:54.467915Z"
        },
        "papermill": {
          "duration": 0.056039,
          "end_time": "2021-10-10T16:41:54.468066",
          "exception": false,
          "start_time": "2021-10-10T16:41:54.412027",
          "status": "completed"
        },
        "tags": [],
        "id": "7ae8797a"
      },
      "outputs": [],
      "source": [
        "def train_simclr(batch_size, max_epochs=500, **kwargs):\n",
        "    trainer = pl.Trainer(\n",
        "        default_root_dir=os.path.join(CHECKPOINT_PATH, \"SimCLR\"),\n",
        "        gpus=1 if str(device) == \"cuda:0\" else 0,\n",
        "        max_epochs=max_epochs,\n",
        "        callbacks=[\n",
        "            ModelCheckpoint(save_weights_only=True, mode=\"max\", monitor=\"val_acc_top5\"),\n",
        "            LearningRateMonitor(\"epoch\"),\n",
        "        ],\n",
        "        progress_bar_refresh_rate=1,\n",
        "    )\n",
        "    trainer.logger._default_hp_metric = None  # Optional logging argument that we don't need\n",
        "\n",
        "    # Check whether pretrained model exists. If yes, load it and skip training\n",
        "    pretrained_filename = os.path.join(CHECKPOINT_PATH, \"SimCLR.ckpt\")\n",
        "    if os.path.isfile(pretrained_filename):\n",
        "        print(f\"Found pretrained model at {pretrained_filename}, loading...\")\n",
        "        # Automatically loads the model with the saved hyperparameters\n",
        "        model = SimCLR.load_from_checkpoint(pretrained_filename)\n",
        "    else:\n",
        "        train_loader = data.DataLoader(\n",
        "            unlabeled_data,\n",
        "            batch_size=batch_size,\n",
        "            shuffle=True,\n",
        "            drop_last=True,\n",
        "            pin_memory=True,\n",
        "            num_workers=NUM_WORKERS,\n",
        "        )\n",
        "        val_loader = data.DataLoader(\n",
        "            train_data_contrast,\n",
        "            batch_size=batch_size,\n",
        "            shuffle=False,\n",
        "            drop_last=False,\n",
        "            pin_memory=True,\n",
        "            num_workers=NUM_WORKERS,\n",
        "        )\n",
        "        pl.seed_everything(42)  # To be reproducable\n",
        "        model = SimCLR(max_epochs=max_epochs, **kwargs)\n",
        "        trainer.fit(model, train_loader, val_loader)\n",
        "        # Load best checkpoint after training\n",
        "        model = SimCLR.load_from_checkpoint(trainer.checkpoint_callback.best_model_path)\n",
        "\n",
        "    return model"
      ]
    },
    {
      "cell_type": "markdown",
      "id": "30619702",
      "metadata": {
        "papermill": {
          "duration": 0.043291,
          "end_time": "2021-10-10T16:41:54.559443",
          "exception": false,
          "start_time": "2021-10-10T16:41:54.516152",
          "status": "completed"
        },
        "tags": [],
        "id": "30619702"
      },
      "source": [
        "A common observation in contrastive learning is that the larger the batch size, the better the models perform.\n",
        "A larger batch size allows us to compare each image to more negative examples, leading to overall smoother loss gradients.\n",
        "However, in our case, we experienced that a batch size of 256 was sufficient to get good results."
      ]
    },
    {
      "cell_type": "code",
      "execution_count": 10,
      "id": "204e88a8",
      "metadata": {
        "execution": {
          "iopub.execute_input": "2021-10-10T16:41:54.726388Z",
          "iopub.status.busy": "2021-10-10T16:41:54.725918Z",
          "iopub.status.idle": "2021-10-10T16:41:54.977674Z",
          "shell.execute_reply": "2021-10-10T16:41:54.977166Z"
        },
        "papermill": {
          "duration": 0.357848,
          "end_time": "2021-10-10T16:41:54.977825",
          "exception": false,
          "start_time": "2021-10-10T16:41:54.619977",
          "status": "completed"
        },
        "tags": [],
        "id": "204e88a8",
        "outputId": "6fc70d8d-9289-4af9-ca4a-befd278a8abe",
        "colab": {
          "base_uri": "https://localhost:8080/"
        }
      },
      "outputs": [
        {
          "output_type": "stream",
          "name": "stderr",
          "text": [
            "/usr/local/lib/python3.7/dist-packages/pytorch_lightning/trainer/connectors/callback_connector.py:91: LightningDeprecationWarning: Setting `Trainer(progress_bar_refresh_rate=1)` is deprecated in v1.5 and will be removed in v1.7. Please pass `pytorch_lightning.callbacks.progress.TQDMProgressBar` with `refresh_rate` directly to the Trainer's `callbacks` argument instead. Or, to disable the progress bar pass `enable_progress_bar = False` to the Trainer.\n",
            "  f\"Setting `Trainer(progress_bar_refresh_rate={progress_bar_refresh_rate})` is deprecated in v1.5 and\"\n",
            "GPU available: True, used: True\n",
            "TPU available: False, using: 0 TPU cores\n",
            "IPU available: False, using: 0 IPUs\n"
          ]
        },
        {
          "output_type": "stream",
          "name": "stdout",
          "text": [
            "Found pretrained model at saved_models/ContrastiveLearning/SimCLR.ckpt, loading...\n"
          ]
        }
      ],
      "source": [
        "simclr_model = train_simclr(\n",
        "    batch_size=256, hidden_dim=128, lr=5e-4, temperature=0.07, weight_decay=1e-4, max_epochs=500\n",
        ")"
      ]
    },
    {
      "cell_type": "markdown",
      "id": "6e791b30",
      "metadata": {
        "papermill": {
          "duration": 0.041235,
          "end_time": "2021-10-10T16:41:55.168558",
          "exception": false,
          "start_time": "2021-10-10T16:41:55.127323",
          "status": "completed"
        },
        "tags": [],
        "id": "6e791b30"
      },
      "source": [
        "To get an intuition of how training with contrastive learning behaves, we can take a look at the TensorBoard below:"
      ]
    },
    {
      "cell_type": "code",
      "execution_count": 11,
      "id": "4faca6fd",
      "metadata": {
        "execution": {
          "iopub.execute_input": "2021-10-10T16:41:55.269774Z",
          "iopub.status.busy": "2021-10-10T16:41:55.269307Z",
          "iopub.status.idle": "2021-10-10T16:41:55.271319Z",
          "shell.execute_reply": "2021-10-10T16:41:55.270919Z"
        },
        "papermill": {
          "duration": 0.045346,
          "end_time": "2021-10-10T16:41:55.271426",
          "exception": false,
          "start_time": "2021-10-10T16:41:55.226080",
          "status": "completed"
        },
        "tags": [],
        "id": "4faca6fd"
      },
      "outputs": [],
      "source": [
        "# %tensorboard --logdir ../saved_models/tutorial17/tensorboards/SimCLR/"
      ]
    },
    {
      "cell_type": "markdown",
      "id": "aaab8b66",
      "metadata": {
        "lines_to_next_cell": 2,
        "papermill": {
          "duration": 0.110092,
          "end_time": "2021-10-10T16:41:55.567176",
          "exception": false,
          "start_time": "2021-10-10T16:41:55.457084",
          "status": "completed"
        },
        "tags": [],
        "id": "aaab8b66"
      },
      "source": [
        "## Logistic Regression\n",
        "\n",
        "<div class=\"center-wrapper\"><div class=\"video-wrapper\"><iframe src=\"https://www.youtube.com/embed/o3FktysLLd4\" title=\"YouTube video player\" frameborder=\"0\" allow=\"accelerometer; autoplay; clipboard-write; encrypted-media; gyroscope; picture-in-picture\" allowfullscreen></iframe></div></div>\n",
        "After we have trained our model via contrastive learning, we can deploy it on downstream tasks and see how well it performs with little data.\n",
        "A common setup, which also verifies whether the model has learned generalized representations, is to perform Logistic Regression on the features.\n",
        "In other words, we learn a single, linear layer that maps the representations to a class prediction.\n",
        "Since the base network $f(\\cdot)$ is not changed during the training process, the model can only perform well if the representations of $h$ describe all features that might be necessary for the task.\n",
        "Further, we do not have to worry too much about overfitting since we have very few parameters that are trained.\n",
        "Hence, we might expect that the model can perform well even with very little data.\n",
        "\n",
        "First, let's implement a simple Logistic Regression setup for which we assume that the images already have been encoded in their feature vectors.\n",
        "If very little data is available, it might be beneficial to dynamically encode the images during training so that we can also apply data augmentations.\n",
        "However, the way we implement it here is much more efficient and can be trained within a few seconds.\n",
        "Further, using data augmentations did not show any significant gain in this simple setup."
      ]
    },
    {
      "cell_type": "code",
      "execution_count": 12,
      "id": "6745071e",
      "metadata": {
        "execution": {
          "iopub.execute_input": "2021-10-10T16:41:55.788482Z",
          "iopub.status.busy": "2021-10-10T16:41:55.788000Z",
          "iopub.status.idle": "2021-10-10T16:41:55.789951Z",
          "shell.execute_reply": "2021-10-10T16:41:55.789550Z"
        },
        "papermill": {
          "duration": 0.117728,
          "end_time": "2021-10-10T16:41:55.790056",
          "exception": false,
          "start_time": "2021-10-10T16:41:55.672328",
          "status": "completed"
        },
        "tags": [],
        "id": "6745071e"
      },
      "outputs": [],
      "source": [
        "class LogisticRegression(pl.LightningModule):\n",
        "    def __init__(self, feature_dim, num_classes, lr, weight_decay, max_epochs=100):\n",
        "        super().__init__()\n",
        "        self.save_hyperparameters()\n",
        "        # Mapping from representation h to classes\n",
        "        self.model = nn.Linear(feature_dim, num_classes)\n",
        "\n",
        "    def configure_optimizers(self):\n",
        "        optimizer = optim.AdamW(self.parameters(), lr=self.hparams.lr, weight_decay=self.hparams.weight_decay)\n",
        "        lr_scheduler = optim.lr_scheduler.MultiStepLR(\n",
        "            optimizer, milestones=[int(self.hparams.max_epochs * 0.6), int(self.hparams.max_epochs * 0.8)], gamma=0.1\n",
        "        )\n",
        "        return [optimizer], [lr_scheduler]\n",
        "\n",
        "    def _calculate_loss(self, batch, mode=\"train\"):\n",
        "        feats, labels = batch\n",
        "        preds = self.model(feats)\n",
        "        loss = F.cross_entropy(preds, labels)\n",
        "        acc = (preds.argmax(dim=-1) == labels).float().mean()\n",
        "\n",
        "        self.log(mode + \"_loss\", loss)\n",
        "        self.log(mode + \"_acc\", acc)\n",
        "        return loss\n",
        "\n",
        "    def training_step(self, batch, batch_idx):\n",
        "        return self._calculate_loss(batch, mode=\"train\")\n",
        "\n",
        "    def validation_step(self, batch, batch_idx):\n",
        "        self._calculate_loss(batch, mode=\"val\")\n",
        "\n",
        "    def test_step(self, batch, batch_idx):\n",
        "        self._calculate_loss(batch, mode=\"test\")"
      ]
    },
    {
      "cell_type": "markdown",
      "id": "55495b0b",
      "metadata": {
        "papermill": {
          "duration": 0.040786,
          "end_time": "2021-10-10T16:41:56.009838",
          "exception": false,
          "start_time": "2021-10-10T16:41:55.969052",
          "status": "completed"
        },
        "tags": [],
        "id": "55495b0b"
      },
      "source": [
        "The data we use is the training and test set of STL10.\n",
        "The training contains 500 images per class, while the test set has 800 images per class."
      ]
    },
    {
      "cell_type": "code",
      "execution_count": 13,
      "id": "eeca05e6",
      "metadata": {
        "execution": {
          "iopub.execute_input": "2021-10-10T16:41:56.197171Z",
          "iopub.status.busy": "2021-10-10T16:41:56.196690Z",
          "iopub.status.idle": "2021-10-10T16:42:07.538122Z",
          "shell.execute_reply": "2021-10-10T16:42:07.537640Z"
        },
        "papermill": {
          "duration": 11.449982,
          "end_time": "2021-10-10T16:42:07.538239",
          "exception": false,
          "start_time": "2021-10-10T16:41:56.088257",
          "status": "completed"
        },
        "tags": [],
        "id": "eeca05e6",
        "outputId": "1dc37230-525f-4e56-9f36-94281f2d17df",
        "colab": {
          "base_uri": "https://localhost:8080/"
        }
      },
      "outputs": [
        {
          "output_type": "stream",
          "name": "stdout",
          "text": [
            "Files already downloaded and verified\n",
            "Files already downloaded and verified\n",
            "Number of training examples: 5000\n",
            "Number of test examples: 8000\n"
          ]
        }
      ],
      "source": [
        "img_transforms = transforms.Compose([transforms.ToTensor(), transforms.Normalize((0.5,), (0.5,))])\n",
        "\n",
        "train_img_data = STL10(root=DATASET_PATH, split=\"train\", download=True, transform=img_transforms)\n",
        "test_img_data = STL10(root=DATASET_PATH, split=\"test\", download=True, transform=img_transforms)\n",
        "\n",
        "print(\"Number of training examples:\", len(train_img_data))\n",
        "print(\"Number of test examples:\", len(test_img_data))"
      ]
    },
    {
      "cell_type": "markdown",
      "id": "88ebb27b",
      "metadata": {
        "lines_to_next_cell": 2,
        "papermill": {
          "duration": 0.066846,
          "end_time": "2021-10-10T16:42:07.663036",
          "exception": false,
          "start_time": "2021-10-10T16:42:07.596190",
          "status": "completed"
        },
        "tags": [],
        "id": "88ebb27b"
      },
      "source": [
        "Next, we implement a small function to encode all images in our datasets.\n",
        "The output representations are then used as inputs to the Logistic Regression model."
      ]
    },
    {
      "cell_type": "code",
      "execution_count": 14,
      "id": "08b87e56",
      "metadata": {
        "execution": {
          "iopub.execute_input": "2021-10-10T16:42:07.810979Z",
          "iopub.status.busy": "2021-10-10T16:42:07.810493Z",
          "iopub.status.idle": "2021-10-10T16:42:07.812587Z",
          "shell.execute_reply": "2021-10-10T16:42:07.812116Z"
        },
        "papermill": {
          "duration": 0.049258,
          "end_time": "2021-10-10T16:42:07.812757",
          "exception": false,
          "start_time": "2021-10-10T16:42:07.763499",
          "status": "completed"
        },
        "tags": [],
        "id": "08b87e56"
      },
      "outputs": [],
      "source": [
        "@torch.no_grad()\n",
        "def prepare_data_features(model, dataset):\n",
        "    # Prepare model\n",
        "    network = deepcopy(model.convnet)\n",
        "    network.fc = nn.Identity()  # Removing projection head g(.)\n",
        "    network.eval()\n",
        "    network.to(device)\n",
        "\n",
        "    # Encode all images\n",
        "    data_loader = data.DataLoader(dataset, batch_size=64, num_workers=NUM_WORKERS, shuffle=False, drop_last=False)\n",
        "    feats, labels = [], []\n",
        "    for batch_imgs, batch_labels in tqdm(data_loader):\n",
        "        batch_imgs = batch_imgs.to(device)\n",
        "        batch_feats = network(batch_imgs)\n",
        "        feats.append(batch_feats.detach().cpu())\n",
        "        labels.append(batch_labels)\n",
        "\n",
        "    feats = torch.cat(feats, dim=0)\n",
        "    labels = torch.cat(labels, dim=0)\n",
        "\n",
        "    # Sort images by labels\n",
        "    labels, idxs = labels.sort()\n",
        "    feats = feats[idxs]\n",
        "\n",
        "    return data.TensorDataset(feats, labels)"
      ]
    },
    {
      "cell_type": "markdown",
      "id": "f1e62cc6",
      "metadata": {
        "papermill": {
          "duration": 0.10389,
          "end_time": "2021-10-10T16:42:08.012147",
          "exception": false,
          "start_time": "2021-10-10T16:42:07.908257",
          "status": "completed"
        },
        "tags": [],
        "id": "f1e62cc6"
      },
      "source": [
        "Let's apply the function to both training and test set below."
      ]
    },
    {
      "cell_type": "code",
      "execution_count": 15,
      "id": "274643eb",
      "metadata": {
        "execution": {
          "iopub.execute_input": "2021-10-10T16:42:08.330518Z",
          "iopub.status.busy": "2021-10-10T16:42:08.330044Z",
          "iopub.status.idle": "2021-10-10T16:42:14.259714Z",
          "shell.execute_reply": "2021-10-10T16:42:14.260561Z"
        },
        "papermill": {
          "duration": 5.994866,
          "end_time": "2021-10-10T16:42:14.260713",
          "exception": false,
          "start_time": "2021-10-10T16:42:08.265847",
          "status": "completed"
        },
        "tags": [],
        "id": "274643eb",
        "outputId": "78300db1-39dd-48ce-cec4-35abdbbac086",
        "colab": {
          "base_uri": "https://localhost:8080/",
          "height": 81,
          "referenced_widgets": [
            "536967ff1d7c4067a037fb8050ab0511",
            "a8155ac486004f58a2cfd3bd87d58059",
            "c6ce9703de2f4ab88dddae014d6640d2",
            "9c6d1b31598f4b329d4cec7b375ee31e",
            "e5e8d97787414ea6b77fd404d8ba17e9",
            "d4c98b59e07c40b48303a33d7c55743e",
            "cc48f544e6634a50a43d8a8368011a43",
            "43c2bb03f9844ec297ee86e76b929d8d",
            "93481549d08b4c909ae2ab791e57a2d7",
            "c35927b28fec415294b6b94f14d77338",
            "e35baaf006c6420084c89ab2ffbb01c6",
            "ee3502572f9f48d387a2a95de4d2ffb8",
            "e72a704c0b63421c9b9ec5b17a8ebd35",
            "88af55549718412abc4f26f73bb0ac81",
            "aa78a9afccb64cc7a4e1e71a67773fb0",
            "8d394db7535e47bab236d0492563e207",
            "ca12abc2c1564424a8f21b056bc47ae0",
            "c87e0ad7dd914e87b447a6b71899c9f4",
            "d9859a1d75244b70a5e457d51b7f23d3",
            "9471fa37328f47418461dd4cb4646cea",
            "a7254634be194ee0993b3b736fe78031",
            "d9a382d4e7cc431b8473c1f5d36b56d6"
          ]
        }
      },
      "outputs": [
        {
          "output_type": "display_data",
          "data": {
            "application/vnd.jupyter.widget-view+json": {
              "model_id": "536967ff1d7c4067a037fb8050ab0511",
              "version_minor": 0,
              "version_major": 2
            },
            "text/plain": [
              "  0%|          | 0/79 [00:00<?, ?it/s]"
            ]
          },
          "metadata": {}
        },
        {
          "output_type": "display_data",
          "data": {
            "application/vnd.jupyter.widget-view+json": {
              "model_id": "ee3502572f9f48d387a2a95de4d2ffb8",
              "version_minor": 0,
              "version_major": 2
            },
            "text/plain": [
              "  0%|          | 0/125 [00:00<?, ?it/s]"
            ]
          },
          "metadata": {}
        }
      ],
      "source": [
        "train_feats_simclr = prepare_data_features(simclr_model, train_img_data)\n",
        "test_feats_simclr = prepare_data_features(simclr_model, test_img_data)"
      ]
    },
    {
      "cell_type": "markdown",
      "id": "07d9c6d0",
      "metadata": {
        "lines_to_next_cell": 2,
        "papermill": {
          "duration": 0.038742,
          "end_time": "2021-10-10T16:42:14.339838",
          "exception": false,
          "start_time": "2021-10-10T16:42:14.301096",
          "status": "completed"
        },
        "tags": [],
        "id": "07d9c6d0"
      },
      "source": [
        "Finally, we can write a training function as usual.\n",
        "We evaluate the model on the test set every 10 epochs to allow early\n",
        "stopping, but the low frequency of the validation ensures that we do not\n",
        "overfit too much on the test set."
      ]
    },
    {
      "cell_type": "code",
      "execution_count": 16,
      "id": "39e736ac",
      "metadata": {
        "execution": {
          "iopub.execute_input": "2021-10-10T16:42:14.428282Z",
          "iopub.status.busy": "2021-10-10T16:42:14.427775Z",
          "iopub.status.idle": "2021-10-10T16:42:14.429787Z",
          "shell.execute_reply": "2021-10-10T16:42:14.429385Z"
        },
        "lines_to_next_cell": 2,
        "papermill": {
          "duration": 0.049818,
          "end_time": "2021-10-10T16:42:14.429892",
          "exception": false,
          "start_time": "2021-10-10T16:42:14.380074",
          "status": "completed"
        },
        "tags": [],
        "id": "39e736ac"
      },
      "outputs": [],
      "source": [
        "def train_logreg(batch_size, train_feats_data, test_feats_data, model_suffix, max_epochs=100, **kwargs):\n",
        "    trainer = pl.Trainer(\n",
        "        default_root_dir=os.path.join(CHECKPOINT_PATH, \"LogisticRegression\"),\n",
        "        gpus=1 if str(device) == \"cuda:0\" else 0,\n",
        "        max_epochs=max_epochs,\n",
        "        callbacks=[\n",
        "            ModelCheckpoint(save_weights_only=True, mode=\"max\", monitor=\"val_acc\"),\n",
        "            LearningRateMonitor(\"epoch\"),\n",
        "        ],\n",
        "        progress_bar_refresh_rate=0,\n",
        "        check_val_every_n_epoch=10,\n",
        "    )\n",
        "    trainer.logger._default_hp_metric = None\n",
        "\n",
        "    # Data loaders\n",
        "    train_loader = data.DataLoader(\n",
        "        train_feats_data, batch_size=batch_size, shuffle=True, drop_last=False, pin_memory=True, num_workers=0\n",
        "    )\n",
        "    test_loader = data.DataLoader(\n",
        "        test_feats_data, batch_size=batch_size, shuffle=False, drop_last=False, pin_memory=True, num_workers=0\n",
        "    )\n",
        "\n",
        "    # Check whether pretrained model exists. If yes, load it and skip training\n",
        "    pretrained_filename = os.path.join(CHECKPOINT_PATH, f\"LogisticRegression_{model_suffix}.ckpt\")\n",
        "    if os.path.isfile(pretrained_filename):\n",
        "        print(f\"Found pretrained model at {pretrained_filename}, loading...\")\n",
        "        model = LogisticRegression.load_from_checkpoint(pretrained_filename)\n",
        "    else:\n",
        "        pl.seed_everything(42)  # To be reproducable\n",
        "        model = LogisticRegression(**kwargs)\n",
        "        trainer.fit(model, train_loader, test_loader)\n",
        "        model = LogisticRegression.load_from_checkpoint(trainer.checkpoint_callback.best_model_path)\n",
        "\n",
        "    # Test best model on train and validation set\n",
        "    train_result = trainer.test(model, test_dataloaders=train_loader, verbose=False)\n",
        "    test_result = trainer.test(model, test_dataloaders=test_loader, verbose=False)\n",
        "    result = {\"train\": train_result[0][\"test_acc\"], \"test\": test_result[0][\"test_acc\"]}\n",
        "\n",
        "    return model, result"
      ]
    },
    {
      "cell_type": "markdown",
      "id": "9466a2b3",
      "metadata": {
        "lines_to_next_cell": 2,
        "papermill": {
          "duration": 0.038939,
          "end_time": "2021-10-10T16:42:14.508335",
          "exception": false,
          "start_time": "2021-10-10T16:42:14.469396",
          "status": "completed"
        },
        "tags": [],
        "id": "9466a2b3"
      },
      "source": [
        "Despite the training dataset of STL10 already only having 500 labeled images per class, we will perform experiments with even smaller datasets.\n",
        "Specifically, we train a Logistic Regression model for datasets with only 10, 20, 50, 100, 200, and all 500 examples per class.\n",
        "This gives us an intuition on how well the representations learned by contrastive learning can be transfered to a image recognition task like this classification.\n",
        "First, let's define a function to create the intended sub-datasets from the full training set:"
      ]
    },
    {
      "cell_type": "code",
      "execution_count": 17,
      "id": "b3913e4c",
      "metadata": {
        "execution": {
          "iopub.execute_input": "2021-10-10T16:42:14.591002Z",
          "iopub.status.busy": "2021-10-10T16:42:14.590531Z",
          "iopub.status.idle": "2021-10-10T16:42:14.592353Z",
          "shell.execute_reply": "2021-10-10T16:42:14.592734Z"
        },
        "papermill": {
          "duration": 0.044896,
          "end_time": "2021-10-10T16:42:14.592854",
          "exception": false,
          "start_time": "2021-10-10T16:42:14.547958",
          "status": "completed"
        },
        "tags": [],
        "id": "b3913e4c"
      },
      "outputs": [],
      "source": [
        "def get_smaller_dataset(original_dataset, num_imgs_per_label):\n",
        "    new_dataset = data.TensorDataset(\n",
        "        *(t.unflatten(0, (10, 500))[:, :num_imgs_per_label].flatten(0, 1) for t in original_dataset.tensors)\n",
        "    )\n",
        "    return new_dataset"
      ]
    },
    {
      "cell_type": "markdown",
      "id": "990bb943",
      "metadata": {
        "papermill": {
          "duration": 0.039252,
          "end_time": "2021-10-10T16:42:14.671356",
          "exception": false,
          "start_time": "2021-10-10T16:42:14.632104",
          "status": "completed"
        },
        "tags": [],
        "id": "990bb943"
      },
      "source": [
        "Next, let's run all models.\n",
        "Despite us training 6 models, this cell could be run within a minute or two without the pretrained models."
      ]
    },
    {
      "cell_type": "code",
      "execution_count": 18,
      "id": "6539fd23",
      "metadata": {
        "execution": {
          "iopub.execute_input": "2021-10-10T16:42:14.754555Z",
          "iopub.status.busy": "2021-10-10T16:42:14.754086Z",
          "iopub.status.idle": "2021-10-10T16:42:16.144060Z",
          "shell.execute_reply": "2021-10-10T16:42:16.143610Z"
        },
        "papermill": {
          "duration": 1.433844,
          "end_time": "2021-10-10T16:42:16.144181",
          "exception": false,
          "start_time": "2021-10-10T16:42:14.710337",
          "status": "completed"
        },
        "tags": [],
        "id": "6539fd23",
        "outputId": "d31eff88-de8b-47a1-db98-095d46920170",
        "colab": {
          "base_uri": "https://localhost:8080/"
        }
      },
      "outputs": [
        {
          "output_type": "stream",
          "name": "stderr",
          "text": [
            "/usr/local/lib/python3.7/dist-packages/pytorch_lightning/trainer/connectors/callback_connector.py:91: LightningDeprecationWarning: Setting `Trainer(progress_bar_refresh_rate=0)` is deprecated in v1.5 and will be removed in v1.7. Please pass `pytorch_lightning.callbacks.progress.TQDMProgressBar` with `refresh_rate` directly to the Trainer's `callbacks` argument instead. Or, to disable the progress bar pass `enable_progress_bar = False` to the Trainer.\n",
            "  f\"Setting `Trainer(progress_bar_refresh_rate={progress_bar_refresh_rate})` is deprecated in v1.5 and\"\n",
            "GPU available: True, used: True\n",
            "TPU available: False, using: 0 TPU cores\n",
            "IPU available: False, using: 0 IPUs\n",
            "/usr/local/lib/python3.7/dist-packages/pytorch_lightning/trainer/trainer.py:903: LightningDeprecationWarning: `trainer.test(test_dataloaders)` is deprecated in v1.4 and will be removed in v1.6. Use `trainer.test(dataloaders)` instead.\n",
            "  \"`trainer.test(test_dataloaders)` is deprecated in v1.4 and will be removed in v1.6.\"\n",
            "LOCAL_RANK: 0 - CUDA_VISIBLE_DEVICES: [0]\n",
            "Missing logger folder: saved_models/ContrastiveLearning/LogisticRegression/lightning_logs\n",
            "/usr/local/lib/python3.7/dist-packages/pytorch_lightning/trainer/data_loading.py:636: UserWarning: Your `test_dataloader` has `shuffle=True`, it is strongly recommended that you turn this off for val/test/predict dataloaders.\n",
            "  category=UserWarning,\n"
          ]
        },
        {
          "output_type": "stream",
          "name": "stdout",
          "text": [
            "Found pretrained model at saved_models/ContrastiveLearning/LogisticRegression_10.ckpt, loading...\n"
          ]
        },
        {
          "output_type": "stream",
          "name": "stderr",
          "text": [
            "LOCAL_RANK: 0 - CUDA_VISIBLE_DEVICES: [0]\n",
            "GPU available: True, used: True\n",
            "TPU available: False, using: 0 TPU cores\n",
            "IPU available: False, using: 0 IPUs\n",
            "LOCAL_RANK: 0 - CUDA_VISIBLE_DEVICES: [0]\n",
            "LOCAL_RANK: 0 - CUDA_VISIBLE_DEVICES: [0]\n"
          ]
        },
        {
          "output_type": "stream",
          "name": "stdout",
          "text": [
            "Found pretrained model at saved_models/ContrastiveLearning/LogisticRegression_20.ckpt, loading...\n"
          ]
        },
        {
          "output_type": "stream",
          "name": "stderr",
          "text": [
            "GPU available: True, used: True\n",
            "TPU available: False, using: 0 TPU cores\n",
            "IPU available: False, using: 0 IPUs\n",
            "LOCAL_RANK: 0 - CUDA_VISIBLE_DEVICES: [0]\n",
            "LOCAL_RANK: 0 - CUDA_VISIBLE_DEVICES: [0]\n"
          ]
        },
        {
          "output_type": "stream",
          "name": "stdout",
          "text": [
            "Found pretrained model at saved_models/ContrastiveLearning/LogisticRegression_50.ckpt, loading...\n"
          ]
        },
        {
          "output_type": "stream",
          "name": "stderr",
          "text": [
            "GPU available: True, used: True\n",
            "TPU available: False, using: 0 TPU cores\n",
            "IPU available: False, using: 0 IPUs\n",
            "LOCAL_RANK: 0 - CUDA_VISIBLE_DEVICES: [0]\n",
            "LOCAL_RANK: 0 - CUDA_VISIBLE_DEVICES: [0]\n"
          ]
        },
        {
          "output_type": "stream",
          "name": "stdout",
          "text": [
            "Found pretrained model at saved_models/ContrastiveLearning/LogisticRegression_100.ckpt, loading...\n"
          ]
        },
        {
          "output_type": "stream",
          "name": "stderr",
          "text": [
            "GPU available: True, used: True\n",
            "TPU available: False, using: 0 TPU cores\n",
            "IPU available: False, using: 0 IPUs\n",
            "LOCAL_RANK: 0 - CUDA_VISIBLE_DEVICES: [0]\n",
            "LOCAL_RANK: 0 - CUDA_VISIBLE_DEVICES: [0]\n"
          ]
        },
        {
          "output_type": "stream",
          "name": "stdout",
          "text": [
            "Found pretrained model at saved_models/ContrastiveLearning/LogisticRegression_200.ckpt, loading...\n"
          ]
        },
        {
          "output_type": "stream",
          "name": "stderr",
          "text": [
            "GPU available: True, used: True\n",
            "TPU available: False, using: 0 TPU cores\n",
            "IPU available: False, using: 0 IPUs\n",
            "LOCAL_RANK: 0 - CUDA_VISIBLE_DEVICES: [0]\n"
          ]
        },
        {
          "output_type": "stream",
          "name": "stdout",
          "text": [
            "Found pretrained model at saved_models/ContrastiveLearning/LogisticRegression_500.ckpt, loading...\n"
          ]
        },
        {
          "output_type": "stream",
          "name": "stderr",
          "text": [
            "LOCAL_RANK: 0 - CUDA_VISIBLE_DEVICES: [0]\n"
          ]
        }
      ],
      "source": [
        "results = {}\n",
        "for num_imgs_per_label in [10, 20, 50, 100, 200, 500]:\n",
        "    sub_train_set = get_smaller_dataset(train_feats_simclr, num_imgs_per_label)\n",
        "    _, small_set_results = train_logreg(\n",
        "        batch_size=64,\n",
        "        train_feats_data=sub_train_set,\n",
        "        test_feats_data=test_feats_simclr,\n",
        "        model_suffix=num_imgs_per_label,\n",
        "        feature_dim=train_feats_simclr.tensors[0].shape[1],\n",
        "        num_classes=10,\n",
        "        lr=1e-3,\n",
        "        weight_decay=1e-3,\n",
        "    )\n",
        "    results[num_imgs_per_label] = small_set_results"
      ]
    },
    {
      "cell_type": "markdown",
      "id": "ccf2215a",
      "metadata": {
        "papermill": {
          "duration": 0.047056,
          "end_time": "2021-10-10T16:42:16.238910",
          "exception": false,
          "start_time": "2021-10-10T16:42:16.191854",
          "status": "completed"
        },
        "tags": [],
        "id": "ccf2215a"
      },
      "source": [
        "Finally, let's plot the results."
      ]
    },
    {
      "cell_type": "code",
      "execution_count": 19,
      "id": "2d6fa797",
      "metadata": {
        "execution": {
          "iopub.execute_input": "2021-10-10T16:42:16.356906Z",
          "iopub.status.busy": "2021-10-10T16:42:16.345293Z",
          "iopub.status.idle": "2021-10-10T16:42:16.647718Z",
          "shell.execute_reply": "2021-10-10T16:42:16.647234Z"
        },
        "papermill": {
          "duration": 0.362514,
          "end_time": "2021-10-10T16:42:16.647837",
          "exception": false,
          "start_time": "2021-10-10T16:42:16.285323",
          "status": "completed"
        },
        "tags": [],
        "id": "2d6fa797",
        "outputId": "31e9be85-ae56-4a49-9d8d-21a255960eb4",
        "colab": {
          "base_uri": "https://localhost:8080/",
          "height": 510
        }
      },
      "outputs": [
        {
          "output_type": "display_data",
          "data": {
            "application/pdf": "[encoded data removed]",
            "text/plain": [
              "<Figure size 432x288 with 1 Axes>"
            ],
            "image/svg+xml": "<?xml version=\"1.0\" encoding=\"utf-8\" standalone=\"no\"?>\n<!DOCTYPE svg PUBLIC \"-//W3C//DTD SVG 1.1//EN\"\n  \"http://www.w3.org/Graphics/SVG/1.1/DTD/svg11.dtd\">\n<svg xmlns:xlink=\"http://www.w3.org/1999/xlink\" width=\"405.804688pt\" height=\"284.2375pt\" viewBox=\"0 0 405.804688 284.2375\" xmlns=\"http://www.w3.org/2000/svg\" version=\"1.1\">\n <metadata>\n  <rdf:RDF xmlns:dc=\"http://purl.org/dc/elements/1.1/\" xmlns:cc=\"http://creativecommons.org/ns#\" xmlns:rdf=\"http://www.w3.org/1999/02/22-rdf-syntax-ns#\">\n   <cc:Work>\n    <dc:type rdf:resource=\"http://purl.org/dc/dcmitype/StillImage\"/>\n    <dc:date>2021-12-23T01:09:55.683504</dc:date>\n    <dc:format>image/svg+xml</dc:format>\n    <dc:creator>\n     <cc:Agent>\n      <dc:title>Matplotlib v3.5.1, https://matplotlib.org/</dc:title>\n     </cc:Agent>\n    </dc:creator>\n   </cc:Work>\n  </rdf:RDF>\n </metadata>\n <defs>\n  <style type=\"text/css\">*{stroke-linejoin: round; stroke-linecap: butt}</style>\n </defs>\n <g id=\"figure_1\">\n  <g id=\"patch_1\">\n   <path d=\"M 0 284.2375 \nL 405.804688 284.2375 \nL 405.804688 0 \nL 0 0 \nz\n\" style=\"fill: #ffffff\"/>\n  </g>\n  <g id=\"axes_1\">\n   <g id=\"patch_2\">\n    <path d=\"M 63.804688 241.277813 \nL 398.604688 241.277813 \nL 398.604688 23.837812 \nL 63.804688 23.837812 \nz\n\" style=\"fill: #eaeaf2\"/>\n   </g>\n   <g id=\"matplotlib.axis_1\">\n    <g id=\"xtick_1\">\n     <g id=\"line2d_1\">\n      <path d=\"M 79.022869 241.277813 \nL 79.022869 23.837812 \n\" clip-path=\"url(#pd06b6b4096)\" style=\"fill: none; stroke: #ffffff; stroke-linecap: round\"/>\n     </g>\n     <g id=\"text_1\">\n      <!-- 10 -->\n      <g style=\"fill: #262626\" transform=\"translate(72.024119 259.136094)scale(0.11 -0.11)\">\n       <defs>\n        <path id=\"DejaVuSans-31\" d=\"M 794 531 \nL 1825 531 \nL 1825 4091 \nL 703 3866 \nL 703 4441 \nL 1819 4666 \nL 2450 4666 \nL 2450 531 \nL 3481 531 \nL 3481 0 \nL 794 0 \nL 794 531 \nz\n\" transform=\"scale(0.015625)\"/>\n        <path id=\"DejaVuSans-30\" d=\"M 2034 4250 \nQ 1547 4250 1301 3770 \nQ 1056 3291 1056 2328 \nQ 1056 1369 1301 889 \nQ 1547 409 2034 409 \nQ 2525 409 2770 889 \nQ 3016 1369 3016 2328 \nQ 3016 3291 2770 3770 \nQ 2525 4250 2034 4250 \nz\nM 2034 4750 \nQ 2819 4750 3233 4129 \nQ 3647 3509 3647 2328 \nQ 3647 1150 3233 529 \nQ 2819 -91 2034 -91 \nQ 1250 -91 836 529 \nQ 422 1150 422 2328 \nQ 422 3509 836 4129 \nQ 1250 4750 2034 4750 \nz\n\" transform=\"scale(0.015625)\"/>\n       </defs>\n       <use xlink:href=\"#DejaVuSans-31\"/>\n       <use xlink:href=\"#DejaVuSans-30\" x=\"63.623047\"/>\n      </g>\n     </g>\n    </g>\n    <g id=\"xtick_2\">\n     <g id=\"line2d_2\">\n      <path d=\"M 132.951181 241.277813 \nL 132.951181 23.837812 \n\" clip-path=\"url(#pd06b6b4096)\" style=\"fill: none; stroke: #ffffff; stroke-linecap: round\"/>\n     </g>\n     <g id=\"text_2\">\n      <!-- 20 -->\n      <g style=\"fill: #262626\" transform=\"translate(125.952431 259.136094)scale(0.11 -0.11)\">\n       <defs>\n        <path id=\"DejaVuSans-32\" d=\"M 1228 531 \nL 3431 531 \nL 3431 0 \nL 469 0 \nL 469 531 \nQ 828 903 1448 1529 \nQ 2069 2156 2228 2338 \nQ 2531 2678 2651 2914 \nQ 2772 3150 2772 3378 \nQ 2772 3750 2511 3984 \nQ 2250 4219 1831 4219 \nQ 1534 4219 1204 4116 \nQ 875 4013 500 3803 \nL 500 4441 \nQ 881 4594 1212 4672 \nQ 1544 4750 1819 4750 \nQ 2544 4750 2975 4387 \nQ 3406 4025 3406 3419 \nQ 3406 3131 3298 2873 \nQ 3191 2616 2906 2266 \nQ 2828 2175 2409 1742 \nQ 1991 1309 1228 531 \nz\n\" transform=\"scale(0.015625)\"/>\n       </defs>\n       <use xlink:href=\"#DejaVuSans-32\"/>\n       <use xlink:href=\"#DejaVuSans-30\" x=\"63.623047\"/>\n      </g>\n     </g>\n    </g>\n    <g id=\"xtick_3\">\n     <g id=\"line2d_3\">\n      <path d=\"M 204.240532 241.277813 \nL 204.240532 23.837812 \n\" clip-path=\"url(#pd06b6b4096)\" style=\"fill: none; stroke: #ffffff; stroke-linecap: round\"/>\n     </g>\n     <g id=\"text_3\">\n      <!-- 50 -->\n      <g style=\"fill: #262626\" transform=\"translate(197.241782 259.136094)scale(0.11 -0.11)\">\n       <defs>\n        <path id=\"DejaVuSans-35\" d=\"M 691 4666 \nL 3169 4666 \nL 3169 4134 \nL 1269 4134 \nL 1269 2991 \nQ 1406 3038 1543 3061 \nQ 1681 3084 1819 3084 \nQ 2600 3084 3056 2656 \nQ 3513 2228 3513 1497 \nQ 3513 744 3044 326 \nQ 2575 -91 1722 -91 \nQ 1428 -91 1123 -41 \nQ 819 9 494 109 \nL 494 744 \nQ 775 591 1075 516 \nQ 1375 441 1709 441 \nQ 2250 441 2565 725 \nQ 2881 1009 2881 1497 \nQ 2881 1984 2565 2268 \nQ 2250 2553 1709 2553 \nQ 1456 2553 1204 2497 \nQ 953 2441 691 2322 \nL 691 4666 \nz\n\" transform=\"scale(0.015625)\"/>\n       </defs>\n       <use xlink:href=\"#DejaVuSans-35\"/>\n       <use xlink:href=\"#DejaVuSans-30\" x=\"63.623047\"/>\n      </g>\n     </g>\n    </g>\n    <g id=\"xtick_4\">\n     <g id=\"line2d_4\">\n      <path d=\"M 258.168843 241.277813 \nL 258.168843 23.837812 \n\" clip-path=\"url(#pd06b6b4096)\" style=\"fill: none; stroke: #ffffff; stroke-linecap: round\"/>\n     </g>\n     <g id=\"text_4\">\n      <!-- 100 -->\n      <g style=\"fill: #262626\" transform=\"translate(247.670718 259.136094)scale(0.11 -0.11)\">\n       <use xlink:href=\"#DejaVuSans-31\"/>\n       <use xlink:href=\"#DejaVuSans-30\" x=\"63.623047\"/>\n       <use xlink:href=\"#DejaVuSans-30\" x=\"127.246094\"/>\n      </g>\n     </g>\n    </g>\n    <g id=\"xtick_5\">\n     <g id=\"line2d_5\">\n      <path d=\"M 312.097155 241.277813 \nL 312.097155 23.837812 \n\" clip-path=\"url(#pd06b6b4096)\" style=\"fill: none; stroke: #ffffff; stroke-linecap: round\"/>\n     </g>\n     <g id=\"text_5\">\n      <!-- 200 -->\n      <g style=\"fill: #262626\" transform=\"translate(301.59903 259.136094)scale(0.11 -0.11)\">\n       <use xlink:href=\"#DejaVuSans-32\"/>\n       <use xlink:href=\"#DejaVuSans-30\" x=\"63.623047\"/>\n       <use xlink:href=\"#DejaVuSans-30\" x=\"127.246094\"/>\n      </g>\n     </g>\n    </g>\n    <g id=\"xtick_6\">\n     <g id=\"line2d_6\">\n      <path d=\"M 383.386506 241.277813 \nL 383.386506 23.837812 \n\" clip-path=\"url(#pd06b6b4096)\" style=\"fill: none; stroke: #ffffff; stroke-linecap: round\"/>\n     </g>\n     <g id=\"text_6\">\n      <!-- 500 -->\n      <g style=\"fill: #262626\" transform=\"translate(372.888381 259.136094)scale(0.11 -0.11)\">\n       <use xlink:href=\"#DejaVuSans-35\"/>\n       <use xlink:href=\"#DejaVuSans-30\" x=\"63.623047\"/>\n       <use xlink:href=\"#DejaVuSans-30\" x=\"127.246094\"/>\n      </g>\n     </g>\n    </g>\n    <g id=\"text_7\">\n     <!-- Number of images per class -->\n     <g style=\"fill: #262626\" transform=\"translate(147.014375 274.541875)scale(0.12 -0.12)\">\n      <defs>\n       <path id=\"DejaVuSans-4e\" d=\"M 628 4666 \nL 1478 4666 \nL 3547 763 \nL 3547 4666 \nL 4159 4666 \nL 4159 0 \nL 3309 0 \nL 1241 3903 \nL 1241 0 \nL 628 0 \nL 628 4666 \nz\n\" transform=\"scale(0.015625)\"/>\n       <path id=\"DejaVuSans-75\" d=\"M 544 1381 \nL 544 3500 \nL 1119 3500 \nL 1119 1403 \nQ 1119 906 1312 657 \nQ 1506 409 1894 409 \nQ 2359 409 2629 706 \nQ 2900 1003 2900 1516 \nL 2900 3500 \nL 3475 3500 \nL 3475 0 \nL 2900 0 \nL 2900 538 \nQ 2691 219 2414 64 \nQ 2138 -91 1772 -91 \nQ 1169 -91 856 284 \nQ 544 659 544 1381 \nz\nM 1991 3584 \nL 1991 3584 \nz\n\" transform=\"scale(0.015625)\"/>\n       <path id=\"DejaVuSans-6d\" d=\"M 3328 2828 \nQ 3544 3216 3844 3400 \nQ 4144 3584 4550 3584 \nQ 5097 3584 5394 3201 \nQ 5691 2819 5691 2113 \nL 5691 0 \nL 5113 0 \nL 5113 2094 \nQ 5113 2597 4934 2840 \nQ 4756 3084 4391 3084 \nQ 3944 3084 3684 2787 \nQ 3425 2491 3425 1978 \nL 3425 0 \nL 2847 0 \nL 2847 2094 \nQ 2847 2600 2669 2842 \nQ 2491 3084 2119 3084 \nQ 1678 3084 1418 2786 \nQ 1159 2488 1159 1978 \nL 1159 0 \nL 581 0 \nL 581 3500 \nL 1159 3500 \nL 1159 2956 \nQ 1356 3278 1631 3431 \nQ 1906 3584 2284 3584 \nQ 2666 3584 2933 3390 \nQ 3200 3197 3328 2828 \nz\n\" transform=\"scale(0.015625)\"/>\n       <path id=\"DejaVuSans-62\" d=\"M 3116 1747 \nQ 3116 2381 2855 2742 \nQ 2594 3103 2138 3103 \nQ 1681 3103 1420 2742 \nQ 1159 2381 1159 1747 \nQ 1159 1113 1420 752 \nQ 1681 391 2138 391 \nQ 2594 391 2855 752 \nQ 3116 1113 3116 1747 \nz\nM 1159 2969 \nQ 1341 3281 1617 3432 \nQ 1894 3584 2278 3584 \nQ 2916 3584 3314 3078 \nQ 3713 2572 3713 1747 \nQ 3713 922 3314 415 \nQ 2916 -91 2278 -91 \nQ 1894 -91 1617 61 \nQ 1341 213 1159 525 \nL 1159 0 \nL 581 0 \nL 581 4863 \nL 1159 4863 \nL 1159 2969 \nz\n\" transform=\"scale(0.015625)\"/>\n       <path id=\"DejaVuSans-65\" d=\"M 3597 1894 \nL 3597 1613 \nL 953 1613 \nQ 991 1019 1311 708 \nQ 1631 397 2203 397 \nQ 2534 397 2845 478 \nQ 3156 559 3463 722 \nL 3463 178 \nQ 3153 47 2828 -22 \nQ 2503 -91 2169 -91 \nQ 1331 -91 842 396 \nQ 353 884 353 1716 \nQ 353 2575 817 3079 \nQ 1281 3584 2069 3584 \nQ 2775 3584 3186 3129 \nQ 3597 2675 3597 1894 \nz\nM 3022 2063 \nQ 3016 2534 2758 2815 \nQ 2500 3097 2075 3097 \nQ 1594 3097 1305 2825 \nQ 1016 2553 972 2059 \nL 3022 2063 \nz\n\" transform=\"scale(0.015625)\"/>\n       <path id=\"DejaVuSans-72\" d=\"M 2631 2963 \nQ 2534 3019 2420 3045 \nQ 2306 3072 2169 3072 \nQ 1681 3072 1420 2755 \nQ 1159 2438 1159 1844 \nL 1159 0 \nL 581 0 \nL 581 3500 \nL 1159 3500 \nL 1159 2956 \nQ 1341 3275 1631 3429 \nQ 1922 3584 2338 3584 \nQ 2397 3584 2469 3576 \nQ 2541 3569 2628 3553 \nL 2631 2963 \nz\n\" transform=\"scale(0.015625)\"/>\n       <path id=\"DejaVuSans-20\" transform=\"scale(0.015625)\"/>\n       <path id=\"DejaVuSans-6f\" d=\"M 1959 3097 \nQ 1497 3097 1228 2736 \nQ 959 2375 959 1747 \nQ 959 1119 1226 758 \nQ 1494 397 1959 397 \nQ 2419 397 2687 759 \nQ 2956 1122 2956 1747 \nQ 2956 2369 2687 2733 \nQ 2419 3097 1959 3097 \nz\nM 1959 3584 \nQ 2709 3584 3137 3096 \nQ 3566 2609 3566 1747 \nQ 3566 888 3137 398 \nQ 2709 -91 1959 -91 \nQ 1206 -91 779 398 \nQ 353 888 353 1747 \nQ 353 2609 779 3096 \nQ 1206 3584 1959 3584 \nz\n\" transform=\"scale(0.015625)\"/>\n       <path id=\"DejaVuSans-66\" d=\"M 2375 4863 \nL 2375 4384 \nL 1825 4384 \nQ 1516 4384 1395 4259 \nQ 1275 4134 1275 3809 \nL 1275 3500 \nL 2222 3500 \nL 2222 3053 \nL 1275 3053 \nL 1275 0 \nL 697 0 \nL 697 3053 \nL 147 3053 \nL 147 3500 \nL 697 3500 \nL 697 3744 \nQ 697 4328 969 4595 \nQ 1241 4863 1831 4863 \nL 2375 4863 \nz\n\" transform=\"scale(0.015625)\"/>\n       <path id=\"DejaVuSans-69\" d=\"M 603 3500 \nL 1178 3500 \nL 1178 0 \nL 603 0 \nL 603 3500 \nz\nM 603 4863 \nL 1178 4863 \nL 1178 4134 \nL 603 4134 \nL 603 4863 \nz\n\" transform=\"scale(0.015625)\"/>\n       <path id=\"DejaVuSans-61\" d=\"M 2194 1759 \nQ 1497 1759 1228 1600 \nQ 959 1441 959 1056 \nQ 959 750 1161 570 \nQ 1363 391 1709 391 \nQ 2188 391 2477 730 \nQ 2766 1069 2766 1631 \nL 2766 1759 \nL 2194 1759 \nz\nM 3341 1997 \nL 3341 0 \nL 2766 0 \nL 2766 531 \nQ 2569 213 2275 61 \nQ 1981 -91 1556 -91 \nQ 1019 -91 701 211 \nQ 384 513 384 1019 \nQ 384 1609 779 1909 \nQ 1175 2209 1959 2209 \nL 2766 2209 \nL 2766 2266 \nQ 2766 2663 2505 2880 \nQ 2244 3097 1772 3097 \nQ 1472 3097 1187 3025 \nQ 903 2953 641 2809 \nL 641 3341 \nQ 956 3463 1253 3523 \nQ 1550 3584 1831 3584 \nQ 2591 3584 2966 3190 \nQ 3341 2797 3341 1997 \nz\n\" transform=\"scale(0.015625)\"/>\n       <path id=\"DejaVuSans-67\" d=\"M 2906 1791 \nQ 2906 2416 2648 2759 \nQ 2391 3103 1925 3103 \nQ 1463 3103 1205 2759 \nQ 947 2416 947 1791 \nQ 947 1169 1205 825 \nQ 1463 481 1925 481 \nQ 2391 481 2648 825 \nQ 2906 1169 2906 1791 \nz\nM 3481 434 \nQ 3481 -459 3084 -895 \nQ 2688 -1331 1869 -1331 \nQ 1566 -1331 1297 -1286 \nQ 1028 -1241 775 -1147 \nL 775 -588 \nQ 1028 -725 1275 -790 \nQ 1522 -856 1778 -856 \nQ 2344 -856 2625 -561 \nQ 2906 -266 2906 331 \nL 2906 616 \nQ 2728 306 2450 153 \nQ 2172 0 1784 0 \nQ 1141 0 747 490 \nQ 353 981 353 1791 \nQ 353 2603 747 3093 \nQ 1141 3584 1784 3584 \nQ 2172 3584 2450 3431 \nQ 2728 3278 2906 2969 \nL 2906 3500 \nL 3481 3500 \nL 3481 434 \nz\n\" transform=\"scale(0.015625)\"/>\n       <path id=\"DejaVuSans-73\" d=\"M 2834 3397 \nL 2834 2853 \nQ 2591 2978 2328 3040 \nQ 2066 3103 1784 3103 \nQ 1356 3103 1142 2972 \nQ 928 2841 928 2578 \nQ 928 2378 1081 2264 \nQ 1234 2150 1697 2047 \nL 1894 2003 \nQ 2506 1872 2764 1633 \nQ 3022 1394 3022 966 \nQ 3022 478 2636 193 \nQ 2250 -91 1575 -91 \nQ 1294 -91 989 -36 \nQ 684 19 347 128 \nL 347 722 \nQ 666 556 975 473 \nQ 1284 391 1588 391 \nQ 1994 391 2212 530 \nQ 2431 669 2431 922 \nQ 2431 1156 2273 1281 \nQ 2116 1406 1581 1522 \nL 1381 1569 \nQ 847 1681 609 1914 \nQ 372 2147 372 2553 \nQ 372 3047 722 3315 \nQ 1072 3584 1716 3584 \nQ 2034 3584 2315 3537 \nQ 2597 3491 2834 3397 \nz\n\" transform=\"scale(0.015625)\"/>\n       <path id=\"DejaVuSans-70\" d=\"M 1159 525 \nL 1159 -1331 \nL 581 -1331 \nL 581 3500 \nL 1159 3500 \nL 1159 2969 \nQ 1341 3281 1617 3432 \nQ 1894 3584 2278 3584 \nQ 2916 3584 3314 3078 \nQ 3713 2572 3713 1747 \nQ 3713 922 3314 415 \nQ 2916 -91 2278 -91 \nQ 1894 -91 1617 61 \nQ 1341 213 1159 525 \nz\nM 3116 1747 \nQ 3116 2381 2855 2742 \nQ 2594 3103 2138 3103 \nQ 1681 3103 1420 2742 \nQ 1159 2381 1159 1747 \nQ 1159 1113 1420 752 \nQ 1681 391 2138 391 \nQ 2594 391 2855 752 \nQ 3116 1113 3116 1747 \nz\n\" transform=\"scale(0.015625)\"/>\n       <path id=\"DejaVuSans-63\" d=\"M 3122 3366 \nL 3122 2828 \nQ 2878 2963 2633 3030 \nQ 2388 3097 2138 3097 \nQ 1578 3097 1268 2742 \nQ 959 2388 959 1747 \nQ 959 1106 1268 751 \nQ 1578 397 2138 397 \nQ 2388 397 2633 464 \nQ 2878 531 3122 666 \nL 3122 134 \nQ 2881 22 2623 -34 \nQ 2366 -91 2075 -91 \nQ 1284 -91 818 406 \nQ 353 903 353 1747 \nQ 353 2603 823 3093 \nQ 1294 3584 2113 3584 \nQ 2378 3584 2631 3529 \nQ 2884 3475 3122 3366 \nz\n\" transform=\"scale(0.015625)\"/>\n       <path id=\"DejaVuSans-6c\" d=\"M 603 4863 \nL 1178 4863 \nL 1178 0 \nL 603 0 \nL 603 4863 \nz\n\" transform=\"scale(0.015625)\"/>\n      </defs>\n      <use xlink:href=\"#DejaVuSans-4e\"/>\n      <use xlink:href=\"#DejaVuSans-75\" x=\"74.804688\"/>\n      <use xlink:href=\"#DejaVuSans-6d\" x=\"138.183594\"/>\n      <use xlink:href=\"#DejaVuSans-62\" x=\"235.595703\"/>\n      <use xlink:href=\"#DejaVuSans-65\" x=\"299.072266\"/>\n      <use xlink:href=\"#DejaVuSans-72\" x=\"360.595703\"/>\n      <use xlink:href=\"#DejaVuSans-20\" x=\"401.708984\"/>\n      <use xlink:href=\"#DejaVuSans-6f\" x=\"433.496094\"/>\n      <use xlink:href=\"#DejaVuSans-66\" x=\"494.677734\"/>\n      <use xlink:href=\"#DejaVuSans-20\" x=\"529.882812\"/>\n      <use xlink:href=\"#DejaVuSans-69\" x=\"561.669922\"/>\n      <use xlink:href=\"#DejaVuSans-6d\" x=\"589.453125\"/>\n      <use xlink:href=\"#DejaVuSans-61\" x=\"686.865234\"/>\n      <use xlink:href=\"#DejaVuSans-67\" x=\"748.144531\"/>\n      <use xlink:href=\"#DejaVuSans-65\" x=\"811.621094\"/>\n      <use xlink:href=\"#DejaVuSans-73\" x=\"873.144531\"/>\n      <use xlink:href=\"#DejaVuSans-20\" x=\"925.244141\"/>\n      <use xlink:href=\"#DejaVuSans-70\" x=\"957.03125\"/>\n      <use xlink:href=\"#DejaVuSans-65\" x=\"1020.507812\"/>\n      <use xlink:href=\"#DejaVuSans-72\" x=\"1082.03125\"/>\n      <use xlink:href=\"#DejaVuSans-20\" x=\"1123.144531\"/>\n      <use xlink:href=\"#DejaVuSans-63\" x=\"1154.931641\"/>\n      <use xlink:href=\"#DejaVuSans-6c\" x=\"1209.912109\"/>\n      <use xlink:href=\"#DejaVuSans-61\" x=\"1237.695312\"/>\n      <use xlink:href=\"#DejaVuSans-73\" x=\"1298.974609\"/>\n      <use xlink:href=\"#DejaVuSans-73\" x=\"1351.074219\"/>\n     </g>\n    </g>\n   </g>\n   <g id=\"matplotlib.axis_2\">\n    <g id=\"ytick_1\">\n     <g id=\"line2d_7\">\n      <path d=\"M 63.804688 234.459871 \nL 398.604688 234.459871 \n\" clip-path=\"url(#pd06b6b4096)\" style=\"fill: none; stroke: #ffffff; stroke-linecap: round\"/>\n     </g>\n     <g id=\"text_8\">\n      <!-- 0.625 -->\n      <g style=\"fill: #262626\" transform=\"translate(22.81375 238.639011)scale(0.11 -0.11)\">\n       <defs>\n        <path id=\"DejaVuSans-2e\" d=\"M 684 794 \nL 1344 794 \nL 1344 0 \nL 684 0 \nL 684 794 \nz\n\" transform=\"scale(0.015625)\"/>\n        <path id=\"DejaVuSans-36\" d=\"M 2113 2584 \nQ 1688 2584 1439 2293 \nQ 1191 2003 1191 1497 \nQ 1191 994 1439 701 \nQ 1688 409 2113 409 \nQ 2538 409 2786 701 \nQ 3034 994 3034 1497 \nQ 3034 2003 2786 2293 \nQ 2538 2584 2113 2584 \nz\nM 3366 4563 \nL 3366 3988 \nQ 3128 4100 2886 4159 \nQ 2644 4219 2406 4219 \nQ 1781 4219 1451 3797 \nQ 1122 3375 1075 2522 \nQ 1259 2794 1537 2939 \nQ 1816 3084 2150 3084 \nQ 2853 3084 3261 2657 \nQ 3669 2231 3669 1497 \nQ 3669 778 3244 343 \nQ 2819 -91 2113 -91 \nQ 1303 -91 875 529 \nQ 447 1150 447 2328 \nQ 447 3434 972 4092 \nQ 1497 4750 2381 4750 \nQ 2619 4750 2861 4703 \nQ 3103 4656 3366 4563 \nz\n\" transform=\"scale(0.015625)\"/>\n       </defs>\n       <use xlink:href=\"#DejaVuSans-30\"/>\n       <use xlink:href=\"#DejaVuSans-2e\" x=\"63.623047\"/>\n       <use xlink:href=\"#DejaVuSans-36\" x=\"95.410156\"/>\n       <use xlink:href=\"#DejaVuSans-32\" x=\"159.033203\"/>\n       <use xlink:href=\"#DejaVuSans-35\" x=\"222.65625\"/>\n      </g>\n     </g>\n    </g>\n    <g id=\"ytick_2\">\n     <g id=\"line2d_8\">\n      <path d=\"M 63.804688 207.801383 \nL 398.604688 207.801383 \n\" clip-path=\"url(#pd06b6b4096)\" style=\"fill: none; stroke: #ffffff; stroke-linecap: round\"/>\n     </g>\n     <g id=\"text_9\">\n      <!-- 0.650 -->\n      <g style=\"fill: #262626\" transform=\"translate(22.81375 211.980523)scale(0.11 -0.11)\">\n       <use xlink:href=\"#DejaVuSans-30\"/>\n       <use xlink:href=\"#DejaVuSans-2e\" x=\"63.623047\"/>\n       <use xlink:href=\"#DejaVuSans-36\" x=\"95.410156\"/>\n       <use xlink:href=\"#DejaVuSans-35\" x=\"159.033203\"/>\n       <use xlink:href=\"#DejaVuSans-30\" x=\"222.65625\"/>\n      </g>\n     </g>\n    </g>\n    <g id=\"ytick_3\">\n     <g id=\"line2d_9\">\n      <path d=\"M 63.804688 181.142894 \nL 398.604688 181.142894 \n\" clip-path=\"url(#pd06b6b4096)\" style=\"fill: none; stroke: #ffffff; stroke-linecap: round\"/>\n     </g>\n     <g id=\"text_10\">\n      <!-- 0.675 -->\n      <g style=\"fill: #262626\" transform=\"translate(22.81375 185.322035)scale(0.11 -0.11)\">\n       <defs>\n        <path id=\"DejaVuSans-37\" d=\"M 525 4666 \nL 3525 4666 \nL 3525 4397 \nL 1831 0 \nL 1172 0 \nL 2766 4134 \nL 525 4134 \nL 525 4666 \nz\n\" transform=\"scale(0.015625)\"/>\n       </defs>\n       <use xlink:href=\"#DejaVuSans-30\"/>\n       <use xlink:href=\"#DejaVuSans-2e\" x=\"63.623047\"/>\n       <use xlink:href=\"#DejaVuSans-36\" x=\"95.410156\"/>\n       <use xlink:href=\"#DejaVuSans-37\" x=\"159.033203\"/>\n       <use xlink:href=\"#DejaVuSans-35\" x=\"222.65625\"/>\n      </g>\n     </g>\n    </g>\n    <g id=\"ytick_4\">\n     <g id=\"line2d_10\">\n      <path d=\"M 63.804688 154.484406 \nL 398.604688 154.484406 \n\" clip-path=\"url(#pd06b6b4096)\" style=\"fill: none; stroke: #ffffff; stroke-linecap: round\"/>\n     </g>\n     <g id=\"text_11\">\n      <!-- 0.700 -->\n      <g style=\"fill: #262626\" transform=\"translate(22.81375 158.663547)scale(0.11 -0.11)\">\n       <use xlink:href=\"#DejaVuSans-30\"/>\n       <use xlink:href=\"#DejaVuSans-2e\" x=\"63.623047\"/>\n       <use xlink:href=\"#DejaVuSans-37\" x=\"95.410156\"/>\n       <use xlink:href=\"#DejaVuSans-30\" x=\"159.033203\"/>\n       <use xlink:href=\"#DejaVuSans-30\" x=\"222.65625\"/>\n      </g>\n     </g>\n    </g>\n    <g id=\"ytick_5\">\n     <g id=\"line2d_11\">\n      <path d=\"M 63.804688 127.825918 \nL 398.604688 127.825918 \n\" clip-path=\"url(#pd06b6b4096)\" style=\"fill: none; stroke: #ffffff; stroke-linecap: round\"/>\n     </g>\n     <g id=\"text_12\">\n      <!-- 0.725 -->\n      <g style=\"fill: #262626\" transform=\"translate(22.81375 132.005058)scale(0.11 -0.11)\">\n       <use xlink:href=\"#DejaVuSans-30\"/>\n       <use xlink:href=\"#DejaVuSans-2e\" x=\"63.623047\"/>\n       <use xlink:href=\"#DejaVuSans-37\" x=\"95.410156\"/>\n       <use xlink:href=\"#DejaVuSans-32\" x=\"159.033203\"/>\n       <use xlink:href=\"#DejaVuSans-35\" x=\"222.65625\"/>\n      </g>\n     </g>\n    </g>\n    <g id=\"ytick_6\">\n     <g id=\"line2d_12\">\n      <path d=\"M 63.804688 101.16743 \nL 398.604688 101.16743 \n\" clip-path=\"url(#pd06b6b4096)\" style=\"fill: none; stroke: #ffffff; stroke-linecap: round\"/>\n     </g>\n     <g id=\"text_13\">\n      <!-- 0.750 -->\n      <g style=\"fill: #262626\" transform=\"translate(22.81375 105.34657)scale(0.11 -0.11)\">\n       <use xlink:href=\"#DejaVuSans-30\"/>\n       <use xlink:href=\"#DejaVuSans-2e\" x=\"63.623047\"/>\n       <use xlink:href=\"#DejaVuSans-37\" x=\"95.410156\"/>\n       <use xlink:href=\"#DejaVuSans-35\" x=\"159.033203\"/>\n       <use xlink:href=\"#DejaVuSans-30\" x=\"222.65625\"/>\n      </g>\n     </g>\n    </g>\n    <g id=\"ytick_7\">\n     <g id=\"line2d_13\">\n      <path d=\"M 63.804688 74.508941 \nL 398.604688 74.508941 \n\" clip-path=\"url(#pd06b6b4096)\" style=\"fill: none; stroke: #ffffff; stroke-linecap: round\"/>\n     </g>\n     <g id=\"text_14\">\n      <!-- 0.775 -->\n      <g style=\"fill: #262626\" transform=\"translate(22.81375 78.688082)scale(0.11 -0.11)\">\n       <use xlink:href=\"#DejaVuSans-30\"/>\n       <use xlink:href=\"#DejaVuSans-2e\" x=\"63.623047\"/>\n       <use xlink:href=\"#DejaVuSans-37\" x=\"95.410156\"/>\n       <use xlink:href=\"#DejaVuSans-37\" x=\"159.033203\"/>\n       <use xlink:href=\"#DejaVuSans-35\" x=\"222.65625\"/>\n      </g>\n     </g>\n    </g>\n    <g id=\"ytick_8\">\n     <g id=\"line2d_14\">\n      <path d=\"M 63.804688 47.850453 \nL 398.604688 47.850453 \n\" clip-path=\"url(#pd06b6b4096)\" style=\"fill: none; stroke: #ffffff; stroke-linecap: round\"/>\n     </g>\n     <g id=\"text_15\">\n      <!-- 0.800 -->\n      <g style=\"fill: #262626\" transform=\"translate(22.81375 52.029594)scale(0.11 -0.11)\">\n       <defs>\n        <path id=\"DejaVuSans-38\" d=\"M 2034 2216 \nQ 1584 2216 1326 1975 \nQ 1069 1734 1069 1313 \nQ 1069 891 1326 650 \nQ 1584 409 2034 409 \nQ 2484 409 2743 651 \nQ 3003 894 3003 1313 \nQ 3003 1734 2745 1975 \nQ 2488 2216 2034 2216 \nz\nM 1403 2484 \nQ 997 2584 770 2862 \nQ 544 3141 544 3541 \nQ 544 4100 942 4425 \nQ 1341 4750 2034 4750 \nQ 2731 4750 3128 4425 \nQ 3525 4100 3525 3541 \nQ 3525 3141 3298 2862 \nQ 3072 2584 2669 2484 \nQ 3125 2378 3379 2068 \nQ 3634 1759 3634 1313 \nQ 3634 634 3220 271 \nQ 2806 -91 2034 -91 \nQ 1263 -91 848 271 \nQ 434 634 434 1313 \nQ 434 1759 690 2068 \nQ 947 2378 1403 2484 \nz\nM 1172 3481 \nQ 1172 3119 1398 2916 \nQ 1625 2713 2034 2713 \nQ 2441 2713 2670 2916 \nQ 2900 3119 2900 3481 \nQ 2900 3844 2670 4047 \nQ 2441 4250 2034 4250 \nQ 1625 4250 1398 4047 \nQ 1172 3844 1172 3481 \nz\n\" transform=\"scale(0.015625)\"/>\n       </defs>\n       <use xlink:href=\"#DejaVuSans-30\"/>\n       <use xlink:href=\"#DejaVuSans-2e\" x=\"63.623047\"/>\n       <use xlink:href=\"#DejaVuSans-38\" x=\"95.410156\"/>\n       <use xlink:href=\"#DejaVuSans-30\" x=\"159.033203\"/>\n       <use xlink:href=\"#DejaVuSans-30\" x=\"222.65625\"/>\n      </g>\n     </g>\n    </g>\n    <g id=\"text_16\">\n     <!-- Test accuracy -->\n     <g style=\"fill: #262626\" transform=\"translate(16.318125 173.350313)rotate(-90)scale(0.12 -0.12)\">\n      <defs>\n       <path id=\"DejaVuSans-54\" d=\"M -19 4666 \nL 3928 4666 \nL 3928 4134 \nL 2272 4134 \nL 2272 0 \nL 1638 0 \nL 1638 4134 \nL -19 4134 \nL -19 4666 \nz\n\" transform=\"scale(0.015625)\"/>\n       <path id=\"DejaVuSans-74\" d=\"M 1172 4494 \nL 1172 3500 \nL 2356 3500 \nL 2356 3053 \nL 1172 3053 \nL 1172 1153 \nQ 1172 725 1289 603 \nQ 1406 481 1766 481 \nL 2356 481 \nL 2356 0 \nL 1766 0 \nQ 1100 0 847 248 \nQ 594 497 594 1153 \nL 594 3053 \nL 172 3053 \nL 172 3500 \nL 594 3500 \nL 594 4494 \nL 1172 4494 \nz\n\" transform=\"scale(0.015625)\"/>\n       <path id=\"DejaVuSans-79\" d=\"M 2059 -325 \nQ 1816 -950 1584 -1140 \nQ 1353 -1331 966 -1331 \nL 506 -1331 \nL 506 -850 \nL 844 -850 \nQ 1081 -850 1212 -737 \nQ 1344 -625 1503 -206 \nL 1606 56 \nL 191 3500 \nL 800 3500 \nL 1894 763 \nL 2988 3500 \nL 3597 3500 \nL 2059 -325 \nz\n\" transform=\"scale(0.015625)\"/>\n      </defs>\n      <use xlink:href=\"#DejaVuSans-54\"/>\n      <use xlink:href=\"#DejaVuSans-65\" x=\"44.083984\"/>\n      <use xlink:href=\"#DejaVuSans-73\" x=\"105.607422\"/>\n      <use xlink:href=\"#DejaVuSans-74\" x=\"157.707031\"/>\n      <use xlink:href=\"#DejaVuSans-20\" x=\"196.916016\"/>\n      <use xlink:href=\"#DejaVuSans-61\" x=\"228.703125\"/>\n      <use xlink:href=\"#DejaVuSans-63\" x=\"289.982422\"/>\n      <use xlink:href=\"#DejaVuSans-63\" x=\"344.962891\"/>\n      <use xlink:href=\"#DejaVuSans-75\" x=\"399.943359\"/>\n      <use xlink:href=\"#DejaVuSans-72\" x=\"463.322266\"/>\n      <use xlink:href=\"#DejaVuSans-61\" x=\"504.435547\"/>\n      <use xlink:href=\"#DejaVuSans-63\" x=\"565.714844\"/>\n      <use xlink:href=\"#DejaVuSans-79\" x=\"620.695312\"/>\n     </g>\n    </g>\n   </g>\n   <g id=\"line2d_15\">\n    <path d=\"M 79.022869 231.394176 \nL 132.951181 169.413171 \nL 204.240532 107.1656 \nL 258.168843 77.707944 \nL 312.097155 57.847412 \nL 383.386506 33.721449 \n\" clip-path=\"url(#pd06b6b4096)\" style=\"fill: none; stroke-dasharray: 5.55,2.4; stroke-dashoffset: 0; stroke: #000000; stroke-width: 1.5\"/>\n    <defs>\n     <path id=\"m26926ac300\" d=\"M 0 -8 \nL -1.796112 -2.472136 \nL -7.608452 -2.472136 \nL -2.90617 0.944272 \nL -4.702282 6.472136 \nL -0 3.055728 \nL 4.702282 6.472136 \nL 2.90617 0.944272 \nL 7.608452 -2.472136 \nL 1.796112 -2.472136 \nz\n\" style=\"stroke: #000000; stroke-linejoin: bevel\"/>\n    </defs>\n    <g clip-path=\"url(#pd06b6b4096)\">\n     <use xlink:href=\"#m26926ac300\" x=\"79.022869\" y=\"231.394176\" style=\"fill: #ccb974; stroke: #000000; stroke-linejoin: bevel\"/>\n     <use xlink:href=\"#m26926ac300\" x=\"132.951181\" y=\"169.413171\" style=\"fill: #ccb974; stroke: #000000; stroke-linejoin: bevel\"/>\n     <use xlink:href=\"#m26926ac300\" x=\"204.240532\" y=\"107.1656\" style=\"fill: #ccb974; stroke: #000000; stroke-linejoin: bevel\"/>\n     <use xlink:href=\"#m26926ac300\" x=\"258.168843\" y=\"77.707944\" style=\"fill: #ccb974; stroke: #000000; stroke-linejoin: bevel\"/>\n     <use xlink:href=\"#m26926ac300\" x=\"312.097155\" y=\"57.847412\" style=\"fill: #ccb974; stroke: #000000; stroke-linejoin: bevel\"/>\n     <use xlink:href=\"#m26926ac300\" x=\"383.386506\" y=\"33.721449\" style=\"fill: #ccb974; stroke: #000000; stroke-linejoin: bevel\"/>\n    </g>\n   </g>\n   <g id=\"patch_3\">\n    <path d=\"M 63.804688 241.277813 \nL 63.804688 23.837813 \n\" style=\"fill: none; stroke: #ffffff; stroke-width: 1.25; stroke-linejoin: miter; stroke-linecap: square\"/>\n   </g>\n   <g id=\"patch_4\">\n    <path d=\"M 398.604688 241.277813 \nL 398.604688 23.837813 \n\" style=\"fill: none; stroke: #ffffff; stroke-width: 1.25; stroke-linejoin: miter; stroke-linecap: square\"/>\n   </g>\n   <g id=\"patch_5\">\n    <path d=\"M 63.804688 241.277813 \nL 398.604688 241.277813 \n\" style=\"fill: none; stroke: #ffffff; stroke-width: 1.25; stroke-linejoin: miter; stroke-linecap: square\"/>\n   </g>\n   <g id=\"patch_6\">\n    <path d=\"M 63.804688 23.837812 \nL 398.604688 23.837812 \n\" style=\"fill: none; stroke: #ffffff; stroke-width: 1.25; stroke-linejoin: miter; stroke-linecap: square\"/>\n   </g>\n   <g id=\"text_17\">\n    <!-- STL10 classification over dataset size -->\n    <g style=\"fill: #262626\" transform=\"translate(99.852969 17.837812)scale(0.14 -0.14)\">\n     <defs>\n      <path id=\"DejaVuSans-53\" d=\"M 3425 4513 \nL 3425 3897 \nQ 3066 4069 2747 4153 \nQ 2428 4238 2131 4238 \nQ 1616 4238 1336 4038 \nQ 1056 3838 1056 3469 \nQ 1056 3159 1242 3001 \nQ 1428 2844 1947 2747 \nL 2328 2669 \nQ 3034 2534 3370 2195 \nQ 3706 1856 3706 1288 \nQ 3706 609 3251 259 \nQ 2797 -91 1919 -91 \nQ 1588 -91 1214 -16 \nQ 841 59 441 206 \nL 441 856 \nQ 825 641 1194 531 \nQ 1563 422 1919 422 \nQ 2459 422 2753 634 \nQ 3047 847 3047 1241 \nQ 3047 1584 2836 1778 \nQ 2625 1972 2144 2069 \nL 1759 2144 \nQ 1053 2284 737 2584 \nQ 422 2884 422 3419 \nQ 422 4038 858 4394 \nQ 1294 4750 2059 4750 \nQ 2388 4750 2728 4690 \nQ 3069 4631 3425 4513 \nz\n\" transform=\"scale(0.015625)\"/>\n      <path id=\"DejaVuSans-4c\" d=\"M 628 4666 \nL 1259 4666 \nL 1259 531 \nL 3531 531 \nL 3531 0 \nL 628 0 \nL 628 4666 \nz\n\" transform=\"scale(0.015625)\"/>\n      <path id=\"DejaVuSans-6e\" d=\"M 3513 2113 \nL 3513 0 \nL 2938 0 \nL 2938 2094 \nQ 2938 2591 2744 2837 \nQ 2550 3084 2163 3084 \nQ 1697 3084 1428 2787 \nQ 1159 2491 1159 1978 \nL 1159 0 \nL 581 0 \nL 581 3500 \nL 1159 3500 \nL 1159 2956 \nQ 1366 3272 1645 3428 \nQ 1925 3584 2291 3584 \nQ 2894 3584 3203 3211 \nQ 3513 2838 3513 2113 \nz\n\" transform=\"scale(0.015625)\"/>\n      <path id=\"DejaVuSans-76\" d=\"M 191 3500 \nL 800 3500 \nL 1894 563 \nL 2988 3500 \nL 3597 3500 \nL 2284 0 \nL 1503 0 \nL 191 3500 \nz\n\" transform=\"scale(0.015625)\"/>\n      <path id=\"DejaVuSans-64\" d=\"M 2906 2969 \nL 2906 4863 \nL 3481 4863 \nL 3481 0 \nL 2906 0 \nL 2906 525 \nQ 2725 213 2448 61 \nQ 2172 -91 1784 -91 \nQ 1150 -91 751 415 \nQ 353 922 353 1747 \nQ 353 2572 751 3078 \nQ 1150 3584 1784 3584 \nQ 2172 3584 2448 3432 \nQ 2725 3281 2906 2969 \nz\nM 947 1747 \nQ 947 1113 1208 752 \nQ 1469 391 1925 391 \nQ 2381 391 2643 752 \nQ 2906 1113 2906 1747 \nQ 2906 2381 2643 2742 \nQ 2381 3103 1925 3103 \nQ 1469 3103 1208 2742 \nQ 947 2381 947 1747 \nz\n\" transform=\"scale(0.015625)\"/>\n      <path id=\"DejaVuSans-7a\" d=\"M 353 3500 \nL 3084 3500 \nL 3084 2975 \nL 922 459 \nL 3084 459 \nL 3084 0 \nL 275 0 \nL 275 525 \nL 2438 3041 \nL 353 3041 \nL 353 3500 \nz\n\" transform=\"scale(0.015625)\"/>\n     </defs>\n     <use xlink:href=\"#DejaVuSans-53\"/>\n     <use xlink:href=\"#DejaVuSans-54\" x=\"63.476562\"/>\n     <use xlink:href=\"#DejaVuSans-4c\" x=\"124.560547\"/>\n     <use xlink:href=\"#DejaVuSans-31\" x=\"180.273438\"/>\n     <use xlink:href=\"#DejaVuSans-30\" x=\"243.896484\"/>\n     <use xlink:href=\"#DejaVuSans-20\" x=\"307.519531\"/>\n     <use xlink:href=\"#DejaVuSans-63\" x=\"339.306641\"/>\n     <use xlink:href=\"#DejaVuSans-6c\" x=\"394.287109\"/>\n     <use xlink:href=\"#DejaVuSans-61\" x=\"422.070312\"/>\n     <use xlink:href=\"#DejaVuSans-73\" x=\"483.349609\"/>\n     <use xlink:href=\"#DejaVuSans-73\" x=\"535.449219\"/>\n     <use xlink:href=\"#DejaVuSans-69\" x=\"587.548828\"/>\n     <use xlink:href=\"#DejaVuSans-66\" x=\"615.332031\"/>\n     <use xlink:href=\"#DejaVuSans-69\" x=\"650.537109\"/>\n     <use xlink:href=\"#DejaVuSans-63\" x=\"678.320312\"/>\n     <use xlink:href=\"#DejaVuSans-61\" x=\"733.300781\"/>\n     <use xlink:href=\"#DejaVuSans-74\" x=\"794.580078\"/>\n     <use xlink:href=\"#DejaVuSans-69\" x=\"833.789062\"/>\n     <use xlink:href=\"#DejaVuSans-6f\" x=\"861.572266\"/>\n     <use xlink:href=\"#DejaVuSans-6e\" x=\"922.753906\"/>\n     <use xlink:href=\"#DejaVuSans-20\" x=\"986.132812\"/>\n     <use xlink:href=\"#DejaVuSans-6f\" x=\"1017.919922\"/>\n     <use xlink:href=\"#DejaVuSans-76\" x=\"1079.101562\"/>\n     <use xlink:href=\"#DejaVuSans-65\" x=\"1138.28125\"/>\n     <use xlink:href=\"#DejaVuSans-72\" x=\"1199.804688\"/>\n     <use xlink:href=\"#DejaVuSans-20\" x=\"1240.917969\"/>\n     <use xlink:href=\"#DejaVuSans-64\" x=\"1272.705078\"/>\n     <use xlink:href=\"#DejaVuSans-61\" x=\"1336.181641\"/>\n     <use xlink:href=\"#DejaVuSans-74\" x=\"1397.460938\"/>\n     <use xlink:href=\"#DejaVuSans-61\" x=\"1436.669922\"/>\n     <use xlink:href=\"#DejaVuSans-73\" x=\"1497.949219\"/>\n     <use xlink:href=\"#DejaVuSans-65\" x=\"1550.048828\"/>\n     <use xlink:href=\"#DejaVuSans-74\" x=\"1611.572266\"/>\n     <use xlink:href=\"#DejaVuSans-20\" x=\"1650.78125\"/>\n     <use xlink:href=\"#DejaVuSans-73\" x=\"1682.568359\"/>\n     <use xlink:href=\"#DejaVuSans-69\" x=\"1734.667969\"/>\n     <use xlink:href=\"#DejaVuSans-7a\" x=\"1762.451172\"/>\n     <use xlink:href=\"#DejaVuSans-65\" x=\"1814.941406\"/>\n    </g>\n   </g>\n  </g>\n </g>\n <defs>\n  <clipPath id=\"pd06b6b4096\">\n   <rect x=\"63.804688\" y=\"23.837812\" width=\"334.8\" height=\"217.44\"/>\n  </clipPath>\n </defs>\n</svg>\n"
          },
          "metadata": {}
        },
        {
          "output_type": "stream",
          "name": "stdout",
          "text": [
            "Test accuracy for  10 images per label: 62.79%\n",
            "Test accuracy for  20 images per label: 68.60%\n",
            "Test accuracy for  50 images per label: 74.44%\n",
            "Test accuracy for 100 images per label: 77.20%\n",
            "Test accuracy for 200 images per label: 79.06%\n",
            "Test accuracy for 500 images per label: 81.33%\n"
          ]
        }
      ],
      "source": [
        "dataset_sizes = sorted(k for k in results)\n",
        "test_scores = [results[k][\"test\"] for k in dataset_sizes]\n",
        "\n",
        "fig = plt.figure(figsize=(6, 4))\n",
        "plt.plot(\n",
        "    dataset_sizes,\n",
        "    test_scores,\n",
        "    \"--\",\n",
        "    color=\"#000\",\n",
        "    marker=\"*\",\n",
        "    markeredgecolor=\"#000\",\n",
        "    markerfacecolor=\"y\",\n",
        "    markersize=16,\n",
        ")\n",
        "plt.xscale(\"log\")\n",
        "plt.xticks(dataset_sizes, labels=dataset_sizes)\n",
        "plt.title(\"STL10 classification over dataset size\", fontsize=14)\n",
        "plt.xlabel(\"Number of images per class\")\n",
        "plt.ylabel(\"Test accuracy\")\n",
        "plt.minorticks_off()\n",
        "plt.show()\n",
        "\n",
        "for k, score in zip(dataset_sizes, test_scores):\n",
        "    print(f\"Test accuracy for {k:3d} images per label: {100*score:4.2f}%\")"
      ]
    },
    {
      "cell_type": "markdown",
      "id": "e6cb0f66",
      "metadata": {
        "papermill": {
          "duration": 0.049197,
          "end_time": "2021-10-10T16:42:16.746998",
          "exception": false,
          "start_time": "2021-10-10T16:42:16.697801",
          "status": "completed"
        },
        "tags": [],
        "id": "e6cb0f66"
      },
      "source": [
        "As one would expect, the classification performance improves the more data we have.\n",
        "However, with only 10 images per class, we can already classify more than 60% of the images correctly.\n",
        "This is quite impressive, considering that the images are also higher dimensional than e.g. CIFAR10.\n",
        "With the full dataset, we achieve an accuracy of 81%.\n",
        "The increase between 50 to 500 images per class might suggest a linear increase in performance with an exponentially larger dataset.\n",
        "However, with even more data, we could also finetune $f(\\cdot)$ in the training process, allowing for the representations to adapt more to the specific classification task given.\n",
        "\n",
        "To set the results above into perspective, we will train the base\n",
        "network, a ResNet-18, on the classification task from scratch."
      ]
    },
    {
      "cell_type": "markdown",
      "id": "237fe863",
      "metadata": {
        "lines_to_next_cell": 2,
        "papermill": {
          "duration": 0.048695,
          "end_time": "2021-10-10T16:42:16.844984",
          "exception": false,
          "start_time": "2021-10-10T16:42:16.796289",
          "status": "completed"
        },
        "tags": [],
        "id": "237fe863"
      },
      "source": [
        "## Baseline\n",
        "\n",
        "As a baseline to our results above, we will train a standard ResNet-18 with random initialization on the labeled training set of STL10.\n",
        "The results will give us an indication of the advantages that contrastive learning on unlabeled data has compared to using only supervised training.\n",
        "The implementation of the model is straightforward since the ResNet\n",
        "architecture is provided in the torchvision library."
      ]
    },
    {
      "cell_type": "code",
      "execution_count": 20,
      "id": "201725a2",
      "metadata": {
        "execution": {
          "iopub.execute_input": "2021-10-10T16:42:16.952607Z",
          "iopub.status.busy": "2021-10-10T16:42:16.952127Z",
          "iopub.status.idle": "2021-10-10T16:42:16.954345Z",
          "shell.execute_reply": "2021-10-10T16:42:16.953881Z"
        },
        "papermill": {
          "duration": 0.059107,
          "end_time": "2021-10-10T16:42:16.954448",
          "exception": false,
          "start_time": "2021-10-10T16:42:16.895341",
          "status": "completed"
        },
        "tags": [],
        "id": "201725a2"
      },
      "outputs": [],
      "source": [
        "class ResNet(pl.LightningModule):\n",
        "    def __init__(self, num_classes, lr, weight_decay, max_epochs=100):\n",
        "        super().__init__()\n",
        "        self.save_hyperparameters()\n",
        "        self.model = torchvision.models.resnet18(pretrained=False, num_classes=num_classes)\n",
        "\n",
        "    def configure_optimizers(self):\n",
        "        optimizer = optim.AdamW(self.parameters(), lr=self.hparams.lr, weight_decay=self.hparams.weight_decay)\n",
        "        lr_scheduler = optim.lr_scheduler.MultiStepLR(\n",
        "            optimizer, milestones=[int(self.hparams.max_epochs * 0.7), int(self.hparams.max_epochs * 0.9)], gamma=0.1\n",
        "        )\n",
        "        return [optimizer], [lr_scheduler]\n",
        "\n",
        "    def _calculate_loss(self, batch, mode=\"train\"):\n",
        "        imgs, labels = batch\n",
        "        preds = self.model(imgs)\n",
        "        loss = F.cross_entropy(preds, labels)\n",
        "        acc = (preds.argmax(dim=-1) == labels).float().mean()\n",
        "\n",
        "        self.log(mode + \"_loss\", loss)\n",
        "        self.log(mode + \"_acc\", acc)\n",
        "        return loss\n",
        "\n",
        "    def training_step(self, batch, batch_idx):\n",
        "        return self._calculate_loss(batch, mode=\"train\")\n",
        "\n",
        "    def validation_step(self, batch, batch_idx):\n",
        "        self._calculate_loss(batch, mode=\"val\")\n",
        "\n",
        "    def test_step(self, batch, batch_idx):\n",
        "        self._calculate_loss(batch, mode=\"test\")"
      ]
    },
    {
      "cell_type": "markdown",
      "id": "e6fe14f2",
      "metadata": {
        "papermill": {
          "duration": 0.049585,
          "end_time": "2021-10-10T16:42:17.052720",
          "exception": false,
          "start_time": "2021-10-10T16:42:17.003135",
          "status": "completed"
        },
        "tags": [],
        "id": "e6fe14f2"
      },
      "source": [
        "It is clear that the ResNet easily overfits on the training data since its parameter count is more than 1000 times larger than the dataset size.\n",
        "To make the comparison to the contrastive learning models fair, we apply data augmentations similar to the ones we used before: horizontal flip, crop-and-resize, grayscale, and gaussian blur.\n",
        "Color distortions as before are not used because the color distribution of an image showed to be an important feature for the classification.\n",
        "Hence, we observed no noticeable performance gains when adding color distortions to the set of augmentations.\n",
        "Similarly, we restrict the resizing operation before cropping to the max.\n",
        "125% of its original resolution, instead of 1250% as done in SimCLR.\n",
        "This is because, for classification, the model needs to recognize the full object, while in contrastive learning, we only want to check whether two patches belong to the same image/object.\n",
        "Hence, the chosen augmentations below are overall weaker than in the contrastive learning case."
      ]
    },
    {
      "cell_type": "code",
      "execution_count": 21,
      "id": "3c7c2020",
      "metadata": {
        "execution": {
          "iopub.execute_input": "2021-10-10T16:42:17.163394Z",
          "iopub.status.busy": "2021-10-10T16:42:17.162926Z",
          "iopub.status.idle": "2021-10-10T16:42:22.652111Z",
          "shell.execute_reply": "2021-10-10T16:42:22.652505Z"
        },
        "papermill": {
          "duration": 5.551414,
          "end_time": "2021-10-10T16:42:22.652657",
          "exception": false,
          "start_time": "2021-10-10T16:42:17.101243",
          "status": "completed"
        },
        "tags": [],
        "id": "3c7c2020",
        "outputId": "b2c222f8-9d6e-4c9f-c5c9-77c6c3c89bc9",
        "colab": {
          "base_uri": "https://localhost:8080/"
        }
      },
      "outputs": [
        {
          "output_type": "stream",
          "name": "stdout",
          "text": [
            "Files already downloaded and verified\n"
          ]
        }
      ],
      "source": [
        "train_transforms = transforms.Compose(\n",
        "    [\n",
        "        transforms.RandomHorizontalFlip(),\n",
        "        transforms.RandomResizedCrop(size=96, scale=(0.8, 1.0)),\n",
        "        transforms.RandomGrayscale(p=0.2),\n",
        "        transforms.GaussianBlur(kernel_size=9, sigma=(0.1, 0.5)),\n",
        "        transforms.ToTensor(),\n",
        "        transforms.Normalize((0.5,), (0.5,)),\n",
        "    ]\n",
        ")\n",
        "\n",
        "train_img_aug_data = STL10(root=DATASET_PATH, split=\"train\", download=True, transform=train_transforms)"
      ]
    },
    {
      "cell_type": "markdown",
      "id": "318c1f64",
      "metadata": {
        "lines_to_next_cell": 2,
        "papermill": {
          "duration": 0.053189,
          "end_time": "2021-10-10T16:42:22.755918",
          "exception": false,
          "start_time": "2021-10-10T16:42:22.702729",
          "status": "completed"
        },
        "tags": [],
        "id": "318c1f64"
      },
      "source": [
        "The training function for the ResNet is almost identical to the Logistic Regression setup.\n",
        "Note that we allow the ResNet to perform validation every 2 epochs to\n",
        "also check whether the model overfits strongly in the first iterations\n",
        "or not."
      ]
    },
    {
      "cell_type": "code",
      "execution_count": 22,
      "id": "9f4db9de",
      "metadata": {
        "execution": {
          "iopub.execute_input": "2021-10-10T16:42:22.863515Z",
          "iopub.status.busy": "2021-10-10T16:42:22.862996Z",
          "iopub.status.idle": "2021-10-10T16:42:22.865112Z",
          "shell.execute_reply": "2021-10-10T16:42:22.864714Z"
        },
        "papermill": {
          "duration": 0.059991,
          "end_time": "2021-10-10T16:42:22.865213",
          "exception": false,
          "start_time": "2021-10-10T16:42:22.805222",
          "status": "completed"
        },
        "tags": [],
        "id": "9f4db9de"
      },
      "outputs": [],
      "source": [
        "def train_resnet(batch_size, max_epochs=100, **kwargs):\n",
        "    trainer = pl.Trainer(\n",
        "        default_root_dir=os.path.join(CHECKPOINT_PATH, \"ResNet\"),\n",
        "        gpus=1 if str(device) == \"cuda:0\" else 0,\n",
        "        max_epochs=max_epochs,\n",
        "        callbacks=[\n",
        "            ModelCheckpoint(save_weights_only=True, mode=\"max\", monitor=\"val_acc\"),\n",
        "            LearningRateMonitor(\"epoch\"),\n",
        "        ],\n",
        "        progress_bar_refresh_rate=1,\n",
        "        check_val_every_n_epoch=2,\n",
        "    )\n",
        "    trainer.logger._default_hp_metric = None\n",
        "\n",
        "    # Data loaders\n",
        "    train_loader = data.DataLoader(\n",
        "        train_img_aug_data,\n",
        "        batch_size=batch_size,\n",
        "        shuffle=True,\n",
        "        drop_last=True,\n",
        "        pin_memory=True,\n",
        "        num_workers=NUM_WORKERS,\n",
        "    )\n",
        "    test_loader = data.DataLoader(\n",
        "        test_img_data, batch_size=batch_size, shuffle=False, drop_last=False, pin_memory=True, num_workers=NUM_WORKERS\n",
        "    )\n",
        "\n",
        "    # Check whether pretrained model exists. If yes, load it and skip training\n",
        "    pretrained_filename = os.path.join(CHECKPOINT_PATH, \"ResNet.ckpt\")\n",
        "    if os.path.isfile(pretrained_filename):\n",
        "        print(\"Found pretrained model at %s, loading...\" % pretrained_filename)\n",
        "        model = ResNet.load_from_checkpoint(pretrained_filename)\n",
        "    else:\n",
        "        pl.seed_everything(42)  # To be reproducable\n",
        "        model = ResNet(**kwargs)\n",
        "        trainer.fit(model, train_loader, test_loader)\n",
        "        model = ResNet.load_from_checkpoint(trainer.checkpoint_callback.best_model_path)\n",
        "\n",
        "    # Test best model on validation set\n",
        "    train_result = trainer.test(model, test_dataloaders=train_loader, verbose=False)\n",
        "    val_result = trainer.test(model, test_dataloaders=test_loader, verbose=False)\n",
        "    result = {\"train\": train_result[0][\"test_acc\"], \"test\": val_result[0][\"test_acc\"]}\n",
        "\n",
        "    return model, result"
      ]
    },
    {
      "cell_type": "markdown",
      "id": "f3781014",
      "metadata": {
        "papermill": {
          "duration": 0.049896,
          "end_time": "2021-10-10T16:42:22.965127",
          "exception": false,
          "start_time": "2021-10-10T16:42:22.915231",
          "status": "completed"
        },
        "tags": [],
        "id": "f3781014"
      },
      "source": [
        "Finally, let's train the model and check its results:"
      ]
    },
    {
      "cell_type": "code",
      "execution_count": 23,
      "id": "4f4caab0",
      "metadata": {
        "execution": {
          "iopub.execute_input": "2021-10-10T16:42:23.068310Z",
          "iopub.status.busy": "2021-10-10T16:42:23.066889Z",
          "iopub.status.idle": "2021-10-10T16:42:27.618125Z",
          "shell.execute_reply": "2021-10-10T16:42:27.618532Z"
        },
        "papermill": {
          "duration": 4.604524,
          "end_time": "2021-10-10T16:42:27.618678",
          "exception": false,
          "start_time": "2021-10-10T16:42:23.014154",
          "status": "completed"
        },
        "tags": [],
        "id": "4f4caab0",
        "outputId": "284fa636-84cf-45e3-fc7c-ef5a17a58fec",
        "colab": {
          "base_uri": "https://localhost:8080/",
          "height": 374,
          "referenced_widgets": [
            "cf23e91e41604ce9a68a956b1737ae10",
            "116bce5f37d84cf98971afe7ee416e5f",
            "f77ba8a5ffb14e1ab8825f8d31332244",
            "11982b7b1ec146319f89ab1ddc358d0b",
            "fcd7e7b100594ff19a3e948240d44eff",
            "e89718cdfb0845e29555fbbbf27aeaea",
            "0b35bd4a2fd347678080ad45e7adb8f1",
            "68ac43de9a434837b817eccb524b8f11",
            "175da4e02d1d4a849fb6572064cfa0c7",
            "e4101dec421c43c6afa7b7e5ec3b0036",
            "0aef990a6d934433b7094ed4d3d80520",
            "60299900c065487192d580edc98f8778",
            "a114c61d71964129a754fcfbbb349803",
            "8e298cf163684af5b35925f5379bb69a",
            "5826873116e74fabb1aee35f4e13bf49",
            "b102acbcd4c24242ab2574db70b5a7eb",
            "bae3079fe09e49d4a5a5b9ca3fd74f06",
            "284983ccf3cf4ac6bb28cddd67d8531d",
            "c5fc455ee5fb4dd5bfe617bb0375f726",
            "757ef6ab57bc47d7ba6375516d2c19e3",
            "72641284e2b9420eba8608c4fd60a2a1",
            "bc5062ed197e4e4fb14a8726a27282f5"
          ]
        }
      },
      "outputs": [
        {
          "output_type": "stream",
          "name": "stderr",
          "text": [
            "/usr/local/lib/python3.7/dist-packages/pytorch_lightning/trainer/connectors/callback_connector.py:91: LightningDeprecationWarning: Setting `Trainer(progress_bar_refresh_rate=1)` is deprecated in v1.5 and will be removed in v1.7. Please pass `pytorch_lightning.callbacks.progress.TQDMProgressBar` with `refresh_rate` directly to the Trainer's `callbacks` argument instead. Or, to disable the progress bar pass `enable_progress_bar = False` to the Trainer.\n",
            "  f\"Setting `Trainer(progress_bar_refresh_rate={progress_bar_refresh_rate})` is deprecated in v1.5 and\"\n",
            "GPU available: True, used: True\n",
            "TPU available: False, using: 0 TPU cores\n",
            "IPU available: False, using: 0 IPUs\n"
          ]
        },
        {
          "output_type": "stream",
          "name": "stdout",
          "text": [
            "Found pretrained model at saved_models/ContrastiveLearning/ResNet.ckpt, loading...\n"
          ]
        },
        {
          "output_type": "stream",
          "name": "stderr",
          "text": [
            "/usr/local/lib/python3.7/dist-packages/pytorch_lightning/trainer/trainer.py:903: LightningDeprecationWarning: `trainer.test(test_dataloaders)` is deprecated in v1.4 and will be removed in v1.6. Use `trainer.test(dataloaders)` instead.\n",
            "  \"`trainer.test(test_dataloaders)` is deprecated in v1.4 and will be removed in v1.6.\"\n",
            "LOCAL_RANK: 0 - CUDA_VISIBLE_DEVICES: [0]\n",
            "Missing logger folder: saved_models/ContrastiveLearning/ResNet/lightning_logs\n",
            "/usr/local/lib/python3.7/dist-packages/pytorch_lightning/trainer/data_loading.py:636: UserWarning: Your `test_dataloader` has `shuffle=True`, it is strongly recommended that you turn this off for val/test/predict dataloaders.\n",
            "  category=UserWarning,\n"
          ]
        },
        {
          "output_type": "display_data",
          "data": {
            "application/vnd.jupyter.widget-view+json": {
              "model_id": "cf23e91e41604ce9a68a956b1737ae10",
              "version_minor": 0,
              "version_major": 2
            },
            "text/plain": [
              "Testing: 0it [00:00, ?it/s]"
            ]
          },
          "metadata": {}
        },
        {
          "output_type": "stream",
          "name": "stderr",
          "text": [
            "LOCAL_RANK: 0 - CUDA_VISIBLE_DEVICES: [0]\n"
          ]
        },
        {
          "output_type": "display_data",
          "data": {
            "application/vnd.jupyter.widget-view+json": {
              "model_id": "60299900c065487192d580edc98f8778",
              "version_minor": 0,
              "version_major": 2
            },
            "text/plain": [
              "Testing: 0it [00:00, ?it/s]"
            ]
          },
          "metadata": {}
        },
        {
          "output_type": "stream",
          "name": "stdout",
          "text": [
            "Accuracy on training set: 99.82%\n",
            "Accuracy on test set: 73.31%\n"
          ]
        }
      ],
      "source": [
        "resnet_model, resnet_result = train_resnet(batch_size=64, num_classes=10, lr=1e-3, weight_decay=2e-4, max_epochs=100)\n",
        "print(f\"Accuracy on training set: {100*resnet_result['train']:4.2f}%\")\n",
        "print(f\"Accuracy on test set: {100*resnet_result['test']:4.2f}%\")"
      ]
    },
    {
      "cell_type": "markdown",
      "id": "a98707ed",
      "metadata": {
        "papermill": {
          "duration": 0.05204,
          "end_time": "2021-10-10T16:42:27.724471",
          "exception": false,
          "start_time": "2021-10-10T16:42:27.672431",
          "status": "completed"
        },
        "tags": [],
        "id": "a98707ed"
      },
      "source": [
        "The ResNet trained from scratch achieves 73.31% on the test set.\n",
        "This is almost 8% less than the contrastive learning model, and even slightly less than SimCLR achieves with 1/10 of the data.\n",
        "This shows that self-supervised, contrastive learning provides\n",
        "considerable performance gains by leveraging large amounts of unlabeled\n",
        "data when little labeled data is available."
      ]
    },
    {
      "cell_type": "markdown",
      "id": "333d9e8c",
      "metadata": {
        "papermill": {
          "duration": 0.051935,
          "end_time": "2021-10-10T16:42:27.828975",
          "exception": false,
          "start_time": "2021-10-10T16:42:27.777040",
          "status": "completed"
        },
        "tags": [],
        "id": "333d9e8c"
      },
      "source": [
        "## Conclusion\n",
        "\n",
        "In this tutorial, we have discussed self-supervised contrastive learning and implemented SimCLR as an example method.\n",
        "We have applied it to the STL10 dataset and showed that it can learn generalizable representations that we can use to train simple classification models.\n",
        "With 500 images per label, it achieved an 8% higher accuracy than a similar model solely trained from supervision and performs on par with it when only using a tenth of the labeled data.\n",
        "Our experimental results are limited to a single dataset, but recent works such as [Ting Chen et al. ](https://arxiv.org/abs/2006.10029) showed similar trends for larger datasets like ImageNet.\n",
        "Besides the discussed hyperparameters, the size of the model seems to be important in contrastive learning as well.\n",
        "If a lot of unlabeled data is available, larger models can achieve much stronger results and come close to their supervised baselines.\n",
        "Further, there are also approaches for combining contrastive and supervised learning, leading to performance gains beyond supervision (see [Khosla et al.](https://arxiv.org/abs/2004.11362)).\n",
        "Moreover, contrastive learning is not the only approach to self-supervised learning that has come up in the last two years and showed great results.\n",
        "Other methods include distillation-based methods like [BYOL](https://arxiv.org/abs/2006.07733) and redundancy reduction techniques like [Barlow Twins](https://arxiv.org/abs/2103.03230).\n",
        "There is a lot more to explore in the self-supervised domain, and more, impressive steps ahead are to be expected.\n",
        "\n",
        "### References\n",
        "\n",
        "[1] Chen, T., Kornblith, S., Norouzi, M., and Hinton, G. (2020).\n",
        "A simple framework for contrastive learning of visual representations.\n",
        "In International conference on machine learning (pp.\n",
        "1597-1607).\n",
        "PMLR.\n",
        "([link](https://arxiv.org/abs/2002.05709))\n",
        "\n",
        "[2] Chen, T., Kornblith, S., Swersky, K., Norouzi, M., and Hinton, G. (2020).\n",
        "Big self-supervised models are strong semi-supervised learners.\n",
        "NeurIPS 2021 ([link](https://arxiv.org/abs/2006.10029)).\n",
        "\n",
        "[3] Oord, A. V. D., Li, Y., and Vinyals, O.\n",
        "(2018).\n",
        "Representation learning with contrastive predictive coding.\n",
        "arXiv preprint arXiv:1807.03748.\n",
        "([link](https://arxiv.org/abs/1807.03748))\n",
        "\n",
        "[4] Grill, J.B., Strub, F., Altché, F., Tallec, C., Richemond, P.H., Buchatskaya, E., Doersch, C., Pires, B.A., Guo, Z.D., Azar, M.G.\n",
        "and Piot, B.\n",
        "(2020).\n",
        "Bootstrap your own latent: A new approach to self-supervised learning.\n",
        "arXiv preprint arXiv:2006.07733.\n",
        "([link](https://arxiv.org/abs/2006.07733))\n",
        "\n",
        "[5] Khosla, P., Teterwak, P., Wang, C., Sarna, A., Tian, Y., Isola, P., Maschinot, A., Liu, C. and Krishnan, D. (2020).\n",
        "Supervised contrastive learning.\n",
        "arXiv preprint arXiv:2004.11362.\n",
        "([link](https://arxiv.org/abs/2004.11362))\n",
        "\n",
        "[6] Zbontar, J., Jing, L., Misra, I., LeCun, Y. and Deny, S. (2021).\n",
        "Barlow twins: Self-supervised learning via redundancy reduction.\n",
        "arXiv preprint arXiv:2103.03230.\n",
        "([link](https://arxiv.org/abs/2103.03230))"
      ]
    },
    {
      "cell_type": "markdown",
      "id": "ce384bac",
      "metadata": {
        "papermill": {
          "duration": 0.052469,
          "end_time": "2021-10-10T16:42:27.933096",
          "exception": false,
          "start_time": "2021-10-10T16:42:27.880627",
          "status": "completed"
        },
        "tags": [],
        "id": "ce384bac"
      },
      "source": [
        "## Congratulations - Time to Join the Community!\n",
        "\n",
        "Congratulations on completing this notebook tutorial! If you enjoyed this and would like to join the Lightning\n",
        "movement, you can do so in the following ways!\n",
        "\n",
        "### Star [Lightning](https://github.com/PyTorchLightning/pytorch-lightning) on GitHub\n",
        "The easiest way to help our community is just by starring the GitHub repos! This helps raise awareness of the cool\n",
        "tools we're building.\n",
        "\n",
        "### Join our [Slack](https://join.slack.com/t/pytorch-lightning/shared_invite/zt-pw5v393p-qRaDgEk24~EjiZNBpSQFgQ)!\n",
        "The best way to keep up to date on the latest advancements is to join our community! Make sure to introduce yourself\n",
        "and share your interests in `#general` channel\n",
        "\n",
        "\n",
        "### Contributions !\n",
        "The best way to contribute to our community is to become a code contributor! At any time you can go to\n",
        "[Lightning](https://github.com/PyTorchLightning/pytorch-lightning) or [Bolt](https://github.com/PyTorchLightning/lightning-bolts)\n",
        "GitHub Issues page and filter for \"good first issue\".\n",
        "\n",
        "* [Lightning good first issue](https://github.com/PyTorchLightning/pytorch-lightning/issues?q=is%3Aopen+is%3Aissue+label%3A%22good+first+issue%22)\n",
        "* [Bolt good first issue](https://github.com/PyTorchLightning/lightning-bolts/issues?q=is%3Aopen+is%3Aissue+label%3A%22good+first+issue%22)\n",
        "* You can also contribute your own notebooks with useful examples !\n",
        "\n",
        "### Great thanks from the entire Pytorch Lightning Team for your interest !\n",
        "\n",
        "![Pytorch Lightning](data:image/png;base64,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){height=\"60px\" width=\"240px\"}"
      ]
    }
  ],
  "metadata": {
    "jupytext": {
      "cell_metadata_filter": "id,colab_type,colab,-all",
      "formats": "ipynb,py:percent",
      "main_language": "python"
    },
    "language_info": {
      "name": "python"
    },
    "papermill": {
      "default_parameters": {},
      "duration": 249.204813,
      "end_time": "2021-10-10T16:42:28.695919",
      "environment_variables": {},
      "exception": null,
      "input_path": "course_UvA-DL/13-contrastive-learning/SimCLR.ipynb",
      "output_path": ".notebooks/course_UvA-DL/13-contrastive-learning.ipynb",
      "parameters": {},
      "start_time": "2021-10-10T16:38:19.491106",
      "version": "2.3.3"
    },
    "widgets": {
      "application/vnd.jupyter.widget-state+json": {
        "910b265c0cda4cad990e9d9bbffc9962": {
          "model_module": "@jupyter-widgets/controls",
          "model_name": "HBoxModel",
          "model_module_version": "1.5.0",
          "state": {
            "_view_name": "HBoxView",
            "_dom_classes": [],
            "_model_name": "HBoxModel",
            "_view_module": "@jupyter-widgets/controls",
            "_model_module_version": "1.5.0",
            "_view_count": null,
            "_view_module_version": "1.5.0",
            "box_style": "",
            "layout": "IPY_MODEL_c9d19970980e4cd792f37bc32bd7fe14",
            "_model_module": "@jupyter-widgets/controls",
            "children": [
              "IPY_MODEL_a6876bbdb4cb4e39a8164d5688a391cb",
              "IPY_MODEL_3cfb837e6665449f9c793979e4579279",
              "IPY_MODEL_3d1c8a3461974152bcbb36456d2eeac9"
            ]
          }
        },
        "c9d19970980e4cd792f37bc32bd7fe14": {
          "model_module": "@jupyter-widgets/base",
          "model_name": "LayoutModel",
          "model_module_version": "1.2.0",
          "state": {
            "_view_name": "LayoutView",
            "grid_template_rows": null,
            "right": null,
            "justify_content": null,
            "_view_module": "@jupyter-widgets/base",
            "overflow": null,
            "_model_module_version": "1.2.0",
            "_view_count": null,
            "flex_flow": null,
            "width": null,
            "min_width": null,
            "border": null,
            "align_items": null,
            "bottom": null,
            "_model_module": "@jupyter-widgets/base",
            "top": null,
            "grid_column": null,
            "overflow_y": null,
            "overflow_x": null,
            "grid_auto_flow": null,
            "grid_area": null,
            "grid_template_columns": null,
            "flex": null,
            "_model_name": "LayoutModel",
            "justify_items": null,
            "grid_row": null,
            "max_height": null,
            "align_content": null,
            "visibility": null,
            "align_self": null,
            "height": null,
            "min_height": null,
            "padding": null,
            "grid_auto_rows": null,
            "grid_gap": null,
            "max_width": null,
            "order": null,
            "_view_module_version": "1.2.0",
            "grid_template_areas": null,
            "object_position": null,
            "object_fit": null,
            "grid_auto_columns": null,
            "margin": null,
            "display": null,
            "left": null
          }
        },
        "a6876bbdb4cb4e39a8164d5688a391cb": {
          "model_module": "@jupyter-widgets/controls",
          "model_name": "HTMLModel",
          "model_module_version": "1.5.0",
          "state": {
            "_view_name": "HTMLView",
            "style": "IPY_MODEL_0c15ec476aaa41cca475d6de03a17fe3",
            "_dom_classes": [],
            "description": "",
            "_model_name": "HTMLModel",
            "placeholder": "​",
            "_view_module": "@jupyter-widgets/controls",
            "_model_module_version": "1.5.0",
            "value": "",
            "_view_count": null,
            "_view_module_version": "1.5.0",
            "description_tooltip": null,
            "_model_module": "@jupyter-widgets/controls",
            "layout": "IPY_MODEL_a83e8a159bf44654ac8ba23c47656a9a"
          }
        },
        "3cfb837e6665449f9c793979e4579279": {
          "model_module": "@jupyter-widgets/controls",
          "model_name": "FloatProgressModel",
          "model_module_version": "1.5.0",
          "state": {
            "_view_name": "ProgressView",
            "style": "IPY_MODEL_7570cf09c65c4b80b3fe300a843bfbbc",
            "_dom_classes": [],
            "description": "",
            "_model_name": "FloatProgressModel",
            "bar_style": "success",
            "max": 2640397119,
            "_view_module": "@jupyter-widgets/controls",
            "_model_module_version": "1.5.0",
            "value": 2640397119,
            "_view_count": null,
            "_view_module_version": "1.5.0",
            "orientation": "horizontal",
            "min": 0,
            "description_tooltip": null,
            "_model_module": "@jupyter-widgets/controls",
            "layout": "IPY_MODEL_224d2c976bb7416bb4621c5097c5d400"
          }
        },
        "3d1c8a3461974152bcbb36456d2eeac9": {
          "model_module": "@jupyter-widgets/controls",
          "model_name": "HTMLModel",
          "model_module_version": "1.5.0",
          "state": {
            "_view_name": "HTMLView",
            "style": "IPY_MODEL_f452ba5b0ad6405c8fbc7472096de0f4",
            "_dom_classes": [],
            "description": "",
            "_model_name": "HTMLModel",
            "placeholder": "​",
            "_view_module": "@jupyter-widgets/controls",
            "_model_module_version": "1.5.0",
            "value": " 2640397312/? [02:09&lt;00:00, 13157315.66it/s]",
            "_view_count": null,
            "_view_module_version": "1.5.0",
            "description_tooltip": null,
            "_model_module": "@jupyter-widgets/controls",
            "layout": "IPY_MODEL_244db5c75fc046e8b73d814176f9845c"
          }
        },
        "0c15ec476aaa41cca475d6de03a17fe3": {
          "model_module": "@jupyter-widgets/controls",
          "model_name": "DescriptionStyleModel",
          "model_module_version": "1.5.0",
          "state": {
            "_view_name": "StyleView",
            "_model_name": "DescriptionStyleModel",
            "description_width": "",
            "_view_module": "@jupyter-widgets/base",
            "_model_module_version": "1.5.0",
            "_view_count": null,
            "_view_module_version": "1.2.0",
            "_model_module": "@jupyter-widgets/controls"
          }
        },
        "a83e8a159bf44654ac8ba23c47656a9a": {
          "model_module": "@jupyter-widgets/base",
          "model_name": "LayoutModel",
          "model_module_version": "1.2.0",
          "state": {
            "_view_name": "LayoutView",
            "grid_template_rows": null,
            "right": null,
            "justify_content": null,
            "_view_module": "@jupyter-widgets/base",
            "overflow": null,
            "_model_module_version": "1.2.0",
            "_view_count": null,
            "flex_flow": null,
            "width": null,
            "min_width": null,
            "border": null,
            "align_items": null,
            "bottom": null,
            "_model_module": "@jupyter-widgets/base",
            "top": null,
            "grid_column": null,
            "overflow_y": null,
            "overflow_x": null,
            "grid_auto_flow": null,
            "grid_area": null,
            "grid_template_columns": null,
            "flex": null,
            "_model_name": "LayoutModel",
            "justify_items": null,
            "grid_row": null,
            "max_height": null,
            "align_content": null,
            "visibility": null,
            "align_self": null,
            "height": null,
            "min_height": null,
            "padding": null,
            "grid_auto_rows": null,
            "grid_gap": null,
            "max_width": null,
            "order": null,
            "_view_module_version": "1.2.0",
            "grid_template_areas": null,
            "object_position": null,
            "object_fit": null,
            "grid_auto_columns": null,
            "margin": null,
            "display": null,
            "left": null
          }
        },
        "7570cf09c65c4b80b3fe300a843bfbbc": {
          "model_module": "@jupyter-widgets/controls",
          "model_name": "ProgressStyleModel",
          "model_module_version": "1.5.0",
          "state": {
            "_view_name": "StyleView",
            "_model_name": "ProgressStyleModel",
            "description_width": "",
            "_view_module": "@jupyter-widgets/base",
            "_model_module_version": "1.5.0",
            "_view_count": null,
            "_view_module_version": "1.2.0",
            "bar_color": null,
            "_model_module": "@jupyter-widgets/controls"
          }
        },
        "224d2c976bb7416bb4621c5097c5d400": {
          "model_module": "@jupyter-widgets/base",
          "model_name": "LayoutModel",
          "model_module_version": "1.2.0",
          "state": {
            "_view_name": "LayoutView",
            "grid_template_rows": null,
            "right": null,
            "justify_content": null,
            "_view_module": "@jupyter-widgets/base",
            "overflow": null,
            "_model_module_version": "1.2.0",
            "_view_count": null,
            "flex_flow": null,
            "width": null,
            "min_width": null,
            "border": null,
            "align_items": null,
            "bottom": null,
            "_model_module": "@jupyter-widgets/base",
            "top": null,
            "grid_column": null,
            "overflow_y": null,
            "overflow_x": null,
            "grid_auto_flow": null,
            "grid_area": null,
            "grid_template_columns": null,
            "flex": null,
            "_model_name": "LayoutModel",
            "justify_items": null,
            "grid_row": null,
            "max_height": null,
            "align_content": null,
            "visibility": null,
            "align_self": null,
            "height": null,
            "min_height": null,
            "padding": null,
            "grid_auto_rows": null,
            "grid_gap": null,
            "max_width": null,
            "order": null,
            "_view_module_version": "1.2.0",
            "grid_template_areas": null,
            "object_position": null,
            "object_fit": null,
            "grid_auto_columns": null,
            "margin": null,
            "display": null,
            "left": null
          }
        },
        "f452ba5b0ad6405c8fbc7472096de0f4": {
          "model_module": "@jupyter-widgets/controls",
          "model_name": "DescriptionStyleModel",
          "model_module_version": "1.5.0",
          "state": {
            "_view_name": "StyleView",
            "_model_name": "DescriptionStyleModel",
            "description_width": "",
            "_view_module": "@jupyter-widgets/base",
            "_model_module_version": "1.5.0",
            "_view_count": null,
            "_view_module_version": "1.2.0",
            "_model_module": "@jupyter-widgets/controls"
          }
        },
        "244db5c75fc046e8b73d814176f9845c": {
          "model_module": "@jupyter-widgets/base",
          "model_name": "LayoutModel",
          "model_module_version": "1.2.0",
          "state": {
            "_view_name": "LayoutView",
            "grid_template_rows": null,
            "right": null,
            "justify_content": null,
            "_view_module": "@jupyter-widgets/base",
            "overflow": null,
            "_model_module_version": "1.2.0",
            "_view_count": null,
            "flex_flow": null,
            "width": null,
            "min_width": null,
            "border": null,
            "align_items": null,
            "bottom": null,
            "_model_module": "@jupyter-widgets/base",
            "top": null,
            "grid_column": null,
            "overflow_y": null,
            "overflow_x": null,
            "grid_auto_flow": null,
            "grid_area": null,
            "grid_template_columns": null,
            "flex": null,
            "_model_name": "LayoutModel",
            "justify_items": null,
            "grid_row": null,
            "max_height": null,
            "align_content": null,
            "visibility": null,
            "align_self": null,
            "height": null,
            "min_height": null,
            "padding": null,
            "grid_auto_rows": null,
            "grid_gap": null,
            "max_width": null,
            "order": null,
            "_view_module_version": "1.2.0",
            "grid_template_areas": null,
            "object_position": null,
            "object_fit": null,
            "grid_auto_columns": null,
            "margin": null,
            "display": null,
            "left": null
          }
        },
        "536967ff1d7c4067a037fb8050ab0511": {
          "model_module": "@jupyter-widgets/controls",
          "model_name": "HBoxModel",
          "model_module_version": "1.5.0",
          "state": {
            "_view_name": "HBoxView",
            "_dom_classes": [],
            "_model_name": "HBoxModel",
            "_view_module": "@jupyter-widgets/controls",
            "_model_module_version": "1.5.0",
            "_view_count": null,
            "_view_module_version": "1.5.0",
            "box_style": "",
            "layout": "IPY_MODEL_a8155ac486004f58a2cfd3bd87d58059",
            "_model_module": "@jupyter-widgets/controls",
            "children": [
              "IPY_MODEL_c6ce9703de2f4ab88dddae014d6640d2",
              "IPY_MODEL_9c6d1b31598f4b329d4cec7b375ee31e",
              "IPY_MODEL_e5e8d97787414ea6b77fd404d8ba17e9"
            ]
          }
        },
        "a8155ac486004f58a2cfd3bd87d58059": {
          "model_module": "@jupyter-widgets/base",
          "model_name": "LayoutModel",
          "model_module_version": "1.2.0",
          "state": {
            "_view_name": "LayoutView",
            "grid_template_rows": null,
            "right": null,
            "justify_content": null,
            "_view_module": "@jupyter-widgets/base",
            "overflow": null,
            "_model_module_version": "1.2.0",
            "_view_count": null,
            "flex_flow": null,
            "width": null,
            "min_width": null,
            "border": null,
            "align_items": null,
            "bottom": null,
            "_model_module": "@jupyter-widgets/base",
            "top": null,
            "grid_column": null,
            "overflow_y": null,
            "overflow_x": null,
            "grid_auto_flow": null,
            "grid_area": null,
            "grid_template_columns": null,
            "flex": null,
            "_model_name": "LayoutModel",
            "justify_items": null,
            "grid_row": null,
            "max_height": null,
            "align_content": null,
            "visibility": null,
            "align_self": null,
            "height": null,
            "min_height": null,
            "padding": null,
            "grid_auto_rows": null,
            "grid_gap": null,
            "max_width": null,
            "order": null,
            "_view_module_version": "1.2.0",
            "grid_template_areas": null,
            "object_position": null,
            "object_fit": null,
            "grid_auto_columns": null,
            "margin": null,
            "display": null,
            "left": null
          }
        },
        "c6ce9703de2f4ab88dddae014d6640d2": {
          "model_module": "@jupyter-widgets/controls",
          "model_name": "HTMLModel",
          "model_module_version": "1.5.0",
          "state": {
            "_view_name": "HTMLView",
            "style": "IPY_MODEL_d4c98b59e07c40b48303a33d7c55743e",
            "_dom_classes": [],
            "description": "",
            "_model_name": "HTMLModel",
            "placeholder": "​",
            "_view_module": "@jupyter-widgets/controls",
            "_model_module_version": "1.5.0",
            "value": "100%",
            "_view_count": null,
            "_view_module_version": "1.5.0",
            "description_tooltip": null,
            "_model_module": "@jupyter-widgets/controls",
            "layout": "IPY_MODEL_cc48f544e6634a50a43d8a8368011a43"
          }
        },
        "9c6d1b31598f4b329d4cec7b375ee31e": {
          "model_module": "@jupyter-widgets/controls",
          "model_name": "FloatProgressModel",
          "model_module_version": "1.5.0",
          "state": {
            "_view_name": "ProgressView",
            "style": "IPY_MODEL_43c2bb03f9844ec297ee86e76b929d8d",
            "_dom_classes": [],
            "description": "",
            "_model_name": "FloatProgressModel",
            "bar_style": "success",
            "max": 79,
            "_view_module": "@jupyter-widgets/controls",
            "_model_module_version": "1.5.0",
            "value": 79,
            "_view_count": null,
            "_view_module_version": "1.5.0",
            "orientation": "horizontal",
            "min": 0,
            "description_tooltip": null,
            "_model_module": "@jupyter-widgets/controls",
            "layout": "IPY_MODEL_93481549d08b4c909ae2ab791e57a2d7"
          }
        },
        "e5e8d97787414ea6b77fd404d8ba17e9": {
          "model_module": "@jupyter-widgets/controls",
          "model_name": "HTMLModel",
          "model_module_version": "1.5.0",
          "state": {
            "_view_name": "HTMLView",
            "style": "IPY_MODEL_c35927b28fec415294b6b94f14d77338",
            "_dom_classes": [],
            "description": "",
            "_model_name": "HTMLModel",
            "placeholder": "​",
            "_view_module": "@jupyter-widgets/controls",
            "_model_module_version": "1.5.0",
            "value": " 79/79 [00:05&lt;00:00, 14.94it/s]",
            "_view_count": null,
            "_view_module_version": "1.5.0",
            "description_tooltip": null,
            "_model_module": "@jupyter-widgets/controls",
            "layout": "IPY_MODEL_e35baaf006c6420084c89ab2ffbb01c6"
          }
        },
        "d4c98b59e07c40b48303a33d7c55743e": {
          "model_module": "@jupyter-widgets/controls",
          "model_name": "DescriptionStyleModel",
          "model_module_version": "1.5.0",
          "state": {
            "_view_name": "StyleView",
            "_model_name": "DescriptionStyleModel",
            "description_width": "",
            "_view_module": "@jupyter-widgets/base",
            "_model_module_version": "1.5.0",
            "_view_count": null,
            "_view_module_version": "1.2.0",
            "_model_module": "@jupyter-widgets/controls"
          }
        },
        "cc48f544e6634a50a43d8a8368011a43": {
          "model_module": "@jupyter-widgets/base",
          "model_name": "LayoutModel",
          "model_module_version": "1.2.0",
          "state": {
            "_view_name": "LayoutView",
            "grid_template_rows": null,
            "right": null,
            "justify_content": null,
            "_view_module": "@jupyter-widgets/base",
            "overflow": null,
            "_model_module_version": "1.2.0",
            "_view_count": null,
            "flex_flow": null,
            "width": null,
            "min_width": null,
            "border": null,
            "align_items": null,
            "bottom": null,
            "_model_module": "@jupyter-widgets/base",
            "top": null,
            "grid_column": null,
            "overflow_y": null,
            "overflow_x": null,
            "grid_auto_flow": null,
            "grid_area": null,
            "grid_template_columns": null,
            "flex": null,
            "_model_name": "LayoutModel",
            "justify_items": null,
            "grid_row": null,
            "max_height": null,
            "align_content": null,
            "visibility": null,
            "align_self": null,
            "height": null,
            "min_height": null,
            "padding": null,
            "grid_auto_rows": null,
            "grid_gap": null,
            "max_width": null,
            "order": null,
            "_view_module_version": "1.2.0",
            "grid_template_areas": null,
            "object_position": null,
            "object_fit": null,
            "grid_auto_columns": null,
            "margin": null,
            "display": null,
            "left": null
          }
        },
        "43c2bb03f9844ec297ee86e76b929d8d": {
          "model_module": "@jupyter-widgets/controls",
          "model_name": "ProgressStyleModel",
          "model_module_version": "1.5.0",
          "state": {
            "_view_name": "StyleView",
            "_model_name": "ProgressStyleModel",
            "description_width": "",
            "_view_module": "@jupyter-widgets/base",
            "_model_module_version": "1.5.0",
            "_view_count": null,
            "_view_module_version": "1.2.0",
            "bar_color": null,
            "_model_module": "@jupyter-widgets/controls"
          }
        },
        "93481549d08b4c909ae2ab791e57a2d7": {
          "model_module": "@jupyter-widgets/base",
          "model_name": "LayoutModel",
          "model_module_version": "1.2.0",
          "state": {
            "_view_name": "LayoutView",
            "grid_template_rows": null,
            "right": null,
            "justify_content": null,
            "_view_module": "@jupyter-widgets/base",
            "overflow": null,
            "_model_module_version": "1.2.0",
            "_view_count": null,
            "flex_flow": null,
            "width": null,
            "min_width": null,
            "border": null,
            "align_items": null,
            "bottom": null,
            "_model_module": "@jupyter-widgets/base",
            "top": null,
            "grid_column": null,
            "overflow_y": null,
            "overflow_x": null,
            "grid_auto_flow": null,
            "grid_area": null,
            "grid_template_columns": null,
            "flex": null,
            "_model_name": "LayoutModel",
            "justify_items": null,
            "grid_row": null,
            "max_height": null,
            "align_content": null,
            "visibility": null,
            "align_self": null,
            "height": null,
            "min_height": null,
            "padding": null,
            "grid_auto_rows": null,
            "grid_gap": null,
            "max_width": null,
            "order": null,
            "_view_module_version": "1.2.0",
            "grid_template_areas": null,
            "object_position": null,
            "object_fit": null,
            "grid_auto_columns": null,
            "margin": null,
            "display": null,
            "left": null
          }
        },
        "c35927b28fec415294b6b94f14d77338": {
          "model_module": "@jupyter-widgets/controls",
          "model_name": "DescriptionStyleModel",
          "model_module_version": "1.5.0",
          "state": {
            "_view_name": "StyleView",
            "_model_name": "DescriptionStyleModel",
            "description_width": "",
            "_view_module": "@jupyter-widgets/base",
            "_model_module_version": "1.5.0",
            "_view_count": null,
            "_view_module_version": "1.2.0",
            "_model_module": "@jupyter-widgets/controls"
          }
        },
        "e35baaf006c6420084c89ab2ffbb01c6": {
          "model_module": "@jupyter-widgets/base",
          "model_name": "LayoutModel",
          "model_module_version": "1.2.0",
          "state": {
            "_view_name": "LayoutView",
            "grid_template_rows": null,
            "right": null,
            "justify_content": null,
            "_view_module": "@jupyter-widgets/base",
            "overflow": null,
            "_model_module_version": "1.2.0",
            "_view_count": null,
            "flex_flow": null,
            "width": null,
            "min_width": null,
            "border": null,
            "align_items": null,
            "bottom": null,
            "_model_module": "@jupyter-widgets/base",
            "top": null,
            "grid_column": null,
            "overflow_y": null,
            "overflow_x": null,
            "grid_auto_flow": null,
            "grid_area": null,
            "grid_template_columns": null,
            "flex": null,
            "_model_name": "LayoutModel",
            "justify_items": null,
            "grid_row": null,
            "max_height": null,
            "align_content": null,
            "visibility": null,
            "align_self": null,
            "height": null,
            "min_height": null,
            "padding": null,
            "grid_auto_rows": null,
            "grid_gap": null,
            "max_width": null,
            "order": null,
            "_view_module_version": "1.2.0",
            "grid_template_areas": null,
            "object_position": null,
            "object_fit": null,
            "grid_auto_columns": null,
            "margin": null,
            "display": null,
            "left": null
          }
        },
        "ee3502572f9f48d387a2a95de4d2ffb8": {
          "model_module": "@jupyter-widgets/controls",
          "model_name": "HBoxModel",
          "model_module_version": "1.5.0",
          "state": {
            "_view_name": "HBoxView",
            "_dom_classes": [],
            "_model_name": "HBoxModel",
            "_view_module": "@jupyter-widgets/controls",
            "_model_module_version": "1.5.0",
            "_view_count": null,
            "_view_module_version": "1.5.0",
            "box_style": "",
            "layout": "IPY_MODEL_e72a704c0b63421c9b9ec5b17a8ebd35",
            "_model_module": "@jupyter-widgets/controls",
            "children": [
              "IPY_MODEL_88af55549718412abc4f26f73bb0ac81",
              "IPY_MODEL_aa78a9afccb64cc7a4e1e71a67773fb0",
              "IPY_MODEL_8d394db7535e47bab236d0492563e207"
            ]
          }
        },
        "e72a704c0b63421c9b9ec5b17a8ebd35": {
          "model_module": "@jupyter-widgets/base",
          "model_name": "LayoutModel",
          "model_module_version": "1.2.0",
          "state": {
            "_view_name": "LayoutView",
            "grid_template_rows": null,
            "right": null,
            "justify_content": null,
            "_view_module": "@jupyter-widgets/base",
            "overflow": null,
            "_model_module_version": "1.2.0",
            "_view_count": null,
            "flex_flow": null,
            "width": null,
            "min_width": null,
            "border": null,
            "align_items": null,
            "bottom": null,
            "_model_module": "@jupyter-widgets/base",
            "top": null,
            "grid_column": null,
            "overflow_y": null,
            "overflow_x": null,
            "grid_auto_flow": null,
            "grid_area": null,
            "grid_template_columns": null,
            "flex": null,
            "_model_name": "LayoutModel",
            "justify_items": null,
            "grid_row": null,
            "max_height": null,
            "align_content": null,
            "visibility": null,
            "align_self": null,
            "height": null,
            "min_height": null,
            "padding": null,
            "grid_auto_rows": null,
            "grid_gap": null,
            "max_width": null,
            "order": null,
            "_view_module_version": "1.2.0",
            "grid_template_areas": null,
            "object_position": null,
            "object_fit": null,
            "grid_auto_columns": null,
            "margin": null,
            "display": null,
            "left": null
          }
        },
        "88af55549718412abc4f26f73bb0ac81": {
          "model_module": "@jupyter-widgets/controls",
          "model_name": "HTMLModel",
          "model_module_version": "1.5.0",
          "state": {
            "_view_name": "HTMLView",
            "style": "IPY_MODEL_ca12abc2c1564424a8f21b056bc47ae0",
            "_dom_classes": [],
            "description": "",
            "_model_name": "HTMLModel",
            "placeholder": "​",
            "_view_module": "@jupyter-widgets/controls",
            "_model_module_version": "1.5.0",
            "value": "100%",
            "_view_count": null,
            "_view_module_version": "1.5.0",
            "description_tooltip": null,
            "_model_module": "@jupyter-widgets/controls",
            "layout": "IPY_MODEL_c87e0ad7dd914e87b447a6b71899c9f4"
          }
        },
        "aa78a9afccb64cc7a4e1e71a67773fb0": {
          "model_module": "@jupyter-widgets/controls",
          "model_name": "FloatProgressModel",
          "model_module_version": "1.5.0",
          "state": {
            "_view_name": "ProgressView",
            "style": "IPY_MODEL_d9859a1d75244b70a5e457d51b7f23d3",
            "_dom_classes": [],
            "description": "",
            "_model_name": "FloatProgressModel",
            "bar_style": "success",
            "max": 125,
            "_view_module": "@jupyter-widgets/controls",
            "_model_module_version": "1.5.0",
            "value": 125,
            "_view_count": null,
            "_view_module_version": "1.5.0",
            "orientation": "horizontal",
            "min": 0,
            "description_tooltip": null,
            "_model_module": "@jupyter-widgets/controls",
            "layout": "IPY_MODEL_9471fa37328f47418461dd4cb4646cea"
          }
        },
        "8d394db7535e47bab236d0492563e207": {
          "model_module": "@jupyter-widgets/controls",
          "model_name": "HTMLModel",
          "model_module_version": "1.5.0",
          "state": {
            "_view_name": "HTMLView",
            "style": "IPY_MODEL_a7254634be194ee0993b3b736fe78031",
            "_dom_classes": [],
            "description": "",
            "_model_name": "HTMLModel",
            "placeholder": "​",
            "_view_module": "@jupyter-widgets/controls",
            "_model_module_version": "1.5.0",
            "value": " 125/125 [00:07&lt;00:00, 18.90it/s]",
            "_view_count": null,
            "_view_module_version": "1.5.0",
            "description_tooltip": null,
            "_model_module": "@jupyter-widgets/controls",
            "layout": "IPY_MODEL_d9a382d4e7cc431b8473c1f5d36b56d6"
          }
        },
        "ca12abc2c1564424a8f21b056bc47ae0": {
          "model_module": "@jupyter-widgets/controls",
          "model_name": "DescriptionStyleModel",
          "model_module_version": "1.5.0",
          "state": {
            "_view_name": "StyleView",
            "_model_name": "DescriptionStyleModel",
            "description_width": "",
            "_view_module": "@jupyter-widgets/base",
            "_model_module_version": "1.5.0",
            "_view_count": null,
            "_view_module_version": "1.2.0",
            "_model_module": "@jupyter-widgets/controls"
          }
        },
        "c87e0ad7dd914e87b447a6b71899c9f4": {
          "model_module": "@jupyter-widgets/base",
          "model_name": "LayoutModel",
          "model_module_version": "1.2.0",
          "state": {
            "_view_name": "LayoutView",
            "grid_template_rows": null,
            "right": null,
            "justify_content": null,
            "_view_module": "@jupyter-widgets/base",
            "overflow": null,
            "_model_module_version": "1.2.0",
            "_view_count": null,
            "flex_flow": null,
            "width": null,
            "min_width": null,
            "border": null,
            "align_items": null,
            "bottom": null,
            "_model_module": "@jupyter-widgets/base",
            "top": null,
            "grid_column": null,
            "overflow_y": null,
            "overflow_x": null,
            "grid_auto_flow": null,
            "grid_area": null,
            "grid_template_columns": null,
            "flex": null,
            "_model_name": "LayoutModel",
            "justify_items": null,
            "grid_row": null,
            "max_height": null,
            "align_content": null,
            "visibility": null,
            "align_self": null,
            "height": null,
            "min_height": null,
            "padding": null,
            "grid_auto_rows": null,
            "grid_gap": null,
            "max_width": null,
            "order": null,
            "_view_module_version": "1.2.0",
            "grid_template_areas": null,
            "object_position": null,
            "object_fit": null,
            "grid_auto_columns": null,
            "margin": null,
            "display": null,
            "left": null
          }
        },
        "d9859a1d75244b70a5e457d51b7f23d3": {
          "model_module": "@jupyter-widgets/controls",
          "model_name": "ProgressStyleModel",
          "model_module_version": "1.5.0",
          "state": {
            "_view_name": "StyleView",
            "_model_name": "ProgressStyleModel",
            "description_width": "",
            "_view_module": "@jupyter-widgets/base",
            "_model_module_version": "1.5.0",
            "_view_count": null,
            "_view_module_version": "1.2.0",
            "bar_color": null,
            "_model_module": "@jupyter-widgets/controls"
          }
        },
        "9471fa37328f47418461dd4cb4646cea": {
          "model_module": "@jupyter-widgets/base",
          "model_name": "LayoutModel",
          "model_module_version": "1.2.0",
          "state": {
            "_view_name": "LayoutView",
            "grid_template_rows": null,
            "right": null,
            "justify_content": null,
            "_view_module": "@jupyter-widgets/base",
            "overflow": null,
            "_model_module_version": "1.2.0",
            "_view_count": null,
            "flex_flow": null,
            "width": null,
            "min_width": null,
            "border": null,
            "align_items": null,
            "bottom": null,
            "_model_module": "@jupyter-widgets/base",
            "top": null,
            "grid_column": null,
            "overflow_y": null,
            "overflow_x": null,
            "grid_auto_flow": null,
            "grid_area": null,
            "grid_template_columns": null,
            "flex": null,
            "_model_name": "LayoutModel",
            "justify_items": null,
            "grid_row": null,
            "max_height": null,
            "align_content": null,
            "visibility": null,
            "align_self": null,
            "height": null,
            "min_height": null,
            "padding": null,
            "grid_auto_rows": null,
            "grid_gap": null,
            "max_width": null,
            "order": null,
            "_view_module_version": "1.2.0",
            "grid_template_areas": null,
            "object_position": null,
            "object_fit": null,
            "grid_auto_columns": null,
            "margin": null,
            "display": null,
            "left": null
          }
        },
        "a7254634be194ee0993b3b736fe78031": {
          "model_module": "@jupyter-widgets/controls",
          "model_name": "DescriptionStyleModel",
          "model_module_version": "1.5.0",
          "state": {
            "_view_name": "StyleView",
            "_model_name": "DescriptionStyleModel",
            "description_width": "",
            "_view_module": "@jupyter-widgets/base",
            "_model_module_version": "1.5.0",
            "_view_count": null,
            "_view_module_version": "1.2.0",
            "_model_module": "@jupyter-widgets/controls"
          }
        },
        "d9a382d4e7cc431b8473c1f5d36b56d6": {
          "model_module": "@jupyter-widgets/base",
          "model_name": "LayoutModel",
          "model_module_version": "1.2.0",
          "state": {
            "_view_name": "LayoutView",
            "grid_template_rows": null,
            "right": null,
            "justify_content": null,
            "_view_module": "@jupyter-widgets/base",
            "overflow": null,
            "_model_module_version": "1.2.0",
            "_view_count": null,
            "flex_flow": null,
            "width": null,
            "min_width": null,
            "border": null,
            "align_items": null,
            "bottom": null,
            "_model_module": "@jupyter-widgets/base",
            "top": null,
            "grid_column": null,
            "overflow_y": null,
            "overflow_x": null,
            "grid_auto_flow": null,
            "grid_area": null,
            "grid_template_columns": null,
            "flex": null,
            "_model_name": "LayoutModel",
            "justify_items": null,
            "grid_row": null,
            "max_height": null,
            "align_content": null,
            "visibility": null,
            "align_self": null,
            "height": null,
            "min_height": null,
            "padding": null,
            "grid_auto_rows": null,
            "grid_gap": null,
            "max_width": null,
            "order": null,
            "_view_module_version": "1.2.0",
            "grid_template_areas": null,
            "object_position": null,
            "object_fit": null,
            "grid_auto_columns": null,
            "margin": null,
            "display": null,
            "left": null
          }
        },
        "cf23e91e41604ce9a68a956b1737ae10": {
          "model_module": "@jupyter-widgets/controls",
          "model_name": "HBoxModel",
          "model_module_version": "1.5.0",
          "state": {
            "_view_name": "HBoxView",
            "_dom_classes": [],
            "_model_name": "HBoxModel",
            "_view_module": "@jupyter-widgets/controls",
            "_model_module_version": "1.5.0",
            "_view_count": null,
            "_view_module_version": "1.5.0",
            "box_style": "",
            "layout": "IPY_MODEL_116bce5f37d84cf98971afe7ee416e5f",
            "_model_module": "@jupyter-widgets/controls",
            "children": [
              "IPY_MODEL_f77ba8a5ffb14e1ab8825f8d31332244",
              "IPY_MODEL_11982b7b1ec146319f89ab1ddc358d0b",
              "IPY_MODEL_fcd7e7b100594ff19a3e948240d44eff"
            ]
          }
        },
        "116bce5f37d84cf98971afe7ee416e5f": {
          "model_module": "@jupyter-widgets/base",
          "model_name": "LayoutModel",
          "model_module_version": "1.2.0",
          "state": {
            "_view_name": "LayoutView",
            "grid_template_rows": null,
            "right": null,
            "justify_content": null,
            "_view_module": "@jupyter-widgets/base",
            "overflow": null,
            "_model_module_version": "1.2.0",
            "_view_count": null,
            "flex_flow": "row wrap",
            "width": "100%",
            "min_width": null,
            "border": null,
            "align_items": null,
            "bottom": null,
            "_model_module": "@jupyter-widgets/base",
            "top": null,
            "grid_column": null,
            "overflow_y": null,
            "overflow_x": null,
            "grid_auto_flow": null,
            "grid_area": null,
            "grid_template_columns": null,
            "flex": null,
            "_model_name": "LayoutModel",
            "justify_items": null,
            "grid_row": null,
            "max_height": null,
            "align_content": null,
            "visibility": null,
            "align_self": null,
            "height": null,
            "min_height": null,
            "padding": null,
            "grid_auto_rows": null,
            "grid_gap": null,
            "max_width": null,
            "order": null,
            "_view_module_version": "1.2.0",
            "grid_template_areas": null,
            "object_position": null,
            "object_fit": null,
            "grid_auto_columns": null,
            "margin": null,
            "display": "inline-flex",
            "left": null
          }
        },
        "f77ba8a5ffb14e1ab8825f8d31332244": {
          "model_module": "@jupyter-widgets/controls",
          "model_name": "HTMLModel",
          "model_module_version": "1.5.0",
          "state": {
            "_view_name": "HTMLView",
            "style": "IPY_MODEL_e89718cdfb0845e29555fbbbf27aeaea",
            "_dom_classes": [],
            "description": "",
            "_model_name": "HTMLModel",
            "placeholder": "​",
            "_view_module": "@jupyter-widgets/controls",
            "_model_module_version": "1.5.0",
            "value": "Testing: 100%",
            "_view_count": null,
            "_view_module_version": "1.5.0",
            "description_tooltip": null,
            "_model_module": "@jupyter-widgets/controls",
            "layout": "IPY_MODEL_0b35bd4a2fd347678080ad45e7adb8f1"
          }
        },
        "11982b7b1ec146319f89ab1ddc358d0b": {
          "model_module": "@jupyter-widgets/controls",
          "model_name": "FloatProgressModel",
          "model_module_version": "1.5.0",
          "state": {
            "_view_name": "ProgressView",
            "style": "IPY_MODEL_68ac43de9a434837b817eccb524b8f11",
            "_dom_classes": [],
            "description": "",
            "_model_name": "FloatProgressModel",
            "bar_style": "success",
            "max": 1,
            "_view_module": "@jupyter-widgets/controls",
            "_model_module_version": "1.5.0",
            "value": 1,
            "_view_count": null,
            "_view_module_version": "1.5.0",
            "orientation": "horizontal",
            "min": 0,
            "description_tooltip": null,
            "_model_module": "@jupyter-widgets/controls",
            "layout": "IPY_MODEL_175da4e02d1d4a849fb6572064cfa0c7"
          }
        },
        "fcd7e7b100594ff19a3e948240d44eff": {
          "model_module": "@jupyter-widgets/controls",
          "model_name": "HTMLModel",
          "model_module_version": "1.5.0",
          "state": {
            "_view_name": "HTMLView",
            "style": "IPY_MODEL_e4101dec421c43c6afa7b7e5ec3b0036",
            "_dom_classes": [],
            "description": "",
            "_model_name": "HTMLModel",
            "placeholder": "​",
            "_view_module": "@jupyter-widgets/controls",
            "_model_module_version": "1.5.0",
            "value": " 78/78 [00:18&lt;00:00,  4.96it/s]",
            "_view_count": null,
            "_view_module_version": "1.5.0",
            "description_tooltip": null,
            "_model_module": "@jupyter-widgets/controls",
            "layout": "IPY_MODEL_0aef990a6d934433b7094ed4d3d80520"
          }
        },
        "e89718cdfb0845e29555fbbbf27aeaea": {
          "model_module": "@jupyter-widgets/controls",
          "model_name": "DescriptionStyleModel",
          "model_module_version": "1.5.0",
          "state": {
            "_view_name": "StyleView",
            "_model_name": "DescriptionStyleModel",
            "description_width": "",
            "_view_module": "@jupyter-widgets/base",
            "_model_module_version": "1.5.0",
            "_view_count": null,
            "_view_module_version": "1.2.0",
            "_model_module": "@jupyter-widgets/controls"
          }
        },
        "0b35bd4a2fd347678080ad45e7adb8f1": {
          "model_module": "@jupyter-widgets/base",
          "model_name": "LayoutModel",
          "model_module_version": "1.2.0",
          "state": {
            "_view_name": "LayoutView",
            "grid_template_rows": null,
            "right": null,
            "justify_content": null,
            "_view_module": "@jupyter-widgets/base",
            "overflow": null,
            "_model_module_version": "1.2.0",
            "_view_count": null,
            "flex_flow": null,
            "width": null,
            "min_width": null,
            "border": null,
            "align_items": null,
            "bottom": null,
            "_model_module": "@jupyter-widgets/base",
            "top": null,
            "grid_column": null,
            "overflow_y": null,
            "overflow_x": null,
            "grid_auto_flow": null,
            "grid_area": null,
            "grid_template_columns": null,
            "flex": null,
            "_model_name": "LayoutModel",
            "justify_items": null,
            "grid_row": null,
            "max_height": null,
            "align_content": null,
            "visibility": null,
            "align_self": null,
            "height": null,
            "min_height": null,
            "padding": null,
            "grid_auto_rows": null,
            "grid_gap": null,
            "max_width": null,
            "order": null,
            "_view_module_version": "1.2.0",
            "grid_template_areas": null,
            "object_position": null,
            "object_fit": null,
            "grid_auto_columns": null,
            "margin": null,
            "display": null,
            "left": null
          }
        },
        "68ac43de9a434837b817eccb524b8f11": {
          "model_module": "@jupyter-widgets/controls",
          "model_name": "ProgressStyleModel",
          "model_module_version": "1.5.0",
          "state": {
            "_view_name": "StyleView",
            "_model_name": "ProgressStyleModel",
            "description_width": "",
            "_view_module": "@jupyter-widgets/base",
            "_model_module_version": "1.5.0",
            "_view_count": null,
            "_view_module_version": "1.2.0",
            "bar_color": null,
            "_model_module": "@jupyter-widgets/controls"
          }
        },
        "175da4e02d1d4a849fb6572064cfa0c7": {
          "model_module": "@jupyter-widgets/base",
          "model_name": "LayoutModel",
          "model_module_version": "1.2.0",
          "state": {
            "_view_name": "LayoutView",
            "grid_template_rows": null,
            "right": null,
            "justify_content": null,
            "_view_module": "@jupyter-widgets/base",
            "overflow": null,
            "_model_module_version": "1.2.0",
            "_view_count": null,
            "flex_flow": null,
            "width": null,
            "min_width": null,
            "border": null,
            "align_items": null,
            "bottom": null,
            "_model_module": "@jupyter-widgets/base",
            "top": null,
            "grid_column": null,
            "overflow_y": null,
            "overflow_x": null,
            "grid_auto_flow": null,
            "grid_area": null,
            "grid_template_columns": null,
            "flex": "2",
            "_model_name": "LayoutModel",
            "justify_items": null,
            "grid_row": null,
            "max_height": null,
            "align_content": null,
            "visibility": null,
            "align_self": null,
            "height": null,
            "min_height": null,
            "padding": null,
            "grid_auto_rows": null,
            "grid_gap": null,
            "max_width": null,
            "order": null,
            "_view_module_version": "1.2.0",
            "grid_template_areas": null,
            "object_position": null,
            "object_fit": null,
            "grid_auto_columns": null,
            "margin": null,
            "display": null,
            "left": null
          }
        },
        "e4101dec421c43c6afa7b7e5ec3b0036": {
          "model_module": "@jupyter-widgets/controls",
          "model_name": "DescriptionStyleModel",
          "model_module_version": "1.5.0",
          "state": {
            "_view_name": "StyleView",
            "_model_name": "DescriptionStyleModel",
            "description_width": "",
            "_view_module": "@jupyter-widgets/base",
            "_model_module_version": "1.5.0",
            "_view_count": null,
            "_view_module_version": "1.2.0",
            "_model_module": "@jupyter-widgets/controls"
          }
        },
        "0aef990a6d934433b7094ed4d3d80520": {
          "model_module": "@jupyter-widgets/base",
          "model_name": "LayoutModel",
          "model_module_version": "1.2.0",
          "state": {
            "_view_name": "LayoutView",
            "grid_template_rows": null,
            "right": null,
            "justify_content": null,
            "_view_module": "@jupyter-widgets/base",
            "overflow": null,
            "_model_module_version": "1.2.0",
            "_view_count": null,
            "flex_flow": null,
            "width": null,
            "min_width": null,
            "border": null,
            "align_items": null,
            "bottom": null,
            "_model_module": "@jupyter-widgets/base",
            "top": null,
            "grid_column": null,
            "overflow_y": null,
            "overflow_x": null,
            "grid_auto_flow": null,
            "grid_area": null,
            "grid_template_columns": null,
            "flex": null,
            "_model_name": "LayoutModel",
            "justify_items": null,
            "grid_row": null,
            "max_height": null,
            "align_content": null,
            "visibility": null,
            "align_self": null,
            "height": null,
            "min_height": null,
            "padding": null,
            "grid_auto_rows": null,
            "grid_gap": null,
            "max_width": null,
            "order": null,
            "_view_module_version": "1.2.0",
            "grid_template_areas": null,
            "object_position": null,
            "object_fit": null,
            "grid_auto_columns": null,
            "margin": null,
            "display": null,
            "left": null
          }
        },
        "60299900c065487192d580edc98f8778": {
          "model_module": "@jupyter-widgets/controls",
          "model_name": "HBoxModel",
          "model_module_version": "1.5.0",
          "state": {
            "_view_name": "HBoxView",
            "_dom_classes": [],
            "_model_name": "HBoxModel",
            "_view_module": "@jupyter-widgets/controls",
            "_model_module_version": "1.5.0",
            "_view_count": null,
            "_view_module_version": "1.5.0",
            "box_style": "",
            "layout": "IPY_MODEL_a114c61d71964129a754fcfbbb349803",
            "_model_module": "@jupyter-widgets/controls",
            "children": [
              "IPY_MODEL_8e298cf163684af5b35925f5379bb69a",
              "IPY_MODEL_5826873116e74fabb1aee35f4e13bf49",
              "IPY_MODEL_b102acbcd4c24242ab2574db70b5a7eb"
            ]
          }
        },
        "a114c61d71964129a754fcfbbb349803": {
          "model_module": "@jupyter-widgets/base",
          "model_name": "LayoutModel",
          "model_module_version": "1.2.0",
          "state": {
            "_view_name": "LayoutView",
            "grid_template_rows": null,
            "right": null,
            "justify_content": null,
            "_view_module": "@jupyter-widgets/base",
            "overflow": null,
            "_model_module_version": "1.2.0",
            "_view_count": null,
            "flex_flow": "row wrap",
            "width": "100%",
            "min_width": null,
            "border": null,
            "align_items": null,
            "bottom": null,
            "_model_module": "@jupyter-widgets/base",
            "top": null,
            "grid_column": null,
            "overflow_y": null,
            "overflow_x": null,
            "grid_auto_flow": null,
            "grid_area": null,
            "grid_template_columns": null,
            "flex": null,
            "_model_name": "LayoutModel",
            "justify_items": null,
            "grid_row": null,
            "max_height": null,
            "align_content": null,
            "visibility": null,
            "align_self": null,
            "height": null,
            "min_height": null,
            "padding": null,
            "grid_auto_rows": null,
            "grid_gap": null,
            "max_width": null,
            "order": null,
            "_view_module_version": "1.2.0",
            "grid_template_areas": null,
            "object_position": null,
            "object_fit": null,
            "grid_auto_columns": null,
            "margin": null,
            "display": "inline-flex",
            "left": null
          }
        },
        "8e298cf163684af5b35925f5379bb69a": {
          "model_module": "@jupyter-widgets/controls",
          "model_name": "HTMLModel",
          "model_module_version": "1.5.0",
          "state": {
            "_view_name": "HTMLView",
            "style": "IPY_MODEL_bae3079fe09e49d4a5a5b9ca3fd74f06",
            "_dom_classes": [],
            "description": "",
            "_model_name": "HTMLModel",
            "placeholder": "​",
            "_view_module": "@jupyter-widgets/controls",
            "_model_module_version": "1.5.0",
            "value": "Testing: 100%",
            "_view_count": null,
            "_view_module_version": "1.5.0",
            "description_tooltip": null,
            "_model_module": "@jupyter-widgets/controls",
            "layout": "IPY_MODEL_284983ccf3cf4ac6bb28cddd67d8531d"
          }
        },
        "5826873116e74fabb1aee35f4e13bf49": {
          "model_module": "@jupyter-widgets/controls",
          "model_name": "FloatProgressModel",
          "model_module_version": "1.5.0",
          "state": {
            "_view_name": "ProgressView",
            "style": "IPY_MODEL_c5fc455ee5fb4dd5bfe617bb0375f726",
            "_dom_classes": [],
            "description": "",
            "_model_name": "FloatProgressModel",
            "bar_style": "success",
            "max": 1,
            "_view_module": "@jupyter-widgets/controls",
            "_model_module_version": "1.5.0",
            "value": 1,
            "_view_count": null,
            "_view_module_version": "1.5.0",
            "orientation": "horizontal",
            "min": 0,
            "description_tooltip": null,
            "_model_module": "@jupyter-widgets/controls",
            "layout": "IPY_MODEL_757ef6ab57bc47d7ba6375516d2c19e3"
          }
        },
        "b102acbcd4c24242ab2574db70b5a7eb": {
          "model_module": "@jupyter-widgets/controls",
          "model_name": "HTMLModel",
          "model_module_version": "1.5.0",
          "state": {
            "_view_name": "HTMLView",
            "style": "IPY_MODEL_72641284e2b9420eba8608c4fd60a2a1",
            "_dom_classes": [],
            "description": "",
            "_model_name": "HTMLModel",
            "placeholder": "​",
            "_view_module": "@jupyter-widgets/controls",
            "_model_module_version": "1.5.0",
            "value": " 125/125 [00:06&lt;00:00, 23.82it/s]",
            "_view_count": null,
            "_view_module_version": "1.5.0",
            "description_tooltip": null,
            "_model_module": "@jupyter-widgets/controls",
            "layout": "IPY_MODEL_bc5062ed197e4e4fb14a8726a27282f5"
          }
        },
        "bae3079fe09e49d4a5a5b9ca3fd74f06": {
          "model_module": "@jupyter-widgets/controls",
          "model_name": "DescriptionStyleModel",
          "model_module_version": "1.5.0",
          "state": {
            "_view_name": "StyleView",
            "_model_name": "DescriptionStyleModel",
            "description_width": "",
            "_view_module": "@jupyter-widgets/base",
            "_model_module_version": "1.5.0",
            "_view_count": null,
            "_view_module_version": "1.2.0",
            "_model_module": "@jupyter-widgets/controls"
          }
        },
        "284983ccf3cf4ac6bb28cddd67d8531d": {
          "model_module": "@jupyter-widgets/base",
          "model_name": "LayoutModel",
          "model_module_version": "1.2.0",
          "state": {
            "_view_name": "LayoutView",
            "grid_template_rows": null,
            "right": null,
            "justify_content": null,
            "_view_module": "@jupyter-widgets/base",
            "overflow": null,
            "_model_module_version": "1.2.0",
            "_view_count": null,
            "flex_flow": null,
            "width": null,
            "min_width": null,
            "border": null,
            "align_items": null,
            "bottom": null,
            "_model_module": "@jupyter-widgets/base",
            "top": null,
            "grid_column": null,
            "overflow_y": null,
            "overflow_x": null,
            "grid_auto_flow": null,
            "grid_area": null,
            "grid_template_columns": null,
            "flex": null,
            "_model_name": "LayoutModel",
            "justify_items": null,
            "grid_row": null,
            "max_height": null,
            "align_content": null,
            "visibility": null,
            "align_self": null,
            "height": null,
            "min_height": null,
            "padding": null,
            "grid_auto_rows": null,
            "grid_gap": null,
            "max_width": null,
            "order": null,
            "_view_module_version": "1.2.0",
            "grid_template_areas": null,
            "object_position": null,
            "object_fit": null,
            "grid_auto_columns": null,
            "margin": null,
            "display": null,
            "left": null
          }
        },
        "c5fc455ee5fb4dd5bfe617bb0375f726": {
          "model_module": "@jupyter-widgets/controls",
          "model_name": "ProgressStyleModel",
          "model_module_version": "1.5.0",
          "state": {
            "_view_name": "StyleView",
            "_model_name": "ProgressStyleModel",
            "description_width": "",
            "_view_module": "@jupyter-widgets/base",
            "_model_module_version": "1.5.0",
            "_view_count": null,
            "_view_module_version": "1.2.0",
            "bar_color": null,
            "_model_module": "@jupyter-widgets/controls"
          }
        },
        "757ef6ab57bc47d7ba6375516d2c19e3": {
          "model_module": "@jupyter-widgets/base",
          "model_name": "LayoutModel",
          "model_module_version": "1.2.0",
          "state": {
            "_view_name": "LayoutView",
            "grid_template_rows": null,
            "right": null,
            "justify_content": null,
            "_view_module": "@jupyter-widgets/base",
            "overflow": null,
            "_model_module_version": "1.2.0",
            "_view_count": null,
            "flex_flow": null,
            "width": null,
            "min_width": null,
            "border": null,
            "align_items": null,
            "bottom": null,
            "_model_module": "@jupyter-widgets/base",
            "top": null,
            "grid_column": null,
            "overflow_y": null,
            "overflow_x": null,
            "grid_auto_flow": null,
            "grid_area": null,
            "grid_template_columns": null,
            "flex": "2",
            "_model_name": "LayoutModel",
            "justify_items": null,
            "grid_row": null,
            "max_height": null,
            "align_content": null,
            "visibility": null,
            "align_self": null,
            "height": null,
            "min_height": null,
            "padding": null,
            "grid_auto_rows": null,
            "grid_gap": null,
            "max_width": null,
            "order": null,
            "_view_module_version": "1.2.0",
            "grid_template_areas": null,
            "object_position": null,
            "object_fit": null,
            "grid_auto_columns": null,
            "margin": null,
            "display": null,
            "left": null
          }
        },
        "72641284e2b9420eba8608c4fd60a2a1": {
          "model_module": "@jupyter-widgets/controls",
          "model_name": "DescriptionStyleModel",
          "model_module_version": "1.5.0",
          "state": {
            "_view_name": "StyleView",
            "_model_name": "DescriptionStyleModel",
            "description_width": "",
            "_view_module": "@jupyter-widgets/base",
            "_model_module_version": "1.5.0",
            "_view_count": null,
            "_view_module_version": "1.2.0",
            "_model_module": "@jupyter-widgets/controls"
          }
        },
        "bc5062ed197e4e4fb14a8726a27282f5": {
          "model_module": "@jupyter-widgets/base",
          "model_name": "LayoutModel",
          "model_module_version": "1.2.0",
          "state": {
            "_view_name": "LayoutView",
            "grid_template_rows": null,
            "right": null,
            "justify_content": null,
            "_view_module": "@jupyter-widgets/base",
            "overflow": null,
            "_model_module_version": "1.2.0",
            "_view_count": null,
            "flex_flow": null,
            "width": null,
            "min_width": null,
            "border": null,
            "align_items": null,
            "bottom": null,
            "_model_module": "@jupyter-widgets/base",
            "top": null,
            "grid_column": null,
            "overflow_y": null,
            "overflow_x": null,
            "grid_auto_flow": null,
            "grid_area": null,
            "grid_template_columns": null,
            "flex": null,
            "_model_name": "LayoutModel",
            "justify_items": null,
            "grid_row": null,
            "max_height": null,
            "align_content": null,
            "visibility": null,
            "align_self": null,
            "height": null,
            "min_height": null,
            "padding": null,
            "grid_auto_rows": null,
            "grid_gap": null,
            "max_width": null,
            "order": null,
            "_view_module_version": "1.2.0",
            "grid_template_areas": null,
            "object_position": null,
            "object_fit": null,
            "grid_auto_columns": null,
            "margin": null,
            "display": null,
            "left": null
          }
        }
      }
    },
    "colab": {
      "name": "13-contrastive-learning.ipynb",
      "provenance": [],
      "include_colab_link": true
    },
    "kernelspec": {
      "name": "python3",
      "display_name": "Python 3"
    },
    "accelerator": "GPU"
  },
  "nbformat": 4,
  "nbformat_minor": 5
}