{
  "nbformat": 4,
  "nbformat_minor": 0,
  "metadata": {
    "colab": {
      "name": "Untitled6.ipynb",
      "provenance": [],
      "authorship_tag": "ABX9TyNpO4JE5BeRpFtbdXwgbNsD",
      "include_colab_link": true
    },
    "kernelspec": {
      "name": "python3",
      "display_name": "Python 3"
    },
    "language_info": {
      "name": "python"
    }
  },
  "cells": [
    {
      "cell_type": "markdown",
      "metadata": {
        "id": "view-in-github",
        "colab_type": "text"
      },
      "source": [
        "<a href=\"https://colab.research.google.com/github/namoshi/colab/blob/master/pytorch_linalg.ipynb\" target=\"_parent\"><img src=\"https://colab.research.google.com/assets/colab-badge.svg\" alt=\"Open In Colab\"/></a>"
      ]
    },
    {
      "cell_type": "code",
      "metadata": {
        "colab": {
          "base_uri": "https://localhost:8080/"
        },
        "id": "6w2P0IFCehkk",
        "outputId": "6090c8c9-9404-4c60-b5c1-cecf26c17156"
      },
      "source": [
        "import numpy as np\n",
        "\n",
        "# Creates inputs\n",
        "np.random.seed(0)\n",
        "mu_np = np.random.rand(4)\n",
        "L = np.random.rand(4, 4)\n",
        "# Covariance matrix sigma is positive-definite\n",
        "sigma_np = L @ L.T + np.eye(4)\n",
        "normal_noise_np = np.random.standard_normal(mu_np.size)\n",
        "\n",
        "def multivariate_normal_sample_np(mu, sigma, normal_noise):\n",
        "    return mu + np.linalg.cholesky(sigma) @ normal_noise\n",
        "\n",
        "print(\"Random sample: \", \n",
        "      multivariate_normal_sample_np(mu_np, sigma_np, normal_noise_np))\n"
      ],
      "execution_count": 2,
      "outputs": [
        {
          "output_type": "stream",
          "text": [
            "Random sample:  [2.9502426  1.78518077 1.83168697 0.90798228]\n"
          ],
          "name": "stdout"
        }
      ]
    },
    {
      "cell_type": "code",
      "metadata": {
        "colab": {
          "base_uri": "https://localhost:8080/"
        },
        "id": "LxEi6jjdfEC3",
        "outputId": "9e2eda5c-6c58-479e-9b69-ffd3b79a5268"
      },
      "source": [
        "import torch\n",
        "\n",
        "def multivariate_normal_sample_torch(mu, sigma, normal_noise):\n",
        "    return mu + torch.linalg.cholesky(sigma) @ normal_noise\n",
        "\n",
        "# NumPy arrays are wrapped as tensors and share their memory\n",
        "mu_torch = torch.from_numpy(mu_np)\n",
        "sigma_torch = torch.from_numpy(sigma_np)\n",
        "normal_noise_torch = torch.from_numpy(normal_noise_np)\n",
        "\n",
        "multivariate_normal_sample_torch(mu_torch, sigma_torch, normal_noise_torch)"
      ],
      "execution_count": 3,
      "outputs": [
        {
          "output_type": "execute_result",
          "data": {
            "text/plain": [
              "tensor([2.9502, 1.7852, 1.8317, 0.9080], dtype=torch.float64)"
            ]
          },
          "metadata": {
            "tags": []
          },
          "execution_count": 3
        }
      ]
    },
    {
      "cell_type": "code",
      "metadata": {
        "colab": {
          "base_uri": "https://localhost:8080/"
        },
        "id": "GvZvwZ66fZ53",
        "outputId": "5c43f507-b70a-4405-a896-fbbc47110ba7"
      },
      "source": [
        "sqrt_sigma_det_np = np.sqrt(np.linalg.det(sigma_np))\n",
        "sqrt_L_det_np = np.prod(np.diag(np.linalg.cholesky(sigma_np)))\n",
        "\n",
        "print(\"|sigma|^0.5 = \", sqrt_sigma_det_np)\n",
        "\n",
        "print(\"|L| = \", sqrt_L_det_np)"
      ],
      "execution_count": 4,
      "outputs": [
        {
          "output_type": "stream",
          "text": [
            "|sigma|^0.5 =  4.237127491242027\n",
            "|L| =  4.237127491242028\n"
          ],
          "name": "stdout"
        }
      ]
    },
    {
      "cell_type": "code",
      "metadata": {
        "colab": {
          "base_uri": "https://localhost:8080/"
        },
        "id": "_0GKjrmgfnLH",
        "outputId": "119c5b92-eb23-452a-8164-9efcb1b8719c"
      },
      "source": [
        "sqrt_sigma_det_torch = torch.sqrt(torch.linalg.det(sigma_torch))\n",
        "sqrt_L_det_torch = torch.prod(torch.diag(torch.linalg.cholesky(sigma_torch)))\n",
        "\n",
        "print(\"|sigma|^0.5 = \", sqrt_sigma_det_torch)\n",
        "\n",
        "print(\"|L| = \", sqrt_L_det_torch)"
      ],
      "execution_count": 5,
      "outputs": [
        {
          "output_type": "stream",
          "text": [
            "|sigma|^0.5 =  tensor(4.2371, dtype=torch.float64)\n",
            "|L| =  tensor(4.2371, dtype=torch.float64)\n"
          ],
          "name": "stdout"
        }
      ]
    },
    {
      "cell_type": "code",
      "metadata": {
        "colab": {
          "base_uri": "https://localhost:8080/"
        },
        "id": "6ZyLpmkUfxva",
        "outputId": "d7d827a4-2882-4cdc-f180-36f87262fc9f"
      },
      "source": [
        "import torch.utils.benchmark as benchmark\n",
        "\n",
        "t0 = benchmark.Timer(\n",
        "    stmt='torch.sqrt(torch.linalg.det(sigma))',\n",
        "    globals={'sigma': sigma_torch})\n",
        "\n",
        "t1 = benchmark.Timer(\n",
        "    stmt='torch.prod(torch.diag(torch.linalg.cholesky(sigma)))',\n",
        "    globals={'sigma': sigma_torch})\n",
        "\n",
        "print(t0.timeit(100))\n",
        "\n",
        "print(t1.timeit(100))"
      ],
      "execution_count": 6,
      "outputs": [
        {
          "output_type": "stream",
          "text": [
            "No CUDA runtime is found, using CUDA_HOME='/usr/local/cuda'\n",
            "<torch.utils.benchmark.utils.common.Measurement object at 0x7f967640bd10>\n",
            "torch.sqrt(torch.linalg.det(sigma))\n",
            "  32.24 us\n",
            "  1 measurement, 100 runs , 1 thread\n",
            "<torch.utils.benchmark.utils.common.Measurement object at 0x7f967640bd90>\n",
            "torch.prod(torch.diag(torch.linalg.cholesky(sigma)))\n",
            "  12.65 us\n",
            "  1 measurement, 100 runs , 1 thread\n"
          ],
          "name": "stdout"
        }
      ]
    },
    {
      "cell_type": "markdown",
      "metadata": {
        "id": "bwI0JNTOhRIP"
      },
      "source": [
        "\n",
        "\n",
        "## Autograd\n",
        "\n",
        "\n",
        "\n",
        "\n",
        "\n"
      ]
    },
    {
      "cell_type": "code",
      "metadata": {
        "colab": {
          "base_uri": "https://localhost:8080/"
        },
        "id": "O9xTJE_WhuU0",
        "outputId": "d3e92f41-6d8f-458b-83b4-d8ea0ea392b7"
      },
      "source": [
        "t = torch.tensor(((1, 2), (3, 4)), dtype=torch.float32, requires_grad=True)\n",
        "\n",
        "inv = torch.linalg.inv(t)\n",
        "inv.backward(torch.ones_like(inv))\n",
        "\n",
        "print(t.grad)"
      ],
      "execution_count": 7,
      "outputs": [
        {
          "output_type": "stream",
          "text": [
            "tensor([[-0.5000,  0.5000],\n",
            "        [ 0.5000, -0.5000]])\n"
          ],
          "name": "stdout"
        }
      ]
    },
    {
      "cell_type": "code",
      "metadata": {
        "colab": {
          "base_uri": "https://localhost:8080/"
        },
        "id": "M7MljrD-h3qE",
        "outputId": "e12ba354-8230-487c-9fb9-59bb79aba68d"
      },
      "source": [
        "a = np.array(((1, 2), (3, 4)), dtype=np.float32)\n",
        "\n",
        "inv_np = np.linalg.inv(a)\n",
        "\n",
        "def inv_backward(result, grad):\n",
        "    return -(result.transpose(-2, -1) @ (grad @ result.transpose(-2, -1)))\n",
        "grad_np = inv_backward(inv_np, np.ones_like(inv_np))\n",
        "\n",
        "print(grad_np)"
      ],
      "execution_count": 8,
      "outputs": [
        {
          "output_type": "stream",
          "text": [
            "[[-0.5  0.5]\n",
            " [ 0.5 -0.5]]\n"
          ],
          "name": "stdout"
        }
      ]
    }
  ]
}