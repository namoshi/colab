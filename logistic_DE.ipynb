{
  "nbformat": 4,
  "nbformat_minor": 0,
  "metadata": {
    "colab": {
      "provenance": [],
      "authorship_tag": "ABX9TyOoVXuXPNxcdvIfqGBzGF03",
      "include_colab_link": true
    },
    "kernelspec": {
      "name": "python3",
      "display_name": "Python 3"
    },
    "language_info": {
      "name": "python"
    }
  },
  "cells": [
    {
      "cell_type": "markdown",
      "metadata": {
        "id": "view-in-github",
        "colab_type": "text"
      },
      "source": [
        "<a href=\"https://colab.research.google.com/github/namoshi/colab/blob/master/logistic_DE.ipynb\" target=\"_parent\"><img src=\"https://colab.research.google.com/assets/colab-badge.svg\" alt=\"Open In Colab\"/></a>"
      ]
    },
    {
      "cell_type": "code",
      "execution_count": 1,
      "metadata": {
        "id": "hr8gDNrFK6hZ"
      },
      "outputs": [],
      "source": [
        "import numpy as np\n",
        "\n"
      ]
    },
    {
      "cell_type": "code",
      "source": [
        "y=2.01\n",
        "for i in range(100):\n",
        "  y = y + y * (1 - y)\n",
        "  print('y[]',i,']=', y)"
      ],
      "metadata": {
        "colab": {
          "base_uri": "https://localhost:8080/"
        },
        "id": "h_pDeGtpK-GA",
        "outputId": "c189d9c1-0fe1-4244-da5f-9838265b727e"
      },
      "execution_count": 13,
      "outputs": [
        {
          "output_type": "stream",
          "name": "stdout",
          "text": [
            "y[] 0 ]= -0.020099999999999785\n",
            "y[] 1 ]= -0.040604009999999566\n",
            "y[] 2 ]= -0.0828567056280792\n",
            "y[] 3 ]= -0.17257864492369657\n",
            "y[] 4 ]= -0.3749406785310925\n",
            "y[] 5 ]= -0.890461869479541\n",
            "y[] 6 ]= -2.573846079956081\n",
            "y[] 7 ]= -11.772375803217447\n",
            "y[] 8 ]= -162.1335836586145\n",
            "y[] 9 ]= -26611.566117302176\n",
            "y[] 10 ]= -708228674.3477799\n",
            "y[] 11 ]= -5.01587856584871e+17\n",
            "y[] 12 ]= -2.515903778734051e+35\n",
            "y[] 13 ]= -6.329771823848276e+70\n",
            "y[] 14 ]= -4.0066011341983535e+141\n",
            "y[] 15 ]= -1.6052852648559533e+283\n",
            "y[] 16 ]= -inf\n",
            "y[] 17 ]= -inf\n",
            "y[] 18 ]= -inf\n",
            "y[] 19 ]= -inf\n",
            "y[] 20 ]= -inf\n",
            "y[] 21 ]= -inf\n",
            "y[] 22 ]= -inf\n",
            "y[] 23 ]= -inf\n",
            "y[] 24 ]= -inf\n",
            "y[] 25 ]= -inf\n",
            "y[] 26 ]= -inf\n",
            "y[] 27 ]= -inf\n",
            "y[] 28 ]= -inf\n",
            "y[] 29 ]= -inf\n",
            "y[] 30 ]= -inf\n",
            "y[] 31 ]= -inf\n",
            "y[] 32 ]= -inf\n",
            "y[] 33 ]= -inf\n",
            "y[] 34 ]= -inf\n",
            "y[] 35 ]= -inf\n",
            "y[] 36 ]= -inf\n",
            "y[] 37 ]= -inf\n",
            "y[] 38 ]= -inf\n",
            "y[] 39 ]= -inf\n",
            "y[] 40 ]= -inf\n",
            "y[] 41 ]= -inf\n",
            "y[] 42 ]= -inf\n",
            "y[] 43 ]= -inf\n",
            "y[] 44 ]= -inf\n",
            "y[] 45 ]= -inf\n",
            "y[] 46 ]= -inf\n",
            "y[] 47 ]= -inf\n",
            "y[] 48 ]= -inf\n",
            "y[] 49 ]= -inf\n",
            "y[] 50 ]= -inf\n",
            "y[] 51 ]= -inf\n",
            "y[] 52 ]= -inf\n",
            "y[] 53 ]= -inf\n",
            "y[] 54 ]= -inf\n",
            "y[] 55 ]= -inf\n",
            "y[] 56 ]= -inf\n",
            "y[] 57 ]= -inf\n",
            "y[] 58 ]= -inf\n",
            "y[] 59 ]= -inf\n",
            "y[] 60 ]= -inf\n",
            "y[] 61 ]= -inf\n",
            "y[] 62 ]= -inf\n",
            "y[] 63 ]= -inf\n",
            "y[] 64 ]= -inf\n",
            "y[] 65 ]= -inf\n",
            "y[] 66 ]= -inf\n",
            "y[] 67 ]= -inf\n",
            "y[] 68 ]= -inf\n",
            "y[] 69 ]= -inf\n",
            "y[] 70 ]= -inf\n",
            "y[] 71 ]= -inf\n",
            "y[] 72 ]= -inf\n",
            "y[] 73 ]= -inf\n",
            "y[] 74 ]= -inf\n",
            "y[] 75 ]= -inf\n",
            "y[] 76 ]= -inf\n",
            "y[] 77 ]= -inf\n",
            "y[] 78 ]= -inf\n",
            "y[] 79 ]= -inf\n",
            "y[] 80 ]= -inf\n",
            "y[] 81 ]= -inf\n",
            "y[] 82 ]= -inf\n",
            "y[] 83 ]= -inf\n",
            "y[] 84 ]= -inf\n",
            "y[] 85 ]= -inf\n",
            "y[] 86 ]= -inf\n",
            "y[] 87 ]= -inf\n",
            "y[] 88 ]= -inf\n",
            "y[] 89 ]= -inf\n",
            "y[] 90 ]= -inf\n",
            "y[] 91 ]= -inf\n",
            "y[] 92 ]= -inf\n",
            "y[] 93 ]= -inf\n",
            "y[] 94 ]= -inf\n",
            "y[] 95 ]= -inf\n",
            "y[] 96 ]= -inf\n",
            "y[] 97 ]= -inf\n",
            "y[] 98 ]= -inf\n",
            "y[] 99 ]= -inf\n"
          ]
        }
      ]
    }
  ]
}