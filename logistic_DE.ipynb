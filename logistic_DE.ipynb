{
  "nbformat": 4,
  "nbformat_minor": 0,
  "metadata": {
    "colab": {
      "provenance": [],
      "authorship_tag": "ABX9TyPKIFj9qK7LbOm9Ebuomai2",
      "include_colab_link": true
    },
    "kernelspec": {
      "name": "python3",
      "display_name": "Python 3"
    },
    "language_info": {
      "name": "python"
    }
  },
  "cells": [
    {
      "cell_type": "markdown",
      "metadata": {
        "id": "view-in-github",
        "colab_type": "text"
      },
      "source": [
        "<a href=\"https://colab.research.google.com/github/namoshi/colab/blob/master/logistic_DE.ipynb\" target=\"_parent\"><img src=\"https://colab.research.google.com/assets/colab-badge.svg\" alt=\"Open In Colab\"/></a>"
      ]
    },
    {
      "cell_type": "markdown",
      "source": [
        "# Logistic Equation\n",
        "\n",
        "微分方程式\n",
        "\n",
        "$$ \\frac{dy}{dt} = y-y^2 $$\n",
        "\n",
        "の差分方程式を用いたシミュレーション"
      ],
      "metadata": {
        "id": "6c9hterua0HE"
      }
    },
    {
      "cell_type": "code",
      "source": [
        "y=0.01\n",
        "for i in range(20):\n",
        "  y = y + y * (1 - y)\n",
        "  print('y[]',i,']=', y)"
      ],
      "metadata": {
        "colab": {
          "base_uri": "https://localhost:8080/"
        },
        "id": "h_pDeGtpK-GA",
        "outputId": "377cac1d-19c2-4049-b9b7-b52f2b70ec7b"
      },
      "execution_count": 1,
      "outputs": [
        {
          "output_type": "stream",
          "name": "stdout",
          "text": [
            "y[] 0 ]= 0.0199\n",
            "y[] 1 ]= 0.03940399\n",
            "y[] 2 ]= 0.07725530557207991\n",
            "y[] 3 ]= 0.14854222890512436\n",
            "y[] 4 ]= 0.2750196640421464\n",
            "y[] 5 ]= 0.4744035124744377\n",
            "y[] 6 ]= 0.7237483323007914\n",
            "y[] 7 ]= 0.923685016093406\n",
            "y[] 8 ]= 0.9941760232313364\n",
            "y[] 9 ]= 0.9999660812945981\n",
            "y[] 10 ]= 0.9999999988495214\n",
            "y[] 11 ]= 1.0\n",
            "y[] 12 ]= 1.0\n",
            "y[] 13 ]= 1.0\n",
            "y[] 14 ]= 1.0\n",
            "y[] 15 ]= 1.0\n",
            "y[] 16 ]= 1.0\n",
            "y[] 17 ]= 1.0\n",
            "y[] 18 ]= 1.0\n",
            "y[] 19 ]= 1.0\n"
          ]
        }
      ]
    }
  ]
}