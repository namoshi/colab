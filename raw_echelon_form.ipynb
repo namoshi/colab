{
  "nbformat": 4,
  "nbformat_minor": 0,
  "metadata": {
    "colab": {
      "provenance": [],
      "authorship_tag": "ABX9TyMHShEa5Di6Q3ECW37fnmo0",
      "include_colab_link": true
    },
    "kernelspec": {
      "name": "python3",
      "display_name": "Python 3"
    },
    "language_info": {
      "name": "python"
    }
  },
  "cells": [
    {
      "cell_type": "markdown",
      "metadata": {
        "id": "view-in-github",
        "colab_type": "text"
      },
      "source": [
        "<a href=\"https://colab.research.google.com/github/namoshi/colab/blob/master/raw_echelon_form.ipynb\" target=\"_parent\"><img src=\"https://colab.research.google.com/assets/colab-badge.svg\" alt=\"Open In Colab\"/></a>"
      ]
    },
    {
      "cell_type": "code",
      "source": [
        "import numpy as np\n",
        "\n",
        "def find_raw_echelon_form(matrix):\n",
        "    m, n = matrix.shape\n",
        "    lead = 0  # リーディングエッジの列\n",
        "\n",
        "    for r in range(m):\n",
        "        if lead >= n:\n",
        "            break\n",
        "\n",
        "        i = r\n",
        "        while matrix[i, lead] == 0:\n",
        "            i += 1\n",
        "            if i == m:\n",
        "                i = r\n",
        "                lead += 1\n",
        "                if n == lead:\n",
        "                    return matrix\n",
        "\n",
        "        matrix[[i, r]] = matrix[[r, i]]\n",
        "\n",
        "        if matrix[r, lead] != 0:\n",
        "            matrix[r] = matrix[r] / matrix[r, lead]\n",
        "\n",
        "        for i in range(m):\n",
        "            if i != r:\n",
        "                matrix[i] = matrix[i] - matrix[i, lead] * matrix[r]\n",
        "\n",
        "        lead += 1\n",
        "\n",
        "    return matrix\n",
        "\n"
      ],
      "metadata": {
        "colab": {
          "base_uri": "https://localhost:8080/"
        },
        "id": "LhCeHgr9buO_",
        "outputId": "75efcae9-6895-4ae6-de73-36bab1ff3d7b"
      },
      "execution_count": 13,
      "outputs": [
        {
          "output_type": "stream",
          "name": "stdout",
          "text": [
            "Raw Echelon Form:\n",
            "[[ 1  0 -1]\n",
            " [ 0  1  2]\n",
            " [ 0  0  0]]\n"
          ]
        }
      ]
    },
    {
      "cell_type": "code",
      "source": [
        "# サンプル行列を作成\n",
        "A = np.array([[1, 2, 3],\n",
        "              [4, 5, 6],\n",
        "              [7, 8, 9]])\n",
        "\n",
        "echelon_form = find_raw_echelon_form(A)\n",
        "print(\"Raw Echelon Form:\")\n",
        "print(echelon_form)\n"
      ],
      "metadata": {
        "colab": {
          "base_uri": "https://localhost:8080/"
        },
        "id": "8zVs11Gsb474",
        "outputId": "925cc84b-d9d5-4294-bcd0-2f49f1272fbf"
      },
      "execution_count": 14,
      "outputs": [
        {
          "output_type": "stream",
          "name": "stdout",
          "text": [
            "Raw Echelon Form:\n",
            "[[ 1  0 -1]\n",
            " [ 0  1  2]\n",
            " [ 0  0  0]]\n"
          ]
        }
      ]
    }
  ]
}